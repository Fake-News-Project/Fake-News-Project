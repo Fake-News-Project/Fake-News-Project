{
 "cells": [
  {
   "cell_type": "code",
   "execution_count": 1,
   "metadata": {
    "collapsed": false
   },
   "outputs": [],
   "source": [
    "## Import libraries & Packages\n",
    "\n",
    "# Data structure and visualization\n",
    "import pandas as pd\n",
    "import numpy as np\n",
    "import matplotlib.pyplot as plt\n",
    "import colorsys\n",
    "import os\n",
    "%matplotlib inline\n",
    "\n",
    "from sklearn.metrics import roc_curve\n",
    "from sklearn.metrics import f1_score\n",
    "from sklearn.metrics import auc\n",
    "from sklearn.metrics import precision_recall_curve\n",
    "\n",
    "# Machine learning\n",
    "from sklearn.linear_model import LogisticRegression, RandomizedLogisticRegression\n",
    "from sklearn.svm import SVC\n",
    "from sklearn.svm import LinearSVC\n",
    "from sklearn.ensemble import RandomForestClassifier\n",
    "from sklearn.neighbors import KNeighborsClassifier\n",
    "from sklearn.naive_bayes import GaussianNB\n",
    "from sklearn.neural_network import MLPClassifier\n",
    "from sklearn.model_selection import train_test_split\n",
    "from sklearn.model_selection import validation_curve\n",
    "from sklearn.model_selection import learning_curve\n",
    "from sklearn.preprocessing import PolynomialFeatures\n",
    "from sklearn.pipeline import Pipeline\n",
    "from sklearn.preprocessing import StandardScaler\n",
    "from sklearn.preprocessing import MinMaxScaler\n",
    "from sklearn.naive_bayes import MultinomialNB"
   ]
  },
  {
   "cell_type": "markdown",
   "metadata": {},
   "source": [
    "# Import data (balanced_data.csv)"
   ]
  },
  {
   "cell_type": "code",
   "execution_count": 2,
   "metadata": {
    "collapsed": false
   },
   "outputs": [
    {
     "data": {
      "text/html": [
       "<div>\n",
       "<table border=\"1\" class=\"dataframe\">\n",
       "  <thead>\n",
       "    <tr style=\"text-align: right;\">\n",
       "      <th></th>\n",
       "      <th>url</th>\n",
       "      <th>source</th>\n",
       "      <th>title</th>\n",
       "      <th>author</th>\n",
       "      <th>text</th>\n",
       "      <th>authenticity</th>\n",
       "    </tr>\n",
       "  </thead>\n",
       "  <tbody>\n",
       "    <tr>\n",
       "      <th>2941</th>\n",
       "      <td>https://newswithviews.com/evangelicals-pray-fo...</td>\n",
       "      <td>newswithviews</td>\n",
       "      <td>Evangelicals Pray For President In W.H. – Demo...</td>\n",
       "      <td>[]</td>\n",
       "      <td>Evangelicals Pray For President In W.H. – Demo...</td>\n",
       "      <td>1</td>\n",
       "    </tr>\n",
       "    <tr>\n",
       "      <th>2942</th>\n",
       "      <td>https://newswithviews.com/vaccines-good-or-bad...</td>\n",
       "      <td>newswithviews</td>\n",
       "      <td>Vaccines: Good or Bad?, Part 8</td>\n",
       "      <td>[]</td>\n",
       "      <td>Vaccines: Good or Bad?, Part 8\\n\\nThe more we ...</td>\n",
       "      <td>1</td>\n",
       "    </tr>\n",
       "    <tr>\n",
       "      <th>2943</th>\n",
       "      <td>https://reagancoalition.com/articles/2017/fath...</td>\n",
       "      <td>reagancoalition</td>\n",
       "      <td>Father PUNISHES 10-Year-Old Daughter by Strand...</td>\n",
       "      <td>[]</td>\n",
       "      <td>Christopher Charles Watson, from Kingman, Ariz...</td>\n",
       "      <td>1</td>\n",
       "    </tr>\n",
       "    <tr>\n",
       "      <th>2944</th>\n",
       "      <td>http://www.foxbusiness.com/features/2017/07/27...</td>\n",
       "      <td>foxnews</td>\n",
       "      <td>Delta purchases 10% stake in Air France-KLM</td>\n",
       "      <td>['Matthew Kazin']</td>\n",
       "      <td>Delta Air Lines (DAL) and China Eastern Airlin...</td>\n",
       "      <td>0</td>\n",
       "    </tr>\n",
       "    <tr>\n",
       "      <th>2945</th>\n",
       "      <td>http://www.cnn.com/2016/09/08/health/rubella-h...</td>\n",
       "      <td>cnn</td>\n",
       "      <td>Can forgotten rubella children of the '60s hol...</td>\n",
       "      <td>['Story Jessica Ravitz', 'Cnn Video Anne Lagam...</td>\n",
       "      <td>Brooklyn, New York (CNN) One side of the bedro...</td>\n",
       "      <td>0</td>\n",
       "    </tr>\n",
       "  </tbody>\n",
       "</table>\n",
       "</div>"
      ],
      "text/plain": [
       "                                                    url           source  \\\n",
       "2941  https://newswithviews.com/evangelicals-pray-fo...    newswithviews   \n",
       "2942  https://newswithviews.com/vaccines-good-or-bad...    newswithviews   \n",
       "2943  https://reagancoalition.com/articles/2017/fath...  reagancoalition   \n",
       "2944  http://www.foxbusiness.com/features/2017/07/27...          foxnews   \n",
       "2945  http://www.cnn.com/2016/09/08/health/rubella-h...              cnn   \n",
       "\n",
       "                                                  title  \\\n",
       "2941  Evangelicals Pray For President In W.H. – Demo...   \n",
       "2942                     Vaccines: Good or Bad?, Part 8   \n",
       "2943  Father PUNISHES 10-Year-Old Daughter by Strand...   \n",
       "2944        Delta purchases 10% stake in Air France-KLM   \n",
       "2945  Can forgotten rubella children of the '60s hol...   \n",
       "\n",
       "                                                 author  \\\n",
       "2941                                                 []   \n",
       "2942                                                 []   \n",
       "2943                                                 []   \n",
       "2944                                  ['Matthew Kazin']   \n",
       "2945  ['Story Jessica Ravitz', 'Cnn Video Anne Lagam...   \n",
       "\n",
       "                                                   text  authenticity  \n",
       "2941  Evangelicals Pray For President In W.H. – Demo...             1  \n",
       "2942  Vaccines: Good or Bad?, Part 8\\n\\nThe more we ...             1  \n",
       "2943  Christopher Charles Watson, from Kingman, Ariz...             1  \n",
       "2944  Delta Air Lines (DAL) and China Eastern Airlin...             0  \n",
       "2945  Brooklyn, New York (CNN) One side of the bedro...             0  "
      ]
     },
     "execution_count": 2,
     "metadata": {},
     "output_type": "execute_result"
    }
   ],
   "source": [
    "path = os.path.join('data', 'balanced_data.csv')\n",
    "total_df = pd.read_csv(path, usecols=[1,2,3,4,5,6])\n",
    "total_df.tail()"
   ]
  },
  {
   "cell_type": "code",
   "execution_count": 3,
   "metadata": {
    "collapsed": false
   },
   "outputs": [
    {
     "data": {
      "text/plain": [
       "(2946, 3)"
      ]
     },
     "execution_count": 3,
     "metadata": {},
     "output_type": "execute_result"
    }
   ],
   "source": [
    "path = os.path.join('data', 'additional_features.csv')\n",
    "addfeat_df = pd.read_csv(path, usecols=[1,2,3])\n",
    "addfeat_df.shape"
   ]
  },
  {
   "cell_type": "code",
   "execution_count": 21,
   "metadata": {
    "collapsed": false
   },
   "outputs": [
    {
     "name": "stdout",
     "output_type": "stream",
     "text": [
      "Shape of X_train is (2062,), X_cv is (265,), X_test is (619,), af_train is (2062, 3), af_cv is (265, 3), af_test is (619, 3)\n"
     ]
    }
   ],
   "source": [
    "# # define training, cross-validation and testing sets\n",
    "\n",
    "Y = total_df['authenticity']\n",
    "addfeat_df['text'] = total_df.text\n",
    "addfeat_df.head()\n",
    "Xaf = addfeat_df\n",
    "Xaf_train, Xaf_cvt, Y_train, Y_cvt = train_test_split(Xaf, Y, test_size=0.3, random_state=42)\n",
    "Xaf_cv, Xaf_test, Y_cv, Y_test = train_test_split(Xaf_cvt, Y_cvt, test_size= 0.7, random_state=42)\n",
    "X_train, af_train = Xaf_train.text, Xaf_train.drop('text', axis = 1)\n",
    "X_cv, af_cv = Xaf_cv.text, Xaf_cv.drop('text', axis = 1)\n",
    "X_test, af_test = Xaf_test.text, Xaf_test.drop('text', axis = 1)\n",
    "\n",
    "A = X_train.shape\n",
    "B = X_cv.shape\n",
    "C = X_test.shape\n",
    "D = af_train.shape\n",
    "E = af_cv.shape\n",
    "F = af_test.shape\n",
    "\n",
    "\n",
    "print(\"Shape of X_train is {}, X_cv is {}, X_test is {}, af_train is {}, af_cv is {}, af_test is {}\".format(A,B,C,D,E,F))"
   ]
  },
  {
   "cell_type": "code",
   "execution_count": 5,
   "metadata": {
    "collapsed": false
   },
   "outputs": [],
   "source": [
    "# # Alternativly define training, testing sets\n",
    "\n",
    "# Y = total_df['authenticity']\n",
    "# addfeat_df['text'] = total_df.text\n",
    "# addfeat_df.head()\n",
    "# Xaf = addfeat_df\n",
    "# Xaf_train, Xaf_test, Y_train, Y_test = train_test_split(Xaf, Y, test_size=0.25, random_state=42)\n",
    "# X_train, af_train = Xaf_train.text, Xaf_train.drop('text', axis = 1)\n",
    "# X_test, af_test = Xaf_test.text, Xaf_test.drop('text', axis = 1)\n",
    "\n",
    "# A = X_train.shape\n",
    "# B = X_test.shape\n",
    "# C = af_train.shape\n",
    "# D = af_test.shape\n",
    "\n",
    "\n",
    "# print(\"Shape of X_train is {}, X_test is {}, af_train is {}, af_test is {}\".format(A,B,C,D))"
   ]
  },
  {
   "cell_type": "markdown",
   "metadata": {},
   "source": [
    "# Generate features"
   ]
  },
  {
   "cell_type": "code",
   "execution_count": 22,
   "metadata": {
    "collapsed": true
   },
   "outputs": [],
   "source": [
    "import nltk\n",
    "import string\n",
    "from nltk.stem.porter import PorterStemmer\n",
    "\n",
    "stemmer = PorterStemmer()\n",
    "def stem_tokens(tokens, stemmer):\n",
    "    stemmed = []\n",
    "    for item in tokens:\n",
    "        stemmed.append(stemmer.stem(item))\n",
    "    return stemmed\n",
    "\n",
    "def tokenize_stemmer(text):\n",
    "    tokens = nltk.word_tokenize(text)\n",
    "    # option to include punctuation or not\n",
    "    #tokens = [i for i in tokens if i not in string.punctuation]\n",
    "    stems = stem_tokens(tokens, stemmer)\n",
    "    return stems"
   ]
  },
  {
   "cell_type": "markdown",
   "metadata": {},
   "source": [
    "## Method 1: Use CountVectorizer to generate features¶"
   ]
  },
  {
   "cell_type": "code",
   "execution_count": 7,
   "metadata": {
    "collapsed": true
   },
   "outputs": [],
   "source": [
    "# # import and instantiate CountVectorizer (with the default parameters)\n",
    "# from sklearn.feature_extraction.text import CountVectorizer\n",
    "\n",
    "# # instantiate the vectorizer\n",
    "# vect = CountVectorizer()"
   ]
  },
  {
   "cell_type": "code",
   "execution_count": 8,
   "metadata": {
    "collapsed": false
   },
   "outputs": [],
   "source": [
    "## learn training data vocabulary, then use it to create a document-term matrix\n",
    "# vect.fit(X_train)"
   ]
  },
  {
   "cell_type": "code",
   "execution_count": 9,
   "metadata": {
    "collapsed": false
   },
   "outputs": [],
   "source": [
    "# X_train_tot = vect.transform(X_train)\n",
    "# X_test_tot = vect.transform(X_test)\n",
    "# X_cv_tot = vect.transform(X_cv)"
   ]
  },
  {
   "cell_type": "markdown",
   "metadata": {},
   "source": [
    "## Method 2: Use TF-IDF to generate features¶"
   ]
  },
  {
   "cell_type": "code",
   "execution_count": 23,
   "metadata": {
    "collapsed": false
   },
   "outputs": [],
   "source": [
    "from sklearn.feature_extraction.text import TfidfVectorizer\n",
    "\n",
    "tfidf = TfidfVectorizer(tokenizer=tokenize_stemmer,stop_words='english',ngram_range=(1, 2))\n"
   ]
  },
  {
   "cell_type": "code",
   "execution_count": 24,
   "metadata": {
    "collapsed": false
   },
   "outputs": [
    {
     "data": {
      "text/plain": [
       "TfidfVectorizer(analyzer='word', binary=False, decode_error='strict',\n",
       "        dtype=<class 'numpy.int64'>, encoding='utf-8', input='content',\n",
       "        lowercase=True, max_df=1.0, max_features=None, min_df=1,\n",
       "        ngram_range=(1, 2), norm='l2', preprocessor=None, smooth_idf=True,\n",
       "        stop_words='english', strip_accents=None, sublinear_tf=False,\n",
       "        token_pattern='(?u)\\\\b\\\\w\\\\w+\\\\b',\n",
       "        tokenizer=<function tokenize_stemmer at 0x102df8b70>, use_idf=True,\n",
       "        vocabulary=None)"
      ]
     },
     "execution_count": 24,
     "metadata": {},
     "output_type": "execute_result"
    }
   ],
   "source": [
    "tfidf.fit(X_train)"
   ]
  },
  {
   "cell_type": "code",
   "execution_count": 25,
   "metadata": {
    "collapsed": false
   },
   "outputs": [],
   "source": [
    "X_train_tot = tfidf.transform(X_train)\n",
    "X_test_tot = tfidf.transform(X_test)\n",
    "X_cv_tot = tfidf.transform(X_cv)"
   ]
  },
  {
   "cell_type": "markdown",
   "metadata": {},
   "source": [
    "## Feature selection"
   ]
  },
  {
   "cell_type": "code",
   "execution_count": 13,
   "metadata": {
    "collapsed": true
   },
   "outputs": [],
   "source": [
    "from sklearn.feature_selection import SelectPercentile, SelectKBest, f_classif, chi2, SelectFromModel"
   ]
  },
  {
   "cell_type": "code",
   "execution_count": 41,
   "metadata": {
    "collapsed": false
   },
   "outputs": [
    {
     "name": "stdout",
     "output_type": "stream",
     "text": [
      "X_train_selected shape:  (2062, 2120)\n",
      "X_test_selected shape:  (619, 2120)\n",
      "X_cv_selected shape:  (265, 2120)\n"
     ]
    }
   ],
   "source": [
    "# select top 8% features\n",
    "# selector = SelectPercentile(f_classif, percentile = 10) \n",
    "\n",
    "# select top 25000 features\n",
    "#selector = SelectKBest(chi2, k = 10000) \n",
    "\n",
    "\n",
    "# select from model\n",
    "lsvc = LinearSVC(C=8000, penalty=\"l1\", dual=False).fit(X_train_tot, Y_train)\n",
    "selector = SelectFromModel(lsvc, prefit=False)\n",
    "\n",
    "\n",
    "selector.fit(X_train_tot, Y_train)\n",
    "X_train_selected = selector.transform(X_train_tot)\n",
    "X_test_selected = selector.transform(X_test_tot)\n",
    "X_cv_selected = selector.transform(X_cv_tot)\n",
    "\n",
    "print(\"X_train_selected shape: \", X_train_selected.shape)\n",
    "print(\"X_test_selected shape: \", X_test_selected.shape)\n",
    "print(\"X_cv_selected shape: \", X_cv_selected.shape)"
   ]
  },
  {
   "cell_type": "code",
   "execution_count": 42,
   "metadata": {
    "collapsed": false
   },
   "outputs": [
    {
     "name": "stdout",
     "output_type": "stream",
     "text": [
      "X_train_sel_add shape:  (2062, 2123)\n",
      "X_test_sel_add shape:  (619, 2123)\n",
      "X_cv_sel_add shape:  (265, 2123)\n"
     ]
    }
   ],
   "source": [
    "import scipy as sp\n",
    "\n",
    "def concat_3features(df):\n",
    "    author = np.array([[x] for x in df.author])\n",
    "    caprate = np.array([[x] for x in df.caprate_title])\n",
    "    exagg =  np.array([[x] for x in df.exagg_puct_title])\n",
    "    return  np.concatenate((author, caprate, exagg), axis=1)\n",
    "\n",
    "X_train_sel_add = sp.sparse.hstack((X_train_selected, concat_3features(af_train)))\n",
    "X_cv_sel_add = sp.sparse.hstack((X_cv_selected, concat_3features(af_cv)))\n",
    "X_test_sel_add = sp.sparse.hstack((X_test_selected, concat_3features(af_test)))\n",
    "\n",
    "print(\"X_train_sel_add shape: \", X_train_sel_add.shape)\n",
    "print(\"X_test_sel_add shape: \", X_test_sel_add.shape)\n",
    "print(\"X_cv_sel_add shape: \", X_cv_sel_add.shape)"
   ]
  },
  {
   "cell_type": "code",
   "execution_count": 43,
   "metadata": {
    "collapsed": true
   },
   "outputs": [],
   "source": [
    "X_train_dtm = X_train_sel_add\n",
    "X_test_dtm = X_test_sel_add\n",
    "X_cv_dtm = X_cv_sel_add"
   ]
  },
  {
   "cell_type": "markdown",
   "metadata": {},
   "source": [
    "# Test different models"
   ]
  },
  {
   "cell_type": "code",
   "execution_count": 18,
   "metadata": {
    "collapsed": true
   },
   "outputs": [],
   "source": [
    "# validation test & Learning curve\n",
    "\n",
    "def valid_test(model, param, param_candidates):\n",
    "    \n",
    "#     candidates = np.logspace(-7, 7, 10) # for alpha, C \n",
    "#     candidates = [1,2,3,4,5,6,7,8,9,10]# for integers\n",
    "    train_scores, valid_scores = validation_curve(model, X_cv_dtm, Y_cv, param, param_candidates)\n",
    "    avg_ts, avg_vs = train_scores.mean(axis = 1), valid_scores.mean(axis = 1)\n",
    "    sd_ts, sd_vs = train_scores.std(axis = 1), valid_scores.std(axis = 1)\n",
    "    vs_max_ix = np.argmax(avg_vs)\n",
    "    best = param_candidates[vs_max_ix]\n",
    "    print('The best {} value for {} is {}'.format(param, model, best))\n",
    "    plt.figure(figsize=(10, 6))\n",
    "    plt.title('Validation Test')\n",
    "    plt.ylabel('Scores')\n",
    "    plt.xlabel('Candidate {} index'.format(param))\n",
    "    plt.plot(range(10), avg_ts, label = 'Training Scores')\n",
    "    plt.plot(range(10), avg_vs, label = 'Cross validation Scores')\n",
    "    plt.legend(loc = 'best')\n",
    "    return best\n",
    "\n",
    "def Learning_curve(model):\n",
    "    train_sizes = [50,100,150,200,250,300,350]\n",
    "    train_sizes, train_scores, test_scores = learning_curve(model, X_train_dtm, Y_train, train_sizes=train_sizes)   \n",
    "    train_scores_mean, test_scores_mean = train_scores.mean(axis = 1), test_scores.mean(axis = 1)\n",
    "    train_scores_std, test_scores_std = train_scores.std(axis = 1), test_scores.std(axis = 1)\n",
    "    plt.figure(figsize=(10, 6))\n",
    "    plt.title('Learning curve')\n",
    "    plt.ylabel('Scores')\n",
    "    plt.xlabel('Training Set')\n",
    "    plt.fill_between(train_sizes, train_scores_mean - train_scores_std,\n",
    "                     train_scores_mean + train_scores_std, alpha=0.1,\n",
    "                     color=\"r\")\n",
    "    plt.fill_between(train_sizes, test_scores_mean - test_scores_std,\n",
    "                     test_scores_mean + test_scores_std, alpha=0.1, color=\"g\")\n",
    "    plt.plot(train_sizes, train_scores_mean, 'o-', color=\"r\",\n",
    "             label=\"Training score\")\n",
    "    plt.plot(train_sizes, test_scores_mean, 'o-', color=\"g\",\n",
    "             label=\"Cross-validation score\")\n",
    "    plt.legend(loc = 'best')\n",
    "    plt.show()\n",
    "    \n",
    "def plot_roc_curve(model):\n",
    "    y_pred_prob = model.predict_proba(X_test_dtm)\n",
    "    fpr, tpr, thrs = roc_curve(Y_test, y_pred_prob[:,1])\n",
    "        \n",
    "    plt.figure(figsize=(10, 6))\n",
    "    plt.plot([0, 1], [0, 1], 'k--')\n",
    "    plt.plot(fpr, tpr, label='Logistic Regression', color='darkorange',lw = 3)\n",
    "    plt.xlabel('False Positive Rate',fontsize=13.5)\n",
    "    plt.ylabel('True Positive Rate',fontsize=13.5)\n",
    "    plt.title('ROC Curve',fontsize=13.5)\n",
    "    plt.show()\n",
    "    print('AUC is {}'.format(auc(fpr, tpr)))\n",
    "\n",
    "def plot_precision_recall(model):\n",
    "    y_pred_dec = model.decision_function(X_test_dtm)\n",
    "    precision, recall, thresholds = precision_recall_curve(Y_test, y_pred_dec)\n",
    "    plt.figure(figsize=(10, 6))\n",
    "    plt.plot([0, 1], [0, 1], 'k--')\n",
    "    plt.plot(recall, precision, label='Logistic Regression', color='teal',lw = 3)\n",
    "    plt.xlabel('Recall',fontsize=13.5)\n",
    "    plt.ylabel('Precision',fontsize=13.5)\n",
    "    plt.title('Recall-Precision curve',fontsize=13.5)\n",
    "    plt.show()\n",
    "\n",
    "def print_scores(model, y_test_pred):\n",
    "    print('Train score is {}'.format(model.score(X_train_dtm, Y_train)))\n",
    "    print('Test score is {}'.format(model.score(X_test_dtm, Y_test)))\n",
    "    print('F1 score is {}'.format(f1_score(Y_test,y_test_pred)))\n",
    "        "
   ]
  },
  {
   "cell_type": "markdown",
   "metadata": {},
   "source": [
    "## 1. Logistic Regression"
   ]
  },
  {
   "cell_type": "code",
   "execution_count": 44,
   "metadata": {
    "collapsed": false
   },
   "outputs": [
    {
     "name": "stdout",
     "output_type": "stream",
     "text": [
      "The best C value for LogisticRegression(C=100000.0, class_weight=None, dual=False,\n",
      "          fit_intercept=True, intercept_scaling=1, max_iter=100,\n",
      "          multi_class='ovr', n_jobs=1, penalty='l2', random_state=None,\n",
      "          solver='liblinear', tol=0.0001, verbose=0, warm_start=False) is 166.81005372000593\n"
     ]
    },
    {
     "data": {
      "image/png": "[encoded data removed]",
      "text/plain": [
       "<matplotlib.figure.Figure at 0x1140da6a0>"
      ]
     },
     "metadata": {},
     "output_type": "display_data"
    },
    {
     "data": {
      "image/png": "[encoded data removed]",
      "text/plain": [
       "<matplotlib.figure.Figure at 0x1134a2438>"
      ]
     },
     "metadata": {},
     "output_type": "display_data"
    }
   ],
   "source": [
    "best_C = valid_test(LogisticRegression(), \"C\", np.logspace(0, 5, 10))\n",
    "LR = LogisticRegression(C = best_C)\n",
    "# LR = LogisticRegression()\n",
    "Learning_curve(LR)\n",
    "LR.fit(X_train_dtm, Y_train)\n",
    "Y_test_pred_LR = LR.predict(X_test_dtm)\n",
    "\n",
    "# polynomial_features = PolynomialFeatures(degree=2,include_bias=False)\n",
    "# pipeline = Pipeline([(\"polynomial_features\", polynomial_features), (\"linear_regression\", LR)])\n",
    "# Learning_curve(pipeline)\n",
    "# # Learning_curve(LR)\n",
    "\n",
    "# pipeline.fit(X_train, Y_train)\n",
    "# Y_test_pred_LR = pipeline.predict(X_test)\n",
    "# print('Train score is {}'.format(pipeline.score(X_train, Y_train)))\n",
    "# print('Cross validation score is {}'.format(pipeline.score(X_cv, Y_cv)))"
   ]
  },
  {
   "cell_type": "code",
   "execution_count": 45,
   "metadata": {
    "collapsed": false
   },
   "outputs": [
    {
     "data": {
      "image/png": "[encoded data removed]",
      "text/plain": [
       "<matplotlib.figure.Figure at 0x1104560f0>"
      ]
     },
     "metadata": {},
     "output_type": "display_data"
    },
    {
     "data": {
      "image/png": "[encoded data removed]",
      "text/plain": [
       "<matplotlib.figure.Figure at 0x113b0cdd8>"
      ]
     },
     "metadata": {},
     "output_type": "display_data"
    },
    {
     "name": "stdout",
     "output_type": "stream",
     "text": [
      "AUC is 0.9744738160861939\n",
      "Train score is 0.9995150339476236\n",
      "Test score is 0.9224555735056543\n",
      "F1 score is 0.9215686274509804\n"
     ]
    }
   ],
   "source": [
    "# plot precision recall curve\n",
    "plot_precision_recall(LR)\n",
    "# plot ROC curve\n",
    "plot_roc_curve(LR)\n",
    "# print scores\n",
    "print_scores(LR, Y_test_pred_LR)"
   ]
  },
  {
   "cell_type": "markdown",
   "metadata": {},
   "source": [
    "## 2. Neural networking (MLP)"
   ]
  },
  {
   "cell_type": "code",
   "execution_count": null,
   "metadata": {
    "collapsed": false
   },
   "outputs": [],
   "source": [
    "best_alpha = valid_test(MLPClassifier(), 'alpha', np.logspace(-5, -1, 10))\n",
    "MLP = MLPClassifier(alpha=best_alpha, hidden_layer_sizes=(10, 10, 10), random_state=1, max_iter=200)\n",
    "# MLP = MLPClassifier(alpha=1e-05, hidden_layer_sizes=(12, 12, 12), random_state=1, max_iter=200)\n",
    "MLP.fit(X_train_dtm, Y_train)\n",
    "Learning_curve(MLP)\n",
    "Y_test_pred_MLP = MLP.predict(X_test_dtm)\n",
    "\n",
    "# polynomial_features = PolynomialFeatures(degree=2,include_bias=False)\n",
    "# pipeline = Pipeline([(\"polynomial_features\", polynomial_features), (\"MLP_Classifier\", MLP)])\n",
    "# pipeline.fit(X_train, Y_train)\n",
    "# Learning_curve(pipeline)\n",
    "# Y_test_pred_MLP = MLP.predict(X_test)\n",
    "\n",
    "# print('train score is {}'.format(pipeline.score(X_train, Y_train)))\n",
    "# print('cross validation score is {}'.format(pipeline.score(X_cv, Y_cv)))"
   ]
  },
  {
   "cell_type": "code",
   "execution_count": null,
   "metadata": {
    "collapsed": true
   },
   "outputs": [],
   "source": [
    "# plot precision recall curve\n",
    "plot_precision_recall(MLP, X_test_dtm, Y_test)\n",
    "# plot ROC curve\n",
    "plot_roc_curve(MLP, X_test_dtm, Y_test)\n",
    "# print scores\n",
    "print_scores(MLP, X_train_dtm, Y_train, X_test_dtm, Y_test, Y_test_pred_MLP)"
   ]
  },
  {
   "cell_type": "markdown",
   "metadata": {},
   "source": [
    "## 3. Support Vector Machines"
   ]
  },
  {
   "cell_type": "code",
   "execution_count": 93,
   "metadata": {
    "collapsed": false
   },
   "outputs": [
    {
     "data": {
      "image/png": "[encoded data removed]",
      "text/plain": [
       "<matplotlib.figure.Figure at 0x11ed46f98>"
      ]
     },
     "metadata": {},
     "output_type": "display_data"
    }
   ],
   "source": [
    "# best_gamma = valid_test(SVC(), \"gamma\", np.logspace(-5, 5, 10))\n",
    "# best_C = valid_test(SVC(gamma = best_gamma), \"C\", np.logspace(-5, 5, 10))\n",
    "# svm = SVC(C = best_C, gamma = best_gamma)\n",
    "svm = SVC(C = 300, gamma = 0.1)\n",
    "svm.fit(X_train_dtm, Y_train)\n",
    "Learning_curve(svm)\n",
    "Y_test_pred_svm = svm.predict(X_test_dtm)"
   ]
  },
  {
   "cell_type": "code",
   "execution_count": 94,
   "metadata": {
    "collapsed": false
   },
   "outputs": [
    {
     "data": {
      "image/png": "[encoded data removed]",
      "text/plain": [
       "<matplotlib.figure.Figure at 0x1101d4f98>"
      ]
     },
     "metadata": {},
     "output_type": "display_data"
    },
    {
     "name": "stdout",
     "output_type": "stream",
     "text": [
      "Train score is 0.9995473064735174\n",
      "Test score is 0.903663500678426\n",
      "F1 score is 0.8998589562764456\n"
     ]
    }
   ],
   "source": [
    "# plot precision recall curve\n",
    "plot_precision_recall(svm)\n",
    "# plot ROC curve\n",
    "# plot_roc_curve(svm)\n",
    "# print scores\n",
    "print_scores(svm, Y_test_pred_svm)"
   ]
  },
  {
   "cell_type": "markdown",
   "metadata": {},
   "source": [
    "## 4. RandomForestClassifier"
   ]
  },
  {
   "cell_type": "code",
   "execution_count": null,
   "metadata": {
    "collapsed": false
   },
   "outputs": [],
   "source": [
    "best_estimator = valid_test(RandomForestClassifier(), \"n_estimators\", [x for x in range(2,12)])\n",
    "RF = RandomForestClassifier(n_estimators=best_estimator)\n",
    "Learning_curve(RF)\n",
    "%time RF.fit(X_train_dtm, Y_train)\n",
    "Y_test_pred_RF = RF.predict(X_test_dtm)"
   ]
  },
  {
   "cell_type": "code",
   "execution_count": null,
   "metadata": {
    "collapsed": false
   },
   "outputs": [],
   "source": [
    "# RF does not have decision_function\n",
    "#plot_precision_recall(RF, X_test_dtm, Y_test)\n",
    "\n",
    "# plot ROC curve\n",
    "plot_roc_curve(RF)\n",
    "# print scores\n",
    "print_scores(RF, Y_test_pred_RF)"
   ]
  },
  {
   "cell_type": "markdown",
   "metadata": {},
   "source": [
    "## 5. naive_bayes"
   ]
  },
  {
   "cell_type": "code",
   "execution_count": null,
   "metadata": {
    "collapsed": false
   },
   "outputs": [],
   "source": [
    "best_alpha = valid_test(MultinomialNB(), \"alpha\", np.logspace(-10, 2, 10))\n",
    "nb = MultinomialNB(alpha = best_alpha)\n",
    "#nb = MultinomialNB()\n",
    "Learning_curve(nb)\n",
    "%time nb.fit(X_train_dtm, Y_train)\n",
    "Y_test_pred_nb = nb.predict(X_test_dtm)    "
   ]
  },
  {
   "cell_type": "code",
   "execution_count": null,
   "metadata": {
    "collapsed": false
   },
   "outputs": [],
   "source": [
    "# nb does not have decision_function\n",
    "#plot_precision_recall(nb)\n",
    "\n",
    "# plot ROC curve\n",
    "plot_roc_curve(nb)\n",
    "# print scores\n",
    "print_scores(nb, Y_test_pred_nb)"
   ]
  },
  {
   "cell_type": "code",
   "execution_count": null,
   "metadata": {
    "collapsed": true
   },
   "outputs": [],
   "source": []
  }
 ],
 "metadata": {
  "anaconda-cloud": {},
  "kernelspec": {
   "display_name": "Python 3",
   "language": "python",
   "name": "python3"
  },
  "language_info": {
   "codemirror_mode": {
    "name": "ipython",
    "version": 3
   },
   "file_extension": ".py",
   "mimetype": "text/x-python",
   "name": "python",
   "nbconvert_exporter": "python",
   "pygments_lexer": "ipython3",
   "version": "3.6.0"
  }
 },
 "nbformat": 4,
 "nbformat_minor": 2
}
