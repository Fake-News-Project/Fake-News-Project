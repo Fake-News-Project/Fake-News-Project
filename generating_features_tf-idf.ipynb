{
 "cells": [
  {
   "cell_type": "markdown",
   "metadata": {},
   "source": [
    "# Using TF-IDF (Term frequency-inverse document frequency) to generate features for text"
   ]
  },
  {
   "cell_type": "markdown",
   "metadata": {},
   "source": [
    "## Import data"
   ]
  },
  {
   "cell_type": "code",
   "execution_count": null,
   "metadata": {
    "collapsed": false
   },
   "outputs": [],
   "source": [
    "import pandas as pd"
   ]
  },
  {
   "cell_type": "code",
   "execution_count": null,
   "metadata": {
    "collapsed": false
   },
   "outputs": [],
   "source": [
    "article_df = pd.read_csv('data_news.csv',usecols=range(1,5))\n",
    "article_df"
   ]
  },
  {
   "cell_type": "markdown",
   "metadata": {},
   "source": [
    "## Generate feature words using tf-idf"
   ]
  },
  {
   "cell_type": "code",
   "execution_count": null,
   "metadata": {
    "collapsed": false
   },
   "outputs": [],
   "source": [
    "from sklearn.feature_extraction.text import TfidfVectorizer\n",
    "import numpy as np\n",
    "\n",
    "article_text_list = article_df[\"text\"]\n",
    "#article_text_list[0]\n",
    "\n",
    "tfidf = TfidfVectorizer(stop_words='english')\n",
    "x_train = tfidf.fit_transform(article_text_list)"
   ]
  },
  {
   "cell_type": "code",
   "execution_count": null,
   "metadata": {
    "collapsed": false
   },
   "outputs": [],
   "source": [
    "# print out top 20 features\n",
    "indices = np.argsort(tfidf.idf_)[::-1]\n",
    "feature_names = tfidf.get_feature_names()\n",
    "\n",
    "top_n = 20\n",
    "top_feature_names = [feature_names[i] for i in indices[:top_n]]\n",
    "print(top_feature_names)"
   ]
  },
  {
   "cell_type": "code",
   "execution_count": null,
   "metadata": {
    "collapsed": false
   },
   "outputs": [],
   "source": [
    "x_train_df = pd.DataFrame(x_train.toarray().transpose(), index = feature_names)\n",
    "#df.head()\n",
    "x_train_df.tail()"
   ]
  },
  {
   "cell_type": "markdown",
   "metadata": {},
   "source": [
    "## Test new data using exsting features"
   ]
  },
  {
   "cell_type": "code",
   "execution_count": null,
   "metadata": {
    "collapsed": false
   },
   "outputs": [],
   "source": [
    "# new data\n",
    "import newspaper\n",
    "\n",
    "cnn_politics_articles = newspaper.build('http://www.cnn.com/politics',memoize_articles=False)\n",
    "\n",
    "new_article = cnn_politics_articles.articles[100]\n",
    "new_article.download()\n",
    "new_article.parse()\n",
    "print(new_article.title)\n",
    "new_text = new_article.text"
   ]
  },
  {
   "cell_type": "code",
   "execution_count": null,
   "metadata": {
    "collapsed": false
   },
   "outputs": [],
   "source": [
    "x_test = tfidf.transform([new_text])\n",
    "\n",
    "x_test_df = pd.DataFrame(x_train.toarray().transpose(), index = feature_names)\n",
    "#df.head()\n",
    "x_test_df.tail()\n"
   ]
  },
  {
   "cell_type": "code",
   "execution_count": null,
   "metadata": {
    "collapsed": false
   },
   "outputs": [],
   "source": [
    "for col in x_test.nonzero()[1]:\n",
    "    print(\"%s - %s\" %(feature_names[col], x_test[0, col]))"
   ]
  }
 ],
 "metadata": {
  "anaconda-cloud": {},
  "kernelspec": {
   "display_name": "Python [Root]",
   "language": "python",
   "name": "Python [Root]"
  },
  "language_info": {
   "codemirror_mode": {
    "name": "ipython",
    "version": 3
   },
   "file_extension": ".py",
   "mimetype": "text/x-python",
   "name": "python",
   "nbconvert_exporter": "python",
   "pygments_lexer": "ipython3",
   "version": "3.5.2"
  }
 },
 "nbformat": 4,
 "nbformat_minor": 0
}
