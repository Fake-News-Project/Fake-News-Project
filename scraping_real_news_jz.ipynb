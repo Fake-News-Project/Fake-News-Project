{
 "cells": [
  {
   "cell_type": "markdown",
   "metadata": {},
   "source": [
    "# Scraping news from real news websites"
   ]
  },
  {
   "cell_type": "code",
   "execution_count": 1,
   "metadata": {
    "collapsed": true
   },
   "outputs": [],
   "source": [
    "import newspaper\n",
    "import pandas as pd\n",
    "import numpy as np\n",
    "import os"
   ]
  },
  {
   "cell_type": "code",
   "execution_count": 2,
   "metadata": {
    "collapsed": true
   },
   "outputs": [],
   "source": [
    "# collect all or most recent 100 articles from a website\n",
    "def generate_data(news_url):\n",
    "    col_names = [\"url\",\"source\", \"title\", \"author\", \"text\"]\n",
    "    article_df = pd.DataFrame(columns = col_names)\n",
    "    \n",
    "    print(news_url)\n",
    "    news_articles = newspaper.build(news_url, memoize_articles=False)\n",
    "    \n",
    "    size_articles = news_articles.size()\n",
    "    num_news = 100\n",
    "    if size_articles < num_news:\n",
    "        num_news = size_articles\n",
    "     \n",
    "    news_brand = news_articles.brand\n",
    "    count = 0\n",
    "    for i in range(0,num_news):\n",
    "        article = news_articles.articles[i];\n",
    "        try:\n",
    "            article.download()\n",
    "            article.parse()\n",
    "            print(article.url)\n",
    "            \n",
    "            entry = pd.DataFrame([[article.url, news_brand, \\\n",
    "                                   article.title, article.authors, article.text]], columns=col_names)\n",
    "            article_df = article_df.append(entry)\n",
    "            count += 1\n",
    "        except:\n",
    "            pass\n",
    "        \n",
    "    print(\"The total number of \" + str(news_brand) + \" articles is \", count) \n",
    "        \n",
    "    article_df.set_index('url', inplace=True)\n",
    "    return article_df    "
   ]
  },
  {
   "cell_type": "code",
   "execution_count": 9,
   "metadata": {
    "collapsed": false
   },
   "outputs": [
    {
     "name": "stdout",
     "output_type": "stream",
     "text": [
      "['http://www.nbcnews.com/', 'http://www.msnbc.com/', 'http://www.cbsnews.com/', 'http://www.huffingtonpost.com/', 'http://www.bloomberg.com/', 'http://abcnews.go.com/', 'http://www.aljazeera.com/news/', 'https://www.afp.com/en/news-hub', 'http://www.newyorker.com/', 'https://www.theguardian.com/']\n"
     ]
    }
   ],
   "source": [
    "website_list = ['http://www.nbcnews.com/', 'http://www.msnbc.com/', 'http://www.cbsnews.com/', \\\n",
    "                'http://www.huffingtonpost.com/', 'http://www.bloomberg.com/', 'http://abcnews.go.com/', \\\n",
    "                'http://www.aljazeera.com/news/', 'https://www.afp.com/en/news-hub', 'http://www.newyorker.com/',\\\n",
    "                'https://www.theguardian.com/']\n",
    "print(website_list)"
   ]
  },
  {
   "cell_type": "markdown",
   "metadata": {},
   "source": [
    "## 1. nbcnews"
   ]
  },
  {
   "cell_type": "code",
   "execution_count": 10,
   "metadata": {
    "collapsed": false
   },
   "outputs": [
    {
     "name": "stdout",
     "output_type": "stream",
     "text": [
      "http://www.nbcnews.com/\n",
      "http://www.nbcnews.com/video/parasitic-twin-removed-from-baby-girl-903135299656\n",
      "http://www.nbcnews.com/better/business/how-college-students-can-avoid-overdraft-late-fees-ncna774051\n",
      "http://www.nbcnews.com/news/us-news/epa-chief-taps-taxpayer-dollars-weekend-flights-home-n786471\n",
      "http://www.nbcnews.com/dateline/video/bitter-pill-kate-snow-s-perspective-706022979680\n",
      "http://www.nbcnews.com/storyline/immigration-border-crisis/tenth-suspected-migrant-dies-human-smuggling-operation-driver-due-court-n785921\n",
      "http://www.nbcnewyork.com/news/local/Turkey-Hill-Ice-Cream-Dutch-Chocolate-Rocky-Road-Recall--396525521.html\n",
      "http://www.nbcnews.com/news/us-news/california-woman-livestreamed-dying-teen-sister-instagram-after-car-crash-n785846\n",
      "http://www.nbcnews.com/video/hive-installation-at-london-s-kew-gardens-interprets-beehive-activity-1004238915723\n",
      "http://www.nbcnews.com/tech/gift-guide/tech-gift-guide-best-gadgets-foodies-n693171\n",
      "http://www.today.com/video/chrissy-teigen-on-motherhood-food-and-babies-who-look-like-john-legend-1010049603670\n",
      "http://www.nbcnews.com/health/health-news/umbilical-cord-compound-boosts-brain-power-mice-n748846\n",
      "http://www.nbcbayarea.com/investigations/Feds-Oakland-ISIS-Sympathizer-Wanted-to-Kill-Thousands-in-String-of-Bay-Area-Terror-Attacks-436633853.html\n",
      "Article `download()` failed with 404 Client Error: Not Found for url: http://www.nbcnews.com/dateline/news on URL http://www.nbcnews.com/dateline/news\n",
      "http://www.nbcnews.com/news/us-news/trump-japanese-leader-increase-pressure-north-korea-n779186\n",
      "http://www.nbcnews.com/feature/megyn-kelly/florida-s-billion-dollar-drug-treatment-industry-plagued-overdoses-fraud-n773376\n",
      "Article `download()` failed with 404 Client Error: Not Found for url: http://www.nbcnews.com/science/weather-explainers/news/saharan-africa-dust-reaches-texas-july-2017 on URL http://www.nbcnews.com/science/weather-explainers/news/saharan-africa-dust-reaches-texas-july-2017\n",
      "http://www.msnbc.com/mtp-daily/watch/russia-sanctions-bill-likely-to-be-signed-chairman-royce-says-1010619971737\n",
      "http://www.nbcnews.com/storyline/robert-durst/hollywood-producer-lynda-obst-testifies-robert-durst-case-n751656\n",
      "http://www.nbcnews.com/dateline/video/tangled-part-6-732671555626\n",
      "http://www.nbcnews.com/news/us-news/ex-chemistry-teacher-gets-4-years-cooking-meth-sound-familiar-n784621\n",
      "http://www.nbcnews.com/news/latino/opinion-parenthood-made-it-real-me-don-t-repeal-healthcare-n784596\n",
      "http://www.nbcnews.com/business/economy/nobody-really-knows-what-fed-does-they-think-it-s-n786091\n",
      "http://www.nbcnews.com/nightly-news/video/charlie-gard-s-parents-will-no-longer-seek-u-s-treatment-1007924291853\n",
      "http://www.nbcnews.com/tech/video-games/super-mario-run-hit-players-scammers-n699126\n",
      "http://www.nbcnews.com/news/pope-francis/trump-s-papal-visit-pope-francis-vows-not-judge-him-n759101\n",
      "http://www.nbcnews.com/business/your-business/entrepreneurial-advice-five-women-who-are-making-it-work-n774156\n",
      "http://www.nbcnews.com/dateline/video/tangled-part-4-732672067522\n",
      "http://www.nbcnews.com/nightly-news/video/the-plant-based-burger-that-smells-tastes-and-bleeds-like-the-real-thing-1000517699685\n",
      "http://www.nbcnews.com/megyn-kelly/video/against-all-odds-ballerina-michaela-deprince-s-remarkable-journey-1001306691596\n",
      "http://www.nbcnews.com/politics/congress/senate-s-health-care-bill-remains-shrouded-secrecy-n772456\n",
      "http://www.nbcnews.com/news/us-news/russian-prankster-convinced-rick-perry-he-was-speaking-ukraine-prime-n786641\n",
      "http://www.nbcnews.com/news/latino/u-s-slaps-sanctions-venezuelans-stop-constitution-rewrite-n786796\n",
      "http://www.nbcnews.com/tech/gadgets/high-tech-gadgets-every-sleep-struggle-n778691\n",
      "http://www.nbcnews.com/megyn-kelly/video/the-reporter-who-broke-the-story-of-trump-campaign-meeting-1003296323829\n",
      "http://www.nbcnews.com/news/latino/hispanic-caucus-pac-targets-republicans-protest-border-wall-money-n786466\n",
      "http://www.nbcnews.com/megyn-kelly/video/tour-the-dutch-national-ballet-s-costume-department-with-michaela-deprince-994532931517\n",
      "http://www.nbcnews.com/news/us-news/cosmo-dinardo-second-man-charged-killing-four-pennsylvania-n783086\n",
      "http://www.nbcnews.com/nightly-news/video/amazon-refunding-70-million-for-unapproved-purchases-made-by-children-914912835856\n",
      "Article `download()` failed with 404 Client Error: Not Found for url: http://www.nbcnews.com/pop-culture/news on URL http://www.nbcnews.com/pop-culture/news\n",
      "http://www.nbcnews.com/nightly-news/video/double-arm-transplant-recipient-a-restoration-of-my-life-465550915613\n",
      "http://www.nbcnews.com/nightly-news/video/last-killer-whale-born-in-captivity-at-seaworld-has-died-1008847427635\n",
      "http://www.nbcnews.com/dateline/video/full-episode-missing-marie-722660419879\n",
      "http://www.nbcnews.com/news/latino/siete-family-foods-creates-gluten-free-tortillas-recipe-success-n774591\n",
      "http://www.nbcnews.com/news/latino/latina-bodybuilder-71-we-should-never-give-ourselves-n786051\n",
      "http://www.nbcnews.com/dateline/video/tangled-part-3-732668995882\n",
      "http://www.nbcnews.com/nightly-news/video/this-oregon-pub-is-pouring-compassion-by-the-pint-1007936067532\n",
      "http://www.nbcnews.com/business/autos/did-volkswagen-kill-diesel-market-or-was-it-already-dead-n785251\n",
      "http://www.nbcnews.com/video/mexican-and-u-s-breweries-team-up-to-make-beer-mocking-trump-967830595894\n",
      "http://www.nbcnews.com/nightly-news/video/inspiring-america-adaptive-climbers-help-each-other-reach-new-heights-1008854083511\n",
      "http://www.nbcnews.com/news/world/cardinal-george-pell-appears-australian-court-sex-abuse-hearing-n786556\n",
      "http://www.nbcnews.com/news/africa\n",
      "http://www.nbcnews.com/mach/tech/electric-car-revolution-may-come-sooner-we-thought-ncna780516\n",
      "Article `download()` failed with 404 Client Error: Not Found for url: http://www.nbcnews.com/sports-recreation/boat-beach/news/artificial-manmade-beaches on URL http://www.nbcnews.com/sports-recreation/boat-beach/news/artificial-manmade-beaches\n",
      "http://www.nbcnews.com/health/health-news/good-fats-helpful-statins-against-heart-disease-group-says-n773351\n",
      "http://www.nbcnews.com/better/health/what-keeps-modern-dads-night-ncna773101\n",
      "http://www.nbcnews.com/tech/social-media/pepe-frog-dead-creator-kills-meme-absorbed-far-right-n756281\n",
      "http://www.nbcnews.com/better/health/10-kitchen-gadgets-help-you-lose-weight-ncna785366\n",
      "http://www.nbcnews.com/news/world/nigeria-president-buhari-pictured-london-after-three-months-grid-n785856\n",
      "http://www.nbcnews.com/news/us-news/nbc-affiliates-n19981\n",
      "http://www.nbcnews.com/nightly-news/video/10-dead-in-horrific-human-trafficking-operation-in-san-antonio-1007924803557\n",
      "http://www.nbcnews.com/dateline/video/dateline-manson-part-4-709064259983\n",
      "http://www.nbcnews.com/dateline/video/andre-becomes-his-own-star-witness-711479363576\n",
      "http://www.nbcnews.com/news/us-news/california-teen-who-livestreamed-dying-sister-charged-manslaughter-n786821\n",
      "http://www.today.com/health/what-bell-s-palsy-angelina-jolie-reveals-diagnosis-t114306\n",
      "http://www.nbcnews.com/news/north-korea\n",
      "http://www.nbcnews.com/business/autos/brave-new-world-why-when-we-ll-go-drivers-passengers-n785876\n",
      "http://www.nbcnews.com/news/world/anti-semitism-claims-hound-u-k-s-labour-party-despite-n781621\n",
      "http://www.nbcnews.com/news/nbcblk/romance-writer-beverly-jenkins-launches-gofundme-bring-novel-big-screen-n781916\n",
      "http://www.nbcnews.com/dateline/video/15-happy-years-remembering-martha-moxley-729693251740\n",
      "http://www.nbcnews.com/better/tech/how-emojis-can-improve-your-relationships-ncna769991\n",
      "http://www.nbcnews.com/dateline/video/bitter-pill-a-growing-need-706026563848\n",
      "http://www.nbcnews.com/science/weird-science/gotscience-game-thrones-plot-raises-grisly-burning-question-n339691\n",
      "http://www.nbcnews.com/dateline/video/on-assignment-one-more-thing-hands-off-705280067880\n",
      "http://www.nbcnews.com/business/your-business/how-one-millennial-turned-simple-apron-million-dollar-business-n779856\n",
      "http://www.nbcnews.com/health/mens-health/plunging-sperm-counts-major-public-health-crisis-n786506\n",
      "http://www.nbcnews.com/storyline/michael-brown-shooting/michael-brown-s-family-received-1-5-million-settlement-ferguson-n775936\n",
      "http://www.today.com/video/parents-of-5-year-old-boy-who-drowned-at-day-camp-speak-out-1008320067590\n",
      "http://www.nbcnews.com/slideshow/french-authorities-evacuate-over-2-000-migrants-paris-makeshift-camp-n780656\n",
      "http://www.nbcnews.com/slideshow/oscars-best-picture-fiasco-unfolds-stage-academy-awards-n726006\n",
      "http://www.nbcnews.com/video/rick-perry-clarifies-stance-on-climate-change-977260099604\n",
      "http://www.nbcnews.com/tech/video-games/illegal-gambling-site-let-young-kids-bet-fifa-video-games-n718236\n",
      "http://www.nbcnews.com/news/us-news/caught-camera-dresser-falls-twin-boys-one-toddler-saves-other-n702651\n",
      "http://www.nbcnews.com/business/autos/2-7-million-takata-airbags-recalled-new-defect-n782201\n",
      "http://www.nbcnews.com/better/health/what-those-inappropriate-dreams-really-mean-ncna785996\n",
      "http://www.nbcnews.com/news/world/congressmen-float-idea-sick-british-boy-charlie-gard-getting-u-n784361\n",
      "http://www.nbcnews.com/dateline/video/full-episode-tangled-732671555842\n",
      "http://www.nbcnews.com/pop-culture/tv/jimmy-kimmel-reveals-newborn-son-survived-heart-surgery-n753736\n",
      "http://www.nbcnews.com/news/asian-america/u-s-resumes-fast-processing-some-h-1b-visa-applications-n786256\n",
      "http://www.nbcnews.com/news/us-news/legal-battle-behind-trump-tower-meeting-n785776\n",
      "http://www.nbcnews.com/health/health-news/new-wearable-health-tech-wrist-sensor-works-sweat-n747841\n",
      "http://www.nbcnews.com/health/health-news/still-no-prevention-alzheimer-s-three-actions-can-fight-memory-n775526\n",
      "http://www.nbcnews.com/news/us-news/slain-nypd-officer-s-widow-gives-birth-more-two-years-n786661\n",
      "http://www.nbcnews.com/news/asian-america/nonprofits-search-asian-american-foster-parents-fill-culture-language-needs-n785036\n",
      "http://www.nbcnews.com/slideshow/week-pictures-july-7-14-n783236\n",
      "http://www.nbcnews.com/news/world/despacito-artists-slam-venezuela-s-nicolas-maduro-using-song-sell-n786201\n",
      "http://www.nbcnews.com/feature/making-a-difference\n",
      "http://www.nbcnews.com/news/us-news/jewel-thief-doris-payne-charged-walmart-theft-n784061\n",
      "http://www.nbcnews.com/dateline/video/troubled-waters-part-4-736613443982\n",
      "http://www.nbcnews.com/dateline/video/troubled-waters-part-5-736613955869\n",
      "http://www.nbcnews.com/feature/nbc-out/meet-colombia-s-first-legally-recognized-throuple-n785541\n",
      "The total number of nbcnews articles is  96\n"
     ]
    }
   ],
   "source": [
    "url_nbcnews = website_list[0]\n",
    "df_nbcnews = generate_data(url_nbcnews)"
   ]
  },
  {
   "cell_type": "code",
   "execution_count": 104,
   "metadata": {
    "collapsed": true
   },
   "outputs": [],
   "source": [
    "path = os.path.join('data','indv_file', 'nbcnews.csv')\n",
    "df_nbcnews.to_csv(path)  \n",
    "# test: read data\n",
    "data_nbcnews = pd.read_csv(path)"
   ]
  },
  {
   "cell_type": "code",
   "execution_count": 12,
   "metadata": {
    "collapsed": false
   },
   "outputs": [
    {
     "data": {
      "text/html": [
       "<div>\n",
       "<table border=\"1\" class=\"dataframe\">\n",
       "  <thead>\n",
       "    <tr style=\"text-align: right;\">\n",
       "      <th></th>\n",
       "      <th>url</th>\n",
       "      <th>source</th>\n",
       "      <th>title</th>\n",
       "      <th>author</th>\n",
       "      <th>text</th>\n",
       "    </tr>\n",
       "  </thead>\n",
       "  <tbody>\n",
       "    <tr>\n",
       "      <th>91</th>\n",
       "      <td>http://www.nbcnews.com/feature/making-a-differ...</td>\n",
       "      <td>nbcnews</td>\n",
       "      <td>Making a Difference</td>\n",
       "      <td>[]</td>\n",
       "      <td>\"It makes my heart feel good to do it, and hel...</td>\n",
       "    </tr>\n",
       "    <tr>\n",
       "      <th>92</th>\n",
       "      <td>http://www.nbcnews.com/news/us-news/jewel-thie...</td>\n",
       "      <td>nbcnews</td>\n",
       "      <td>Jewel Thief Doris Payne Charged With Walmart T...</td>\n",
       "      <td>['Tracy Connor']</td>\n",
       "      <td>Doris Payne, the notorious 86-year-old jewel t...</td>\n",
       "    </tr>\n",
       "    <tr>\n",
       "      <th>93</th>\n",
       "      <td>http://www.nbcnews.com/dateline/video/troubled...</td>\n",
       "      <td>nbcnews</td>\n",
       "      <td>Troubled Waters Part 4</td>\n",
       "      <td>[]</td>\n",
       "      <td>Troubled Waters Part 4\\n\\nA California couple’...</td>\n",
       "    </tr>\n",
       "    <tr>\n",
       "      <th>94</th>\n",
       "      <td>http://www.nbcnews.com/dateline/video/troubled...</td>\n",
       "      <td>nbcnews</td>\n",
       "      <td>Troubled Waters Part 5</td>\n",
       "      <td>[]</td>\n",
       "      <td>Troubled Waters Part 5\\n\\nA California couple’...</td>\n",
       "    </tr>\n",
       "    <tr>\n",
       "      <th>95</th>\n",
       "      <td>http://www.nbcnews.com/feature/nbc-out/meet-co...</td>\n",
       "      <td>nbcnews</td>\n",
       "      <td>Meet Colombia’s First Legally Recognized ‘Thro...</td>\n",
       "      <td>[\"Dimitri O'Donnell\"]</td>\n",
       "      <td>Tucked away in a quiet corner of a community i...</td>\n",
       "    </tr>\n",
       "  </tbody>\n",
       "</table>\n",
       "</div>"
      ],
      "text/plain": [
       "                                                  url   source  \\\n",
       "91  http://www.nbcnews.com/feature/making-a-differ...  nbcnews   \n",
       "92  http://www.nbcnews.com/news/us-news/jewel-thie...  nbcnews   \n",
       "93  http://www.nbcnews.com/dateline/video/troubled...  nbcnews   \n",
       "94  http://www.nbcnews.com/dateline/video/troubled...  nbcnews   \n",
       "95  http://www.nbcnews.com/feature/nbc-out/meet-co...  nbcnews   \n",
       "\n",
       "                                                title                 author  \\\n",
       "91                                Making a Difference                     []   \n",
       "92  Jewel Thief Doris Payne Charged With Walmart T...       ['Tracy Connor']   \n",
       "93                             Troubled Waters Part 4                     []   \n",
       "94                             Troubled Waters Part 5                     []   \n",
       "95  Meet Colombia’s First Legally Recognized ‘Thro...  [\"Dimitri O'Donnell\"]   \n",
       "\n",
       "                                                 text  \n",
       "91  \"It makes my heart feel good to do it, and hel...  \n",
       "92  Doris Payne, the notorious 86-year-old jewel t...  \n",
       "93  Troubled Waters Part 4\\n\\nA California couple’...  \n",
       "94  Troubled Waters Part 5\\n\\nA California couple’...  \n",
       "95  Tucked away in a quiet corner of a community i...  "
      ]
     },
     "execution_count": 12,
     "metadata": {},
     "output_type": "execute_result"
    }
   ],
   "source": [
    "data_nbcnews.tail()"
   ]
  },
  {
   "cell_type": "code",
   "execution_count": null,
   "metadata": {
    "collapsed": false
   },
   "outputs": [],
   "source": [
    "data_nbcnews[data_nbcnews['url'] == 'http://www.nbcnews.com/dateline/video/on-assignment-chief-rehab-705280579921']"
   ]
  },
  {
   "cell_type": "code",
   "execution_count": null,
   "metadata": {
    "collapsed": false
   },
   "outputs": [],
   "source": [
    "data_nbcnews.text[60]"
   ]
  },
  {
   "cell_type": "code",
   "execution_count": null,
   "metadata": {
    "collapsed": false
   },
   "outputs": [],
   "source": [
    "articles_list = newspaper.build(url_nbcnews, memoize_articles=False)\n",
    "\n",
    "for category in articles_list.category_urls(): \n",
    "    print(category)"
   ]
  },
  {
   "cell_type": "code",
   "execution_count": null,
   "metadata": {
    "collapsed": false
   },
   "outputs": [],
   "source": [
    "url = 'http://www.nbcnews.com/news/us-news'\n",
    "articles_list = newspaper.build(url,memoize_articles=False)\n",
    "for i in range(0,100):  \n",
    "    print(articles_list.articles[i].url)"
   ]
  },
  {
   "cell_type": "markdown",
   "metadata": {},
   "source": [
    "## 2. msnbc news"
   ]
  },
  {
   "cell_type": "code",
   "execution_count": 13,
   "metadata": {
    "collapsed": false
   },
   "outputs": [
    {
     "name": "stdout",
     "output_type": "stream",
     "text": [
      "http://www.msnbc.com/\n",
      "http://www.msnbc.com/morning-joe/watch/kushner-was-very-forthcoming-says-house-intel-member-1010139715764\n",
      "http://www.msnbc.com/rachel-maddow-show/trump-takes-aim-support-historically-black-colleges\n",
      "http://www.msnbc.com/rachel-maddow-show/devos-picking-schools-should-be-picking-uber-lyft-or-taxis\n",
      "http://www.msnbc.com/morning-joe/watch/i-have-a-desire-to-compromise-on-health-bill-senator-1009930307518\n",
      "http://www.msnbc.com/msnbc-news/watch/senate-rejects-obamacare-repeal-only-bill-1010519619712\n",
      "http://www.msnbc.com/all-in/watch/watch-president-obama-own-anthony-scaramucci-1006059075579\n",
      "http://www.msnbc.com/the-last-word/watch/franken-trump-firing-sessions-would-be-a-constitutional-crisis-1009189955929\n",
      "http://www.msnbc.com/am-joy/watch/report-r-kelly-accused-of-allegedly-holding-women-against-their-will-1006554691856\n",
      "http://www.msnbc.com/morning-joe/watch/climate-expert-says-he-was-demoted-after-speaking-out-1007517251553\n",
      "http://www.msnbc.com/rachel-maddow-show/why-its-unwise-trump-target-alaskas-lisa-murkowski\n",
      "http://www.msnbc.com/rachel-maddow-show/betsy-devos-struggles-defend-taxpayer-subsidized-discrimination\n",
      "http://www.msnbc.com/hardball/watch/matthews-sessions-seems-on-his-way-out-1008905795896\n",
      "http://www.msnbc.com/rachel-maddow-show/cantor-comes-clean-admits-he-didnt-believe-his-own-aca-rhetoric\n",
      "http://msnbc.tumblr.com/post/148792213949/obama-drops-his-2016-summer-playlist#notes\n",
      "http://www.msnbc.com/morning-joe/watch/what-trump-risks-if-he-fires-sessions-1009815107650\n",
      "http://www.msnbc.com/for-the-record-with-greta/watch/shocking-video-shows-arrest-of-10-year-old-with-autism-925810755766\n",
      "http://msnbc.tumblr.com/post/149045580295/aerial-video-shows-the-true-devastation-of#notes\n",
      "http://www.msnbc.com/morning-joe/watch/scott-pruitt-paris-put-us-at-an-economic-disadvantage-961091139518\n",
      "http://www.msnbc.com/msnbc-news/watch/first-openly-trans-soldier-reacts-to-trump-s-ban-1010353731616\n",
      "http://www.msnbc.com/rachel-maddow-show/automatic-voter-registration-expands-its-ninth-state\n",
      "http://www.msnbc.com/morning-joe/watch/durbin-jeff-sessions-stuck-his-neck-out-for-trump-1009985091632\n",
      "http://www.msnbc.com/mtp-daily/watch/russia-sanctions-bill-likely-to-be-signed-chairman-royce-says-1010619971737\n",
      "http://www.msnbc.com/velshi-ruhle/watch/farms-hit-by-migrant-labor-crunch-1005729859925\n",
      "http://www.msnbc.com/msnbc-news/watch/sessions-takes-strong-stance-on-sanctuary-cities-1010164803904\n",
      "http://www.msnbc.com/the-last-word/watch/factions-within-trump-admin-use-intel-as-a-political-weapon-1006134339916\n",
      "http://www.msnbc.com/brian-williams/watch/sen-warren-launches-effort-to-track-trump-s-education-dept-958419523951\n",
      "https://msnbc.tumblr.com/video_file/t:MXUrl8cS9tCI4F-lfYqspQ/147361206629/tumblr_oa9sarkhbw1qc52lx/480\n",
      "http://www.msnbc.com/your-business/watch/pillow-talk-letting-go-to-help-a-company-grow-1005600835614\n",
      "http://www.msnbc.com/your-business/watch/attracting-local-customers-through-seo-1005598787616\n",
      "http://msnbc.tumblr.com/post/148981646309/clinton-surges-past-270-electoral-votes-in-new\n",
      "http://www.msnbc.com/rachel-maddow/watch/trump-lawyer-spokesman-sekulow-underperforming-on-tv-1002226243738\n",
      "http://www.msnbc.com/msnbc-news/watch/tech-program-help-students-gain-skills-to-compete-for-future-jobs-959562307944\n",
      "http://www.msnbc.com/rachel-maddow-show/republican-health-plan-undermines-special-education-too\n",
      "http://www.msnbc.com/rachel-maddow/watch/warren-it-s-up-to-us-to-say-no-deal-on-gop-health-tax-plan-1009136195884\n",
      "http://msnbc.tumblr.com/post/149127174569/haunting-photo-of-wounded-boy-captures-horror-in#notes\n",
      "http://www.msnbc.com/for-the-record-with-greta/watch/students-face-lunch-shaming-over-unpaid-meals-934070851955\n",
      "http://www.msnbc.com/morning-joe/watch/have-epa-pruitt-and-trump-discussed-climate-change-961099331765\n",
      "http://www.msnbc.com/morning-joe/watch/senator-predicts-widespread-opposition-if-ag-fired-1009828931923\n",
      "http://www.msnbc.com/morning-joe/watch/inside-obama-wh-plan-to-thwart-putin-s-election-plot-1004270659616\n",
      "http://msnbc.tumblr.com/post/148693173369/they-were-forced-to-flee-their-homes-now-theyre\n",
      "http://msnbc.tumblr.com/post/150030257059/tune-in-to-the-first-joint-candidate-event-of-the\n",
      "http://www.msnbc.com/morning-joe/watch/fmr-dallas-police-chief-on-being-called-to-rise-992631875786\n",
      "http://www.msnbc.com/brian-williams/watch/sessions-inner-circle-on-trump-pressure-he-s-not-going-to-quit-1009349187590\n",
      "http://www.msnbc.com/the-last-word/watch/maddow-and-lawrence-on-health-care-sessions-emmy-nominations-1009196099907\n",
      "http://www.msnbc.com/rachel-maddow-show/its-not-enough-john-mccain-say-the-right-things\n",
      "http://www.msnbc.com/morning-joe/watch/dems-make-not-terribly-bold-step-into-2018-1008333891868\n",
      "http://www.msnbc.com/mtp-daily/watch/gop-sen-doing-nothing-on-health-care-is-admitting-defeat-1010574915887\n",
      "http://www.msnbc.com/msnbc-news/watch/trump-blocks-transgender-people-from-serving-in-military-1010107971541\n",
      "http://www.msnbc.com/brian-williams/watch/mccain-gives-mcconnell-his-health-care-vote-calls-for-civility-1009334339962\n",
      "http://msnbc.tumblr.com/post/148067133784/dont-miss-a-special-dnc-edition-of-snls-weekend#notes\n",
      "http://www.msnbc.com/rachel-maddow-show/trump-raises-corruption-allegations-against-fbis-mccabe\n",
      "http://www.msnbc.com/morning-joe/watch/media-reinforces-certain-gender-stereotypes-report-982298691675\n",
      "http://www.msnbc.com/deadline-white-house/watch/-it-s-not-a-policy-it-s-a-tweet-1010673731571\n",
      "http://www.msnbc.com/rachel-maddow/watch/sen-wyden-on-what-jared-kushner-didn-t-say-to-senators-on-russia-1008116291624\n",
      "http://msnbc.tumblr.com/post/148067133784/dont-miss-a-special-dnc-edition-of-snls-weekend\n",
      "http://www.msnbc.com/morning-joe/watch/can-gop-stop-trump-from-firing-mueller-1010121283678\n",
      "http://www.msnbc.com/the-beat-with-ari-melber/watch/durbin-vows-to-block-possible-recess-appointment-to-replace-sessions-1008861251580\n",
      "http://www.msnbc.com/rachel-maddow-show/perry-sees-climate-denial-evidence-being-intellectually-engaged\n",
      "http://msnbc.tumblr.com/post/149793580549/rudy-giuliani-sports-make-mexico-great-again\n",
      "http://www.msnbc.com/rachel-maddow-show/the-intellectual-debate-rick-perry-says-he-wants-already-over\n",
      "http://www.msnbc.com/brian-williams/watch/watergate-prosecutor-trump-has-no-regard-for-the-rule-of-law-1009292867737\n",
      "http://www.msnbc.com/rachel-maddow-show/trump-campaigns-pittsburgh-not-paris-rally-draws-dozens\n",
      "http://www.msnbc.com/msnbc-news/watch/trump-announces-thousands-of-new-manufacturing-jobs-headed-to-u-s-1010609731907\n",
      "http://www.msnbc.com/all-in/watch/chris-hayes-pushes-gop-senator-on-health-care-vote-1008951875570\n",
      "http://www.msnbc.com/deadline-white-house/watch/-even-trump-has-to-abide-by-the-laws-of-conservative-media-land-1010668611750\n",
      "http://msnbc.tumblr.com/post/148981646309/clinton-surges-past-270-electoral-votes-in-new#notes\n",
      "http://www.msnbc.com/the-last-word/watch/intercepted-intel-sessions-discussed-trump-campaign-with-russian-1006111811537\n",
      "http://www.msnbc.com/your-business/watch/why-your-business-should-create-content-1005599811606\n",
      "http://www.msnbc.com/morning-joe/watch/joe-and-willie-press-pruitt-on-climate-change-961125443884\n",
      "http://www.msnbc.com/rachel-maddow/watch/democrats-fight-for-time-and-transparency-on-gop-health-tax-bill-1009116739583\n",
      "http://www.msnbc.com/morning-joe/watch/dems-are-in-period-of-transition-says-congressman-1009838659963\n",
      "http://msnbc.tumblr.com/post/148792213949/obama-drops-his-2016-summer-playlist\n",
      "http://msnbc.tumblr.com/post/150358631304/but-first-you-might-want-to-rethink-that-selfie#notes\n",
      "http://msnbc.tumblr.com/post/148693173369/they-were-forced-to-flee-their-homes-now-theyre#notes\n",
      "http://www.msnbc.com/morning-joe/watch/removing-mueller-very-damaging-senator-king-1009880643801\n",
      "http://www.msnbc.com/your-business/watch/jon-taffer-with-ways-to-improve-sluggish-sales-1005603395554\n",
      "http://www.msnbc.com/rachel-maddow-show/strike-two-senate-republicans-fail-again-aca-repeal-vote\n",
      "http://msnbc.tumblr.com/post/149127174569/haunting-photo-of-wounded-boy-captures-horror-in\n",
      "http://msnbc.tumblr.com/post/149045580295/aerial-video-shows-the-true-devastation-of\n",
      "http://www.msnbc.com/am-joy/watch/game-of-thrones-season-7-geek-out-with-joy-reid-and-friends-1001132099717\n",
      "http://www.msnbc.com/all-in/watch/sen-reed-on-hot-mic-i-think-trump-is-crazy-1008974915862\n",
      "http://www.msnbc.com/rachel-maddow-show/trump-bans-transgender-americans-military-service\n",
      "http://www.msnbc.com/morning-joe/watch/joe-trump-needs-to-stop-watching-our-show-1008294467896\n",
      "http://www.msnbc.com/your-business/watch/s-well-is-disrupting-water-bottles-everywhere-1005599299528\n",
      "http://www.msnbc.com/rachel-maddow/watch/new-facts-uncovered-about-trump-fbi-pick-confirmation-vote-looms-1008108099951\n",
      "http://msnbc.tumblr.com/post/150030257059/tune-in-to-the-first-joint-candidate-event-of-the#notes\n",
      "http://www.msnbc.com/the-last-word/watch/lawrence-what-mccain-s-health-care-vote-really-means-1009183299750?cid=sm_npd_ms_fb_ma\n",
      "http://www.msnbc.com/msnbc-news/watch/trump-goes-after-gop-senators-who-voted-against-health-bill-1010389059876\n",
      "http://www.msnbc.com/brian-williams/watch/report-russian-mob-money-helped-build-trump-business-empire-1002228291948\n",
      "http://www.msnbc.com/rachel-maddow-show/the-more-trump-pushes-vouchers-the-more-evidence-pushes-back\n",
      "http://www.msnbc.com/morning-joe/watch/tory-burch-on-the-embrace-ambition-campaign-991272515629\n",
      "http://msnbc.tumblr.com/post/149793580549/rudy-giuliani-sports-make-mexico-great-again#notes\n",
      "http://www.msnbc.com/all-in/watch/6-months-in-trump-no-longer-thinks-governing-is-so-easy-1005080643671\n",
      "http://www.msnbc.com/deadline-white-house/watch/senate-rejects-obamacare-repeal-only-plan-1010673731665\n",
      "http://www.msnbc.com/brian-williams/watch/watergate-prosecutor-everything-trump-does-cries-out-guilt-1009325635815\n",
      "http://www.msnbc.com/the-beat-with-ari-melber/watch/schiff-it-is-constitutional-to-indict-a-sitting-president-1008851523709\n",
      "http://msnbc.tumblr.com/post/148790390931/trump-calls-obama-the-founder-of-isis-donald\n",
      "http://www.msnbc.com/msnbc-news/watch/mccain-rips-trump-for-tweeting-ban-on-transgender-people-in-military-1010401347572\n",
      "http://www.msnbc.com/rachel-maddow-show/repeal-and-replace-plans-defeat-spells-trouble-republicans\n",
      "http://www.msnbc.com/rachel-maddow-show/trump-announcement-transgender-troops-surprises-pentagon\n",
      "The total number of msnbc articles is  100\n"
     ]
    }
   ],
   "source": [
    "url_msnbc = website_list[1]\n",
    "df_msnbc = generate_data(url_msnbc)"
   ]
  },
  {
   "cell_type": "code",
   "execution_count": 105,
   "metadata": {
    "collapsed": true
   },
   "outputs": [],
   "source": [
    "path = os.path.join('data', 'indv_file','msnbc.csv')\n",
    "df_msnbc.to_csv(path)  \n",
    "# test: read data\n",
    "data_msnbc = pd.read_csv(path)"
   ]
  },
  {
   "cell_type": "code",
   "execution_count": 15,
   "metadata": {
    "collapsed": false
   },
   "outputs": [
    {
     "data": {
      "text/html": [
       "<div>\n",
       "<table border=\"1\" class=\"dataframe\">\n",
       "  <thead>\n",
       "    <tr style=\"text-align: right;\">\n",
       "      <th></th>\n",
       "      <th>url</th>\n",
       "      <th>source</th>\n",
       "      <th>title</th>\n",
       "      <th>author</th>\n",
       "      <th>text</th>\n",
       "    </tr>\n",
       "  </thead>\n",
       "  <tbody>\n",
       "    <tr>\n",
       "      <th>95</th>\n",
       "      <td>http://www.msnbc.com/the-beat-with-ari-melber/...</td>\n",
       "      <td>msnbc</td>\n",
       "      <td>Schiff: It Is Constitutional to Indict a Sitti...</td>\n",
       "      <td>['The Beat With Ari Melber', 'The Hour With Br...</td>\n",
       "      <td>Rep. Adam Schiff (D-CA) joins Ari Melber to di...</td>\n",
       "    </tr>\n",
       "    <tr>\n",
       "      <th>96</th>\n",
       "      <td>http://msnbc.tumblr.com/post/148790390931/trum...</td>\n",
       "      <td>msnbc</td>\n",
       "      <td>MSNBC</td>\n",
       "      <td>[]</td>\n",
       "      <td>Donald Trump on Wednesday night appeared to bl...</td>\n",
       "    </tr>\n",
       "    <tr>\n",
       "      <th>97</th>\n",
       "      <td>http://www.msnbc.com/msnbc-news/watch/mccain-r...</td>\n",
       "      <td>msnbc</td>\n",
       "      <td>McCain Rips Trump for Tweeting Ban on Transgen...</td>\n",
       "      <td>['Andrea Mitchell Reports', 'Msnbc Live', 'Mor...</td>\n",
       "      <td>Sen. John McCain says the president's tweet is...</td>\n",
       "    </tr>\n",
       "    <tr>\n",
       "      <th>98</th>\n",
       "      <td>http://www.msnbc.com/rachel-maddow-show/repeal...</td>\n",
       "      <td>msnbc</td>\n",
       "      <td>‘Repeal and replace’ plan’s defeat spells trou...</td>\n",
       "      <td>[]</td>\n",
       "      <td>Yesterday’s developments on the Senate floor o...</td>\n",
       "    </tr>\n",
       "    <tr>\n",
       "      <th>99</th>\n",
       "      <td>http://www.msnbc.com/rachel-maddow-show/trump-...</td>\n",
       "      <td>msnbc</td>\n",
       "      <td>Trump announcement on transgender troops surpr...</td>\n",
       "      <td>[]</td>\n",
       "      <td>Ordinarily, when pundits talk about the White ...</td>\n",
       "    </tr>\n",
       "  </tbody>\n",
       "</table>\n",
       "</div>"
      ],
      "text/plain": [
       "                                                  url source  \\\n",
       "95  http://www.msnbc.com/the-beat-with-ari-melber/...  msnbc   \n",
       "96  http://msnbc.tumblr.com/post/148790390931/trum...  msnbc   \n",
       "97  http://www.msnbc.com/msnbc-news/watch/mccain-r...  msnbc   \n",
       "98  http://www.msnbc.com/rachel-maddow-show/repeal...  msnbc   \n",
       "99  http://www.msnbc.com/rachel-maddow-show/trump-...  msnbc   \n",
       "\n",
       "                                                title  \\\n",
       "95  Schiff: It Is Constitutional to Indict a Sitti...   \n",
       "96                                              MSNBC   \n",
       "97  McCain Rips Trump for Tweeting Ban on Transgen...   \n",
       "98  ‘Repeal and replace’ plan’s defeat spells trou...   \n",
       "99  Trump announcement on transgender troops surpr...   \n",
       "\n",
       "                                               author  \\\n",
       "95  ['The Beat With Ari Melber', 'The Hour With Br...   \n",
       "96                                                 []   \n",
       "97  ['Andrea Mitchell Reports', 'Msnbc Live', 'Mor...   \n",
       "98                                                 []   \n",
       "99                                                 []   \n",
       "\n",
       "                                                 text  \n",
       "95  Rep. Adam Schiff (D-CA) joins Ari Melber to di...  \n",
       "96  Donald Trump on Wednesday night appeared to bl...  \n",
       "97  Sen. John McCain says the president's tweet is...  \n",
       "98  Yesterday’s developments on the Senate floor o...  \n",
       "99  Ordinarily, when pundits talk about the White ...  "
      ]
     },
     "execution_count": 15,
     "metadata": {},
     "output_type": "execute_result"
    }
   ],
   "source": [
    "data_msnbc.tail()"
   ]
  },
  {
   "cell_type": "markdown",
   "metadata": {},
   "source": [
    "## 3. cbsnews"
   ]
  },
  {
   "cell_type": "code",
   "execution_count": 86,
   "metadata": {
    "collapsed": false,
    "scrolled": true
   },
   "outputs": [
    {
     "name": "stdout",
     "output_type": "stream",
     "text": [
      "http://www.cbsnews.com/\n",
      "http://www.cbsnews.com/news/refrigeration-not-essential-for-all-perishable-foods/\n",
      "http://www.cbsnews.com/news/new-jersey-police-grant-wish-of-9-year-old-boy-with-rare-disease/\n",
      "http://www.cbsnews.com/news/poll-americans-say-u-s-political-debate-is-increasingly-uncivil/\n",
      "http://www.cbsnews.com/news/abbey-conner-mexico-tainted-liquor-tourist-dies/\n",
      "http://www.cbsnews.com/news/cell-phone-spam-and-scam-calls-are-spreading/\n",
      "http://www.cbsnews.com/news/hawaii-north-korea-missile-attack-ibm-preparedness-plan/\n",
      "http://www.cbsnews.com/news/report-brain-training-games-cognitive-benefits-claims/\n",
      "http://www.cbsnews.com/news/top-alzheimers-researcher-on-how-you-can-help-protect-you-brain/\n",
      "http://www.cbsnews.com/news/charlie-gard-parents-urged-make-end-of-life-plan-great-ormond-street-hospital/\n",
      "http://www.cbsnews.com/videos/anthony-scaramucci-says-the-white-house-is-as-strong-as-our-weakest-leak/\n",
      "http://www.cbsnews.com/news/lorde-returns-to-the-crazy-environment-melodrama/\n",
      "http://www.cbsnews.com/news/birkenstocks-ceo-slams-amazon-third-party-sales/\n",
      "http://www.cbsnews.com/news/okja-trailer-netflix-cannes/\n",
      "http://www.cbsnews.com/videos/rare-bookstore-still-thriving-in-new-york-city/\n",
      "http://www.cbsnews.com/news/sheriff-details-possible-motive-in-1983-cold-case-as-tip-points-to-new-suspects/\n",
      "http://www.cbsnews.com/videos/sneak-peek-the-strange-life-of-dr-schwartz\n",
      "http://www.cbsnews.com/news/ios-11-new-iphone-features/\n",
      "http://www.cbsnews.com/news/total-solar-eclipse-august-21-2017/\n",
      "http://www.cbsnews.com/videos/all-of-my-actions-were-proper-jared-kushner-tells-senate\n",
      "http://www.cbsnews.com/videos/scaramucci-calls-for-federal-investigation-into-white-house-leaks\n",
      "http://www.cbsnews.com/news/worlds-richest-person-jeff-bezos-takes-title/\n",
      "http://www.cbsnews.com/videos/fbi-investigating-death-aboard-a-princess-cruise-ship\n",
      "http://www.cbsnews.com/videos/trump-leaves-open-possibility-of-firing-attorney-general-jeff-sessions\n",
      "http://www.cbsnews.com/news/cancer-clusters-the-hunt-for-a-killer/\n",
      "http://www.cbsnews.com/pictures/pictures-from-inside-a-nazi-controlled-ghetto/\n",
      "http://www.cbsnews.com/videos/after-moms-death-family-raises-money-to-help-nurses-aide-fulfill-her-dream\n",
      "http://www.cbsnews.com/news/video-starbucks-customer-fight-armed-robbery-ryan-michael-flores-fresno-california/\n",
      "http://www.cbsnews.com/news/justin-bieber-cancels-remainder-of-world-tour/\n",
      "http://www.cbsnews.com/news/matthew-mcconaughey-and-bryce-dallas-howard-on-why-they-loved-their-characters-in-gold/\n",
      "http://www.cbsnews.com/pictures/1942-the-battle-of-midway/\n",
      "http://www.cbsnews.com/videos/seeking-sanctuary-in-the-face-of-deportation\n",
      "http://www.cbsnews.com/news/samsung-is-about-to-dethrone-intel-as-king-of-microchips/\n",
      "http://www.cbsnews.com/news/incrementan-refugiados-en-mexico-por-crisis-venezolana/\n",
      "http://www.cbsnews.com/news/troops-veterans-react-to-trumps-transgender-ban-in-military/\n",
      "http://www.cbsnews.com/news/they-kept-us-as-slaves-ap-report-reveals-claims-against-church/\n",
      "http://www.cbsnews.com/news/corey-berry-clown-mask-machete-hollis-maine-police/\n",
      "http://www.cbsnews.com/pictures/2017-billboard-music-awards-red-carpet/\n",
      "http://www.cbsnews.com/news/larsen-c-ice-shelf-iceberg-breaking-up-nasa-infrared-satellite-image/\n",
      "http://www.cbsnews.com/news/comic-con-highlights-wonder-woman-stranger-things-black-panther/\n",
      "http://www.cbsnews.com/videos/ohio-state-fair-ride-that-killed-1-injured-7-passed-inspection\n",
      "http://www.cbsnews.com/news/financial-game-changers-budgeting-pregnancy-or-a-job-loss/\n",
      "http://www.cbsnews.com/news/report-iran-successfully-launches-satellite-carrying-into-space/\n",
      "http://www.cbsnews.com/news/princess-cruises-fbi-investigates-death-domestic-dispute-cruise-ship/\n",
      "http://www.cbsnews.com/news/why-bob-mcdonnell-talked/?ftag=CNM-00-10aab0g\n",
      "http://www.cbsnews.com/news/my-favorite-60-minutes-story/?ftag=CNM-00-10aab0g\n",
      "http://www.cbsnews.com/pictures/2017-cfda-awards-red-carpet/\n",
      "http://www.cbsnews.com/pictures/inside-todd-kohlhepps-south-carolina-storage-container-used-to-torture-kala-brown/\n",
      "http://www.cbsnews.com/news/report-interior-secretary-called-alaskas-senators-to-threaten-them-over-health-care-vote/\n",
      "http://www.cbsnews.com/pictures/cassini-captures-saturn-and-its-moons/\n",
      "http://www.cbsnews.com/news/crispr-scientists-edit-genes-of-human-embryos/\n",
      "http://www.cbsnews.com/videos/why-do-you-have-cellphone-separation-anxiety/?ftag=CNM-00-10aab0g\n",
      "http://www.cbsnews.com/news/ex-governor-bob-mcdonnell-on-scotus-overturning-his-conviction-2/\n",
      "http://www.cbsnews.com/news/wonder-woman-announces-sequel-becomes-top-earning-movie-at-summer-box-office/\n",
      "http://www.cbsnews.com/news/is-the-gops-health-care-plan-still-doomed/\n",
      "http://www.cbsnews.com/videos/eye-opener-deadly-accident-at-a-state-fair-in-ohio\n",
      "http://www.cbsnews.com/news/martin-shkreli-case-pharma-bro-lied-to-investors-prosecutor-says/\n",
      "http://www.cbsnews.com/videos/birkenstock-takes-on-amazon-over-third-party-sales/\n",
      "http://www.cbsnews.com/news/verizon-best-wireless-network-outperforms-att-tmobile-sprint-rootmetrics-report/\n",
      "http://www.cbsnews.com/videos/is-the-u-s-ready-for-self-driving-cars/\n",
      "http://www.cbsnews.com/news/thor-ragnarok-trailer-cate-blanchett-hulk/\n",
      "http://www.cbsnews.com/news/why-twitter-wont-ban-president-donald-trump/\n",
      "http://www.cbsnews.com/news/ulysha-renee-hall-first-female-chief-dallas-police-department/\n",
      "http://www.cbsnews.com/feature/general-motors-recall/\n",
      "http://www.cbsnews.com/news/raw-chicken-should-you-wash-it/\n",
      "http://www.cbsnews.com/videos/pulitzer-winning-photographer-carol-guzy-shows-hope-in-darkness/\n",
      "http://www.cbsnews.com/news/christian-siriano-perfect-fit/\n",
      "http://www.cbsnews.com/news/astrazeneca-cancer-drug-letdown-slams-stock-price/\n",
      "http://www.cbsnews.com/news/justin-bieber-hits-man-with-pickup-truck/\n",
      "http://www.cbsnews.com/news/britains-prince-william-quits-his-job-in-the-east-anglian-air-ambulance-service/\n",
      "http://www.cbsnews.com/news/texas-is-leading-the-way-in-renewable-energy/\n",
      "http://www.cbsnews.com/news/arconic-we-dont-control-how-flammable-panels-are-used/\n",
      "http://www.cbsnews.com/news/clashes-erupt-at-sacred-site-in-jerusalem-old-city/\n",
      "http://www.cbsnews.com/news/jumanji-welcome-to-the-jungle-trailer-debuts/\n",
      "http://www.cbsnews.com/news/grenfell-tower-fire-british-police-weigh-corporate-manslaughter-charges/\n",
      "http://www.cbsnews.com/news/my-favorite-60-minutes-story/\n",
      "http://www.cbsnews.com/news/trump-transgender-ban-service-members-costs/\n",
      "http://www.cbsnews.com/news/julio-jones-pricey-earring-lost-murkey-waters-lake-lanier-georgia/\n",
      "http://www.cbsnews.com/videos/state-dept-issues-warning-about-tainted-alcohol-in-mexico\n",
      "http://www.cbsnews.com/news/sunscreen-study-shows-people-apply-it-wrong/\n",
      "http://www.cbsnews.com/news/cbs-news-associates-program/\n",
      "http://www.cbsnews.com/news/fashion-designer-tommy-hilfiger-on-building-lasting-brand-memoir-family/\n",
      "http://www.cbsnews.com/news/larry-david-says-hes-related-to-bernie-sanders/\n",
      "http://www.cbsnews.com/news/michael-kors-still-on-the-cutting-edge/\n",
      "http://www.cbsnews.com/news/debt-ceiling-will-be-hit-in-october-cbo-estimates/\n",
      "http://www.cbsnews.com/news/cbs-launches-cbsn-on-assignment/\n",
      "http://www.cbsnews.com/news/amid-white-house-tensions-briefing-focuses-on-ms-13-gang-work/\n",
      "http://www.cbsnews.com/news/trailer-for-it-debuts-see-pennywise/\n",
      "http://www.cbsnews.com/news/dave-chappelle-netflix-comedy-fame-leaving-chappelles-show/\n",
      "http://www.cbsnews.com/news/fashion-designer-sophie-theallet-urges-industry-to-refuse-to-dress-melania-trump-flotus/\n",
      "http://www.cbsnews.com/news/what-happens-to-current-transgender-troops-white-house-cant-say/\n",
      "http://www.cbsnews.com/news/on-the-horizon-scorpion-venom-as-cancer-treatment-tumor-paint/\n",
      "http://www.cbsnews.com/news/kristen-bell-on-why-her-daughters-dont-watch-frozen-holiday-plans/\n",
      "http://www.cbsnews.com/news/new-details-emerge-on-linkin-park-frontman-chester-benningtons-suicide/\n",
      "http://www.cbsnews.com/pictures/the-very-american-art-of-steve-penley/\n",
      "http://www.cbsnews.com/news/michael-jackson-estate-owes-quincy-jones-royalties-fees-thriller-billie-jean/\n",
      "http://www.cbsnews.com/feature/va-hospitals-scandal/\n",
      "https://secure-fly.cbsnews.com/news/cbs-news-associates-program/\n",
      "http://www.cbsnews.com/news/what-an-artificial-intelligence-researcher-fears-about-ai/\n",
      "http://www.cbsnews.com/pictures/adam-west-1928-2017/\n",
      "http://www.cbsnews.com/news/elon-musk-mark-zuckerberg-clash-artificial-intelligence-robert-safian-fast-company/\n",
      "The total number of cbsnews articles is  100\n"
     ]
    }
   ],
   "source": [
    "url_cbsnews = website_list[2]\n",
    "df_cbsnews = generate_data(url_cbsnews)"
   ]
  },
  {
   "cell_type": "code",
   "execution_count": 87,
   "metadata": {
    "collapsed": false
   },
   "outputs": [
    {
     "data": {
      "text/plain": [
       "(100, 4)"
      ]
     },
     "execution_count": 87,
     "metadata": {},
     "output_type": "execute_result"
    }
   ],
   "source": [
    "df_cbsnews.shape"
   ]
  },
  {
   "cell_type": "code",
   "execution_count": 106,
   "metadata": {
    "collapsed": true
   },
   "outputs": [],
   "source": [
    "path = os.path.join('data','indv_file', 'cbsnews.csv')\n",
    "df_cbsnews.to_csv(path)  \n",
    "# test: read data\n",
    "data_cbsnews = pd.read_csv(path)"
   ]
  },
  {
   "cell_type": "code",
   "execution_count": 18,
   "metadata": {
    "collapsed": false
   },
   "outputs": [
    {
     "data": {
      "text/html": [
       "<div>\n",
       "<table border=\"1\" class=\"dataframe\">\n",
       "  <thead>\n",
       "    <tr style=\"text-align: right;\">\n",
       "      <th></th>\n",
       "      <th>url</th>\n",
       "      <th>source</th>\n",
       "      <th>title</th>\n",
       "      <th>author</th>\n",
       "      <th>text</th>\n",
       "    </tr>\n",
       "  </thead>\n",
       "  <tbody>\n",
       "    <tr>\n",
       "      <th>95</th>\n",
       "      <td>http://www.cbsnews.com/pictures/adam-west-1928...</td>\n",
       "      <td>cbsnews</td>\n",
       "      <td>Adam West 1928-2017</td>\n",
       "      <td>[]</td>\n",
       "      <td>NaN</td>\n",
       "    </tr>\n",
       "    <tr>\n",
       "      <th>96</th>\n",
       "      <td>http://www.cbsnews.com/news/elon-musk-mark-zuc...</td>\n",
       "      <td>cbsnews</td>\n",
       "      <td>Elon Musk and Mark Zuckerberg clash over risks...</td>\n",
       "      <td>[]</td>\n",
       "      <td>Two tech billionaires are clashing over the fu...</td>\n",
       "    </tr>\n",
       "    <tr>\n",
       "      <th>97</th>\n",
       "      <td>http://www.cbsnews.com/videos/confusion-and-my...</td>\n",
       "      <td>cbsnews</td>\n",
       "      <td>Confusion and mystery shroud health care bill ...</td>\n",
       "      <td>[]</td>\n",
       "      <td>July 25, 2017, 7:03 AM | The Republican vow to...</td>\n",
       "    </tr>\n",
       "    <tr>\n",
       "      <th>98</th>\n",
       "      <td>http://www.cbsnews.com/news/pork-falls-from-sk...</td>\n",
       "      <td>cbsnews</td>\n",
       "      <td>15-pound bag of frozen pork lands on family's ...</td>\n",
       "      <td>[]</td>\n",
       "      <td>FORT LAUDERDALE, Fla. -- Meat falling from the...</td>\n",
       "    </tr>\n",
       "    <tr>\n",
       "      <th>99</th>\n",
       "      <td>http://www.cbsnews.com/news/south-carolina-dom...</td>\n",
       "      <td>cbsnews</td>\n",
       "      <td>South Carolina domestic violence law unfair to...</td>\n",
       "      <td>[]</td>\n",
       "      <td>COLUMBIA, S.C. -- People in same-sex relations...</td>\n",
       "    </tr>\n",
       "  </tbody>\n",
       "</table>\n",
       "</div>"
      ],
      "text/plain": [
       "                                                  url   source  \\\n",
       "95  http://www.cbsnews.com/pictures/adam-west-1928...  cbsnews   \n",
       "96  http://www.cbsnews.com/news/elon-musk-mark-zuc...  cbsnews   \n",
       "97  http://www.cbsnews.com/videos/confusion-and-my...  cbsnews   \n",
       "98  http://www.cbsnews.com/news/pork-falls-from-sk...  cbsnews   \n",
       "99  http://www.cbsnews.com/news/south-carolina-dom...  cbsnews   \n",
       "\n",
       "                                                title author  \\\n",
       "95                                Adam West 1928-2017     []   \n",
       "96  Elon Musk and Mark Zuckerberg clash over risks...     []   \n",
       "97  Confusion and mystery shroud health care bill ...     []   \n",
       "98  15-pound bag of frozen pork lands on family's ...     []   \n",
       "99  South Carolina domestic violence law unfair to...     []   \n",
       "\n",
       "                                                 text  \n",
       "95                                                NaN  \n",
       "96  Two tech billionaires are clashing over the fu...  \n",
       "97  July 25, 2017, 7:03 AM | The Republican vow to...  \n",
       "98  FORT LAUDERDALE, Fla. -- Meat falling from the...  \n",
       "99  COLUMBIA, S.C. -- People in same-sex relations...  "
      ]
     },
     "execution_count": 18,
     "metadata": {},
     "output_type": "execute_result"
    }
   ],
   "source": [
    "data_cbsnews.tail()"
   ]
  },
  {
   "cell_type": "markdown",
   "metadata": {},
   "source": [
    "## 4. abcnews"
   ]
  },
  {
   "cell_type": "code",
   "execution_count": 89,
   "metadata": {
    "collapsed": false
   },
   "outputs": [
    {
     "name": "stdout",
     "output_type": "stream",
     "text": [
      "http://abcnews.go.com/\n",
      "http://abcnews.go.com/Technology/wireStory/oregon-scientists-human-gene-embryo-editing-us-48882536\n",
      "http://liveblog.abcnews.go.com/Event/2014_FIFA_World_Cup_Matchday_11\n",
      "http://abcnews.go.com/Entertainment/wireStory/ben-affleck-matt-damon-producing-showtime-drama-pilot-48888221\n",
      "http://liveblog.abcnews.go.com/Event/New_Hampshire_Senate_Debate_Live_Updates\n",
      "http://abcnews.go.com/Lifestyle/toddler-throws-tantrum-hilarious-pregnancy-announcement/story?id=48884682\n",
      "http://abcnews.go.com/International/wireStory/qatar-hires-firm-founded-trump-aide-amid-crisis-48879363\n",
      "http://abcnews.go.com/US/wireStory/marine-dog-cancer-tear-filled-farewell-48884559\n",
      "http://abcnews.go.com/Entertainment/hbo-president-asks-viewers-reserve-judgment-confederate-whips/story?id=48882113\n",
      "http://abcnews.go.com/US/wireStory/apple-ordered-pay-506-wisconsin-patent-infringement-48886294\n",
      "http://liveblog.abcnews.go.com/Event/Oscars_2015_Academy_Awards_Live_Updates\n",
      "http://liveblog.abcnews.go.com/Event/Sochi_Winter_Olympics_2014_Live_Blog_Day_7\n",
      "http://abcnews.go.com/Politics/boy-scouts-chief-apologizes-trumps-politically-charged-speech/story?id=48891406\n",
      "http://liveblog.abcnews.go.com/Event/2016_Iowa_Caucus_Rolling_Updates\n",
      "http://abcnews.go.com/Entertainment/larry-david-explains-curb-enthusiasm-returning-fall/story?id=48881875\n",
      "http://abcnews.go.com/Entertainment/princess-dianas-brother-lied-princes-william-harry-dianas/story?id=48859634\n",
      "http://liveblog.abcnews.go.com/Event/Microsoft_Windows_10_Event_Live_Updates\n",
      "https://www.disneybaby.com/blog/free-printables-24-darling-baby-shower-invites-more/\n",
      "http://abcnews.go.com/International/wireStory/putin-signs-law-russian-base-syria-48887374\n",
      "http://liveblog.abcnews.go.com/Event/Blizzard_Pummels_Northeastern_US_Live_Updates\n",
      "http://abcnews.go.com/Entertainment/laverne-cox-trans-lives-safety-service-valuable-light/story?id=48861158\n",
      "http://liveblog.abcnews.go.com/Event/Game_of_Thrones_Comic-Con_Liveblog_2\n",
      "http://abcnews.go.com/Politics/trump-advisers-eyeing-priebus-replacements/story?id=48894378\n",
      "http://abcnews.go.com/Entertainment/prince-william-flying-time-overnight-air-ambulance-pilot/story?id=48872152\n",
      "http://liveblog.abcnews.go.com/Event/2014_World_Cup_Live_Blog_Brazil_vs_Croatia\n",
      "https://www.disneybaby.com/blog/10-of-the-most-adorable-touching-baby-quotes/\n",
      "http://liveblog.abcnews.go.com/Event/Midterm_Elections_2014_Live_Updates\n",
      "http://pirates.disney.com/pirates-of-the-caribbean-dead-men-tell-no-tales\n",
      "http://liveblog.abcnews.go.com/Event/Super_Tuesday_2016_Live_Updates_and_Analysis\n",
      "http://liveblog.abcnews.go.com/Event/2014_Emmy_Awards_--_LIVE_UPDATES\n",
      "http://liveblog.abcnews.go.com/Event/Hillary_Clinton_on_Good_Morning_America\n",
      "http://abcnews.go.com/Weird/wireStory/jersey-man-accused-owing-88k-tolls-fees-48884941\n",
      "http://liveblog.abcnews.go.com/Event/2014_FIFA_World_Cup_Live_Updates_Matchday_17\n",
      "http://abcnews.go.com/Sports/wireStory/outcry-grows-virginia-techs-plan-honor-michael-vick-48863193\n",
      "http://abcnews.go.com/US/video/professor-tells-story-mistaken-identity-wrong-person-47993228\n",
      "http://abcnews.go.com/live/video/special-live-3\n",
      "http://abcnews.go.com/International/wireStory/anniversary-war-young-north-koreans-talk-tensions-48882071\n",
      "http://abcnews.go.com/International/starving-animals-rescued-abandoned-zoo-war-torn-aleppo/story?id=48882444\n",
      "http://liveblog.abcnews.go.com/Event/Paris_Terror_Attack_2_Reported_Hostage_Situations\n",
      "http://abcnews.go.com/Entertainment/wireStory/tracy-morgan-relishes-post-crash-chance-man-48892294\n",
      "http://abcnews.go.com/Entertainment/tom-brady-make-make-pats-fans-dream-true/story?id=48882600\n",
      "http://abcnews.go.com/International/american-fighting-isis-syrian-democratic-forces-mission-justice/story?id=48834945\n",
      "http://abcnews.go.com/International/wireStory/report-iran-successfully-launches-satellite-carrying-rocket-48881650\n",
      "http://liveblog.abcnews.go.com/Event/Live_Blog_The_Latest_on_Hurricane_Matthew\n",
      "http://abcnews.go.com/live/video/special-live-7\n",
      "http://abcnews.go.com/Sports/wireStory/pouncey-hernandez-great-spirits-hanging-48886038\n",
      "http://abcnews.go.com/Lifestyle/experts-warn-parents-snapchat-hook-teens-streaks/story?id=48778296\n",
      "https://www.disneybaby.com/blog/cool-baby-names-outside-the-top-1000-baby-names/\n",
      "http://liveblog.abcnews.go.com/Event/Super_Bowl_2015_Live_Blog\n",
      "http://abcnews.go.com/International/judge-sets-deadline-doctors-parents-charlie-gard-agree/story?id=48857905\n",
      "http://abcnews.go.com/Entertainment/music-reviews-lana-del-rey-inch-nails-foster/story?id=48882139\n",
      "http://abcnews.go.com/US/man-killed-wife-aboard-cruise-ship-stop-laughing/story?id=48883288\n",
      "http://abcnews.go.com/International/wireStory/eu-announces-emergency-support-greek-refugee-crisis-48879365\n",
      "http://liveblog.abcnews.go.com/Event/The_Bachelor_Finale_Juan_Pablo_Picks_Between_Nikki_and_Claire\n",
      "http://abcnews.go.com/Entertainment/wireStory/hillary-clinton-calling-book-happened-48880237\n",
      "http://abcnews.go.com/Politics/rep-steve-scalise-discharged-hospital-weeks-shooting/story?id=48861292\n",
      "http://liveblog.abcnews.go.com/Event/2017_Golden_Globe_Awards_LIVE_Updates\n",
      "http://liveblog.abcnews.go.com/Event/Live_Updates_Rosetta_Spacecrafts_Lander_Closes_in_on_Historic_Comet_Touchdown\n",
      "http://liveblog.abcnews.go.com/Event/2016_Republican_Presidential_Debate_Reagan_Library_Edition\n",
      "http://liveblog.abcnews.go.com/Event/2014_World_Cup_Day_6_2\n",
      "http://liveblog.abcnews.go.com/Event/Copy_of_ABC_News_Third_Democratic_Debate\n",
      "http://abcnews.go.com/Weird/wireStory/police-armed-machete-wielding-clown-arrested-48863394\n",
      "http://liveblog.abcnews.go.com/Event/2014_FIFA_World_Cup_Matchday_16\n",
      "http://liveblog.abcnews.go.com/Event/Republican_National_Convention_Live_Updates_and_Analysis\n",
      "http://abcnews.go.com/live/video/special-live-8\n",
      "http://abcnews.go.com/Politics/jeff-sessions-best-week-amid-president-trump-criticism/story?id=48883029\n",
      "http://abcnews.go.com/Politics/analysis-trumps-transgender-military-ban-coming/story?id=48869839\n",
      "http://abcnews.go.com/Politics/rod-rosenstein-deputy-attorney-general-sessions/story?id=48845480\n",
      "http://abcnews.go.com/US/wireStory/flooding-reported-heavy-rains-kansas-city-area-48884683\n",
      "http://abcnews.go.com/Politics/republican-sen-lindsey-graham-warns-holy-hell-pay/story?id=48884992\n",
      "http://abcnews.go.com/Politics/putin-critic-russian-lawyers-trump-tower-meeting-sanctions/story?id=48890079\n",
      "http://abcnews.go.com/live/video/special-live-9\n",
      "http://abcnews.go.com/International/inside-isis-occupied-building-western-suburbs-raqqa-syria/story?id=48757754\n",
      "http://liveblog.abcnews.go.com/Event/Live_Updates_North_Carolina_Senate_Debate\n",
      "http://liveblog.abcnews.go.com/Event/GMA_40_Watch_Dan_Childs_Stay_Awake_for_40_Hours_Straight\n",
      "http://abcnews.go.com/Politics/senate-continues-voting-obamacare-repeal-options/story?id=48860263\n",
      "http://liveblog.abcnews.go.com/Event/LIVE_UPDATES_Dancing_with_the_Stars_Season_18_Premiere\n",
      "http://abcnews.go.com/Entertainment/katy-perry-host-mtv-video-music-awards/story?id=48889809\n",
      "http://abcnews.go.com/Technology/wireStory/secret-garden-filled-rare-species-open-century-48878984\n",
      "http://liveblog.abcnews.go.com/Event/2014_FIFA_World_Cup_Semifinals_4\n",
      "http://liveblog.abcnews.go.com/Event/Live_Updates_Whats_Next_For_Ferguson_After_Grand_Jurys_Decision\n",
      "http://abcnews.go.com/live/video/special-live-5\n",
      "http://abcnews.go.com/US/mothers-death-family-raises-funds-nursing-aide-finish/story?id=48871749\n",
      "http://abcnews.go.com/GMA/video/prince-william-opens-paparazzi-moved-mother-tears-48827524\n",
      "http://liveblog.abcnews.go.com/Event/2016_EMMY_Awards_LIVE_UPDATES\n",
      "http://liveblog.abcnews.go.com/Event/Live_Updates_Super_Bowl_XLIX_Media_Day\n",
      "http://abcnews.go.com/Lifestyle/disabled-veteran-surprised-home-visit-stephen-curry/story?id=48863986\n",
      "http://liveblog.abcnews.go.com/Event/2015_Emmy_Awards_LIVE_Updates\n",
      "http://liveblog.abcnews.go.com/Event/2014_World_Cup_Day_5_3\n",
      "http://liveblog.abcnews.go.com/Event/Live_Updates_Malaysia_Plane_Crashes_Into_Ukraine_2\n",
      "http://abcnews.go.com/Health/angelina-jolies-diagnosis-bells-palsy/story?id=48870459\n",
      "http://liveblog.abcnews.go.com/Event/2014_World_Cup_Day_2\n",
      "http://abcnews.go.com/International/wireStory/uk-police-corporate-manslaughter-tower-fire-48888323\n",
      "http://abcnews.go.com/Lifestyle/angel-mothers-grief-pregnancy-loss/story?id=48887479\n",
      "http://liveblog.abcnews.go.com/Event/SpaceX_Unleashes_a_Dragon_and_Attempts_to_Recycle_a_Rocket_Live_Updates\n",
      "http://abcnews.go.com/Politics/wireStory/trumps-top-middle-east-adviser-removed-position-48887394\n",
      "http://liveblog.abcnews.go.com/Event/Ted_Cruz_on_Good_Morning_America\n",
      "http://abcnews.go.com/Lifestyle/couple-visit-visiting-cracker-barrel-america/story?id=48833962\n",
      "http://abcnews.go.com/Politics/transgender-service-members-speak-trumps-ban/story?id=48883441\n",
      "http://abcnews.go.com/International/wireStory/french-firefighters-dramatic-var-blaze-48879224\n",
      "http://liveblog.abcnews.go.com/Event/2014_FIFA_World_Cup_Semifinals_Live_Blog\n",
      "The total number of go articles is  100\n"
     ]
    }
   ],
   "source": [
    "url_abcnews = website_list[5]\n",
    "df_abcnews = generate_data(url_abcnews)"
   ]
  },
  {
   "cell_type": "code",
   "execution_count": 107,
   "metadata": {
    "collapsed": false
   },
   "outputs": [
    {
     "data": {
      "text/html": [
       "<div>\n",
       "<table border=\"1\" class=\"dataframe\">\n",
       "  <thead>\n",
       "    <tr style=\"text-align: right;\">\n",
       "      <th></th>\n",
       "      <th>url</th>\n",
       "      <th>source</th>\n",
       "      <th>title</th>\n",
       "      <th>author</th>\n",
       "      <th>text</th>\n",
       "    </tr>\n",
       "  </thead>\n",
       "  <tbody>\n",
       "    <tr>\n",
       "      <th>95</th>\n",
       "      <td>http://liveblog.abcnews.go.com/Event/Ted_Cruz_...</td>\n",
       "      <td>go</td>\n",
       "      <td>Ted Cruz on 'Good Morning America'</td>\n",
       "      <td>['Abc News']</td>\n",
       "      <td>Ted Cruz explained the ‘New York values’ attac...</td>\n",
       "    </tr>\n",
       "    <tr>\n",
       "      <th>96</th>\n",
       "      <td>http://abcnews.go.com/Lifestyle/couple-visit-v...</td>\n",
       "      <td>go</td>\n",
       "      <td>Couple one visit away from visiting every Crac...</td>\n",
       "      <td>['Abc News', 'More Katie']</td>\n",
       "      <td>Ray and Wilma Yoder of Goshen, Indiana, are on...</td>\n",
       "    </tr>\n",
       "    <tr>\n",
       "      <th>97</th>\n",
       "      <td>http://abcnews.go.com/Politics/transgender-ser...</td>\n",
       "      <td>go</td>\n",
       "      <td>Transgender service members speak out against ...</td>\n",
       "      <td>['Abc News', 'More Meghan']</td>\n",
       "      <td>When Trish King woke up Wednesday morning, her...</td>\n",
       "    </tr>\n",
       "    <tr>\n",
       "      <th>98</th>\n",
       "      <td>http://abcnews.go.com/International/wireStory/...</td>\n",
       "      <td>go</td>\n",
       "      <td>French crews tame dramatic wildfire on Mediter...</td>\n",
       "      <td>['Abc News']</td>\n",
       "      <td>French firefighters have tamed one of the fier...</td>\n",
       "    </tr>\n",
       "    <tr>\n",
       "      <th>99</th>\n",
       "      <td>http://liveblog.abcnews.go.com/Event/2014_FIFA...</td>\n",
       "      <td>go</td>\n",
       "      <td>2014 FIFA World Cup Semifinals Live Blog</td>\n",
       "      <td>['Abc News']</td>\n",
       "      <td>kris, I think after a fine defensive showing b...</td>\n",
       "    </tr>\n",
       "  </tbody>\n",
       "</table>\n",
       "</div>"
      ],
      "text/plain": [
       "                                                  url source  \\\n",
       "95  http://liveblog.abcnews.go.com/Event/Ted_Cruz_...     go   \n",
       "96  http://abcnews.go.com/Lifestyle/couple-visit-v...     go   \n",
       "97  http://abcnews.go.com/Politics/transgender-ser...     go   \n",
       "98  http://abcnews.go.com/International/wireStory/...     go   \n",
       "99  http://liveblog.abcnews.go.com/Event/2014_FIFA...     go   \n",
       "\n",
       "                                                title  \\\n",
       "95                 Ted Cruz on 'Good Morning America'   \n",
       "96  Couple one visit away from visiting every Crac...   \n",
       "97  Transgender service members speak out against ...   \n",
       "98  French crews tame dramatic wildfire on Mediter...   \n",
       "99           2014 FIFA World Cup Semifinals Live Blog   \n",
       "\n",
       "                         author  \\\n",
       "95                 ['Abc News']   \n",
       "96   ['Abc News', 'More Katie']   \n",
       "97  ['Abc News', 'More Meghan']   \n",
       "98                 ['Abc News']   \n",
       "99                 ['Abc News']   \n",
       "\n",
       "                                                 text  \n",
       "95  Ted Cruz explained the ‘New York values’ attac...  \n",
       "96  Ray and Wilma Yoder of Goshen, Indiana, are on...  \n",
       "97  When Trish King woke up Wednesday morning, her...  \n",
       "98  French firefighters have tamed one of the fier...  \n",
       "99  kris, I think after a fine defensive showing b...  "
      ]
     },
     "execution_count": 107,
     "metadata": {},
     "output_type": "execute_result"
    }
   ],
   "source": [
    "path = os.path.join('data', 'indv_file','abcnews.csv')\n",
    "df_abcnews.to_csv(path)  \n",
    "# test: read data\n",
    "data_abcnews = pd.read_csv(path)\n",
    "data_abcnews.tail()"
   ]
  },
  {
   "cell_type": "markdown",
   "metadata": {},
   "source": [
    "## 5. newyorker"
   ]
  },
  {
   "cell_type": "code",
   "execution_count": 91,
   "metadata": {
    "collapsed": false
   },
   "outputs": [
    {
     "name": "stdout",
     "output_type": "stream",
     "text": [
      "http://www.newyorker.com/\n",
      "http://www.newyorker.com/magazine/2017/07/31/this-poem\n",
      "http://www.newyorker.com/magazine/2017/07/31/can-poetry-change-your-life\n",
      "http://www.newyorker.com/podcast/the-authors-voice/kirstin-valdez-quade-reads-christina-the-astonishing-1150-1224\n",
      "http://www.newyorker.com/news/news-desk/the-cruelty-and-cynicism-of-trumps-transgender-military-ban\n",
      "http://www.newyorker.com/culture/photo-booth/a-lost-cats-reincarnation-in-masahisa-fukases-afterword\n",
      "http://www.newyorker.com/podcast/the-new-yorker-radio-hour/a-rookie-reporter-covers-the-vietnam-war-and-maggie-habermans-white-house\n",
      "http://www.newyorker.com/latest/news\n",
      "http://www.newyorker.com/magazine/2017/07/31/how-not-to-solve-the-refugee-crisis\n",
      "http://www.newyorker.com/books/page-turner/how-one-of-the-last-american-typewriter-companies-survives\n",
      "http://www.newyorker.com/podcast/the-new-yorker-radio-hour/episode-88-ai-weiwei-and-doing-business-with-china\n",
      "http://www.newyorker.com/news/sporting-scene\n",
      "http://tunein.com/radio/The-Authors-Voice-p844128/\n",
      "http://www.newyorker.com/magazine/2017/07/31\n",
      "http://www.newyorker.com/books/page-turner/trucking-as-a-state-of-mind\n",
      "http://www.newyorker.com/books/page-turner/literary-style-and-the-lessons-of-memoir\n",
      "http://www.newyorker.com/news/amy-davidson-sorkin/when-anthony-scaramucci-fell-in-love-with-donald-trump\n",
      "http://www.newyorker.com/humor/borowitz-report/girl-scouts-obtain-restraining-order-against-trump\n",
      "http://www.newyorker.com/news/daily-comment\n",
      "http://www.newyorker.com/news/john-cassidy/the-senate-health-care-vote-and-john-mccains-tragic-contradictions\n",
      "http://www.newyorker.com/magazine/1966/01/22/among-the-wild-things\n",
      "http://www.newyorker.com/humor/borowitz-report/trump-says-he-heroically-avoided-capture-in-vietnam-by-staying-in-u-s\n",
      "http://www.newyorker.com/magazine/2017/07/24/a-novel-brings-israels-conflicts-to-new-york\n",
      "http://www.newyorker.com/culture/rabbit-holes/monkey-videos-as-a-way-of-life\n",
      "http://www.newyorker.com/news/news-desk/a-veteran-ice-agent-disillusioned-with-the-trump-era-speaks-out\n",
      "http://www.newyorker.com/magazine/2017/07/24\n",
      "http://www.newyorker.com/news/john-cassidy/the-senate-health-care-vote-o-rama-a-guide-for-the-perplexed\n",
      "http://www.newyorker.com/podcast/the-authors-voice/cristina-henriquez-reads-everything-is-far-from-here\n",
      "http://www.newyorker.com/news/amy-davidson\n",
      "http://www.newyorker.com/podcast/the-new-yorker-radio-hour/my-night-at-mar-a-lago-and-jon-ronsons-kidnapped-pig\n",
      "http://www.newyorker.com/magazine/2017/07/31/discovering-the-brilliance-of-helio-oiticica\n",
      "http://www.newyorker.com/humor/daily-shouts/trump-and-putins-lesser-known-collaborations\n",
      "http://www.newyorker.com/magazine/2017/07/31/the-meaning-of-the-gops-health-care-fiasco\n",
      "http://www.newyorker.com/humor/daily-shouts/please-select-a-reason-for-your-clothing-return\n",
      "http://www.newyorker.com/humor/daily-shouts/my-body-and-my-daughter-an-in-depth-analysis\n",
      "http://tunein.com/radio/New-Yorker-Radio-Hour-p803804/\n",
      "http://www.newyorker.com/magazine/2017/07/31/letters-from-the-july-31-2017-issue\n",
      "http://www.newyorker.com/magazine/2005/07/11/the-candy-man\n",
      "http://www.newyorker.com/humor/borowitz-report/jeff-sessions-urges-melania-to-work-harder-on-campaign-to-stop-cyberbullying\n",
      "http://www.newyorker.com/news/john-cassidy\n",
      "http://www.newyorker.com/culture/richard-brody/dunkirk-a-war-movie-about-patriotic-ciphers\n",
      "http://tunein.com/radio/New-Yorker-The-Political-Scene-p352517/\n",
      "http://www.newyorker.com/books/page-turner/stuart-hall-and-the-rise-of-cultural-studies\n",
      "http://www.newyorker.com/magazine/2017/07/24/my-mother-heidegger-and-derrida\n",
      "http://www.newyorker.com/magazine/2017/07/31/a-new-kind-of-adultery-novel\n",
      "http://www.newyorker.com/magazine/2017/07/31/panoramas-contemporary-scope\n",
      "http://www.newyorker.com/podcast/the-new-yorker-radio-hour/the-man-who-would-be-king-of-mars-and-trumpcare-revisited\n",
      "http://www.newyorker.com/topics/donald-trump-in-the-new-yorker\n",
      "http://www.newyorker.com/magazine/2017/07/31/the-tv-that-created-donald-trump\n",
      "http://www.newyorker.com/magazine/2017/07/31/the-unwomanly-face-of-war-hunger-flesh-and-bone-and-water-and-little-sister\n",
      "http://video.newyorker.com/watch/shorts-murmurs-the-startup-to-end-all-startups\n",
      "http://video.newyorker.com/watch/the-cartoon-lounge-what-do-you-ink\n",
      "http://www.newyorker.com/magazine/2017/07/10\n",
      "http://www.newyorker.com/podcast/the-new-yorker-radio-hour/summer-music-festival-with-james-taylor-and-lucinda-williams\n",
      "http://www.newyorker.com/cartoons/daily-cartoon/wednesday-july-26th-white-house-employment\n",
      "http://tunein.com/radio/New-Yorker-Fiction-p803806/\n",
      "http://www.newyorker.com/magazine/2017/07/31/sadiq-khan-takes-on-brexit-and-terror\n",
      "http://www.newyorker.com/magazine/2017/07/31/christopher-nolans-wartime-epic\n",
      "http://www.newyorker.com/culture/cultural-comment/middlemarch-gets-winningly-adapted-as-a-web-series\n",
      "http://www.newyorker.com/magazine/2017/07/31/an-opera-of-russias-brutal-history\n",
      "http://www.newyorker.com/news/sporting-scene/a-joyfully-defiant-us-mens-national-team-takes-the-gold-cup\n",
      "http://www.newyorker.com/culture/culture-desk/game-of-thrones-season-7-episode-2-recap-flaming-ships-and-demented-laughter\n",
      "http://www.newyorker.com/magazine/2017/07/31/novelizing-greek-myth\n",
      "http://www.newyorker.com/humor/daily-shouts/reasons-your-creative-type-has-broken-up-with-you\n",
      "http://www.newyorker.com/humor/daily-shouts/rejected-slogans-for-the-democratic-partys-new-agenda\n",
      "http://www.newyorker.com/magazine/2017/07/31/not-so-fast-canada\n",
      "http://www.newyorker.com/magazine/2017/07/31/the-resurrection-of-freak-bar\n",
      "http://www.newyorker.com/podcast/the-authors-voice/andrew-sean-greer-reads-its-a-summer-day\n",
      "http://www.newyorker.com/books/page-turner/the-surprising-things-statistics-tell-us-about-fiction\n",
      "http://www.newyorker.com/magazine/2017/07/31/christina-the-astonishing-1150-1224\n",
      "http://www.newyorker.com/podcast/the-authors-voice/sherman-alexie-reads-clean-cleaner-cleanest\n",
      "http://www.newyorker.com/magazine/2017/07/31/calibris-scandalous-history\n",
      "http://www.newyorker.com/culture/cultural-comment/the-decline-of-opera-queens-and-the-rise-of-gay-opera\n",
      "http://www.newyorker.com/news/news-desk/trumps-tweeted-transgender-ban-is-not-a-law\n",
      "http://www.newyorker.com/podcast/political-scene/lizzie-widdicombe-visits-mar-a-lago\n",
      "http://www.newyorker.com/news/ryan-lizza/how-jared-kushner-helped-the-russians-get-inside-access-to-the-trump-campaign\n",
      "http://www.newyorker.com/books/page-turner/from-the-mixed-up-files-of-mrs-basil-e-frankweiler-fifty-years-later\n",
      "http://www.newyorker.com/magazine/2012/10/01/mugglemarch\n",
      "http://www.newyorker.com/podcast/political-scene/should-democrats-become-the-party-of-no\n",
      "http://www.newyorker.com/culture/photo-booth/the-strange-wonders-of-cactuses-the-plant-of-our-times\n",
      "http://www.newyorker.com/magazine/2017/07/31/trump-jr-and-why-spies-love-business\n",
      "http://tunein.com/radio/New-Yorker-Poetry-p803807/\n",
      "http://www.newyorker.com/magazine/2017/07/31/the-cooper-hewitts-all-ages-affair\n",
      "http://www.newyorker.com/culture/listening-booth/tyler-the-creator-grows-on-where-this-flower-blooms\n",
      "http://www.newyorker.com/magazine/2017/07/03\n",
      "http://www.newyorker.com/news/amy-davidson-sorkin/donald-trump-tramples-on-boy-scout-values\n",
      "http://www.newyorker.com/magazine/2017/07/31/the-middle-school-friends-behind-brigsby-bear\n",
      "http://www.newyorker.com/culture/culture-desk/touring-jim-hensons-restless-creative-spirit-at-the-museum-of-the-moving-image\n",
      "http://www.newyorker.com/magazine/2017/07/24/the-life-of-a-south-central-statistic\n",
      "http://www.newyorker.com/news/ryan-lizza/anthony-scaramucci-called-me-to-unload-about-white-house-leakers-reince-priebus-and-steve-bannon\n",
      "http://www.newyorker.com/news/ryan-lizza/sean-spicer-will-be-remembered-for-his-lies\n",
      "http://www.newyorker.com/news/news-desk/are-we-nearing-the-endgame-with-isis\n",
      "http://www.newyorker.com/news/news-desk/the-mothers-being-deported-by-trump\n",
      "http://www.newyorker.com/culture/cover-story/cover-story-2017-07-31\n",
      "http://www.newyorker.com/news/news-desk\n",
      "http://www.newyorker.com/magazine/1960/12/17/childrens-friend\n",
      "http://video.newyorker.com/watch/the-cartoon-lounge-howdy-conner-o-malley\n",
      "http://www.newyorker.com/podcast/political-scene/ai-weiwei-talks-to-david-remnick-about-art-censorship-and-twitter\n",
      "http://www.newyorker.com/magazine/2017/07/31/why-corrupt-bankers-avoid-jail\n",
      "http://www.newyorker.com/news/benjamin-wallace-wells\n",
      "http://www.newyorker.com/culture/cultural-comment/why-justin-bieber-got-banned-from-performing-in-china\n",
      "The total number of newyorker articles is  100\n"
     ]
    }
   ],
   "source": [
    "url_newyorker = website_list[8]\n",
    "df_newyorker = generate_data(url_newyorker)"
   ]
  },
  {
   "cell_type": "code",
   "execution_count": 108,
   "metadata": {
    "collapsed": false
   },
   "outputs": [
    {
     "data": {
      "text/html": [
       "<div>\n",
       "<table border=\"1\" class=\"dataframe\">\n",
       "  <thead>\n",
       "    <tr style=\"text-align: right;\">\n",
       "      <th></th>\n",
       "      <th>url</th>\n",
       "      <th>source</th>\n",
       "      <th>title</th>\n",
       "      <th>author</th>\n",
       "      <th>text</th>\n",
       "    </tr>\n",
       "  </thead>\n",
       "  <tbody>\n",
       "    <tr>\n",
       "      <th>95</th>\n",
       "      <td>http://video.newyorker.com/watch/the-cartoon-l...</td>\n",
       "      <td>newyorker</td>\n",
       "      <td>Howdy, Conner O’Malley</td>\n",
       "      <td>[]</td>\n",
       "      <td>Howdy, Conner O’Malley\\n\\nThe comedian swings ...</td>\n",
       "    </tr>\n",
       "    <tr>\n",
       "      <th>96</th>\n",
       "      <td>http://www.newyorker.com/podcast/political-sce...</td>\n",
       "      <td>newyorker</td>\n",
       "      <td>Ai Weiwei Talks to David Remnick About Art, Ce...</td>\n",
       "      <td>[]</td>\n",
       "      <td>David Remnick sits down with Ai Weiwei, China’...</td>\n",
       "    </tr>\n",
       "    <tr>\n",
       "      <th>97</th>\n",
       "      <td>http://www.newyorker.com/magazine/2017/07/31/w...</td>\n",
       "      <td>newyorker</td>\n",
       "      <td>Why Corrupt Bankers Avoid Jail</td>\n",
       "      <td>[]</td>\n",
       "      <td>In the summer of 2012, a subcommittee of the U...</td>\n",
       "    </tr>\n",
       "    <tr>\n",
       "      <th>98</th>\n",
       "      <td>http://www.newyorker.com/news/benjamin-wallace...</td>\n",
       "      <td>newyorker</td>\n",
       "      <td>Benjamin Wallace-Wells: American Politics and ...</td>\n",
       "      <td>[]</td>\n",
       "      <td>NaN</td>\n",
       "    </tr>\n",
       "    <tr>\n",
       "      <th>99</th>\n",
       "      <td>http://www.newyorker.com/culture/cultural-comm...</td>\n",
       "      <td>newyorker</td>\n",
       "      <td>Why Justin Bieber Got Banned from Performing i...</td>\n",
       "      <td>[]</td>\n",
       "      <td>Until last week, the Dalai Lama had fairly lit...</td>\n",
       "    </tr>\n",
       "  </tbody>\n",
       "</table>\n",
       "</div>"
      ],
      "text/plain": [
       "                                                  url     source  \\\n",
       "95  http://video.newyorker.com/watch/the-cartoon-l...  newyorker   \n",
       "96  http://www.newyorker.com/podcast/political-sce...  newyorker   \n",
       "97  http://www.newyorker.com/magazine/2017/07/31/w...  newyorker   \n",
       "98  http://www.newyorker.com/news/benjamin-wallace...  newyorker   \n",
       "99  http://www.newyorker.com/culture/cultural-comm...  newyorker   \n",
       "\n",
       "                                                title author  \\\n",
       "95                             Howdy, Conner O’Malley     []   \n",
       "96  Ai Weiwei Talks to David Remnick About Art, Ce...     []   \n",
       "97                     Why Corrupt Bankers Avoid Jail     []   \n",
       "98  Benjamin Wallace-Wells: American Politics and ...     []   \n",
       "99  Why Justin Bieber Got Banned from Performing i...     []   \n",
       "\n",
       "                                                 text  \n",
       "95  Howdy, Conner O’Malley\\n\\nThe comedian swings ...  \n",
       "96  David Remnick sits down with Ai Weiwei, China’...  \n",
       "97  In the summer of 2012, a subcommittee of the U...  \n",
       "98                                                NaN  \n",
       "99  Until last week, the Dalai Lama had fairly lit...  "
      ]
     },
     "execution_count": 108,
     "metadata": {},
     "output_type": "execute_result"
    }
   ],
   "source": [
    "path = os.path.join('data', 'indv_file','newyorker.csv')\n",
    "df_newyorker.to_csv(path)  \n",
    "# test: read data\n",
    "data_newyorker = pd.read_csv(path)\n",
    "data_newyorker.tail()"
   ]
  },
  {
   "cell_type": "code",
   "execution_count": null,
   "metadata": {
    "collapsed": true
   },
   "outputs": [],
   "source": []
  },
  {
   "cell_type": "code",
   "execution_count": 93,
   "metadata": {
    "collapsed": false,
    "scrolled": true
   },
   "outputs": [
    {
     "data": {
      "text/html": [
       "<div>\n",
       "<table border=\"1\" class=\"dataframe\">\n",
       "  <thead>\n",
       "    <tr style=\"text-align: right;\">\n",
       "      <th></th>\n",
       "      <th>url</th>\n",
       "      <th>source</th>\n",
       "      <th>title</th>\n",
       "      <th>author</th>\n",
       "      <th>text</th>\n",
       "    </tr>\n",
       "  </thead>\n",
       "  <tbody>\n",
       "    <tr>\n",
       "      <th>491</th>\n",
       "      <td>http://video.newyorker.com/watch/the-cartoon-l...</td>\n",
       "      <td>newyorker</td>\n",
       "      <td>Howdy, Conner O’Malley</td>\n",
       "      <td>[]</td>\n",
       "      <td>Howdy, Conner O’Malley\\n\\nThe comedian swings ...</td>\n",
       "    </tr>\n",
       "    <tr>\n",
       "      <th>492</th>\n",
       "      <td>http://www.newyorker.com/podcast/political-sce...</td>\n",
       "      <td>newyorker</td>\n",
       "      <td>Ai Weiwei Talks to David Remnick About Art, Ce...</td>\n",
       "      <td>[]</td>\n",
       "      <td>David Remnick sits down with Ai Weiwei, China’...</td>\n",
       "    </tr>\n",
       "    <tr>\n",
       "      <th>493</th>\n",
       "      <td>http://www.newyorker.com/magazine/2017/07/31/w...</td>\n",
       "      <td>newyorker</td>\n",
       "      <td>Why Corrupt Bankers Avoid Jail</td>\n",
       "      <td>[]</td>\n",
       "      <td>In the summer of 2012, a subcommittee of the U...</td>\n",
       "    </tr>\n",
       "    <tr>\n",
       "      <th>494</th>\n",
       "      <td>http://www.newyorker.com/news/benjamin-wallace...</td>\n",
       "      <td>newyorker</td>\n",
       "      <td>Benjamin Wallace-Wells: American Politics and ...</td>\n",
       "      <td>[]</td>\n",
       "      <td>NaN</td>\n",
       "    </tr>\n",
       "    <tr>\n",
       "      <th>495</th>\n",
       "      <td>http://www.newyorker.com/culture/cultural-comm...</td>\n",
       "      <td>newyorker</td>\n",
       "      <td>Why Justin Bieber Got Banned from Performing i...</td>\n",
       "      <td>[]</td>\n",
       "      <td>Until last week, the Dalai Lama had fairly lit...</td>\n",
       "    </tr>\n",
       "  </tbody>\n",
       "</table>\n",
       "</div>"
      ],
      "text/plain": [
       "                                                   url     source  \\\n",
       "491  http://video.newyorker.com/watch/the-cartoon-l...  newyorker   \n",
       "492  http://www.newyorker.com/podcast/political-sce...  newyorker   \n",
       "493  http://www.newyorker.com/magazine/2017/07/31/w...  newyorker   \n",
       "494  http://www.newyorker.com/news/benjamin-wallace...  newyorker   \n",
       "495  http://www.newyorker.com/culture/cultural-comm...  newyorker   \n",
       "\n",
       "                                                 title author  \\\n",
       "491                             Howdy, Conner O’Malley     []   \n",
       "492  Ai Weiwei Talks to David Remnick About Art, Ce...     []   \n",
       "493                     Why Corrupt Bankers Avoid Jail     []   \n",
       "494  Benjamin Wallace-Wells: American Politics and ...     []   \n",
       "495  Why Justin Bieber Got Banned from Performing i...     []   \n",
       "\n",
       "                                                  text  \n",
       "491  Howdy, Conner O’Malley\\n\\nThe comedian swings ...  \n",
       "492  David Remnick sits down with Ai Weiwei, China’...  \n",
       "493  In the summer of 2012, a subcommittee of the U...  \n",
       "494                                                NaN  \n",
       "495  Until last week, the Dalai Lama had fairly lit...  "
      ]
     },
     "execution_count": 93,
     "metadata": {},
     "output_type": "execute_result"
    }
   ],
   "source": [
    "merge_df = pd.concat([data_nbcnews, data_msnbc, data_cbsnews, data_abcnews, data_newyorker], ignore_index=True)\n",
    "merge_df.tail()"
   ]
  },
  {
   "cell_type": "code",
   "execution_count": 94,
   "metadata": {
    "collapsed": false
   },
   "outputs": [
    {
     "data": {
      "text/plain": [
       "(496, 5)"
      ]
     },
     "execution_count": 94,
     "metadata": {},
     "output_type": "execute_result"
    }
   ],
   "source": [
    "merge_df.shape"
   ]
  },
  {
   "cell_type": "code",
   "execution_count": 100,
   "metadata": {
    "collapsed": false
   },
   "outputs": [
    {
     "data": {
      "text/plain": [
       "(428, 5)"
      ]
     },
     "execution_count": 100,
     "metadata": {},
     "output_type": "execute_result"
    }
   ],
   "source": [
    "merge_df = merge_df[merge_df.url.str.contains(\"video\") == False]\n",
    "merge_df.shape"
   ]
  },
  {
   "cell_type": "code",
   "execution_count": 102,
   "metadata": {
    "collapsed": false
   },
   "outputs": [
    {
     "data": {
      "text/plain": [
       "(417, 5)"
      ]
     },
     "execution_count": 102,
     "metadata": {},
     "output_type": "execute_result"
    }
   ],
   "source": [
    "merge_df = merge_df[merge_df.url.str.contains(\"picture\") == False]\n",
    "merge_df.shape"
   ]
  },
  {
   "cell_type": "code",
   "execution_count": 103,
   "metadata": {
    "collapsed": false
   },
   "outputs": [
    {
     "data": {
      "text/html": [
       "<div>\n",
       "<table border=\"1\" class=\"dataframe\">\n",
       "  <thead>\n",
       "    <tr style=\"text-align: right;\">\n",
       "      <th></th>\n",
       "      <th>Unnamed: 0</th>\n",
       "      <th>url</th>\n",
       "      <th>source</th>\n",
       "      <th>title</th>\n",
       "      <th>author</th>\n",
       "      <th>text</th>\n",
       "    </tr>\n",
       "  </thead>\n",
       "  <tbody>\n",
       "    <tr>\n",
       "      <th>412</th>\n",
       "      <td>490</td>\n",
       "      <td>http://www.newyorker.com/magazine/1960/12/17/c...</td>\n",
       "      <td>newyorker</td>\n",
       "      <td>The World of Dr. Seuss</td>\n",
       "      <td>[]</td>\n",
       "      <td>The face of Theodor Seuss Geisel—an arresting ...</td>\n",
       "    </tr>\n",
       "    <tr>\n",
       "      <th>413</th>\n",
       "      <td>492</td>\n",
       "      <td>http://www.newyorker.com/podcast/political-sce...</td>\n",
       "      <td>newyorker</td>\n",
       "      <td>Ai Weiwei Talks to David Remnick About Art, Ce...</td>\n",
       "      <td>[]</td>\n",
       "      <td>David Remnick sits down with Ai Weiwei, China’...</td>\n",
       "    </tr>\n",
       "    <tr>\n",
       "      <th>414</th>\n",
       "      <td>493</td>\n",
       "      <td>http://www.newyorker.com/magazine/2017/07/31/w...</td>\n",
       "      <td>newyorker</td>\n",
       "      <td>Why Corrupt Bankers Avoid Jail</td>\n",
       "      <td>[]</td>\n",
       "      <td>In the summer of 2012, a subcommittee of the U...</td>\n",
       "    </tr>\n",
       "    <tr>\n",
       "      <th>415</th>\n",
       "      <td>494</td>\n",
       "      <td>http://www.newyorker.com/news/benjamin-wallace...</td>\n",
       "      <td>newyorker</td>\n",
       "      <td>Benjamin Wallace-Wells: American Politics and ...</td>\n",
       "      <td>[]</td>\n",
       "      <td>NaN</td>\n",
       "    </tr>\n",
       "    <tr>\n",
       "      <th>416</th>\n",
       "      <td>495</td>\n",
       "      <td>http://www.newyorker.com/culture/cultural-comm...</td>\n",
       "      <td>newyorker</td>\n",
       "      <td>Why Justin Bieber Got Banned from Performing i...</td>\n",
       "      <td>[]</td>\n",
       "      <td>Until last week, the Dalai Lama had fairly lit...</td>\n",
       "    </tr>\n",
       "  </tbody>\n",
       "</table>\n",
       "</div>"
      ],
      "text/plain": [
       "     Unnamed: 0                                                url     source  \\\n",
       "412         490  http://www.newyorker.com/magazine/1960/12/17/c...  newyorker   \n",
       "413         492  http://www.newyorker.com/podcast/political-sce...  newyorker   \n",
       "414         493  http://www.newyorker.com/magazine/2017/07/31/w...  newyorker   \n",
       "415         494  http://www.newyorker.com/news/benjamin-wallace...  newyorker   \n",
       "416         495  http://www.newyorker.com/culture/cultural-comm...  newyorker   \n",
       "\n",
       "                                                 title author  \\\n",
       "412                             The World of Dr. Seuss     []   \n",
       "413  Ai Weiwei Talks to David Remnick About Art, Ce...     []   \n",
       "414                     Why Corrupt Bankers Avoid Jail     []   \n",
       "415  Benjamin Wallace-Wells: American Politics and ...     []   \n",
       "416  Why Justin Bieber Got Banned from Performing i...     []   \n",
       "\n",
       "                                                  text  \n",
       "412  The face of Theodor Seuss Geisel—an arresting ...  \n",
       "413  David Remnick sits down with Ai Weiwei, China’...  \n",
       "414  In the summer of 2012, a subcommittee of the U...  \n",
       "415                                                NaN  \n",
       "416  Until last week, the Dalai Lama had fairly lit...  "
      ]
     },
     "execution_count": 103,
     "metadata": {},
     "output_type": "execute_result"
    }
   ],
   "source": [
    "path = os.path.join('data', 'realnews_jz.csv')\n",
    "merge_df.to_csv(path)\n",
    "# test: read data\n",
    "data_realnews = pd.read_csv(path)\n",
    "data_realnews.tail()"
   ]
  },
  {
   "cell_type": "code",
   "execution_count": null,
   "metadata": {
    "collapsed": true
   },
   "outputs": [],
   "source": []
  }
 ],
 "metadata": {
  "kernelspec": {
   "display_name": "Python [Root]",
   "language": "python",
   "name": "Python [Root]"
  },
  "language_info": {
   "codemirror_mode": {
    "name": "ipython",
    "version": 3
   },
   "file_extension": ".py",
   "mimetype": "text/x-python",
   "name": "python",
   "nbconvert_exporter": "python",
   "pygments_lexer": "ipython3",
   "version": "3.5.2"
  }
 },
 "nbformat": 4,
 "nbformat_minor": 0
}
