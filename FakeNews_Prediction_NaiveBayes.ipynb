{
 "cells": [
  {
   "cell_type": "markdown",
   "metadata": {},
   "source": [
    "# Generate features from text and use Multinomial Naive Bayes to predict fake news"
   ]
  },
  {
   "cell_type": "markdown",
   "metadata": {},
   "source": [
    "Reference\n",
    "* https://github.com/justmarkham/pycon-2016-tutorial/blob/master/tutorial_with_output.ipynb\n",
    "* https://www.youtube.com/watch?v=hXNbFNCgPfY"
   ]
  },
  {
   "cell_type": "markdown",
   "metadata": {},
   "source": [
    "## Generate data"
   ]
  },
  {
   "cell_type": "code",
   "execution_count": 1,
   "metadata": {
    "collapsed": false
   },
   "outputs": [],
   "source": [
    "import pandas as pd\n",
    "import numpy as np\n",
    "import newspaper "
   ]
  },
  {
   "cell_type": "code",
   "execution_count": 185,
   "metadata": {
    "collapsed": false
   },
   "outputs": [
    {
     "name": "stdout",
     "output_type": "stream",
     "text": [
      "['http://conservativefighters.com/', 'http://conservativespirit.com/', 'http://conservative101.com/', 'http://DrudgeReport.com.co', 'http://NBCNews.com.co', 'http://TrueTrumpers.com', 'http://UndergroundNewsReport.com', 'http://washingtonpost.com.co', 'http://YourNewsWire.com', 'http://cnn.com.de/']\n",
      "['http://www.nbcnews.com/', 'http://www.msnbc.com/', 'http://www.cbsnews.com/', 'http://www.huffingtonpost.com/', 'http://www.bloomberg.com/', 'http://abcnews.go.com/', 'http://www.aljazeera.com/news/', 'https://www.afp.com/en/news-hub', 'http://www.newyorker.com/', 'https://www.theguardian.com/']\n"
     ]
    }
   ],
   "source": [
    "fake_news = ['http://ABCnews.com.co','http://bizstandardnews.com','http://Bloomberg.ma',\n",
    "     'http://70news.wordpress.com','http://beforeitsnews.com', 'http://ddsnewstrend.com', \n",
    "     'http://thebostontribune.com/','http://americanfreepress.net/','http://www.bipartisanreport.com/',\n",
    "     'http://aurora-news.us/', 'http://conservativefighters.com/','http://conservativespirit.com/',\n",
    "     'http://conservative101.com/','http://DrudgeReport.com.co','http://NBCNews.com.co','http://TrueTrumpers.com',\n",
    "     'http://UndergroundNewsReport.com','http://washingtonpost.com.co','http://YourNewsWire.com','http://cnn.com.de/',\n",
    "     'http://rickwells.us/','http://thedcgazette.com/','http://donaldtrumppotus45.com/','http://24wpn.com',\n",
    "     'http://AmericanFlavor.news','http://AmericanPresident.co','http://AMPosts.com','http://BB4SP.com',\n",
    "     'http://BlueVisionPost.com','http://CivicTribune.com']\n",
    "\n",
    "true_news = ['https://www.wsj.com/','https://www.nytimes.com/','http://www.bbc.com/news',\n",
    "             'http://www.npr.org/sections/news/', 'http://www.reuters.com/', 'https://www.economist.com/',\n",
    "             'https://www.apnews.com/', 'http://www.cnn.com', 'http://www.foxnews.com/', \n",
    "             'http://www.politico.com/', 'http://www.nbcnews.com/', 'http://www.msnbc.com/', 'http://www.cbsnews.com/',\n",
    "             'http://www.huffingtonpost.com/','http://www.bloomberg.com/', 'http://abcnews.go.com/',\n",
    "             'http://www.aljazeera.com/news/', 'https://www.afp.com/en/news-hub', 'http://www.newyorker.com/',\n",
    "             'https://www.theguardian.com/', 'http://www.telegraph.co.uk/', 'http://www.zeit.de/english/index',\n",
    "             'http://www.chicagotribune.com/', 'http://www.freep.com/', 'http://www.bostonherald.com/',\n",
    "             'http://www.dailypress.com/', 'http://www.detroitnews.com/', 'https://www.ft.com/', \n",
    "             'http://www.ibtimes.com/', 'http://www.voanews.com/']\n",
    "\n",
    "fake_news_list = fake_news[10:20] \n",
    "true_news_list = true_news[10:20] \n",
    "\n",
    "print(fake_news_list)\n",
    "print(true_news_list)"
   ]
  },
  {
   "cell_type": "code",
   "execution_count": 20,
   "metadata": {
    "collapsed": true
   },
   "outputs": [],
   "source": [
    "def generate_data(news_list, data_name):\n",
    "    col_names = [\"source\", \"title\", \"author\", \"text\"]\n",
    "    article_df = pd.DataFrame(columns = col_names)\n",
    "    \n",
    "    for link in news_list:\n",
    "        print(link)\n",
    "        news_articles = newspaper.build(link, memoize_articles=False)\n",
    "        news_brand = news_articles.brand\n",
    "        size_articles = news_articles.size()\n",
    "        num_news = 50\n",
    "        if size_articles < num_news:\n",
    "            num_news = size_articles\n",
    "            \n",
    "        count = 0\n",
    "        for i in range(0,num_news):\n",
    "            article = news_articles.articles[i];\n",
    "            try:\n",
    "                article.download()\n",
    "                article.parse()\n",
    "            \n",
    "                entry = pd.DataFrame([[news_brand, article.title, article.authors, article.text]], columns=col_names)\n",
    "                article_df = article_df.append(entry)\n",
    "                count += 1\n",
    "            except:\n",
    "                pass\n",
    "        print(\"The total number of \" + str(news_brand) + \" articles is \", count) \n",
    "        \n",
    "    article_df = article_df[col_names]\n",
    "    article_df.to_csv(data_name+\".csv\")"
   ]
  },
  {
   "cell_type": "code",
   "execution_count": 21,
   "metadata": {
    "collapsed": false
   },
   "outputs": [
    {
     "name": "stdout",
     "output_type": "stream",
     "text": [
      "['http://www.nbcnews.com/', 'http://abcnews.go.com', 'http://www.cbsnews.com/', 'http://cnn.com.de/', 'http://conservativefighters.com/']\n"
     ]
    }
   ],
   "source": [
    "# create fake and real news website list\n",
    "fake_news_list = ['http://conservativefighters.com/', 'http://cnn.com.de/']\n",
    "true_news_list = ['http://www.nbcnews.com/', 'http://abcnews.go.com', 'http://www.cbsnews.com/']\n",
    "my_news_list = list(set(fake_news_list+true_news_list))\n",
    "print(my_news_list)"
   ]
  },
  {
   "cell_type": "code",
   "execution_count": 22,
   "metadata": {
    "collapsed": false
   },
   "outputs": [
    {
     "name": "stdout",
     "output_type": "stream",
     "text": [
      "http://www.nbcnews.com/\n",
      "Article `download()` failed with 404 Client Error: Not Found for url: http://www.nbcnews.com/feature/donald-trump-cabinet on URL http://www.nbcnews.com/feature/donald-trump-cabinet\n",
      "Article `download()` failed with 404 Client Error: Not Found for url: http://www.nbcnews.com/tv/shows/responding-by-storm/news/dramatic-storm-rescue-photos-2017 on URL http://www.nbcnews.com/tv/shows/responding-by-storm/news/dramatic-storm-rescue-photos-2017\n",
      "The total number of nbcnews articles is  48\n",
      "http://abcnews.go.com\n",
      "The total number of go articles is  50\n",
      "http://www.cbsnews.com/\n",
      "The total number of cbsnews articles is  50\n",
      "http://cnn.com.de/\n",
      "The total number of com articles is  50\n",
      "http://conservativefighters.com/\n",
      "The total number of conservativefighters articles is  36\n"
     ]
    }
   ],
   "source": [
    "# write data to file\n",
    "generate_data(my_news_list, 'news_data')"
   ]
  },
  {
   "cell_type": "markdown",
   "metadata": {},
   "source": [
    "## Convert text to numbers (features)"
   ]
  },
  {
   "cell_type": "markdown",
   "metadata": {},
   "source": [
    "### Read and clean data "
   ]
  },
  {
   "cell_type": "code",
   "execution_count": 186,
   "metadata": {
    "collapsed": false
   },
   "outputs": [
    {
     "data": {
      "text/html": [
       "<div>\n",
       "<table border=\"1\" class=\"dataframe\">\n",
       "  <thead>\n",
       "    <tr style=\"text-align: right;\">\n",
       "      <th></th>\n",
       "      <th>source</th>\n",
       "      <th>title</th>\n",
       "      <th>text</th>\n",
       "    </tr>\n",
       "  </thead>\n",
       "  <tbody>\n",
       "    <tr>\n",
       "      <th>229</th>\n",
       "      <td>conservativefighters</td>\n",
       "      <td>Not Messing Around: Trump’s New Comms Director...</td>\n",
       "      <td>Anthony Scaramucci was hired by President Dona...</td>\n",
       "    </tr>\n",
       "    <tr>\n",
       "      <th>230</th>\n",
       "      <td>conservativefighters</td>\n",
       "      <td>Comments on: Singer Bans American Flag From Co...</td>\n",
       "      <td>NaN</td>\n",
       "    </tr>\n",
       "    <tr>\n",
       "      <th>231</th>\n",
       "      <td>conservativefighters</td>\n",
       "      <td>Swedish Company Epicenter Implants Microchips ...</td>\n",
       "      <td>A Swedish company Epicenter implants microchip...</td>\n",
       "    </tr>\n",
       "    <tr>\n",
       "      <th>232</th>\n",
       "      <td>conservativefighters</td>\n",
       "      <td>Comments on: Charlie Gard’s Parents Release De...</td>\n",
       "      <td>NaN</td>\n",
       "    </tr>\n",
       "    <tr>\n",
       "      <th>233</th>\n",
       "      <td>conservativefighters</td>\n",
       "      <td>McDonald’s Employee Gets Fired For Refusing To...</td>\n",
       "      <td>Officer Scott Naff, who works for Virginia Dep...</td>\n",
       "    </tr>\n",
       "  </tbody>\n",
       "</table>\n",
       "</div>"
      ],
      "text/plain": [
       "                   source                                              title  \\\n",
       "229  conservativefighters  Not Messing Around: Trump’s New Comms Director...   \n",
       "230  conservativefighters  Comments on: Singer Bans American Flag From Co...   \n",
       "231  conservativefighters  Swedish Company Epicenter Implants Microchips ...   \n",
       "232  conservativefighters  Comments on: Charlie Gard’s Parents Release De...   \n",
       "233  conservativefighters  McDonald’s Employee Gets Fired For Refusing To...   \n",
       "\n",
       "                                                  text  \n",
       "229  Anthony Scaramucci was hired by President Dona...  \n",
       "230                                                NaN  \n",
       "231  A Swedish company Epicenter implants microchip...  \n",
       "232                                                NaN  \n",
       "233  Officer Scott Naff, who works for Virginia Dep...  "
      ]
     },
     "execution_count": 186,
     "metadata": {},
     "output_type": "execute_result"
    }
   ],
   "source": [
    "# read data\n",
    "news_data = pd.read_csv('news_data.csv', usecols=[1,2,4])\n",
    "news_data.tail()"
   ]
  },
  {
   "cell_type": "code",
   "execution_count": 187,
   "metadata": {
    "collapsed": false
   },
   "outputs": [
    {
     "data": {
      "text/plain": [
       "(234, 3)"
      ]
     },
     "execution_count": 187,
     "metadata": {},
     "output_type": "execute_result"
    }
   ],
   "source": [
    "# shape of our data\n",
    "news_data.shape"
   ]
  },
  {
   "cell_type": "code",
   "execution_count": 188,
   "metadata": {
    "collapsed": false
   },
   "outputs": [
    {
     "data": {
      "text/plain": [
       "go                      50\n",
       "cbsnews                 50\n",
       "com                     50\n",
       "nbcnews                 48\n",
       "conservativefighters    36\n",
       "Name: source, dtype: int64"
      ]
     },
     "execution_count": 188,
     "metadata": {},
     "output_type": "execute_result"
    }
   ],
   "source": [
    "# source distribution \n",
    "news_data.source.value_counts()"
   ]
  },
  {
   "cell_type": "code",
   "execution_count": 189,
   "metadata": {
    "collapsed": false
   },
   "outputs": [],
   "source": [
    "# convert source to a numerical variable: \n",
    "# news from go (absnews), cbsnews, and nbcnews are 0\n",
    "# news from com (cnn.com.de) and conservativefighters are 1 (flagged as fake news)\n",
    "news_data['label_num'] = news_data.source.map({'go':0,'cbsnews':0,'nbcnews':0, 'conservativefighters':1, 'com':1})"
   ]
  },
  {
   "cell_type": "code",
   "execution_count": 190,
   "metadata": {
    "collapsed": false
   },
   "outputs": [
    {
     "data": {
      "text/html": [
       "<div>\n",
       "<table border=\"1\" class=\"dataframe\">\n",
       "  <thead>\n",
       "    <tr style=\"text-align: right;\">\n",
       "      <th></th>\n",
       "      <th>source</th>\n",
       "      <th>title</th>\n",
       "      <th>text</th>\n",
       "      <th>label_num</th>\n",
       "    </tr>\n",
       "  </thead>\n",
       "  <tbody>\n",
       "    <tr>\n",
       "      <th>229</th>\n",
       "      <td>conservativefighters</td>\n",
       "      <td>Not Messing Around: Trump’s New Comms Director...</td>\n",
       "      <td>Anthony Scaramucci was hired by President Dona...</td>\n",
       "      <td>1</td>\n",
       "    </tr>\n",
       "    <tr>\n",
       "      <th>230</th>\n",
       "      <td>conservativefighters</td>\n",
       "      <td>Comments on: Singer Bans American Flag From Co...</td>\n",
       "      <td>NaN</td>\n",
       "      <td>1</td>\n",
       "    </tr>\n",
       "    <tr>\n",
       "      <th>231</th>\n",
       "      <td>conservativefighters</td>\n",
       "      <td>Swedish Company Epicenter Implants Microchips ...</td>\n",
       "      <td>A Swedish company Epicenter implants microchip...</td>\n",
       "      <td>1</td>\n",
       "    </tr>\n",
       "    <tr>\n",
       "      <th>232</th>\n",
       "      <td>conservativefighters</td>\n",
       "      <td>Comments on: Charlie Gard’s Parents Release De...</td>\n",
       "      <td>NaN</td>\n",
       "      <td>1</td>\n",
       "    </tr>\n",
       "    <tr>\n",
       "      <th>233</th>\n",
       "      <td>conservativefighters</td>\n",
       "      <td>McDonald’s Employee Gets Fired For Refusing To...</td>\n",
       "      <td>Officer Scott Naff, who works for Virginia Dep...</td>\n",
       "      <td>1</td>\n",
       "    </tr>\n",
       "  </tbody>\n",
       "</table>\n",
       "</div>"
      ],
      "text/plain": [
       "                   source                                              title  \\\n",
       "229  conservativefighters  Not Messing Around: Trump’s New Comms Director...   \n",
       "230  conservativefighters  Comments on: Singer Bans American Flag From Co...   \n",
       "231  conservativefighters  Swedish Company Epicenter Implants Microchips ...   \n",
       "232  conservativefighters  Comments on: Charlie Gard’s Parents Release De...   \n",
       "233  conservativefighters  McDonald’s Employee Gets Fired For Refusing To...   \n",
       "\n",
       "                                                  text  label_num  \n",
       "229  Anthony Scaramucci was hired by President Dona...          1  \n",
       "230                                                NaN          1  \n",
       "231  A Swedish company Epicenter implants microchip...          1  \n",
       "232                                                NaN          1  \n",
       "233  Officer Scott Naff, who works for Virginia Dep...          1  "
      ]
     },
     "execution_count": 190,
     "metadata": {},
     "output_type": "execute_result"
    }
   ],
   "source": [
    "news_data.tail()"
   ]
  },
  {
   "cell_type": "code",
   "execution_count": 192,
   "metadata": {
    "collapsed": false
   },
   "outputs": [
    {
     "data": {
      "text/html": [
       "<div>\n",
       "<table border=\"1\" class=\"dataframe\">\n",
       "  <thead>\n",
       "    <tr style=\"text-align: right;\">\n",
       "      <th></th>\n",
       "      <th>source</th>\n",
       "      <th>title</th>\n",
       "      <th>text</th>\n",
       "      <th>label_num</th>\n",
       "    </tr>\n",
       "  </thead>\n",
       "  <tbody>\n",
       "    <tr>\n",
       "      <th>227</th>\n",
       "      <td>conservativefighters</td>\n",
       "      <td>Singer Bans American Flag From Concerts, Says ...</td>\n",
       "      <td>It’s so typical of radical liberals.\\n\\nThey p...</td>\n",
       "      <td>1</td>\n",
       "    </tr>\n",
       "    <tr>\n",
       "      <th>228</th>\n",
       "      <td>conservativefighters</td>\n",
       "      <td>Muslim Immigrant REFUSES to Let Cops Check His...</td>\n",
       "      <td>Far too many Muslim immigrants come to this co...</td>\n",
       "      <td>1</td>\n",
       "    </tr>\n",
       "    <tr>\n",
       "      <th>229</th>\n",
       "      <td>conservativefighters</td>\n",
       "      <td>Not Messing Around: Trump’s New Comms Director...</td>\n",
       "      <td>Anthony Scaramucci was hired by President Dona...</td>\n",
       "      <td>1</td>\n",
       "    </tr>\n",
       "    <tr>\n",
       "      <th>231</th>\n",
       "      <td>conservativefighters</td>\n",
       "      <td>Swedish Company Epicenter Implants Microchips ...</td>\n",
       "      <td>A Swedish company Epicenter implants microchip...</td>\n",
       "      <td>1</td>\n",
       "    </tr>\n",
       "    <tr>\n",
       "      <th>233</th>\n",
       "      <td>conservativefighters</td>\n",
       "      <td>McDonald’s Employee Gets Fired For Refusing To...</td>\n",
       "      <td>Officer Scott Naff, who works for Virginia Dep...</td>\n",
       "      <td>1</td>\n",
       "    </tr>\n",
       "  </tbody>\n",
       "</table>\n",
       "</div>"
      ],
      "text/plain": [
       "                   source                                              title  \\\n",
       "227  conservativefighters  Singer Bans American Flag From Concerts, Says ...   \n",
       "228  conservativefighters  Muslim Immigrant REFUSES to Let Cops Check His...   \n",
       "229  conservativefighters  Not Messing Around: Trump’s New Comms Director...   \n",
       "231  conservativefighters  Swedish Company Epicenter Implants Microchips ...   \n",
       "233  conservativefighters  McDonald’s Employee Gets Fired For Refusing To...   \n",
       "\n",
       "                                                  text  label_num  \n",
       "227  It’s so typical of radical liberals.\\n\\nThey p...          1  \n",
       "228  Far too many Muslim immigrants come to this co...          1  \n",
       "229  Anthony Scaramucci was hired by President Dona...          1  \n",
       "231  A Swedish company Epicenter implants microchip...          1  \n",
       "233  Officer Scott Naff, who works for Virginia Dep...          1  "
      ]
     },
     "execution_count": 192,
     "metadata": {},
     "output_type": "execute_result"
    }
   ],
   "source": [
    "# drop rows that contain NaN\n",
    "news_data = news_data.dropna(axis=0,how='any')    #to drop if any value in the row has a nan\n",
    "news_data.tail()"
   ]
  },
  {
   "cell_type": "markdown",
   "metadata": {},
   "source": [
    "### Define x and y for modeling later, and split data into training and testing sets"
   ]
  },
  {
   "cell_type": "code",
   "execution_count": 212,
   "metadata": {
    "collapsed": true
   },
   "outputs": [],
   "source": [
    "from sklearn.cross_validation import train_test_split"
   ]
  },
  {
   "cell_type": "code",
   "execution_count": 193,
   "metadata": {
    "collapsed": false
   },
   "outputs": [
    {
     "name": "stdout",
     "output_type": "stream",
     "text": [
      "(218,)\n",
      "(218,)\n"
     ]
    }
   ],
   "source": [
    "x = news_data.text\n",
    "y = news_data.label_num\n",
    "print(x.shape)\n",
    "print(y.shape)"
   ]
  },
  {
   "cell_type": "code",
   "execution_count": 213,
   "metadata": {
    "collapsed": false
   },
   "outputs": [
    {
     "name": "stdout",
     "output_type": "stream",
     "text": [
      "(163,)\n",
      "(55,)\n",
      "(163,)\n",
      "(55,)\n"
     ]
    }
   ],
   "source": [
    "x_train, x_test, y_train, y_test = train_test_split(x, y, random_state=1)\n",
    "print(x_train.shape)\n",
    "print(x_test.shape)\n",
    "print(y_train.shape)\n",
    "print(y_test.shape)"
   ]
  },
  {
   "cell_type": "markdown",
   "metadata": {},
   "source": [
    "### Use CountVectorizer to generate features"
   ]
  },
  {
   "cell_type": "code",
   "execution_count": 195,
   "metadata": {
    "collapsed": false
   },
   "outputs": [],
   "source": [
    "# import and instantiate CountVectorizer (with the default parameters)\n",
    "from sklearn.feature_extraction.text import CountVectorizer\n",
    "\n",
    "# instantiate the vectorizer\n",
    "vect = CountVectorizer()"
   ]
  },
  {
   "cell_type": "code",
   "execution_count": 196,
   "metadata": {
    "collapsed": false
   },
   "outputs": [
    {
     "data": {
      "text/plain": [
       "CountVectorizer(analyzer='word', binary=False, decode_error='strict',\n",
       "        dtype=<class 'numpy.int64'>, encoding='utf-8', input='content',\n",
       "        lowercase=True, max_df=1.0, max_features=None, min_df=1,\n",
       "        ngram_range=(1, 1), preprocessor=None, stop_words=None,\n",
       "        strip_accents=None, token_pattern='(?u)\\\\b\\\\w\\\\w+\\\\b',\n",
       "        tokenizer=None, vocabulary=None)"
      ]
     },
     "execution_count": 196,
     "metadata": {},
     "output_type": "execute_result"
    }
   ],
   "source": [
    "# learn training data vocabulary, then use it to create a document-term matrix\n",
    "vect.fit(x_train)"
   ]
  },
  {
   "cell_type": "code",
   "execution_count": 197,
   "metadata": {
    "collapsed": false
   },
   "outputs": [],
   "source": [
    "x_train_dtm = vect.transform(x_train)"
   ]
  },
  {
   "cell_type": "code",
   "execution_count": 198,
   "metadata": {
    "collapsed": false
   },
   "outputs": [
    {
     "data": {
      "text/plain": [
       "<163x8593 sparse matrix of type '<class 'numpy.int64'>'\n",
       "\twith 35122 stored elements in Compressed Sparse Row format>"
      ]
     },
     "execution_count": 198,
     "metadata": {},
     "output_type": "execute_result"
    }
   ],
   "source": [
    "# examine the document-term matrix\n",
    "x_train_dtm"
   ]
  },
  {
   "cell_type": "code",
   "execution_count": 199,
   "metadata": {
    "collapsed": false
   },
   "outputs": [
    {
     "data": {
      "text/plain": [
       "<55x8593 sparse matrix of type '<class 'numpy.int64'>'\n",
       "\twith 10985 stored elements in Compressed Sparse Row format>"
      ]
     },
     "execution_count": 199,
     "metadata": {},
     "output_type": "execute_result"
    }
   ],
   "source": [
    "# transform testing data (using fitted vocabulary) into a document-term matrix\n",
    "x_test_dtm = vect.transform(x_test)\n",
    "x_test_dtm"
   ]
  },
  {
   "cell_type": "markdown",
   "metadata": {},
   "source": [
    "### Or use TF-IDF to generate features"
   ]
  },
  {
   "cell_type": "code",
   "execution_count": 177,
   "metadata": {
    "collapsed": false
   },
   "outputs": [
    {
     "data": {
      "text/plain": [
       "TfidfVectorizer(analyzer='word', binary=False, decode_error='strict',\n",
       "        dtype=<class 'numpy.int64'>, encoding='utf-8', input='content',\n",
       "        lowercase=True, max_df=1.0, max_features=None, min_df=1,\n",
       "        ngram_range=(1, 1), norm='l2', preprocessor=None, smooth_idf=True,\n",
       "        stop_words='english', strip_accents=None, sublinear_tf=False,\n",
       "        token_pattern='(?u)\\\\b\\\\w\\\\w+\\\\b', tokenizer=None, use_idf=True,\n",
       "        vocabulary=None)"
      ]
     },
     "execution_count": 177,
     "metadata": {},
     "output_type": "execute_result"
    }
   ],
   "source": [
    "from sklearn.feature_extraction.text import TfidfVectorizer\n",
    "tfidf = TfidfVectorizer(stop_words='english')\n",
    "tfidf"
   ]
  },
  {
   "cell_type": "code",
   "execution_count": 178,
   "metadata": {
    "collapsed": false
   },
   "outputs": [],
   "source": [
    "x_train_dtm = tfidf.fit_transform(x_train)"
   ]
  },
  {
   "cell_type": "code",
   "execution_count": 179,
   "metadata": {
    "collapsed": false
   },
   "outputs": [
    {
     "data": {
      "text/plain": [
       "<163x8324 sparse matrix of type '<class 'numpy.float64'>'\n",
       "\twith 25430 stored elements in Compressed Sparse Row format>"
      ]
     },
     "execution_count": 179,
     "metadata": {},
     "output_type": "execute_result"
    }
   ],
   "source": [
    "# examine the document-term matrix\n",
    "x_train_dtm"
   ]
  },
  {
   "cell_type": "code",
   "execution_count": 180,
   "metadata": {
    "collapsed": false
   },
   "outputs": [
    {
     "data": {
      "text/plain": [
       "<55x8324 sparse matrix of type '<class 'numpy.float64'>'\n",
       "\twith 7567 stored elements in Compressed Sparse Row format>"
      ]
     },
     "execution_count": 180,
     "metadata": {},
     "output_type": "execute_result"
    }
   ],
   "source": [
    "x_test_dtm = tfidf.transform(x_test)\n",
    "x_test_dtm"
   ]
  },
  {
   "cell_type": "markdown",
   "metadata": {},
   "source": [
    "## Predicting fake news using Multinomial Naive Bayes "
   ]
  },
  {
   "cell_type": "code",
   "execution_count": 200,
   "metadata": {
    "collapsed": true
   },
   "outputs": [],
   "source": [
    "from sklearn.naive_bayes import MultinomialNB\n",
    "nb = MultinomialNB()"
   ]
  },
  {
   "cell_type": "code",
   "execution_count": 201,
   "metadata": {
    "collapsed": false
   },
   "outputs": [
    {
     "name": "stdout",
     "output_type": "stream",
     "text": [
      "CPU times: user 1.48 ms, sys: 885 µs, total: 2.37 ms\n",
      "Wall time: 1.75 ms\n"
     ]
    },
    {
     "data": {
      "text/plain": [
       "MultinomialNB(alpha=1.0, class_prior=None, fit_prior=True)"
      ]
     },
     "execution_count": 201,
     "metadata": {},
     "output_type": "execute_result"
    }
   ],
   "source": [
    "# train the model using X_train_dtm (timing it with an IPython \"magic command\")\n",
    "%time nb.fit(x_train_dtm, y_train)"
   ]
  },
  {
   "cell_type": "code",
   "execution_count": 202,
   "metadata": {
    "collapsed": false
   },
   "outputs": [],
   "source": [
    "# make class predictions for x_test_dtm\n",
    "y_pred_class = nb.predict(x_test_dtm)"
   ]
  },
  {
   "cell_type": "code",
   "execution_count": 203,
   "metadata": {
    "collapsed": false
   },
   "outputs": [
    {
     "data": {
      "text/plain": [
       "0.83636363636363631"
      ]
     },
     "execution_count": 203,
     "metadata": {},
     "output_type": "execute_result"
    }
   ],
   "source": [
    "# calculate accuracy of class predictions\n",
    "from sklearn import metrics\n",
    "metrics.accuracy_score(y_test, y_pred_class)"
   ]
  },
  {
   "cell_type": "code",
   "execution_count": 204,
   "metadata": {
    "collapsed": false
   },
   "outputs": [
    {
     "data": {
      "text/plain": [
       "array([[37,  1],\n",
       "       [ 8,  9]])"
      ]
     },
     "execution_count": 204,
     "metadata": {},
     "output_type": "execute_result"
    }
   ],
   "source": [
    "# print the confusion matrix\n",
    "metrics.confusion_matrix(y_test, y_pred_class)"
   ]
  },
  {
   "cell_type": "code",
   "execution_count": 205,
   "metadata": {
    "collapsed": false
   },
   "outputs": [
    {
     "data": {
      "text/plain": [
       "19    Wells Fargo Introduces Cardless ATMs\\n\\nThe ba...\n",
       "Name: text, dtype: object"
      ]
     },
     "execution_count": 205,
     "metadata": {},
     "output_type": "execute_result"
    }
   ],
   "source": [
    "# print the false positives (real news incorrectly classified as fake)\n",
    "x_test[y_test < y_pred_class]"
   ]
  },
  {
   "cell_type": "code",
   "execution_count": 206,
   "metadata": {
    "collapsed": false
   },
   "outputs": [
    {
     "data": {
      "text/plain": [
       "'Wells Fargo Introduces Cardless ATMs\\n\\nThe bank is upgrading all 13,000 of its ATMs to process withdrawals using smartphones rather than debit cards. Chase and Bank of America plan to roll out their own version of cardless ATMs, too.'"
      ]
     },
     "execution_count": 206,
     "metadata": {},
     "output_type": "execute_result"
    }
   ],
   "source": [
    "# example false positives\n",
    "x_test[19]"
   ]
  },
  {
   "cell_type": "code",
   "execution_count": 170,
   "metadata": {
    "collapsed": false
   },
   "outputs": [
    {
     "data": {
      "text/plain": [
       "223    Anyone who dismisses Kid Rock’s campaign with ...\n",
       "194    Although you experience minor pest problems in...\n",
       "202    Ami Horowitz, it’s a filmmaker known for his c...\n",
       "160    Baltimore, MD (AP) – Speaking to reporters in ...\n",
       "219    Senate Minority chairman Chuck Schumer (D-NY) ...\n",
       "231    A Swedish company Epicenter implants microchip...\n",
       "204    House Oversight Chairman Trey Gowdy defended A...\n",
       "233    Officer Scott Naff, who works for Virginia Dep...\n",
       "Name: text, dtype: object"
      ]
     },
     "execution_count": 170,
     "metadata": {},
     "output_type": "execute_result"
    }
   ],
   "source": [
    "# print the false negatives (fake news incorrectly classified as real)\n",
    "x_test[y_test > y_pred_class]"
   ]
  },
  {
   "cell_type": "code",
   "execution_count": 211,
   "metadata": {
    "collapsed": false
   },
   "outputs": [
    {
     "data": {
      "text/plain": [
       "'Senate Minority chairman Chuck Schumer (D-NY) is loud anti-Trump Democrat that is constantly trying to obtain every bit of information that the Democrats can use to impeach Trump. But all that now has backfired.\\n\\nA new survey shows that 37% of New Yorkers had an unfavorable vote of Schumer, and this the highest rate of disapproval he has ever got. Siena College released the poll this Thursday.\\n\\nThe Dems finally got sick of hearing him attack the president all the time. The results of the poll came just one day after Schumer’s last attack against the president, when he criticized Trump for saying that Republicans should let Obamacare die, claiming that nothing can change his position on this matter.\\n\\n“It’s hard to believe that he could say something like that,” said the NYC Democrat. “President Trump’s promise to let our health care system collapse is so, so wrong on three counts. It’s a failure morally, it’s a failure politically, and it’s a remarkable failure of presidential leadership.”\\n\\nSadly, for him, he immediately got the message from his supporters for the way he behaves.\\n\\nPlease share this post on Facebook if you support Trump.\\n\\nWhat is your opinion on this? Scroll down to comment below!'"
      ]
     },
     "execution_count": 211,
     "metadata": {},
     "output_type": "execute_result"
    }
   ],
   "source": [
    "# example false negative\n",
    "x_test[219]"
   ]
  },
  {
   "cell_type": "code",
   "execution_count": 208,
   "metadata": {
    "collapsed": false
   },
   "outputs": [
    {
     "data": {
      "text/plain": [
       "0.79256965944272451"
      ]
     },
     "execution_count": 208,
     "metadata": {},
     "output_type": "execute_result"
    }
   ],
   "source": [
    "# calculate predicted probabilities for x_test_dtm (poorly calibrated)\n",
    "y_pred_prob = nb.predict_proba(x_test_dtm)[:, 1]\n",
    "# calculate AUC\n",
    "metrics.roc_auc_score(y_test, y_pred_prob)"
   ]
  }
 ],
 "metadata": {
  "anaconda-cloud": {},
  "kernelspec": {
   "display_name": "Python [Root]",
   "language": "python",
   "name": "Python [Root]"
  },
  "language_info": {
   "codemirror_mode": {
    "name": "ipython",
    "version": 3
   },
   "file_extension": ".py",
   "mimetype": "text/x-python",
   "name": "python",
   "nbconvert_exporter": "python",
   "pygments_lexer": "ipython3",
   "version": "3.5.2"
  }
 },
 "nbformat": 4,
 "nbformat_minor": 0
}
