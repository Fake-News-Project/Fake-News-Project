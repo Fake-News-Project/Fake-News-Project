{
 "cells": [
  {
   "cell_type": "markdown",
   "metadata": {},
   "source": [
    "# Generate features from text and use Multinomial Naive Bayes to predict fake news"
   ]
  },
  {
   "cell_type": "markdown",
   "metadata": {},
   "source": [
    "Reference\n",
    "* https://github.com/justmarkham/pycon-2016-tutorial/blob/master/tutorial_with_output.ipynb\n",
    "* https://www.youtube.com/watch?v=hXNbFNCgPfY"
   ]
  },
  {
   "cell_type": "markdown",
   "metadata": {},
   "source": [
    "## Generate data"
   ]
  },
  {
   "cell_type": "code",
   "execution_count": 1,
   "metadata": {
    "collapsed": false
   },
   "outputs": [],
   "source": [
    "import pandas as pd\n",
    "import numpy as np\n",
    "import os\n",
    "import newspaper "
   ]
  },
  {
   "cell_type": "markdown",
   "metadata": {},
   "source": [
    "### read data from files and merge them"
   ]
  },
  {
   "cell_type": "code",
   "execution_count": 2,
   "metadata": {
    "collapsed": false,
    "scrolled": false
   },
   "outputs": [
    {
     "data": {
      "text/html": [
       "<div>\n",
       "<table border=\"1\" class=\"dataframe\">\n",
       "  <thead>\n",
       "    <tr style=\"text-align: right;\">\n",
       "      <th></th>\n",
       "      <th>url</th>\n",
       "      <th>source</th>\n",
       "      <th>title</th>\n",
       "      <th>text</th>\n",
       "      <th>label_num</th>\n",
       "    </tr>\n",
       "  </thead>\n",
       "  <tbody>\n",
       "    <tr>\n",
       "      <th>435</th>\n",
       "      <td>http://now8news.com/fidget-spinner-bursts-flam...</td>\n",
       "      <td>now8news</td>\n",
       "      <td>Fidget Spinner Bursts Into Flames Killing Todd...</td>\n",
       "      <td>The parents of a 3 year old girl woke up to tr...</td>\n",
       "      <td>1</td>\n",
       "    </tr>\n",
       "    <tr>\n",
       "      <th>436</th>\n",
       "      <td>http://now8news.com/18-year-old-girl-marries-f...</td>\n",
       "      <td>now8news</td>\n",
       "      <td>18 Year Old Girl Marries Her Father In Arkansa...</td>\n",
       "      <td>18 Year Old Girl Marries Her Father In Arkansa...</td>\n",
       "      <td>1</td>\n",
       "    </tr>\n",
       "    <tr>\n",
       "      <th>437</th>\n",
       "      <td>http://now8news.com/trump-raising-age-limit-to...</td>\n",
       "      <td>now8news</td>\n",
       "      <td>Trump Raising Age Limit For Tobacco Consumptio...</td>\n",
       "      <td>There is more bad news for cigarette smokers –...</td>\n",
       "      <td>1</td>\n",
       "    </tr>\n",
       "    <tr>\n",
       "      <th>438</th>\n",
       "      <td>http://now8news.com/caitlyn-jenner-discusses-d...</td>\n",
       "      <td>now8news</td>\n",
       "      <td>Caitlyn Jenner Discusses Her Desire To Transit...</td>\n",
       "      <td>Caitlyn Jenner or “CJ” as he refers to herself...</td>\n",
       "      <td>1</td>\n",
       "    </tr>\n",
       "    <tr>\n",
       "      <th>439</th>\n",
       "      <td>http://now8news.com/3-year-old-dies-tickled-de...</td>\n",
       "      <td>now8news</td>\n",
       "      <td>3 Year Old Girl Dies After Accidentally Being ...</td>\n",
       "      <td>Charlotte, NC – It’s a warning being sent out ...</td>\n",
       "      <td>1</td>\n",
       "    </tr>\n",
       "  </tbody>\n",
       "</table>\n",
       "</div>"
      ],
      "text/plain": [
       "                                                   url    source  \\\n",
       "435  http://now8news.com/fidget-spinner-bursts-flam...  now8news   \n",
       "436  http://now8news.com/18-year-old-girl-marries-f...  now8news   \n",
       "437  http://now8news.com/trump-raising-age-limit-to...  now8news   \n",
       "438  http://now8news.com/caitlyn-jenner-discusses-d...  now8news   \n",
       "439  http://now8news.com/3-year-old-dies-tickled-de...  now8news   \n",
       "\n",
       "                                                 title  \\\n",
       "435  Fidget Spinner Bursts Into Flames Killing Todd...   \n",
       "436  18 Year Old Girl Marries Her Father In Arkansa...   \n",
       "437  Trump Raising Age Limit For Tobacco Consumptio...   \n",
       "438  Caitlyn Jenner Discusses Her Desire To Transit...   \n",
       "439  3 Year Old Girl Dies After Accidentally Being ...   \n",
       "\n",
       "                                                  text  label_num  \n",
       "435  The parents of a 3 year old girl woke up to tr...          1  \n",
       "436  18 Year Old Girl Marries Her Father In Arkansa...          1  \n",
       "437  There is more bad news for cigarette smokers –...          1  \n",
       "438  Caitlyn Jenner or “CJ” as he refers to herself...          1  \n",
       "439  Charlotte, NC – It’s a warning being sent out ...          1  "
      ]
     },
     "execution_count": 2,
     "metadata": {},
     "output_type": "execute_result"
    }
   ],
   "source": [
    "path = os.path.join('data', 'fakenews_jz.csv')\n",
    "data_fakenews = pd.read_csv(path,usecols=[1,2,3,5])\n",
    "data_fakenews['label_num'] = 1\n",
    "data_fakenews.tail()"
   ]
  },
  {
   "cell_type": "code",
   "execution_count": 5,
   "metadata": {
    "collapsed": false
   },
   "outputs": [],
   "source": [
    "data_fakenews.source.value_counts()"
   ]
  },
  {
   "cell_type": "code",
   "execution_count": 127,
   "metadata": {
    "collapsed": false,
    "scrolled": false
   },
   "outputs": [
    {
     "data": {
      "text/html": [
       "<div>\n",
       "<table border=\"1\" class=\"dataframe\">\n",
       "  <thead>\n",
       "    <tr style=\"text-align: right;\">\n",
       "      <th></th>\n",
       "      <th>url</th>\n",
       "      <th>source</th>\n",
       "      <th>title</th>\n",
       "      <th>text</th>\n",
       "      <th>label_num</th>\n",
       "    </tr>\n",
       "  </thead>\n",
       "  <tbody>\n",
       "    <tr>\n",
       "      <th>831</th>\n",
       "      <td>http://www.newyorker.com/news/news-desk</td>\n",
       "      <td>newyorker</td>\n",
       "      <td>News Desk: Breaking News, Reporting, and Polit...</td>\n",
       "      <td>NaN</td>\n",
       "      <td>0</td>\n",
       "    </tr>\n",
       "    <tr>\n",
       "      <th>832</th>\n",
       "      <td>http://www.newyorker.com/cartoon/dernavich-201...</td>\n",
       "      <td>newyorker</td>\n",
       "      <td>A Cartoon from The New Yorker</td>\n",
       "      <td>NaN</td>\n",
       "      <td>0</td>\n",
       "    </tr>\n",
       "    <tr>\n",
       "      <th>833</th>\n",
       "      <td>http://tunein.com/radio/New-Yorker-Poetry-p803...</td>\n",
       "      <td>newyorker</td>\n",
       "      <td>New Yorker Poetry</td>\n",
       "      <td>Yusef Komunyakaa reads a poem by Marilyn Hacke...</td>\n",
       "      <td>0</td>\n",
       "    </tr>\n",
       "    <tr>\n",
       "      <th>834</th>\n",
       "      <td>http://video.newyorker.com/watch/shorts-murmur...</td>\n",
       "      <td>newyorker</td>\n",
       "      <td>The Startup to End All Startups</td>\n",
       "      <td>The Startup to End All Startups\\n\\nMeet uBox, ...</td>\n",
       "      <td>0</td>\n",
       "    </tr>\n",
       "    <tr>\n",
       "      <th>835</th>\n",
       "      <td>http://www.newyorker.com/humor/borowitz-report...</td>\n",
       "      <td>newyorker</td>\n",
       "      <td>Cruz: “The Dream of Keeping Poor People from S...</td>\n",
       "      <td>WASHINGTON ( The Borowitz Report )—Acknowledgi...</td>\n",
       "      <td>0</td>\n",
       "    </tr>\n",
       "  </tbody>\n",
       "</table>\n",
       "</div>"
      ],
      "text/plain": [
       "                                                   url     source  \\\n",
       "831            http://www.newyorker.com/news/news-desk  newyorker   \n",
       "832  http://www.newyorker.com/cartoon/dernavich-201...  newyorker   \n",
       "833  http://tunein.com/radio/New-Yorker-Poetry-p803...  newyorker   \n",
       "834  http://video.newyorker.com/watch/shorts-murmur...  newyorker   \n",
       "835  http://www.newyorker.com/humor/borowitz-report...  newyorker   \n",
       "\n",
       "                                                 title  \\\n",
       "831  News Desk: Breaking News, Reporting, and Polit...   \n",
       "832                      A Cartoon from The New Yorker   \n",
       "833                                  New Yorker Poetry   \n",
       "834                    The Startup to End All Startups   \n",
       "835  Cruz: “The Dream of Keeping Poor People from S...   \n",
       "\n",
       "                                                  text  label_num  \n",
       "831                                                NaN          0  \n",
       "832                                                NaN          0  \n",
       "833  Yusef Komunyakaa reads a poem by Marilyn Hacke...          0  \n",
       "834  The Startup to End All Startups\\n\\nMeet uBox, ...          0  \n",
       "835  WASHINGTON ( The Borowitz Report )—Acknowledgi...          0  "
      ]
     },
     "execution_count": 127,
     "metadata": {},
     "output_type": "execute_result"
    }
   ],
   "source": [
    "path = os.path.join('data', 'realnews_jz.csv')\n",
    "data_realnews = pd.read_csv(path,usecols=[0,1,2,4])\n",
    "data_realnews['label_num'] = 0\n",
    "data_realnews.tail()"
   ]
  },
  {
   "cell_type": "code",
   "execution_count": 149,
   "metadata": {
    "collapsed": false
   },
   "outputs": [
    {
     "data": {
      "text/html": [
       "<div>\n",
       "<table border=\"1\" class=\"dataframe\">\n",
       "  <thead>\n",
       "    <tr style=\"text-align: right;\">\n",
       "      <th></th>\n",
       "      <th>url</th>\n",
       "      <th>source</th>\n",
       "      <th>title</th>\n",
       "      <th>text</th>\n",
       "      <th>authenticity</th>\n",
       "      <th>label_num</th>\n",
       "    </tr>\n",
       "  </thead>\n",
       "  <tbody>\n",
       "    <tr>\n",
       "      <th>0</th>\n",
       "      <td>http://www.npr.org/2017/07/27/539825446/june-f...</td>\n",
       "      <td>npr</td>\n",
       "      <td>June Foray, Voice Of Rocky From 'The Bullwinkl...</td>\n",
       "      <td>June Foray, Voice Of Rocky From 'The Bullwinkl...</td>\n",
       "      <td>1</td>\n",
       "      <td>0</td>\n",
       "    </tr>\n",
       "    <tr>\n",
       "      <th>1</th>\n",
       "      <td>http://beforeitsnews.com/science-and-technolog...</td>\n",
       "      <td>beforeitsnews</td>\n",
       "      <td>Hacker Proves Anyone Can Fire a Locked Smart G...</td>\n",
       "      <td>Hacker Proves Anyone Can Fire a Locked Smart G...</td>\n",
       "      <td>0</td>\n",
       "      <td>1</td>\n",
       "    </tr>\n",
       "    <tr>\n",
       "      <th>2</th>\n",
       "      <td>http://www.bbc.com/news/uk-40731164</td>\n",
       "      <td>bbc</td>\n",
       "      <td>Diesel and petrol car ban: Clean air strategy ...</td>\n",
       "      <td>The government's £3bn clean air strategy does ...</td>\n",
       "      <td>1</td>\n",
       "      <td>0</td>\n",
       "    </tr>\n",
       "    <tr>\n",
       "      <th>3</th>\n",
       "      <td>http://beforeitsnews.com/alternative/2017/07/n...</td>\n",
       "      <td>beforeitsnews</td>\n",
       "      <td>NASA Caught Hiding Something At North Pole!</td>\n",
       "      <td>NASA Caught Hiding Something At North Pole!\\n\\...</td>\n",
       "      <td>0</td>\n",
       "      <td>1</td>\n",
       "    </tr>\n",
       "    <tr>\n",
       "      <th>4</th>\n",
       "      <td>https://conservativedailypost.com/planned-pare...</td>\n",
       "      <td>Conservativedailypost</td>\n",
       "      <td>Planned Parenthood Doctors Caught On Tape Laug...</td>\n",
       "      <td>Advertisement\\n\\nWARNING: The video and conten...</td>\n",
       "      <td>0</td>\n",
       "      <td>1</td>\n",
       "    </tr>\n",
       "  </tbody>\n",
       "</table>\n",
       "</div>"
      ],
      "text/plain": [
       "                                                 url                 source  \\\n",
       "0  http://www.npr.org/2017/07/27/539825446/june-f...                    npr   \n",
       "1  http://beforeitsnews.com/science-and-technolog...          beforeitsnews   \n",
       "2                http://www.bbc.com/news/uk-40731164                    bbc   \n",
       "3  http://beforeitsnews.com/alternative/2017/07/n...          beforeitsnews   \n",
       "4  https://conservativedailypost.com/planned-pare...  Conservativedailypost   \n",
       "\n",
       "                                               title  \\\n",
       "0  June Foray, Voice Of Rocky From 'The Bullwinkl...   \n",
       "1  Hacker Proves Anyone Can Fire a Locked Smart G...   \n",
       "2  Diesel and petrol car ban: Clean air strategy ...   \n",
       "3        NASA Caught Hiding Something At North Pole!   \n",
       "4  Planned Parenthood Doctors Caught On Tape Laug...   \n",
       "\n",
       "                                                text  authenticity  label_num  \n",
       "0  June Foray, Voice Of Rocky From 'The Bullwinkl...             1          0  \n",
       "1  Hacker Proves Anyone Can Fire a Locked Smart G...             0          1  \n",
       "2  The government's £3bn clean air strategy does ...             1          0  \n",
       "3  NASA Caught Hiding Something At North Pole!\\n\\...             0          1  \n",
       "4  Advertisement\\n\\nWARNING: The video and conten...             0          1  "
      ]
     },
     "execution_count": 149,
     "metadata": {},
     "output_type": "execute_result"
    }
   ],
   "source": [
    "path = os.path.join('data', 'hyesoo_df.csv')\n",
    "data_hy = pd.read_csv(path,usecols=[1,2,3,5,6])\n",
    "data_hy['label_num'] = data_hy.authenticity.map({1:0,0:1})\n",
    "data_hy.head()"
   ]
  },
  {
   "cell_type": "code",
   "execution_count": 150,
   "metadata": {
    "collapsed": false
   },
   "outputs": [
    {
     "data": {
      "text/plain": [
       "(1741, 6)"
      ]
     },
     "execution_count": 150,
     "metadata": {},
     "output_type": "execute_result"
    }
   ],
   "source": [
    "data_hy.shape"
   ]
  },
  {
   "cell_type": "code",
   "execution_count": 151,
   "metadata": {
    "collapsed": false
   },
   "outputs": [
    {
     "data": {
      "text/html": [
       "<div>\n",
       "<table border=\"1\" class=\"dataframe\">\n",
       "  <thead>\n",
       "    <tr style=\"text-align: right;\">\n",
       "      <th></th>\n",
       "      <th>url</th>\n",
       "      <th>source</th>\n",
       "      <th>title</th>\n",
       "      <th>text</th>\n",
       "      <th>label_num</th>\n",
       "    </tr>\n",
       "  </thead>\n",
       "  <tbody>\n",
       "    <tr>\n",
       "      <th>0</th>\n",
       "      <td>http://www.npr.org/2017/07/27/539825446/june-f...</td>\n",
       "      <td>npr</td>\n",
       "      <td>June Foray, Voice Of Rocky From 'The Bullwinkl...</td>\n",
       "      <td>June Foray, Voice Of Rocky From 'The Bullwinkl...</td>\n",
       "      <td>0</td>\n",
       "    </tr>\n",
       "    <tr>\n",
       "      <th>1</th>\n",
       "      <td>http://beforeitsnews.com/science-and-technolog...</td>\n",
       "      <td>beforeitsnews</td>\n",
       "      <td>Hacker Proves Anyone Can Fire a Locked Smart G...</td>\n",
       "      <td>Hacker Proves Anyone Can Fire a Locked Smart G...</td>\n",
       "      <td>1</td>\n",
       "    </tr>\n",
       "    <tr>\n",
       "      <th>2</th>\n",
       "      <td>http://www.bbc.com/news/uk-40731164</td>\n",
       "      <td>bbc</td>\n",
       "      <td>Diesel and petrol car ban: Clean air strategy ...</td>\n",
       "      <td>The government's £3bn clean air strategy does ...</td>\n",
       "      <td>0</td>\n",
       "    </tr>\n",
       "    <tr>\n",
       "      <th>3</th>\n",
       "      <td>http://beforeitsnews.com/alternative/2017/07/n...</td>\n",
       "      <td>beforeitsnews</td>\n",
       "      <td>NASA Caught Hiding Something At North Pole!</td>\n",
       "      <td>NASA Caught Hiding Something At North Pole!\\n\\...</td>\n",
       "      <td>1</td>\n",
       "    </tr>\n",
       "    <tr>\n",
       "      <th>4</th>\n",
       "      <td>https://conservativedailypost.com/planned-pare...</td>\n",
       "      <td>Conservativedailypost</td>\n",
       "      <td>Planned Parenthood Doctors Caught On Tape Laug...</td>\n",
       "      <td>Advertisement\\n\\nWARNING: The video and conten...</td>\n",
       "      <td>1</td>\n",
       "    </tr>\n",
       "  </tbody>\n",
       "</table>\n",
       "</div>"
      ],
      "text/plain": [
       "                                                 url                 source  \\\n",
       "0  http://www.npr.org/2017/07/27/539825446/june-f...                    npr   \n",
       "1  http://beforeitsnews.com/science-and-technolog...          beforeitsnews   \n",
       "2                http://www.bbc.com/news/uk-40731164                    bbc   \n",
       "3  http://beforeitsnews.com/alternative/2017/07/n...          beforeitsnews   \n",
       "4  https://conservativedailypost.com/planned-pare...  Conservativedailypost   \n",
       "\n",
       "                                               title  \\\n",
       "0  June Foray, Voice Of Rocky From 'The Bullwinkl...   \n",
       "1  Hacker Proves Anyone Can Fire a Locked Smart G...   \n",
       "2  Diesel and petrol car ban: Clean air strategy ...   \n",
       "3        NASA Caught Hiding Something At North Pole!   \n",
       "4  Planned Parenthood Doctors Caught On Tape Laug...   \n",
       "\n",
       "                                                text  label_num  \n",
       "0  June Foray, Voice Of Rocky From 'The Bullwinkl...          0  \n",
       "1  Hacker Proves Anyone Can Fire a Locked Smart G...          1  \n",
       "2  The government's £3bn clean air strategy does ...          0  \n",
       "3  NASA Caught Hiding Something At North Pole!\\n\\...          1  \n",
       "4  Advertisement\\n\\nWARNING: The video and conten...          1  "
      ]
     },
     "execution_count": 151,
     "metadata": {},
     "output_type": "execute_result"
    }
   ],
   "source": [
    "data_hy.drop(['authenticity'], axis = 1, inplace = True)\n",
    "data_hy.head()"
   ]
  },
  {
   "cell_type": "code",
   "execution_count": 152,
   "metadata": {
    "collapsed": false
   },
   "outputs": [
    {
     "data": {
      "text/plain": [
       "(3017, 5)"
      ]
     },
     "execution_count": 152,
     "metadata": {},
     "output_type": "execute_result"
    }
   ],
   "source": [
    "news_data = pd.concat([data_fakenews, data_realnews,data_hy], ignore_index=True)\n",
    "news_data.shape"
   ]
  },
  {
   "cell_type": "markdown",
   "metadata": {},
   "source": [
    "## Convert text to numbers (features)"
   ]
  },
  {
   "cell_type": "code",
   "execution_count": 153,
   "metadata": {
    "collapsed": false
   },
   "outputs": [
    {
     "data": {
      "text/plain": [
       "(3017, 5)"
      ]
     },
     "execution_count": 153,
     "metadata": {},
     "output_type": "execute_result"
    }
   ],
   "source": [
    "# shape of our data\n",
    "news_data.shape"
   ]
  },
  {
   "cell_type": "code",
   "execution_count": 154,
   "metadata": {
    "collapsed": false,
    "scrolled": true
   },
   "outputs": [],
   "source": [
    "# drop rows that contain NaN\n",
    "news_data = news_data.dropna(axis=0,how='any')    #to drop if any value in the row has a nan\n",
    "#news_data.tail()"
   ]
  },
  {
   "cell_type": "code",
   "execution_count": 155,
   "metadata": {
    "collapsed": false
   },
   "outputs": [
    {
     "data": {
      "text/plain": [
       "(2796, 5)"
      ]
     },
     "execution_count": 155,
     "metadata": {},
     "output_type": "execute_result"
    }
   ],
   "source": [
    "news_data = news_data[news_data.text.map(len) > 200]\n",
    "news_data.shape"
   ]
  },
  {
   "cell_type": "code",
   "execution_count": 156,
   "metadata": {
    "collapsed": false
   },
   "outputs": [
    {
     "data": {
      "text/plain": [
       "0    1740\n",
       "1    1056\n",
       "Name: label_num, dtype: int64"
      ]
     },
     "execution_count": 156,
     "metadata": {},
     "output_type": "execute_result"
    }
   ],
   "source": [
    "# source distribution \n",
    "news_data.label_num.value_counts()"
   ]
  },
  {
   "cell_type": "markdown",
   "metadata": {},
   "source": [
    "### Define x and y for modeling later, and split data into training and testing sets"
   ]
  },
  {
   "cell_type": "code",
   "execution_count": 10,
   "metadata": {
    "collapsed": false
   },
   "outputs": [],
   "source": [
    "from sklearn.cross_validation import train_test_split"
   ]
  },
  {
   "cell_type": "code",
   "execution_count": 157,
   "metadata": {
    "collapsed": false
   },
   "outputs": [
    {
     "name": "stdout",
     "output_type": "stream",
     "text": [
      "(2796,)\n",
      "(2796,)\n"
     ]
    }
   ],
   "source": [
    "x = news_data.text\n",
    "y = news_data.label_num\n",
    "print(x.shape)\n",
    "print(y.shape)"
   ]
  },
  {
   "cell_type": "code",
   "execution_count": 158,
   "metadata": {
    "collapsed": false
   },
   "outputs": [
    {
     "name": "stdout",
     "output_type": "stream",
     "text": [
      "(2097,)\n",
      "(699,)\n",
      "(2097,)\n",
      "(699,)\n"
     ]
    }
   ],
   "source": [
    "x_train, x_test, y_train, y_test = train_test_split(x, y, random_state=1)\n",
    "print(x_train.shape)\n",
    "print(x_test.shape)\n",
    "print(y_train.shape)\n",
    "print(y_test.shape)"
   ]
  },
  {
   "cell_type": "markdown",
   "metadata": {},
   "source": [
    "### Method 1: Use CountVectorizer to generate features"
   ]
  },
  {
   "cell_type": "code",
   "execution_count": 202,
   "metadata": {
    "collapsed": true
   },
   "outputs": [],
   "source": [
    "# import and instantiate CountVectorizer (with the default parameters)\n",
    "from sklearn.feature_extraction.text import CountVectorizer"
   ]
  },
  {
   "cell_type": "code",
   "execution_count": 203,
   "metadata": {
    "collapsed": false
   },
   "outputs": [],
   "source": [
    "# instantiate the vectorizer\n",
    "vect = CountVectorizer(stop_words='english',ngram_range=(2, 2))"
   ]
  },
  {
   "cell_type": "code",
   "execution_count": 205,
   "metadata": {
    "collapsed": false
   },
   "outputs": [
    {
     "data": {
      "text/plain": [
       "CountVectorizer(analyzer='word', binary=False, decode_error='strict',\n",
       "        dtype=<class 'numpy.int64'>, encoding='utf-8', input='content',\n",
       "        lowercase=True, max_df=1.0, max_features=None, min_df=1,\n",
       "        ngram_range=(2, 2), preprocessor=None, stop_words='english',\n",
       "        strip_accents=None, token_pattern='(?u)\\\\b\\\\w\\\\w+\\\\b',\n",
       "        tokenizer=None, vocabulary=None)"
      ]
     },
     "execution_count": 205,
     "metadata": {},
     "output_type": "execute_result"
    }
   ],
   "source": [
    "# learn training data vocabulary, then use it to create a document-term matrix\n",
    "vect.fit(x_train)"
   ]
  },
  {
   "cell_type": "code",
   "execution_count": 206,
   "metadata": {
    "collapsed": false
   },
   "outputs": [
    {
     "data": {
      "text/plain": [
       "<2097x561304 sparse matrix of type '<class 'numpy.int64'>'\n",
       "\twith 689438 stored elements in Compressed Sparse Row format>"
      ]
     },
     "execution_count": 206,
     "metadata": {},
     "output_type": "execute_result"
    }
   ],
   "source": [
    "x_train_dtm = vect.transform(x_train)\n",
    "# examine the document-term matrix\n",
    "x_train_dtm"
   ]
  },
  {
   "cell_type": "code",
   "execution_count": 207,
   "metadata": {
    "collapsed": false
   },
   "outputs": [
    {
     "data": {
      "text/plain": [
       "<699x561304 sparse matrix of type '<class 'numpy.int64'>'\n",
       "\twith 63230 stored elements in Compressed Sparse Row format>"
      ]
     },
     "execution_count": 207,
     "metadata": {},
     "output_type": "execute_result"
    }
   ],
   "source": [
    "# transform testing data (using fitted vocabulary) into a document-term matrix\n",
    "x_test_dtm = vect.transform(x_test)\n",
    "x_test_dtm"
   ]
  },
  {
   "cell_type": "markdown",
   "metadata": {},
   "source": [
    "### Method 2: use TF-IDF to generate features"
   ]
  },
  {
   "cell_type": "code",
   "execution_count": 33,
   "metadata": {
    "collapsed": false
   },
   "outputs": [
    {
     "data": {
      "text/plain": [
       "TfidfVectorizer(analyzer='word', binary=False, decode_error='strict',\n",
       "        dtype=<class 'numpy.int64'>, encoding='utf-8', input='content',\n",
       "        lowercase=True, max_df=1.0, max_features=None, min_df=1,\n",
       "        ngram_range=(2, 2), norm='l2', preprocessor=None, smooth_idf=True,\n",
       "        stop_words='english', strip_accents=None, sublinear_tf=False,\n",
       "        token_pattern='(?u)\\\\b\\\\w\\\\w+\\\\b', tokenizer=None, use_idf=True,\n",
       "        vocabulary=None)"
      ]
     },
     "execution_count": 33,
     "metadata": {},
     "output_type": "execute_result"
    }
   ],
   "source": [
    "from sklearn.feature_extraction.text import TfidfVectorizer\n",
    "tfidf = TfidfVectorizer(stop_words='english',ngram_range=(2, 2))\n",
    "tfidf"
   ]
  },
  {
   "cell_type": "code",
   "execution_count": 35,
   "metadata": {
    "collapsed": false
   },
   "outputs": [
    {
     "data": {
      "text/plain": [
       "<791x185241 sparse matrix of type '<class 'numpy.float64'>'\n",
       "\twith 209882 stored elements in Compressed Sparse Row format>"
      ]
     },
     "execution_count": 35,
     "metadata": {},
     "output_type": "execute_result"
    }
   ],
   "source": [
    "x_train_dtm = tfidf.fit_transform(x_train)\n",
    "\n",
    "# examine the document-term matrix\n",
    "x_train_dtm"
   ]
  },
  {
   "cell_type": "code",
   "execution_count": 36,
   "metadata": {
    "collapsed": false
   },
   "outputs": [
    {
     "data": {
      "text/plain": [
       "<264x185241 sparse matrix of type '<class 'numpy.float64'>'\n",
       "\twith 14664 stored elements in Compressed Sparse Row format>"
      ]
     },
     "execution_count": 36,
     "metadata": {},
     "output_type": "execute_result"
    }
   ],
   "source": [
    "x_test_dtm = tfidf.transform(x_test)\n",
    "x_test_dtm"
   ]
  },
  {
   "cell_type": "markdown",
   "metadata": {},
   "source": [
    "## Predicting fake news using Multinomial Naive Bayes "
   ]
  },
  {
   "cell_type": "code",
   "execution_count": 18,
   "metadata": {
    "collapsed": true
   },
   "outputs": [],
   "source": [
    "from sklearn.naive_bayes import MultinomialNB\n",
    "from sklearn import metrics"
   ]
  },
  {
   "cell_type": "code",
   "execution_count": 213,
   "metadata": {
    "collapsed": false
   },
   "outputs": [
    {
     "name": "stdout",
     "output_type": "stream",
     "text": [
      "CPU times: user 29.8 ms, sys: 17.4 ms, total: 47.2 ms\n",
      "Wall time: 45.3 ms\n"
     ]
    },
    {
     "data": {
      "text/plain": [
       "MultinomialNB(alpha=1.0, class_prior=None, fit_prior=True)"
      ]
     },
     "execution_count": 213,
     "metadata": {},
     "output_type": "execute_result"
    }
   ],
   "source": [
    "nb = MultinomialNB()\n",
    "\n",
    "# train the model using X_train_dtm (timing it with an IPython \"magic command\")\n",
    "%time nb.fit(x_train_dtm, y_train)"
   ]
  },
  {
   "cell_type": "code",
   "execution_count": 214,
   "metadata": {
    "collapsed": false
   },
   "outputs": [
    {
     "data": {
      "text/plain": [
       "0.87553648068669532"
      ]
     },
     "execution_count": 214,
     "metadata": {},
     "output_type": "execute_result"
    }
   ],
   "source": [
    "# make class predictions for x_test_dtm\n",
    "y_pred_class = nb.predict(x_test_dtm)\n",
    "\n",
    "# calculate accuracy of class predictions\n",
    "metrics.accuracy_score(y_test, y_pred_class) # or nb.score(x_test_dtm,y_test)"
   ]
  },
  {
   "cell_type": "code",
   "execution_count": 215,
   "metadata": {
    "collapsed": false
   },
   "outputs": [
    {
     "data": {
      "text/plain": [
       "array([[419,  21],\n",
       "       [ 66, 193]])"
      ]
     },
     "execution_count": 215,
     "metadata": {},
     "output_type": "execute_result"
    }
   ],
   "source": [
    "# print the confusion matrix\n",
    "metrics.confusion_matrix(y_test, y_pred_class)"
   ]
  },
  {
   "cell_type": "code",
   "execution_count": 166,
   "metadata": {
    "collapsed": false
   },
   "outputs": [
    {
     "data": {
      "text/plain": [
       "1747    By Samuel Chamberlain | Fox News\\n\\nIn an excl...\n",
       "1127    I think you're right, Wu. They've got to grips...\n",
       "2268    When President Donald Trump went onstage in Yo...\n",
       "1335    FACT CHECK: Newt Gingrich's Scathing Critique ...\n",
       "2678    (CNN) House intelligence committee members on ...\n",
       "797     Simone Biles isn't afraid of making fun of her...\n",
       "1406    An Obama official made “hundreds of unmasking ...\n",
       "1200    WASHINGTON ( The Borowitz Report )—In a dramat...\n",
       "938     Marvel is hoping fans are ready to get \"Hooked...\n",
       "1365    (CNN) Just because it's on the internet doesn'...\n",
       "766     A day after Speaker Paul Ryan announced that h...\n",
       "2222    Fox News\\n\\nAn Obama official made “hundreds o...\n",
       "1344    Smoke billows from the ruined Grand al-Nuri Mo...\n",
       "1098    Sieben zu eins.\\n\\n\\n\\nSeven one.\\n\\n\\n\\nNo ma...\n",
       "988     Marco Rubio Talks Super Tuesday, Lists States ...\n",
       "1555    Washington (CNN) As President Donald Trump con...\n",
       "2168    Members of the Iranian revolutionary guard mar...\n",
       "2260    Attorney General Jeff Sessions is the latest v...\n",
       "1800    Danielle Rhoades Ha, vice president of communi...\n",
       "1956    SYDNEY (Reuters) - Britain plans to send a war...\n",
       "563     This Oregon Pub is Pouring Compassion by the P...\n",
       "Name: text, dtype: object"
      ]
     },
     "execution_count": 166,
     "metadata": {},
     "output_type": "execute_result"
    }
   ],
   "source": [
    "# print the false positives (real news incorrectly classified as fake)\n",
    "x_test[y_test < y_pred_class]"
   ]
  },
  {
   "cell_type": "code",
   "execution_count": 98,
   "metadata": {
    "collapsed": false
   },
   "outputs": [],
   "source": [
    "# example false positives\n",
    "#x_test[1747]"
   ]
  },
  {
   "cell_type": "code",
   "execution_count": 191,
   "metadata": {
    "collapsed": false
   },
   "outputs": [
    {
     "data": {
      "text/plain": [
       "2470    Robert Mueller selects veteran Justice Departm...\n",
       "31      The Jewish media was very pissed off over Dona...\n",
       "123     Time and time again, Muslims continue to prove...\n",
       "324     You have to LOVE dogs!\\n\\nI love dogs and this...\n",
       "439     Charlotte, NC – It’s a warning being sent out ...\n",
       "1879    • DEA forced to pay Daniel Chong $4.1M after l...\n",
       "1431    “ Muller has behaved in an extremely unprofess...\n",
       "1310    (Before It's News)\\n\\nIn a first-of-its-kind a...\n",
       "1968    Florida Attorney Proves Cell Phones Cause Brai...\n",
       "18      Teacher Breaks Down in Tears When She Sees Wha...\n",
       "1603    Anthony Scaramucci, incoming White House commu...\n",
       "2845    Once again the press is wrong.\\n\\nOnce again t...\n",
       "1946    Advertisement\\n\\nIn January of 1920, Babe Ruth...\n",
       "4       Nine-speed auto rated 31/47 mpg\\n\\nThe 2017 Ch...\n",
       "1767    The Most Precious Metals Bullish I’ve Ever Bee...\n",
       "43      In Poland, groups of pro-EU Communists have hi...\n",
       "2734    ( Breitbart ) The White House’s new communicat...\n",
       "174     Music publishing is one of the highest income ...\n",
       "275     The fallen soldier leaves behind a wife and fi...\n",
       "265     JoAnne Cusick was wearing a pink floral sundre...\n",
       "1429    Advertisement\\n\\nIf there were three words tha...\n",
       "188     What initially seemed like only a disgruntled ...\n",
       "1426    President Trump does a good job of pretending ...\n",
       "423     In 2015, former President Barack Obama made on...\n",
       "2873    Advertisement\\n\\nAccording to a report compile...\n",
       "2314    Will This August 2017 Date Paralyze America: A...\n",
       "1315    The first key discovery was that, after the fi...\n",
       "286     A secret office operated by the CIA was destro...\n",
       "1785    “Shut Up And Do It”\\n\\n(Before It's News)\\n\\nC...\n",
       "227     WASHINGTON (AP) — Seeking to lash Hillary Clin...\n",
       "                              ...                        \n",
       "1570    Advertisement\\n\\nPakistan’s vile gender politi...\n",
       "2450    Advertisement\\n\\nWhen people plan a trip to th...\n",
       "240     As he traveled the country on his thank you to...\n",
       "1795    A 92-year-old World War II veteran and skin ca...\n",
       "2806    The idea of geoengineering, also known as clim...\n",
       "2386    By John Friend —\\n\\nThe American Israel Public...\n",
       "1575    Advertisement\\n\\nIn Minneapolis’ current mayor...\n",
       "35      So large numbers of monkey enrichers are leavi...\n",
       "232     The Mozart Effect.” The theory, essentially, i...\n",
       "281     Hawkish US Republican Senator John McCain has ...\n",
       "1602    “You are eight times more likely to be killed ...\n",
       "1441    \"It's everything I've ever wanted,\" says the L...\n",
       "2981    Advertisement\\n\\nFor most newlyweds, life is p...\n",
       "1723    While the interview touched on an array of iss...\n",
       "2773    It’s war! Scaramucci on WH Chief of Staff Prie...\n",
       "2009    President Trump is not one to let things go. H...\n",
       "1386    (Before It's News)\\n\\nSharia – this is what th...\n",
       "3003    Anthony Scaramucci is facing serious scorn aft...\n",
       "1513    Group supporting pro-choice women candidates t...\n",
       "228     On April 19th, Microsoft announced its new SQL...\n",
       "1904    Arabs attacked Israeli police on the Temple Mo...\n",
       "2945    Washington Examiner:\\n\\nAnthony Scaramucci, in...\n",
       "407     NASHVILLE, Tenn. – A total of 18 people were f...\n",
       "2166    The White House’s new communications director,...\n",
       "2139    On Wednesday night, I received a phone call fr...\n",
       "2459    • No more than seven rounds in any gun; “assau...\n",
       "1462    Colby Glen Wilde, 29, and Lacey Dawn Christens...\n",
       "2360    Advertisement\\n\\nA father was recently arreste...\n",
       "1774    Is Whole Wheat Better Than White? Well it Depe...\n",
       "2096    GOLD PRICE gains continued for Dollar investor...\n",
       "Name: text, dtype: object"
      ]
     },
     "execution_count": 191,
     "metadata": {},
     "output_type": "execute_result"
    }
   ],
   "source": [
    "# print the false negatives (fake news incorrectly classified as real)\n",
    "x_test[y_test > y_pred_class]"
   ]
  },
  {
   "cell_type": "code",
   "execution_count": 100,
   "metadata": {
    "collapsed": false
   },
   "outputs": [],
   "source": [
    "# example false negative\n",
    "# x_test[2096]"
   ]
  },
  {
   "cell_type": "code",
   "execution_count": 192,
   "metadata": {
    "collapsed": false
   },
   "outputs": [
    {
     "data": {
      "text/plain": [
       "0.91735696735696759"
      ]
     },
     "execution_count": 192,
     "metadata": {},
     "output_type": "execute_result"
    }
   ],
   "source": [
    "# calculate predicted probabilities for x_test_dtm (poorly calibrated)\n",
    "y_pred_prob = nb.predict_proba(x_test_dtm)[:, 1]\n",
    "# calculate AUC\n",
    "metrics.roc_auc_score(y_test, y_pred_prob)"
   ]
  },
  {
   "cell_type": "markdown",
   "metadata": {
    "collapsed": true
   },
   "source": [
    "## Predicting fake news using logistic regression"
   ]
  },
  {
   "cell_type": "code",
   "execution_count": 208,
   "metadata": {
    "collapsed": true
   },
   "outputs": [],
   "source": [
    "# import and instantiate a logistic regression model\n",
    "from sklearn.linear_model import LogisticRegression\n",
    "logreg = LogisticRegression()"
   ]
  },
  {
   "cell_type": "code",
   "execution_count": 209,
   "metadata": {
    "collapsed": false
   },
   "outputs": [
    {
     "name": "stdout",
     "output_type": "stream",
     "text": [
      "CPU times: user 1.08 s, sys: 15.1 ms, total: 1.1 s\n",
      "Wall time: 1.1 s\n"
     ]
    },
    {
     "data": {
      "text/plain": [
       "LogisticRegression(C=1.0, class_weight=None, dual=False, fit_intercept=True,\n",
       "          intercept_scaling=1, max_iter=100, multi_class='ovr', n_jobs=1,\n",
       "          penalty='l2', random_state=None, solver='liblinear', tol=0.0001,\n",
       "          verbose=0, warm_start=False)"
      ]
     },
     "execution_count": 209,
     "metadata": {},
     "output_type": "execute_result"
    }
   ],
   "source": [
    "# train the model using X_train_dtm\n",
    "%time logreg.fit(x_train_dtm, y_train)"
   ]
  },
  {
   "cell_type": "code",
   "execution_count": 212,
   "metadata": {
    "collapsed": false
   },
   "outputs": [
    {
     "data": {
      "text/plain": [
       "0.83118741058655221"
      ]
     },
     "execution_count": 212,
     "metadata": {},
     "output_type": "execute_result"
    }
   ],
   "source": [
    "# make class predictions for X_test_dtm\n",
    "y_pred_class = logreg.predict(x_test_dtm)\n",
    "\n",
    "# calculate accuracy\n",
    "metrics.accuracy_score(y_test, y_pred_class)"
   ]
  }
 ],
 "metadata": {
  "anaconda-cloud": {},
  "kernelspec": {
   "display_name": "Python [Root]",
   "language": "python",
   "name": "Python [Root]"
  },
  "language_info": {
   "codemirror_mode": {
    "name": "ipython",
    "version": 3
   },
   "file_extension": ".py",
   "mimetype": "text/x-python",
   "name": "python",
   "nbconvert_exporter": "python",
   "pygments_lexer": "ipython3",
   "version": "3.5.2"
  }
 },
 "nbformat": 4,
 "nbformat_minor": 0
}
