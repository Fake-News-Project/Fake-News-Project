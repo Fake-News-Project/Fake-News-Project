{
 "cells": [
  {
   "cell_type": "markdown",
   "metadata": {},
   "source": [
    "# Generate features from text and use Multinomial Naive Bayes to predict fake news"
   ]
  },
  {
   "cell_type": "markdown",
   "metadata": {},
   "source": [
    "Reference\n",
    "* https://github.com/justmarkham/pycon-2016-tutorial/blob/master/tutorial_with_output.ipynb\n",
    "* https://www.youtube.com/watch?v=hXNbFNCgPfY"
   ]
  },
  {
   "cell_type": "markdown",
   "metadata": {},
   "source": [
    "## Generate data"
   ]
  },
  {
   "cell_type": "code",
   "execution_count": 60,
   "metadata": {
    "collapsed": false
   },
   "outputs": [],
   "source": [
    "import pandas as pd\n",
    "import numpy as np\n",
    "import os\n",
    "import newspaper "
   ]
  },
  {
   "cell_type": "markdown",
   "metadata": {},
   "source": [
    "### read data from files and merge them"
   ]
  },
  {
   "cell_type": "code",
   "execution_count": 93,
   "metadata": {
    "collapsed": false,
    "scrolled": false
   },
   "outputs": [
    {
     "data": {
      "text/html": [
       "<div>\n",
       "<table border=\"1\" class=\"dataframe\">\n",
       "  <thead>\n",
       "    <tr style=\"text-align: right;\">\n",
       "      <th></th>\n",
       "      <th>url</th>\n",
       "      <th>source</th>\n",
       "      <th>title</th>\n",
       "      <th>text</th>\n",
       "      <th>label_num</th>\n",
       "    </tr>\n",
       "  </thead>\n",
       "  <tbody>\n",
       "    <tr>\n",
       "      <th>435</th>\n",
       "      <td>http://now8news.com/fidget-spinner-bursts-flam...</td>\n",
       "      <td>now8news</td>\n",
       "      <td>Fidget Spinner Bursts Into Flames Killing Todd...</td>\n",
       "      <td>The parents of a 3 year old girl woke up to tr...</td>\n",
       "      <td>1</td>\n",
       "    </tr>\n",
       "    <tr>\n",
       "      <th>436</th>\n",
       "      <td>http://now8news.com/18-year-old-girl-marries-f...</td>\n",
       "      <td>now8news</td>\n",
       "      <td>18 Year Old Girl Marries Her Father In Arkansa...</td>\n",
       "      <td>18 Year Old Girl Marries Her Father In Arkansa...</td>\n",
       "      <td>1</td>\n",
       "    </tr>\n",
       "    <tr>\n",
       "      <th>437</th>\n",
       "      <td>http://now8news.com/trump-raising-age-limit-to...</td>\n",
       "      <td>now8news</td>\n",
       "      <td>Trump Raising Age Limit For Tobacco Consumptio...</td>\n",
       "      <td>There is more bad news for cigarette smokers –...</td>\n",
       "      <td>1</td>\n",
       "    </tr>\n",
       "    <tr>\n",
       "      <th>438</th>\n",
       "      <td>http://now8news.com/caitlyn-jenner-discusses-d...</td>\n",
       "      <td>now8news</td>\n",
       "      <td>Caitlyn Jenner Discusses Her Desire To Transit...</td>\n",
       "      <td>Caitlyn Jenner or “CJ” as he refers to herself...</td>\n",
       "      <td>1</td>\n",
       "    </tr>\n",
       "    <tr>\n",
       "      <th>439</th>\n",
       "      <td>http://now8news.com/3-year-old-dies-tickled-de...</td>\n",
       "      <td>now8news</td>\n",
       "      <td>3 Year Old Girl Dies After Accidentally Being ...</td>\n",
       "      <td>Charlotte, NC – It’s a warning being sent out ...</td>\n",
       "      <td>1</td>\n",
       "    </tr>\n",
       "  </tbody>\n",
       "</table>\n",
       "</div>"
      ],
      "text/plain": [
       "                                                   url    source  \\\n",
       "435  http://now8news.com/fidget-spinner-bursts-flam...  now8news   \n",
       "436  http://now8news.com/18-year-old-girl-marries-f...  now8news   \n",
       "437  http://now8news.com/trump-raising-age-limit-to...  now8news   \n",
       "438  http://now8news.com/caitlyn-jenner-discusses-d...  now8news   \n",
       "439  http://now8news.com/3-year-old-dies-tickled-de...  now8news   \n",
       "\n",
       "                                                 title  \\\n",
       "435  Fidget Spinner Bursts Into Flames Killing Todd...   \n",
       "436  18 Year Old Girl Marries Her Father In Arkansa...   \n",
       "437  Trump Raising Age Limit For Tobacco Consumptio...   \n",
       "438  Caitlyn Jenner Discusses Her Desire To Transit...   \n",
       "439  3 Year Old Girl Dies After Accidentally Being ...   \n",
       "\n",
       "                                                  text  label_num  \n",
       "435  The parents of a 3 year old girl woke up to tr...          1  \n",
       "436  18 Year Old Girl Marries Her Father In Arkansa...          1  \n",
       "437  There is more bad news for cigarette smokers –...          1  \n",
       "438  Caitlyn Jenner or “CJ” as he refers to herself...          1  \n",
       "439  Charlotte, NC – It’s a warning being sent out ...          1  "
      ]
     },
     "execution_count": 93,
     "metadata": {},
     "output_type": "execute_result"
    }
   ],
   "source": [
    "path = os.path.join('data', 'fakenews_jz.csv')\n",
    "data_fakenews = pd.read_csv(path,usecols=[1,2,3,5])\n",
    "data_fakenews['label_num'] = 1\n",
    "data_fakenews.tail()"
   ]
  },
  {
   "cell_type": "code",
   "execution_count": 94,
   "metadata": {
    "collapsed": false
   },
   "outputs": [
    {
     "data": {
      "text/plain": [
       "newsbbc                 87\n",
       "nationonenews           62\n",
       "newswithviews           49\n",
       "infostormer             39\n",
       "nephef                  31\n",
       "nbc                     27\n",
       "lastdeplorables         24\n",
       "interestingdailynews    21\n",
       "local31news             21\n",
       "ladylibertysnews        19\n",
       "krbcnews                19\n",
       "majorthoughts           15\n",
       "madworldnews            15\n",
       "now8news                11\n",
       "Name: source, dtype: int64"
      ]
     },
     "execution_count": 94,
     "metadata": {},
     "output_type": "execute_result"
    }
   ],
   "source": [
    "data_fakenews.source.value_counts()"
   ]
  },
  {
   "cell_type": "code",
   "execution_count": 95,
   "metadata": {
    "collapsed": false,
    "scrolled": false
   },
   "outputs": [
    {
     "data": {
      "text/html": [
       "<div>\n",
       "<table border=\"1\" class=\"dataframe\">\n",
       "  <thead>\n",
       "    <tr style=\"text-align: right;\">\n",
       "      <th></th>\n",
       "      <th>url</th>\n",
       "      <th>source</th>\n",
       "      <th>title</th>\n",
       "      <th>text</th>\n",
       "      <th>label_num</th>\n",
       "    </tr>\n",
       "  </thead>\n",
       "  <tbody>\n",
       "    <tr>\n",
       "      <th>412</th>\n",
       "      <td>http://www.newyorker.com/magazine/1960/12/17/c...</td>\n",
       "      <td>newyorker</td>\n",
       "      <td>The World of Dr. Seuss</td>\n",
       "      <td>The face of Theodor Seuss Geisel—an arresting ...</td>\n",
       "      <td>0</td>\n",
       "    </tr>\n",
       "    <tr>\n",
       "      <th>413</th>\n",
       "      <td>http://www.newyorker.com/podcast/political-sce...</td>\n",
       "      <td>newyorker</td>\n",
       "      <td>Ai Weiwei Talks to David Remnick About Art, Ce...</td>\n",
       "      <td>David Remnick sits down with Ai Weiwei, China’...</td>\n",
       "      <td>0</td>\n",
       "    </tr>\n",
       "    <tr>\n",
       "      <th>414</th>\n",
       "      <td>http://www.newyorker.com/magazine/2017/07/31/w...</td>\n",
       "      <td>newyorker</td>\n",
       "      <td>Why Corrupt Bankers Avoid Jail</td>\n",
       "      <td>In the summer of 2012, a subcommittee of the U...</td>\n",
       "      <td>0</td>\n",
       "    </tr>\n",
       "    <tr>\n",
       "      <th>415</th>\n",
       "      <td>http://www.newyorker.com/news/benjamin-wallace...</td>\n",
       "      <td>newyorker</td>\n",
       "      <td>Benjamin Wallace-Wells: American Politics and ...</td>\n",
       "      <td>NaN</td>\n",
       "      <td>0</td>\n",
       "    </tr>\n",
       "    <tr>\n",
       "      <th>416</th>\n",
       "      <td>http://www.newyorker.com/culture/cultural-comm...</td>\n",
       "      <td>newyorker</td>\n",
       "      <td>Why Justin Bieber Got Banned from Performing i...</td>\n",
       "      <td>Until last week, the Dalai Lama had fairly lit...</td>\n",
       "      <td>0</td>\n",
       "    </tr>\n",
       "  </tbody>\n",
       "</table>\n",
       "</div>"
      ],
      "text/plain": [
       "                                                   url     source  \\\n",
       "412  http://www.newyorker.com/magazine/1960/12/17/c...  newyorker   \n",
       "413  http://www.newyorker.com/podcast/political-sce...  newyorker   \n",
       "414  http://www.newyorker.com/magazine/2017/07/31/w...  newyorker   \n",
       "415  http://www.newyorker.com/news/benjamin-wallace...  newyorker   \n",
       "416  http://www.newyorker.com/culture/cultural-comm...  newyorker   \n",
       "\n",
       "                                                 title  \\\n",
       "412                             The World of Dr. Seuss   \n",
       "413  Ai Weiwei Talks to David Remnick About Art, Ce...   \n",
       "414                     Why Corrupt Bankers Avoid Jail   \n",
       "415  Benjamin Wallace-Wells: American Politics and ...   \n",
       "416  Why Justin Bieber Got Banned from Performing i...   \n",
       "\n",
       "                                                  text  label_num  \n",
       "412  The face of Theodor Seuss Geisel—an arresting ...          0  \n",
       "413  David Remnick sits down with Ai Weiwei, China’...          0  \n",
       "414  In the summer of 2012, a subcommittee of the U...          0  \n",
       "415                                                NaN          0  \n",
       "416  Until last week, the Dalai Lama had fairly lit...          0  "
      ]
     },
     "execution_count": 95,
     "metadata": {},
     "output_type": "execute_result"
    }
   ],
   "source": [
    "path = os.path.join('data', 'realnews_jz.csv')\n",
    "data_realnews = pd.read_csv(path,usecols=[1,2,3,5])\n",
    "data_realnews['label_num'] = 0\n",
    "data_realnews.tail()"
   ]
  },
  {
   "cell_type": "code",
   "execution_count": 96,
   "metadata": {
    "collapsed": false,
    "scrolled": true
   },
   "outputs": [
    {
     "data": {
      "text/plain": [
       "newyorker    96\n",
       "msnbc        96\n",
       "go           92\n",
       "cbsnews      72\n",
       "nbcnews      61\n",
       "Name: source, dtype: int64"
      ]
     },
     "execution_count": 96,
     "metadata": {},
     "output_type": "execute_result"
    }
   ],
   "source": [
    "data_realnews.source.value_counts()"
   ]
  },
  {
   "cell_type": "code",
   "execution_count": 97,
   "metadata": {
    "collapsed": false
   },
   "outputs": [
    {
     "data": {
      "text/html": [
       "<div>\n",
       "<table border=\"1\" class=\"dataframe\">\n",
       "  <thead>\n",
       "    <tr style=\"text-align: right;\">\n",
       "      <th></th>\n",
       "      <th>url</th>\n",
       "      <th>source</th>\n",
       "      <th>title</th>\n",
       "      <th>text</th>\n",
       "      <th>label_num</th>\n",
       "    </tr>\n",
       "  </thead>\n",
       "  <tbody>\n",
       "    <tr>\n",
       "      <th>852</th>\n",
       "      <td>http://www.newyorker.com/magazine/1960/12/17/c...</td>\n",
       "      <td>newyorker</td>\n",
       "      <td>The World of Dr. Seuss</td>\n",
       "      <td>The face of Theodor Seuss Geisel—an arresting ...</td>\n",
       "      <td>0</td>\n",
       "    </tr>\n",
       "    <tr>\n",
       "      <th>853</th>\n",
       "      <td>http://www.newyorker.com/podcast/political-sce...</td>\n",
       "      <td>newyorker</td>\n",
       "      <td>Ai Weiwei Talks to David Remnick About Art, Ce...</td>\n",
       "      <td>David Remnick sits down with Ai Weiwei, China’...</td>\n",
       "      <td>0</td>\n",
       "    </tr>\n",
       "    <tr>\n",
       "      <th>854</th>\n",
       "      <td>http://www.newyorker.com/magazine/2017/07/31/w...</td>\n",
       "      <td>newyorker</td>\n",
       "      <td>Why Corrupt Bankers Avoid Jail</td>\n",
       "      <td>In the summer of 2012, a subcommittee of the U...</td>\n",
       "      <td>0</td>\n",
       "    </tr>\n",
       "    <tr>\n",
       "      <th>855</th>\n",
       "      <td>http://www.newyorker.com/news/benjamin-wallace...</td>\n",
       "      <td>newyorker</td>\n",
       "      <td>Benjamin Wallace-Wells: American Politics and ...</td>\n",
       "      <td>NaN</td>\n",
       "      <td>0</td>\n",
       "    </tr>\n",
       "    <tr>\n",
       "      <th>856</th>\n",
       "      <td>http://www.newyorker.com/culture/cultural-comm...</td>\n",
       "      <td>newyorker</td>\n",
       "      <td>Why Justin Bieber Got Banned from Performing i...</td>\n",
       "      <td>Until last week, the Dalai Lama had fairly lit...</td>\n",
       "      <td>0</td>\n",
       "    </tr>\n",
       "  </tbody>\n",
       "</table>\n",
       "</div>"
      ],
      "text/plain": [
       "                                                   url     source  \\\n",
       "852  http://www.newyorker.com/magazine/1960/12/17/c...  newyorker   \n",
       "853  http://www.newyorker.com/podcast/political-sce...  newyorker   \n",
       "854  http://www.newyorker.com/magazine/2017/07/31/w...  newyorker   \n",
       "855  http://www.newyorker.com/news/benjamin-wallace...  newyorker   \n",
       "856  http://www.newyorker.com/culture/cultural-comm...  newyorker   \n",
       "\n",
       "                                                 title  \\\n",
       "852                             The World of Dr. Seuss   \n",
       "853  Ai Weiwei Talks to David Remnick About Art, Ce...   \n",
       "854                     Why Corrupt Bankers Avoid Jail   \n",
       "855  Benjamin Wallace-Wells: American Politics and ...   \n",
       "856  Why Justin Bieber Got Banned from Performing i...   \n",
       "\n",
       "                                                  text  label_num  \n",
       "852  The face of Theodor Seuss Geisel—an arresting ...          0  \n",
       "853  David Remnick sits down with Ai Weiwei, China’...          0  \n",
       "854  In the summer of 2012, a subcommittee of the U...          0  \n",
       "855                                                NaN          0  \n",
       "856  Until last week, the Dalai Lama had fairly lit...          0  "
      ]
     },
     "execution_count": 97,
     "metadata": {},
     "output_type": "execute_result"
    }
   ],
   "source": [
    "news_data = pd.concat([data_fakenews, data_realnews], ignore_index=True)\n",
    "news_data.tail()"
   ]
  },
  {
   "cell_type": "markdown",
   "metadata": {},
   "source": [
    "## Convert text to numbers (features)"
   ]
  },
  {
   "cell_type": "code",
   "execution_count": 98,
   "metadata": {
    "collapsed": false
   },
   "outputs": [
    {
     "data": {
      "text/plain": [
       "(857, 5)"
      ]
     },
     "execution_count": 98,
     "metadata": {},
     "output_type": "execute_result"
    }
   ],
   "source": [
    "# shape of our data\n",
    "news_data.shape"
   ]
  },
  {
   "cell_type": "code",
   "execution_count": 99,
   "metadata": {
    "collapsed": false,
    "scrolled": true
   },
   "outputs": [
    {
     "data": {
      "text/html": [
       "<div>\n",
       "<table border=\"1\" class=\"dataframe\">\n",
       "  <thead>\n",
       "    <tr style=\"text-align: right;\">\n",
       "      <th></th>\n",
       "      <th>url</th>\n",
       "      <th>source</th>\n",
       "      <th>title</th>\n",
       "      <th>text</th>\n",
       "      <th>label_num</th>\n",
       "    </tr>\n",
       "  </thead>\n",
       "  <tbody>\n",
       "    <tr>\n",
       "      <th>850</th>\n",
       "      <td>http://www.newyorker.com/culture/cover-story/c...</td>\n",
       "      <td>newyorker</td>\n",
       "      <td>Javier Mariscal’s “Private Beach”</td>\n",
       "      <td>“The beach is always only three hundred feet f...</td>\n",
       "      <td>0</td>\n",
       "    </tr>\n",
       "    <tr>\n",
       "      <th>852</th>\n",
       "      <td>http://www.newyorker.com/magazine/1960/12/17/c...</td>\n",
       "      <td>newyorker</td>\n",
       "      <td>The World of Dr. Seuss</td>\n",
       "      <td>The face of Theodor Seuss Geisel—an arresting ...</td>\n",
       "      <td>0</td>\n",
       "    </tr>\n",
       "    <tr>\n",
       "      <th>853</th>\n",
       "      <td>http://www.newyorker.com/podcast/political-sce...</td>\n",
       "      <td>newyorker</td>\n",
       "      <td>Ai Weiwei Talks to David Remnick About Art, Ce...</td>\n",
       "      <td>David Remnick sits down with Ai Weiwei, China’...</td>\n",
       "      <td>0</td>\n",
       "    </tr>\n",
       "    <tr>\n",
       "      <th>854</th>\n",
       "      <td>http://www.newyorker.com/magazine/2017/07/31/w...</td>\n",
       "      <td>newyorker</td>\n",
       "      <td>Why Corrupt Bankers Avoid Jail</td>\n",
       "      <td>In the summer of 2012, a subcommittee of the U...</td>\n",
       "      <td>0</td>\n",
       "    </tr>\n",
       "    <tr>\n",
       "      <th>856</th>\n",
       "      <td>http://www.newyorker.com/culture/cultural-comm...</td>\n",
       "      <td>newyorker</td>\n",
       "      <td>Why Justin Bieber Got Banned from Performing i...</td>\n",
       "      <td>Until last week, the Dalai Lama had fairly lit...</td>\n",
       "      <td>0</td>\n",
       "    </tr>\n",
       "  </tbody>\n",
       "</table>\n",
       "</div>"
      ],
      "text/plain": [
       "                                                   url     source  \\\n",
       "850  http://www.newyorker.com/culture/cover-story/c...  newyorker   \n",
       "852  http://www.newyorker.com/magazine/1960/12/17/c...  newyorker   \n",
       "853  http://www.newyorker.com/podcast/political-sce...  newyorker   \n",
       "854  http://www.newyorker.com/magazine/2017/07/31/w...  newyorker   \n",
       "856  http://www.newyorker.com/culture/cultural-comm...  newyorker   \n",
       "\n",
       "                                                 title  \\\n",
       "850                  Javier Mariscal’s “Private Beach”   \n",
       "852                             The World of Dr. Seuss   \n",
       "853  Ai Weiwei Talks to David Remnick About Art, Ce...   \n",
       "854                     Why Corrupt Bankers Avoid Jail   \n",
       "856  Why Justin Bieber Got Banned from Performing i...   \n",
       "\n",
       "                                                  text  label_num  \n",
       "850  “The beach is always only three hundred feet f...          0  \n",
       "852  The face of Theodor Seuss Geisel—an arresting ...          0  \n",
       "853  David Remnick sits down with Ai Weiwei, China’...          0  \n",
       "854  In the summer of 2012, a subcommittee of the U...          0  \n",
       "856  Until last week, the Dalai Lama had fairly lit...          0  "
      ]
     },
     "execution_count": 99,
     "metadata": {},
     "output_type": "execute_result"
    }
   ],
   "source": [
    "# drop rows that contain NaN\n",
    "news_data = news_data.dropna(axis=0,how='any')    #to drop if any value in the row has a nan\n",
    "news_data.tail()"
   ]
  },
  {
   "cell_type": "code",
   "execution_count": 100,
   "metadata": {
    "collapsed": false
   },
   "outputs": [
    {
     "data": {
      "text/plain": [
       "1    423\n",
       "0    399\n",
       "Name: label_num, dtype: int64"
      ]
     },
     "execution_count": 100,
     "metadata": {},
     "output_type": "execute_result"
    }
   ],
   "source": [
    "# source distribution \n",
    "news_data.label_num.value_counts()"
   ]
  },
  {
   "cell_type": "markdown",
   "metadata": {},
   "source": [
    "### Define x and y for modeling later, and split data into training and testing sets"
   ]
  },
  {
   "cell_type": "code",
   "execution_count": 101,
   "metadata": {
    "collapsed": false
   },
   "outputs": [],
   "source": [
    "from sklearn.cross_validation import train_test_split"
   ]
  },
  {
   "cell_type": "code",
   "execution_count": 102,
   "metadata": {
    "collapsed": false
   },
   "outputs": [
    {
     "name": "stdout",
     "output_type": "stream",
     "text": [
      "(822,)\n",
      "(822,)\n"
     ]
    }
   ],
   "source": [
    "x = news_data.text\n",
    "y = news_data.label_num\n",
    "print(x.shape)\n",
    "print(y.shape)"
   ]
  },
  {
   "cell_type": "code",
   "execution_count": 103,
   "metadata": {
    "collapsed": false
   },
   "outputs": [
    {
     "name": "stdout",
     "output_type": "stream",
     "text": [
      "(616,)\n",
      "(206,)\n",
      "(616,)\n",
      "(206,)\n"
     ]
    }
   ],
   "source": [
    "x_train, x_test, y_train, y_test = train_test_split(x, y, random_state=1)\n",
    "print(x_train.shape)\n",
    "print(x_test.shape)\n",
    "print(y_train.shape)\n",
    "print(y_test.shape)"
   ]
  },
  {
   "cell_type": "markdown",
   "metadata": {},
   "source": [
    "### Method 1: Use CountVectorizer to generate features"
   ]
  },
  {
   "cell_type": "code",
   "execution_count": 104,
   "metadata": {
    "collapsed": false
   },
   "outputs": [],
   "source": [
    "# import and instantiate CountVectorizer (with the default parameters)\n",
    "from sklearn.feature_extraction.text import CountVectorizer\n",
    "\n",
    "# instantiate the vectorizer\n",
    "vect = CountVectorizer()"
   ]
  },
  {
   "cell_type": "code",
   "execution_count": 105,
   "metadata": {
    "collapsed": false
   },
   "outputs": [
    {
     "data": {
      "text/plain": [
       "CountVectorizer(analyzer='word', binary=False, decode_error='strict',\n",
       "        dtype=<class 'numpy.int64'>, encoding='utf-8', input='content',\n",
       "        lowercase=True, max_df=1.0, max_features=None, min_df=1,\n",
       "        ngram_range=(1, 1), preprocessor=None, stop_words=None,\n",
       "        strip_accents=None, token_pattern='(?u)\\\\b\\\\w\\\\w+\\\\b',\n",
       "        tokenizer=None, vocabulary=None)"
      ]
     },
     "execution_count": 105,
     "metadata": {},
     "output_type": "execute_result"
    }
   ],
   "source": [
    "# learn training data vocabulary, then use it to create a document-term matrix\n",
    "vect.fit(x_train)"
   ]
  },
  {
   "cell_type": "code",
   "execution_count": 106,
   "metadata": {
    "collapsed": false
   },
   "outputs": [],
   "source": [
    "x_train_dtm = vect.transform(x_train)"
   ]
  },
  {
   "cell_type": "code",
   "execution_count": 107,
   "metadata": {
    "collapsed": false
   },
   "outputs": [
    {
     "data": {
      "text/plain": [
       "<616x23858 sparse matrix of type '<class 'numpy.int64'>'\n",
       "\twith 148177 stored elements in Compressed Sparse Row format>"
      ]
     },
     "execution_count": 107,
     "metadata": {},
     "output_type": "execute_result"
    }
   ],
   "source": [
    "# examine the document-term matrix\n",
    "x_train_dtm"
   ]
  },
  {
   "cell_type": "code",
   "execution_count": 108,
   "metadata": {
    "collapsed": false
   },
   "outputs": [
    {
     "data": {
      "text/plain": [
       "<206x23858 sparse matrix of type '<class 'numpy.int64'>'\n",
       "\twith 44875 stored elements in Compressed Sparse Row format>"
      ]
     },
     "execution_count": 108,
     "metadata": {},
     "output_type": "execute_result"
    }
   ],
   "source": [
    "# transform testing data (using fitted vocabulary) into a document-term matrix\n",
    "x_test_dtm = vect.transform(x_test)\n",
    "x_test_dtm"
   ]
  },
  {
   "cell_type": "markdown",
   "metadata": {},
   "source": [
    "### Method 2: use TF-IDF to generate features"
   ]
  },
  {
   "cell_type": "code",
   "execution_count": 67,
   "metadata": {
    "collapsed": false
   },
   "outputs": [
    {
     "data": {
      "text/plain": [
       "TfidfVectorizer(analyzer='word', binary=False, decode_error='strict',\n",
       "        dtype=<class 'numpy.int64'>, encoding='utf-8', input='content',\n",
       "        lowercase=True, max_df=1.0, max_features=None, min_df=1,\n",
       "        ngram_range=(1, 1), norm='l2', preprocessor=None, smooth_idf=True,\n",
       "        stop_words='english', strip_accents=None, sublinear_tf=False,\n",
       "        token_pattern='(?u)\\\\b\\\\w\\\\w+\\\\b', tokenizer=None, use_idf=True,\n",
       "        vocabulary=None)"
      ]
     },
     "execution_count": 67,
     "metadata": {},
     "output_type": "execute_result"
    }
   ],
   "source": [
    "from sklearn.feature_extraction.text import TfidfVectorizer\n",
    "tfidf = TfidfVectorizer(stop_words='english')\n",
    "tfidf"
   ]
  },
  {
   "cell_type": "code",
   "execution_count": 178,
   "metadata": {
    "collapsed": false
   },
   "outputs": [],
   "source": [
    "x_train_dtm = tfidf.fit_transform(x_train)"
   ]
  },
  {
   "cell_type": "code",
   "execution_count": 179,
   "metadata": {
    "collapsed": false
   },
   "outputs": [
    {
     "data": {
      "text/plain": [
       "<163x8324 sparse matrix of type '<class 'numpy.float64'>'\n",
       "\twith 25430 stored elements in Compressed Sparse Row format>"
      ]
     },
     "execution_count": 179,
     "metadata": {},
     "output_type": "execute_result"
    }
   ],
   "source": [
    "# examine the document-term matrix\n",
    "x_train_dtm"
   ]
  },
  {
   "cell_type": "code",
   "execution_count": 180,
   "metadata": {
    "collapsed": false
   },
   "outputs": [
    {
     "data": {
      "text/plain": [
       "<55x8324 sparse matrix of type '<class 'numpy.float64'>'\n",
       "\twith 7567 stored elements in Compressed Sparse Row format>"
      ]
     },
     "execution_count": 180,
     "metadata": {},
     "output_type": "execute_result"
    }
   ],
   "source": [
    "x_test_dtm = tfidf.transform(x_test)\n",
    "x_test_dtm"
   ]
  },
  {
   "cell_type": "markdown",
   "metadata": {},
   "source": [
    "## Predicting fake news using Multinomial Naive Bayes "
   ]
  },
  {
   "cell_type": "code",
   "execution_count": 109,
   "metadata": {
    "collapsed": true
   },
   "outputs": [],
   "source": [
    "from sklearn.naive_bayes import MultinomialNB\n",
    "nb = MultinomialNB()"
   ]
  },
  {
   "cell_type": "code",
   "execution_count": 110,
   "metadata": {
    "collapsed": false
   },
   "outputs": [
    {
     "name": "stdout",
     "output_type": "stream",
     "text": [
      "CPU times: user 3.89 ms, sys: 1.94 ms, total: 5.83 ms\n",
      "Wall time: 4.79 ms\n"
     ]
    },
    {
     "data": {
      "text/plain": [
       "MultinomialNB(alpha=1.0, class_prior=None, fit_prior=True)"
      ]
     },
     "execution_count": 110,
     "metadata": {},
     "output_type": "execute_result"
    }
   ],
   "source": [
    "# train the model using X_train_dtm (timing it with an IPython \"magic command\")\n",
    "%time nb.fit(x_train_dtm, y_train)"
   ]
  },
  {
   "cell_type": "code",
   "execution_count": 111,
   "metadata": {
    "collapsed": false
   },
   "outputs": [],
   "source": [
    "# make class predictions for x_test_dtm\n",
    "y_pred_class = nb.predict(x_test_dtm)"
   ]
  },
  {
   "cell_type": "code",
   "execution_count": 112,
   "metadata": {
    "collapsed": false
   },
   "outputs": [
    {
     "data": {
      "text/plain": [
       "0.83495145631067957"
      ]
     },
     "execution_count": 112,
     "metadata": {},
     "output_type": "execute_result"
    }
   ],
   "source": [
    "# calculate accuracy of class predictions\n",
    "from sklearn import metrics\n",
    "metrics.accuracy_score(y_test, y_pred_class)"
   ]
  },
  {
   "cell_type": "code",
   "execution_count": 113,
   "metadata": {
    "collapsed": false
   },
   "outputs": [
    {
     "data": {
      "text/plain": [
       "array([[94, 16],\n",
       "       [18, 78]])"
      ]
     },
     "execution_count": 113,
     "metadata": {},
     "output_type": "execute_result"
    }
   ],
   "source": [
    "# print the confusion matrix\n",
    "metrics.confusion_matrix(y_test, y_pred_class)"
   ]
  },
  {
   "cell_type": "code",
   "execution_count": 114,
   "metadata": {
    "collapsed": false
   },
   "outputs": [
    {
     "data": {
      "text/plain": [
       "713    Katy Perry says the prospect of sharing her mu...\n",
       "476    Video\\n\\nGen. Dunford on North Korea: We can p...\n",
       "755    One of President Donald Trump's top advisers o...\n",
       "733    Republican Sen. Lindsey Graham today warned th...\n",
       "680    Boy Scouts of America Chief Scout Executive Mi...\n",
       "832    If you read Jared Kushner’s statement to congr...\n",
       "465    After Volkswagen was caught cheating on diesel...\n",
       "835    Ryan Lizza talks with Dorothy Wickenden about ...\n",
       "469    The American Heart Association wants you to re...\n",
       "491    The U.S. government said on Monday it would re...\n",
       "717    The European Commission announced a new emerge...\n",
       "570    Is banning selfies in the voting booth is a vi...\n",
       "702    Are the United States and North Korea moving c...\n",
       "710    Miami Dolphins center Mike Pouncey says Aaron ...\n",
       "777    WASHINGTON ( The Borowitz Report )—In an extra...\n",
       "730    It's hard to overstate the enormity of Preside...\n",
       "Name: text, dtype: object"
      ]
     },
     "execution_count": 114,
     "metadata": {},
     "output_type": "execute_result"
    }
   ],
   "source": [
    "# print the false positives (real news incorrectly classified as fake)\n",
    "x_test[y_test < y_pred_class]"
   ]
  },
  {
   "cell_type": "code",
   "execution_count": 115,
   "metadata": {
    "collapsed": false
   },
   "outputs": [
    {
     "data": {
      "text/plain": [
       "'Video\\n\\nGen. Dunford on North Korea: We can protect the American people today'"
      ]
     },
     "execution_count": 115,
     "metadata": {},
     "output_type": "execute_result"
    }
   ],
   "source": [
    "# example false positives\n",
    "x_test[476]"
   ]
  },
  {
   "cell_type": "code",
   "execution_count": 116,
   "metadata": {
    "collapsed": false
   },
   "outputs": [
    {
     "name": "stdout",
     "output_type": "stream",
     "text": [
      "476    http://www.nbcnews.com/news/north-korea\n",
      "Name: url, dtype: object\n"
     ]
    }
   ],
   "source": [
    "test = news_data[news_data.text=='Video\\n\\nGen. Dunford on North Korea: We can protect the American people today']\n",
    "print(test.url)"
   ]
  },
  {
   "cell_type": "code",
   "execution_count": 65,
   "metadata": {
    "collapsed": false
   },
   "outputs": [
    {
     "data": {
      "text/plain": [
       "405    WASHINGTON (AP) — President Donald Trump and B...\n",
       "117    First Lady Melania Trump returned to the Unite...\n",
       "380    “The Message” Reveals Truth About Eugene Peter...\n",
       "91     Being a Minnesotan, I didn’t realize I talked ...\n",
       "107    There is already more than ample evidence to s...\n",
       "438    Caitlyn Jenner or “CJ” as he refers to herself...\n",
       "50     So shocking! A report is claiming that there i...\n",
       "113    A highly decorated Air Force officer is breaki...\n",
       "79     Iceland is a bizarre country. Still remember t...\n",
       "265    JoAnne Cusick was wearing a pink floral sundre...\n",
       "59     The entire series of Transformers films direct...\n",
       "90     I wouldn’t care if it took me extra time to ge...\n",
       "322    I watch my wonderful wife of twenty-two years ...\n",
       "61     A new strain of super-gonorrhoea is ripping th...\n",
       "41     lol at the fact that the British taxpayer fund...\n",
       "80     This is exactly why I can’t watch Mythbusters....\n",
       "68     A new strain of super-gonorrhoea is ripping th...\n",
       "287    A Wal-Mart parking lot became a mass murder sc...\n",
       "Name: text, dtype: object"
      ]
     },
     "execution_count": 65,
     "metadata": {},
     "output_type": "execute_result"
    }
   ],
   "source": [
    "# print the false negatives (fake news incorrectly classified as real)\n",
    "x_test[y_test > y_pred_class]"
   ]
  },
  {
   "cell_type": "code",
   "execution_count": 117,
   "metadata": {
    "collapsed": false
   },
   "outputs": [
    {
     "data": {
      "text/plain": [
       "'A new strain of super-gonorrhoea is ripping through Houstons youth\\n\\nUS health experts are expressing a huge concern for what they are calling super-gonorrhoea.\\n\\nThe new superbug began its spread in Englands gay community but is quickly reaching the furthest corners of the globe.\\n\\nHouston is being hit particularly hard, and the bug is no longer only affecting only the gay community.\\n\\nThe bug prompted worldwide attention last year when it became immune to its most widely used cure. US health experts are calling their attempts at stopping the bug a limited success and fear it may soon be completely untreatable.\\n\\nThe bug has been found to cause infertility, along with all the alements associated with regular gonorrhoea.\\n\\nIt is currently being treated with a combination of azithromycin and ceftriaxone, but resistance to azithromycin is spreading, and experts say its only a matter of time before ceftriaxone fails too.\\n\\nExperts estimate there are at least 16,000 infected individuals in the Houston metropolitan area, and the number is growing daily.\\n\\nDoctors are recommending that all sexually active people in the Houston area should refresh themselves on practicing safe-sex to help curb the spread of the bug. Englands senior health expert says the bug is frighteningly close to becoming untreatable.\\n\\nDr Gwenda Hughes, the head of the sexually transmitted infections unit at Public Health England, said: We cannot afford to be complacent.\\n\\nShe is encouraging people to practise safe sex to minimise the risk of sexually transmitted infections.'"
      ]
     },
     "execution_count": 117,
     "metadata": {},
     "output_type": "execute_result"
    }
   ],
   "source": [
    "# example false negative\n",
    "x_test[68]"
   ]
  },
  {
   "cell_type": "code",
   "execution_count": 118,
   "metadata": {
    "collapsed": false
   },
   "outputs": [
    {
     "data": {
      "text/plain": [
       "0.87874053030303023"
      ]
     },
     "execution_count": 118,
     "metadata": {},
     "output_type": "execute_result"
    }
   ],
   "source": [
    "# calculate predicted probabilities for x_test_dtm (poorly calibrated)\n",
    "y_pred_prob = nb.predict_proba(x_test_dtm)[:, 1]\n",
    "# calculate AUC\n",
    "metrics.roc_auc_score(y_test, y_pred_prob)"
   ]
  },
  {
   "cell_type": "code",
   "execution_count": null,
   "metadata": {
    "collapsed": true
   },
   "outputs": [],
   "source": []
  }
 ],
 "metadata": {
  "anaconda-cloud": {},
  "kernelspec": {
   "display_name": "Python 3",
   "language": "python",
   "name": "python3"
  },
  "language_info": {
   "codemirror_mode": {
    "name": "ipython",
    "version": 3
   },
   "file_extension": ".py",
   "mimetype": "text/x-python",
   "name": "python",
   "nbconvert_exporter": "python",
   "pygments_lexer": "ipython3",
   "version": "3.6.0"
  }
 },
 "nbformat": 4,
 "nbformat_minor": 0
}
