{
 "cells": [
  {
   "cell_type": "markdown",
   "metadata": {},
   "source": [
    "# Generate features from text and use Multinomial Naive Bayes to predict fake news"
   ]
  },
  {
   "cell_type": "markdown",
   "metadata": {},
   "source": [
    "Reference\n",
    "* https://github.com/justmarkham/pycon-2016-tutorial/blob/master/tutorial_with_output.ipynb\n",
    "* https://www.youtube.com/watch?v=hXNbFNCgPfY"
   ]
  },
  {
   "cell_type": "markdown",
   "metadata": {},
   "source": [
    "## Generate data"
   ]
  },
  {
   "cell_type": "code",
   "execution_count": 3,
   "metadata": {
    "collapsed": false
   },
   "outputs": [],
   "source": [
    "import pandas as pd\n",
    "import numpy as np\n",
    "import os\n",
    "import newspaper "
   ]
  },
  {
   "cell_type": "markdown",
   "metadata": {},
   "source": [
    "### Method 1: generate data directly"
   ]
  },
  {
   "cell_type": "code",
   "execution_count": 20,
   "metadata": {
    "collapsed": true
   },
   "outputs": [],
   "source": [
    "def generate_data(news_list, data_name):\n",
    "    col_names = [\"source\", \"title\", \"author\", \"text\"]\n",
    "    article_df = pd.DataFrame(columns = col_names)\n",
    "    \n",
    "    for link in news_list:\n",
    "        print(link)\n",
    "        news_articles = newspaper.build(link, memoize_articles=False)\n",
    "        news_brand = news_articles.brand\n",
    "        size_articles = news_articles.size()\n",
    "        num_news = 50\n",
    "        if size_articles < num_news:\n",
    "            num_news = size_articles\n",
    "            \n",
    "        count = 0\n",
    "        for i in range(0,num_news):\n",
    "            article = news_articles.articles[i];\n",
    "            try:\n",
    "                article.download()\n",
    "                article.parse()\n",
    "            \n",
    "                entry = pd.DataFrame([[news_brand, article.title, article.authors, article.text]], columns=col_names)\n",
    "                article_df = article_df.append(entry)\n",
    "                count += 1\n",
    "            except:\n",
    "                pass\n",
    "        print(\"The total number of \" + str(news_brand) + \" articles is \", count) \n",
    "        \n",
    "    article_df = article_df[col_names]\n",
    "    article_df.to_csv(data_name+\".csv\")"
   ]
  },
  {
   "cell_type": "code",
   "execution_count": 21,
   "metadata": {
    "collapsed": false
   },
   "outputs": [
    {
     "name": "stdout",
     "output_type": "stream",
     "text": [
      "['http://www.nbcnews.com/', 'http://abcnews.go.com', 'http://www.cbsnews.com/', 'http://cnn.com.de/', 'http://conservativefighters.com/']\n"
     ]
    }
   ],
   "source": [
    "# create fake and real news website list\n",
    "fake_news_list = ['http://conservativefighters.com/', 'http://cnn.com.de/']\n",
    "true_news_list = ['http://www.nbcnews.com/', 'http://abcnews.go.com', 'http://www.cbsnews.com/']\n",
    "my_news_list = list(set(fake_news_list+true_news_list))\n",
    "print(my_news_list)"
   ]
  },
  {
   "cell_type": "code",
   "execution_count": 22,
   "metadata": {
    "collapsed": false,
    "scrolled": false
   },
   "outputs": [
    {
     "name": "stdout",
     "output_type": "stream",
     "text": [
      "http://www.nbcnews.com/\n",
      "Article `download()` failed with 404 Client Error: Not Found for url: http://www.nbcnews.com/feature/donald-trump-cabinet on URL http://www.nbcnews.com/feature/donald-trump-cabinet\n",
      "Article `download()` failed with 404 Client Error: Not Found for url: http://www.nbcnews.com/tv/shows/responding-by-storm/news/dramatic-storm-rescue-photos-2017 on URL http://www.nbcnews.com/tv/shows/responding-by-storm/news/dramatic-storm-rescue-photos-2017\n",
      "The total number of nbcnews articles is  48\n",
      "http://abcnews.go.com\n",
      "The total number of go articles is  50\n",
      "http://www.cbsnews.com/\n",
      "The total number of cbsnews articles is  50\n",
      "http://cnn.com.de/\n",
      "The total number of com articles is  50\n",
      "http://conservativefighters.com/\n",
      "The total number of conservativefighters articles is  36\n"
     ]
    }
   ],
   "source": [
    "# write data to file\n",
    "generate_data(my_news_list, 'news_data')"
   ]
  },
  {
   "cell_type": "markdown",
   "metadata": {},
   "source": [
    "#### Read and clean data "
   ]
  },
  {
   "cell_type": "code",
   "execution_count": 186,
   "metadata": {
    "collapsed": false,
    "scrolled": false
   },
   "outputs": [
    {
     "data": {
      "text/html": [
       "<div>\n",
       "<table border=\"1\" class=\"dataframe\">\n",
       "  <thead>\n",
       "    <tr style=\"text-align: right;\">\n",
       "      <th></th>\n",
       "      <th>source</th>\n",
       "      <th>title</th>\n",
       "      <th>text</th>\n",
       "    </tr>\n",
       "  </thead>\n",
       "  <tbody>\n",
       "    <tr>\n",
       "      <th>229</th>\n",
       "      <td>conservativefighters</td>\n",
       "      <td>Not Messing Around: Trump’s New Comms Director...</td>\n",
       "      <td>Anthony Scaramucci was hired by President Dona...</td>\n",
       "    </tr>\n",
       "    <tr>\n",
       "      <th>230</th>\n",
       "      <td>conservativefighters</td>\n",
       "      <td>Comments on: Singer Bans American Flag From Co...</td>\n",
       "      <td>NaN</td>\n",
       "    </tr>\n",
       "    <tr>\n",
       "      <th>231</th>\n",
       "      <td>conservativefighters</td>\n",
       "      <td>Swedish Company Epicenter Implants Microchips ...</td>\n",
       "      <td>A Swedish company Epicenter implants microchip...</td>\n",
       "    </tr>\n",
       "    <tr>\n",
       "      <th>232</th>\n",
       "      <td>conservativefighters</td>\n",
       "      <td>Comments on: Charlie Gard’s Parents Release De...</td>\n",
       "      <td>NaN</td>\n",
       "    </tr>\n",
       "    <tr>\n",
       "      <th>233</th>\n",
       "      <td>conservativefighters</td>\n",
       "      <td>McDonald’s Employee Gets Fired For Refusing To...</td>\n",
       "      <td>Officer Scott Naff, who works for Virginia Dep...</td>\n",
       "    </tr>\n",
       "  </tbody>\n",
       "</table>\n",
       "</div>"
      ],
      "text/plain": [
       "                   source                                              title  \\\n",
       "229  conservativefighters  Not Messing Around: Trump’s New Comms Director...   \n",
       "230  conservativefighters  Comments on: Singer Bans American Flag From Co...   \n",
       "231  conservativefighters  Swedish Company Epicenter Implants Microchips ...   \n",
       "232  conservativefighters  Comments on: Charlie Gard’s Parents Release De...   \n",
       "233  conservativefighters  McDonald’s Employee Gets Fired For Refusing To...   \n",
       "\n",
       "                                                  text  \n",
       "229  Anthony Scaramucci was hired by President Dona...  \n",
       "230                                                NaN  \n",
       "231  A Swedish company Epicenter implants microchip...  \n",
       "232                                                NaN  \n",
       "233  Officer Scott Naff, who works for Virginia Dep...  "
      ]
     },
     "execution_count": 186,
     "metadata": {},
     "output_type": "execute_result"
    }
   ],
   "source": [
    "# read data\n",
    "news_data = pd.read_csv('news_data.csv', usecols=[1,2,4])\n",
    "news_data.tail()"
   ]
  },
  {
   "cell_type": "code",
   "execution_count": 189,
   "metadata": {
    "collapsed": false
   },
   "outputs": [],
   "source": [
    "# convert source to a numerical variable: \n",
    "# news from go (absnews), cbsnews, and nbcnews are 0\n",
    "# news from com (cnn.com.de) and conservativefighters are 1 (flagged as fake news)\n",
    "news_data['label_num'] = news_data.source.map({'go':0,'cbsnews':0,'nbcnews':0, 'conservativefighters':1, 'com':1})"
   ]
  },
  {
   "cell_type": "markdown",
   "metadata": {},
   "source": [
    "### Method 2: read data from files and merge them"
   ]
  },
  {
   "cell_type": "code",
   "execution_count": 75,
   "metadata": {
    "collapsed": false,
    "scrolled": false
   },
   "outputs": [
    {
     "data": {
      "text/html": [
       "<div>\n",
       "<table border=\"1\" class=\"dataframe\">\n",
       "  <thead>\n",
       "    <tr style=\"text-align: right;\">\n",
       "      <th></th>\n",
       "      <th>source</th>\n",
       "      <th>title</th>\n",
       "      <th>text</th>\n",
       "    </tr>\n",
       "  </thead>\n",
       "  <tbody>\n",
       "    <tr>\n",
       "      <th>222</th>\n",
       "      <td>nationonenews</td>\n",
       "      <td>Nation One News</td>\n",
       "      <td>We use cookies to give you the best possible e...</td>\n",
       "    </tr>\n",
       "    <tr>\n",
       "      <th>223</th>\n",
       "      <td>nationonenews</td>\n",
       "      <td>Comments on: Jill Steins still has $1,361,834....</td>\n",
       "      <td>NaN</td>\n",
       "    </tr>\n",
       "    <tr>\n",
       "      <th>224</th>\n",
       "      <td>nationonenews</td>\n",
       "      <td>Not so fast, Scaramucci is not replacing Spice...</td>\n",
       "      <td>Some news organizations are clamoring to disto...</td>\n",
       "    </tr>\n",
       "    <tr>\n",
       "      <th>225</th>\n",
       "      <td>nationonenews</td>\n",
       "      <td>[WATCH] Fox News Put The Washington \"Hurt\" On ...</td>\n",
       "      <td>The Democrats in Congress will stop at nothing...</td>\n",
       "    </tr>\n",
       "    <tr>\n",
       "      <th>226</th>\n",
       "      <td>nationonenews</td>\n",
       "      <td>Comments on: [Viral Video] Trump appears on Ga...</td>\n",
       "      <td>NaN</td>\n",
       "    </tr>\n",
       "  </tbody>\n",
       "</table>\n",
       "</div>"
      ],
      "text/plain": [
       "            source                                              title  \\\n",
       "222  nationonenews                                    Nation One News   \n",
       "223  nationonenews  Comments on: Jill Steins still has $1,361,834....   \n",
       "224  nationonenews  Not so fast, Scaramucci is not replacing Spice...   \n",
       "225  nationonenews  [WATCH] Fox News Put The Washington \"Hurt\" On ...   \n",
       "226  nationonenews  Comments on: [Viral Video] Trump appears on Ga...   \n",
       "\n",
       "                                                  text  \n",
       "222  We use cookies to give you the best possible e...  \n",
       "223                                                NaN  \n",
       "224  Some news organizations are clamoring to disto...  \n",
       "225  The Democrats in Congress will stop at nothing...  \n",
       "226                                                NaN  "
      ]
     },
     "execution_count": 75,
     "metadata": {},
     "output_type": "execute_result"
    }
   ],
   "source": [
    "path = os.path.join('data', 'fakenews_jz.csv')\n",
    "data_fakenews = pd.read_csv(path,usecols=[2,3,5])\n",
    "data_fakenews.tail()"
   ]
  },
  {
   "cell_type": "code",
   "execution_count": 13,
   "metadata": {
    "collapsed": false
   },
   "outputs": [
    {
     "data": {
      "text/plain": [
       "newsbbc                 87\n",
       "nationonenews           62\n",
       "nbc                     27\n",
       "interestingdailynews    21\n",
       "majorthoughts           15\n",
       "madworldnews            15\n",
       "Name: source, dtype: int64"
      ]
     },
     "execution_count": 13,
     "metadata": {},
     "output_type": "execute_result"
    }
   ],
   "source": [
    "data_fakenews.source.value_counts()"
   ]
  },
  {
   "cell_type": "code",
   "execution_count": 76,
   "metadata": {
    "collapsed": false,
    "scrolled": true
   },
   "outputs": [
    {
     "data": {
      "text/html": [
       "<div>\n",
       "<table border=\"1\" class=\"dataframe\">\n",
       "  <thead>\n",
       "    <tr style=\"text-align: right;\">\n",
       "      <th></th>\n",
       "      <th>source</th>\n",
       "      <th>title</th>\n",
       "      <th>text</th>\n",
       "    </tr>\n",
       "  </thead>\n",
       "  <tbody>\n",
       "    <tr>\n",
       "      <th>291</th>\n",
       "      <td>cbsnews</td>\n",
       "      <td>Adam West 1928-2017</td>\n",
       "      <td>NaN</td>\n",
       "    </tr>\n",
       "    <tr>\n",
       "      <th>292</th>\n",
       "      <td>cbsnews</td>\n",
       "      <td>Elon Musk and Mark Zuckerberg clash over risks...</td>\n",
       "      <td>Two tech billionaires are clashing over the fu...</td>\n",
       "    </tr>\n",
       "    <tr>\n",
       "      <th>293</th>\n",
       "      <td>cbsnews</td>\n",
       "      <td>Confusion and mystery shroud health care bill ...</td>\n",
       "      <td>July 25, 2017, 7:03 AM | The Republican vow to...</td>\n",
       "    </tr>\n",
       "    <tr>\n",
       "      <th>294</th>\n",
       "      <td>cbsnews</td>\n",
       "      <td>15-pound bag of frozen pork lands on family's ...</td>\n",
       "      <td>FORT LAUDERDALE, Fla. -- Meat falling from the...</td>\n",
       "    </tr>\n",
       "    <tr>\n",
       "      <th>295</th>\n",
       "      <td>cbsnews</td>\n",
       "      <td>South Carolina domestic violence law unfair to...</td>\n",
       "      <td>COLUMBIA, S.C. -- People in same-sex relations...</td>\n",
       "    </tr>\n",
       "  </tbody>\n",
       "</table>\n",
       "</div>"
      ],
      "text/plain": [
       "      source                                              title  \\\n",
       "291  cbsnews                                Adam West 1928-2017   \n",
       "292  cbsnews  Elon Musk and Mark Zuckerberg clash over risks...   \n",
       "293  cbsnews  Confusion and mystery shroud health care bill ...   \n",
       "294  cbsnews  15-pound bag of frozen pork lands on family's ...   \n",
       "295  cbsnews  South Carolina domestic violence law unfair to...   \n",
       "\n",
       "                                                  text  \n",
       "291                                                NaN  \n",
       "292  Two tech billionaires are clashing over the fu...  \n",
       "293  July 25, 2017, 7:03 AM | The Republican vow to...  \n",
       "294  FORT LAUDERDALE, Fla. -- Meat falling from the...  \n",
       "295  COLUMBIA, S.C. -- People in same-sex relations...  "
      ]
     },
     "execution_count": 76,
     "metadata": {},
     "output_type": "execute_result"
    }
   ],
   "source": [
    "path = os.path.join('data', 'realnews_jz.csv')\n",
    "data_realnews = pd.read_csv(path,usecols=[2,3,5])\n",
    "data_realnews.tail()"
   ]
  },
  {
   "cell_type": "code",
   "execution_count": 12,
   "metadata": {
    "collapsed": false,
    "scrolled": true
   },
   "outputs": [
    {
     "data": {
      "text/plain": [
       "msnbc      100\n",
       "cbsnews    100\n",
       "nbcnews     96\n",
       "Name: source, dtype: int64"
      ]
     },
     "execution_count": 12,
     "metadata": {},
     "output_type": "execute_result"
    }
   ],
   "source": [
    "data_realnews.source.value_counts()"
   ]
  },
  {
   "cell_type": "code",
   "execution_count": 48,
   "metadata": {
    "collapsed": false
   },
   "outputs": [
    {
     "data": {
      "text/html": [
       "<div>\n",
       "<table border=\"1\" class=\"dataframe\">\n",
       "  <thead>\n",
       "    <tr style=\"text-align: right;\">\n",
       "      <th></th>\n",
       "      <th>source</th>\n",
       "      <th>title</th>\n",
       "      <th>text</th>\n",
       "    </tr>\n",
       "  </thead>\n",
       "  <tbody>\n",
       "    <tr>\n",
       "      <th>518</th>\n",
       "      <td>cbsnews</td>\n",
       "      <td>Adam West 1928-2017</td>\n",
       "      <td>NaN</td>\n",
       "    </tr>\n",
       "    <tr>\n",
       "      <th>519</th>\n",
       "      <td>cbsnews</td>\n",
       "      <td>Elon Musk and Mark Zuckerberg clash over risks...</td>\n",
       "      <td>Two tech billionaires are clashing over the fu...</td>\n",
       "    </tr>\n",
       "    <tr>\n",
       "      <th>520</th>\n",
       "      <td>cbsnews</td>\n",
       "      <td>Confusion and mystery shroud health care bill ...</td>\n",
       "      <td>July 25, 2017, 7:03 AM | The Republican vow to...</td>\n",
       "    </tr>\n",
       "    <tr>\n",
       "      <th>521</th>\n",
       "      <td>cbsnews</td>\n",
       "      <td>15-pound bag of frozen pork lands on family's ...</td>\n",
       "      <td>FORT LAUDERDALE, Fla. -- Meat falling from the...</td>\n",
       "    </tr>\n",
       "    <tr>\n",
       "      <th>522</th>\n",
       "      <td>cbsnews</td>\n",
       "      <td>South Carolina domestic violence law unfair to...</td>\n",
       "      <td>COLUMBIA, S.C. -- People in same-sex relations...</td>\n",
       "    </tr>\n",
       "  </tbody>\n",
       "</table>\n",
       "</div>"
      ],
      "text/plain": [
       "      source                                              title  \\\n",
       "518  cbsnews                                Adam West 1928-2017   \n",
       "519  cbsnews  Elon Musk and Mark Zuckerberg clash over risks...   \n",
       "520  cbsnews  Confusion and mystery shroud health care bill ...   \n",
       "521  cbsnews  15-pound bag of frozen pork lands on family's ...   \n",
       "522  cbsnews  South Carolina domestic violence law unfair to...   \n",
       "\n",
       "                                                  text  \n",
       "518                                                NaN  \n",
       "519  Two tech billionaires are clashing over the fu...  \n",
       "520  July 25, 2017, 7:03 AM | The Republican vow to...  \n",
       "521  FORT LAUDERDALE, Fla. -- Meat falling from the...  \n",
       "522  COLUMBIA, S.C. -- People in same-sex relations...  "
      ]
     },
     "execution_count": 48,
     "metadata": {},
     "output_type": "execute_result"
    }
   ],
   "source": [
    "news_data = pd.concat([data_fakenews, data_realnews], ignore_index=True)\n",
    "news_data.tail()"
   ]
  },
  {
   "cell_type": "markdown",
   "metadata": {},
   "source": [
    "## Convert text to numbers (features)"
   ]
  },
  {
   "cell_type": "code",
   "execution_count": 49,
   "metadata": {
    "collapsed": false
   },
   "outputs": [
    {
     "data": {
      "text/plain": [
       "(523, 3)"
      ]
     },
     "execution_count": 49,
     "metadata": {},
     "output_type": "execute_result"
    }
   ],
   "source": [
    "# shape of our data\n",
    "news_data.shape"
   ]
  },
  {
   "cell_type": "code",
   "execution_count": 50,
   "metadata": {
    "collapsed": false,
    "scrolled": true
   },
   "outputs": [
    {
     "data": {
      "text/plain": [
       "msnbc                   100\n",
       "cbsnews                 100\n",
       "nbcnews                  96\n",
       "newsbbc                  87\n",
       "nationonenews            62\n",
       "nbc                      27\n",
       "interestingdailynews     21\n",
       "majorthoughts            15\n",
       "madworldnews             15\n",
       "Name: source, dtype: int64"
      ]
     },
     "execution_count": 50,
     "metadata": {},
     "output_type": "execute_result"
    }
   ],
   "source": [
    "# source distribution \n",
    "news_data.source.value_counts()"
   ]
  },
  {
   "cell_type": "code",
   "execution_count": 51,
   "metadata": {
    "collapsed": true
   },
   "outputs": [],
   "source": [
    "news_data['label_num'] = news_data.source.map({'msnbc':0,'cbsnews':0,'nbcnews':0, \\\n",
    "                                               'newsbbc':1, 'nationonenews':1, \\\n",
    "                                               'nbc':1, 'interestingdailynews':1, \\\n",
    "                                               'majorthoughts':1, 'madworldnews':1})"
   ]
  },
  {
   "cell_type": "code",
   "execution_count": 52,
   "metadata": {
    "collapsed": false
   },
   "outputs": [
    {
     "data": {
      "text/html": [
       "<div>\n",
       "<table border=\"1\" class=\"dataframe\">\n",
       "  <thead>\n",
       "    <tr style=\"text-align: right;\">\n",
       "      <th></th>\n",
       "      <th>source</th>\n",
       "      <th>title</th>\n",
       "      <th>text</th>\n",
       "      <th>label_num</th>\n",
       "    </tr>\n",
       "  </thead>\n",
       "  <tbody>\n",
       "    <tr>\n",
       "      <th>513</th>\n",
       "      <td>cbsnews</td>\n",
       "      <td>New details emerge on Linkin Park frontman Che...</td>\n",
       "      <td>LOS ANGELES -- New details have emerged on Lin...</td>\n",
       "      <td>0</td>\n",
       "    </tr>\n",
       "    <tr>\n",
       "      <th>514</th>\n",
       "      <td>cbsnews</td>\n",
       "      <td>The very American art of Steve Penley</td>\n",
       "      <td>NaN</td>\n",
       "      <td>0</td>\n",
       "    </tr>\n",
       "    <tr>\n",
       "      <th>515</th>\n",
       "      <td>cbsnews</td>\n",
       "      <td>Louise Penny: How writing became her solace</td>\n",
       "      <td>The loyalty of her millions of readers speaks ...</td>\n",
       "      <td>0</td>\n",
       "    </tr>\n",
       "    <tr>\n",
       "      <th>516</th>\n",
       "      <td>cbsnews</td>\n",
       "      <td>Lawmakers from both parties warn Trump not to ...</td>\n",
       "      <td>WASHINGTON -- Members of congress have a messa...</td>\n",
       "      <td>0</td>\n",
       "    </tr>\n",
       "    <tr>\n",
       "      <th>517</th>\n",
       "      <td>cbsnews</td>\n",
       "      <td>Debt ceiling will be hit in October, CBO estim...</td>\n",
       "      <td>The federal government will exhaust its so-cal...</td>\n",
       "      <td>0</td>\n",
       "    </tr>\n",
       "    <tr>\n",
       "      <th>518</th>\n",
       "      <td>cbsnews</td>\n",
       "      <td>Adam West 1928-2017</td>\n",
       "      <td>NaN</td>\n",
       "      <td>0</td>\n",
       "    </tr>\n",
       "    <tr>\n",
       "      <th>519</th>\n",
       "      <td>cbsnews</td>\n",
       "      <td>Elon Musk and Mark Zuckerberg clash over risks...</td>\n",
       "      <td>Two tech billionaires are clashing over the fu...</td>\n",
       "      <td>0</td>\n",
       "    </tr>\n",
       "    <tr>\n",
       "      <th>520</th>\n",
       "      <td>cbsnews</td>\n",
       "      <td>Confusion and mystery shroud health care bill ...</td>\n",
       "      <td>July 25, 2017, 7:03 AM | The Republican vow to...</td>\n",
       "      <td>0</td>\n",
       "    </tr>\n",
       "    <tr>\n",
       "      <th>521</th>\n",
       "      <td>cbsnews</td>\n",
       "      <td>15-pound bag of frozen pork lands on family's ...</td>\n",
       "      <td>FORT LAUDERDALE, Fla. -- Meat falling from the...</td>\n",
       "      <td>0</td>\n",
       "    </tr>\n",
       "    <tr>\n",
       "      <th>522</th>\n",
       "      <td>cbsnews</td>\n",
       "      <td>South Carolina domestic violence law unfair to...</td>\n",
       "      <td>COLUMBIA, S.C. -- People in same-sex relations...</td>\n",
       "      <td>0</td>\n",
       "    </tr>\n",
       "  </tbody>\n",
       "</table>\n",
       "</div>"
      ],
      "text/plain": [
       "      source                                              title  \\\n",
       "513  cbsnews  New details emerge on Linkin Park frontman Che...   \n",
       "514  cbsnews              The very American art of Steve Penley   \n",
       "515  cbsnews        Louise Penny: How writing became her solace   \n",
       "516  cbsnews  Lawmakers from both parties warn Trump not to ...   \n",
       "517  cbsnews  Debt ceiling will be hit in October, CBO estim...   \n",
       "518  cbsnews                                Adam West 1928-2017   \n",
       "519  cbsnews  Elon Musk and Mark Zuckerberg clash over risks...   \n",
       "520  cbsnews  Confusion and mystery shroud health care bill ...   \n",
       "521  cbsnews  15-pound bag of frozen pork lands on family's ...   \n",
       "522  cbsnews  South Carolina domestic violence law unfair to...   \n",
       "\n",
       "                                                  text  label_num  \n",
       "513  LOS ANGELES -- New details have emerged on Lin...          0  \n",
       "514                                                NaN          0  \n",
       "515  The loyalty of her millions of readers speaks ...          0  \n",
       "516  WASHINGTON -- Members of congress have a messa...          0  \n",
       "517  The federal government will exhaust its so-cal...          0  \n",
       "518                                                NaN          0  \n",
       "519  Two tech billionaires are clashing over the fu...          0  \n",
       "520  July 25, 2017, 7:03 AM | The Republican vow to...          0  \n",
       "521  FORT LAUDERDALE, Fla. -- Meat falling from the...          0  \n",
       "522  COLUMBIA, S.C. -- People in same-sex relations...          0  "
      ]
     },
     "execution_count": 52,
     "metadata": {},
     "output_type": "execute_result"
    }
   ],
   "source": [
    "news_data.tail(10)"
   ]
  },
  {
   "cell_type": "code",
   "execution_count": 53,
   "metadata": {
    "collapsed": false,
    "scrolled": true
   },
   "outputs": [
    {
     "data": {
      "text/html": [
       "<div>\n",
       "<table border=\"1\" class=\"dataframe\">\n",
       "  <thead>\n",
       "    <tr style=\"text-align: right;\">\n",
       "      <th></th>\n",
       "      <th>source</th>\n",
       "      <th>title</th>\n",
       "      <th>text</th>\n",
       "      <th>label_num</th>\n",
       "    </tr>\n",
       "  </thead>\n",
       "  <tbody>\n",
       "    <tr>\n",
       "      <th>511</th>\n",
       "      <td>cbsnews</td>\n",
       "      <td>On The Horizon: Scorpion venom as cancer treat...</td>\n",
       "      <td>A multitude of potential advances are ON THE H...</td>\n",
       "      <td>0</td>\n",
       "    </tr>\n",
       "    <tr>\n",
       "      <th>512</th>\n",
       "      <td>cbsnews</td>\n",
       "      <td>Kristen Bell on why her daughters don't watch ...</td>\n",
       "      <td>Kristen Bell has lent her voice to more than j...</td>\n",
       "      <td>0</td>\n",
       "    </tr>\n",
       "    <tr>\n",
       "      <th>513</th>\n",
       "      <td>cbsnews</td>\n",
       "      <td>New details emerge on Linkin Park frontman Che...</td>\n",
       "      <td>LOS ANGELES -- New details have emerged on Lin...</td>\n",
       "      <td>0</td>\n",
       "    </tr>\n",
       "    <tr>\n",
       "      <th>515</th>\n",
       "      <td>cbsnews</td>\n",
       "      <td>Louise Penny: How writing became her solace</td>\n",
       "      <td>The loyalty of her millions of readers speaks ...</td>\n",
       "      <td>0</td>\n",
       "    </tr>\n",
       "    <tr>\n",
       "      <th>516</th>\n",
       "      <td>cbsnews</td>\n",
       "      <td>Lawmakers from both parties warn Trump not to ...</td>\n",
       "      <td>WASHINGTON -- Members of congress have a messa...</td>\n",
       "      <td>0</td>\n",
       "    </tr>\n",
       "    <tr>\n",
       "      <th>517</th>\n",
       "      <td>cbsnews</td>\n",
       "      <td>Debt ceiling will be hit in October, CBO estim...</td>\n",
       "      <td>The federal government will exhaust its so-cal...</td>\n",
       "      <td>0</td>\n",
       "    </tr>\n",
       "    <tr>\n",
       "      <th>519</th>\n",
       "      <td>cbsnews</td>\n",
       "      <td>Elon Musk and Mark Zuckerberg clash over risks...</td>\n",
       "      <td>Two tech billionaires are clashing over the fu...</td>\n",
       "      <td>0</td>\n",
       "    </tr>\n",
       "    <tr>\n",
       "      <th>520</th>\n",
       "      <td>cbsnews</td>\n",
       "      <td>Confusion and mystery shroud health care bill ...</td>\n",
       "      <td>July 25, 2017, 7:03 AM | The Republican vow to...</td>\n",
       "      <td>0</td>\n",
       "    </tr>\n",
       "    <tr>\n",
       "      <th>521</th>\n",
       "      <td>cbsnews</td>\n",
       "      <td>15-pound bag of frozen pork lands on family's ...</td>\n",
       "      <td>FORT LAUDERDALE, Fla. -- Meat falling from the...</td>\n",
       "      <td>0</td>\n",
       "    </tr>\n",
       "    <tr>\n",
       "      <th>522</th>\n",
       "      <td>cbsnews</td>\n",
       "      <td>South Carolina domestic violence law unfair to...</td>\n",
       "      <td>COLUMBIA, S.C. -- People in same-sex relations...</td>\n",
       "      <td>0</td>\n",
       "    </tr>\n",
       "  </tbody>\n",
       "</table>\n",
       "</div>"
      ],
      "text/plain": [
       "      source                                              title  \\\n",
       "511  cbsnews  On The Horizon: Scorpion venom as cancer treat...   \n",
       "512  cbsnews  Kristen Bell on why her daughters don't watch ...   \n",
       "513  cbsnews  New details emerge on Linkin Park frontman Che...   \n",
       "515  cbsnews        Louise Penny: How writing became her solace   \n",
       "516  cbsnews  Lawmakers from both parties warn Trump not to ...   \n",
       "517  cbsnews  Debt ceiling will be hit in October, CBO estim...   \n",
       "519  cbsnews  Elon Musk and Mark Zuckerberg clash over risks...   \n",
       "520  cbsnews  Confusion and mystery shroud health care bill ...   \n",
       "521  cbsnews  15-pound bag of frozen pork lands on family's ...   \n",
       "522  cbsnews  South Carolina domestic violence law unfair to...   \n",
       "\n",
       "                                                  text  label_num  \n",
       "511  A multitude of potential advances are ON THE H...          0  \n",
       "512  Kristen Bell has lent her voice to more than j...          0  \n",
       "513  LOS ANGELES -- New details have emerged on Lin...          0  \n",
       "515  The loyalty of her millions of readers speaks ...          0  \n",
       "516  WASHINGTON -- Members of congress have a messa...          0  \n",
       "517  The federal government will exhaust its so-cal...          0  \n",
       "519  Two tech billionaires are clashing over the fu...          0  \n",
       "520  July 25, 2017, 7:03 AM | The Republican vow to...          0  \n",
       "521  FORT LAUDERDALE, Fla. -- Meat falling from the...          0  \n",
       "522  COLUMBIA, S.C. -- People in same-sex relations...          0  "
      ]
     },
     "execution_count": 53,
     "metadata": {},
     "output_type": "execute_result"
    }
   ],
   "source": [
    "# drop rows that contain NaN\n",
    "news_data = news_data.dropna(axis=0,how='any')    #to drop if any value in the row has a nan\n",
    "news_data.tail(10)"
   ]
  },
  {
   "cell_type": "code",
   "execution_count": 56,
   "metadata": {
    "collapsed": false
   },
   "outputs": [
    {
     "data": {
      "text/plain": [
       "0    285\n",
       "1    216\n",
       "Name: label_num, dtype: int64"
      ]
     },
     "execution_count": 56,
     "metadata": {},
     "output_type": "execute_result"
    }
   ],
   "source": [
    "# source distribution \n",
    "news_data.label_num.value_counts()"
   ]
  },
  {
   "cell_type": "markdown",
   "metadata": {},
   "source": [
    "### Define x and y for modeling later, and split data into training and testing sets"
   ]
  },
  {
   "cell_type": "code",
   "execution_count": 57,
   "metadata": {
    "collapsed": false
   },
   "outputs": [],
   "source": [
    "from sklearn.cross_validation import train_test_split"
   ]
  },
  {
   "cell_type": "code",
   "execution_count": 58,
   "metadata": {
    "collapsed": false
   },
   "outputs": [
    {
     "name": "stdout",
     "output_type": "stream",
     "text": [
      "(501,)\n",
      "(501,)\n"
     ]
    }
   ],
   "source": [
    "x = news_data.text\n",
    "y = news_data.label_num\n",
    "print(x.shape)\n",
    "print(y.shape)"
   ]
  },
  {
   "cell_type": "code",
   "execution_count": 59,
   "metadata": {
    "collapsed": false
   },
   "outputs": [
    {
     "name": "stdout",
     "output_type": "stream",
     "text": [
      "(375,)\n",
      "(126,)\n",
      "(375,)\n",
      "(126,)\n"
     ]
    }
   ],
   "source": [
    "x_train, x_test, y_train, y_test = train_test_split(x, y, random_state=1)\n",
    "print(x_train.shape)\n",
    "print(x_test.shape)\n",
    "print(y_train.shape)\n",
    "print(y_test.shape)"
   ]
  },
  {
   "cell_type": "markdown",
   "metadata": {},
   "source": [
    "### Method 1: Use CountVectorizer to generate features"
   ]
  },
  {
   "cell_type": "code",
   "execution_count": 60,
   "metadata": {
    "collapsed": false
   },
   "outputs": [],
   "source": [
    "# import and instantiate CountVectorizer (with the default parameters)\n",
    "from sklearn.feature_extraction.text import CountVectorizer\n",
    "\n",
    "# instantiate the vectorizer\n",
    "vect = CountVectorizer()"
   ]
  },
  {
   "cell_type": "code",
   "execution_count": 61,
   "metadata": {
    "collapsed": false
   },
   "outputs": [
    {
     "data": {
      "text/plain": [
       "CountVectorizer(analyzer='word', binary=False, decode_error='strict',\n",
       "        dtype=<class 'numpy.int64'>, encoding='utf-8', input='content',\n",
       "        lowercase=True, max_df=1.0, max_features=None, min_df=1,\n",
       "        ngram_range=(1, 1), preprocessor=None, stop_words=None,\n",
       "        strip_accents=None, token_pattern='(?u)\\\\b\\\\w\\\\w+\\\\b',\n",
       "        tokenizer=None, vocabulary=None)"
      ]
     },
     "execution_count": 61,
     "metadata": {},
     "output_type": "execute_result"
    }
   ],
   "source": [
    "# learn training data vocabulary, then use it to create a document-term matrix\n",
    "vect.fit(x_train)"
   ]
  },
  {
   "cell_type": "code",
   "execution_count": 64,
   "metadata": {
    "collapsed": false
   },
   "outputs": [],
   "source": [
    "x_train_dtm = vect.transform(x_train)"
   ]
  },
  {
   "cell_type": "code",
   "execution_count": 65,
   "metadata": {
    "collapsed": false
   },
   "outputs": [
    {
     "data": {
      "text/plain": [
       "<375x13714 sparse matrix of type '<class 'numpy.int64'>'\n",
       "\twith 66790 stored elements in Compressed Sparse Row format>"
      ]
     },
     "execution_count": 65,
     "metadata": {},
     "output_type": "execute_result"
    }
   ],
   "source": [
    "# examine the document-term matrix\n",
    "x_train_dtm"
   ]
  },
  {
   "cell_type": "code",
   "execution_count": 68,
   "metadata": {
    "collapsed": false
   },
   "outputs": [
    {
     "data": {
      "text/plain": [
       "<126x13714 sparse matrix of type '<class 'numpy.int64'>'\n",
       "\twith 18817 stored elements in Compressed Sparse Row format>"
      ]
     },
     "execution_count": 68,
     "metadata": {},
     "output_type": "execute_result"
    }
   ],
   "source": [
    "# transform testing data (using fitted vocabulary) into a document-term matrix\n",
    "x_test_dtm = vect.transform(x_test)\n",
    "x_test_dtm"
   ]
  },
  {
   "cell_type": "markdown",
   "metadata": {},
   "source": [
    "### Method 2: use TF-IDF to generate features"
   ]
  },
  {
   "cell_type": "code",
   "execution_count": 67,
   "metadata": {
    "collapsed": false
   },
   "outputs": [
    {
     "data": {
      "text/plain": [
       "TfidfVectorizer(analyzer='word', binary=False, decode_error='strict',\n",
       "        dtype=<class 'numpy.int64'>, encoding='utf-8', input='content',\n",
       "        lowercase=True, max_df=1.0, max_features=None, min_df=1,\n",
       "        ngram_range=(1, 1), norm='l2', preprocessor=None, smooth_idf=True,\n",
       "        stop_words='english', strip_accents=None, sublinear_tf=False,\n",
       "        token_pattern='(?u)\\\\b\\\\w\\\\w+\\\\b', tokenizer=None, use_idf=True,\n",
       "        vocabulary=None)"
      ]
     },
     "execution_count": 67,
     "metadata": {},
     "output_type": "execute_result"
    }
   ],
   "source": [
    "from sklearn.feature_extraction.text import TfidfVectorizer\n",
    "tfidf = TfidfVectorizer(stop_words='english')\n",
    "tfidf"
   ]
  },
  {
   "cell_type": "code",
   "execution_count": 178,
   "metadata": {
    "collapsed": false
   },
   "outputs": [],
   "source": [
    "x_train_dtm = tfidf.fit_transform(x_train)"
   ]
  },
  {
   "cell_type": "code",
   "execution_count": 179,
   "metadata": {
    "collapsed": false
   },
   "outputs": [
    {
     "data": {
      "text/plain": [
       "<163x8324 sparse matrix of type '<class 'numpy.float64'>'\n",
       "\twith 25430 stored elements in Compressed Sparse Row format>"
      ]
     },
     "execution_count": 179,
     "metadata": {},
     "output_type": "execute_result"
    }
   ],
   "source": [
    "# examine the document-term matrix\n",
    "x_train_dtm"
   ]
  },
  {
   "cell_type": "code",
   "execution_count": 180,
   "metadata": {
    "collapsed": false
   },
   "outputs": [
    {
     "data": {
      "text/plain": [
       "<55x8324 sparse matrix of type '<class 'numpy.float64'>'\n",
       "\twith 7567 stored elements in Compressed Sparse Row format>"
      ]
     },
     "execution_count": 180,
     "metadata": {},
     "output_type": "execute_result"
    }
   ],
   "source": [
    "x_test_dtm = tfidf.transform(x_test)\n",
    "x_test_dtm"
   ]
  },
  {
   "cell_type": "markdown",
   "metadata": {},
   "source": [
    "## Predicting fake news using Multinomial Naive Bayes "
   ]
  },
  {
   "cell_type": "code",
   "execution_count": 69,
   "metadata": {
    "collapsed": true
   },
   "outputs": [],
   "source": [
    "from sklearn.naive_bayes import MultinomialNB\n",
    "nb = MultinomialNB()"
   ]
  },
  {
   "cell_type": "code",
   "execution_count": 70,
   "metadata": {
    "collapsed": false
   },
   "outputs": [
    {
     "name": "stdout",
     "output_type": "stream",
     "text": [
      "CPU times: user 2.55 ms, sys: 1.51 ms, total: 4.06 ms\n",
      "Wall time: 3.12 ms\n"
     ]
    },
    {
     "data": {
      "text/plain": [
       "MultinomialNB(alpha=1.0, class_prior=None, fit_prior=True)"
      ]
     },
     "execution_count": 70,
     "metadata": {},
     "output_type": "execute_result"
    }
   ],
   "source": [
    "# train the model using X_train_dtm (timing it with an IPython \"magic command\")\n",
    "%time nb.fit(x_train_dtm, y_train)"
   ]
  },
  {
   "cell_type": "code",
   "execution_count": 71,
   "metadata": {
    "collapsed": false
   },
   "outputs": [],
   "source": [
    "# make class predictions for x_test_dtm\n",
    "y_pred_class = nb.predict(x_test_dtm)"
   ]
  },
  {
   "cell_type": "code",
   "execution_count": 72,
   "metadata": {
    "collapsed": false
   },
   "outputs": [
    {
     "data": {
      "text/plain": [
       "0.87301587301587302"
      ]
     },
     "execution_count": 72,
     "metadata": {},
     "output_type": "execute_result"
    }
   ],
   "source": [
    "# calculate accuracy of class predictions\n",
    "from sklearn import metrics\n",
    "metrics.accuracy_score(y_test, y_pred_class)"
   ]
  },
  {
   "cell_type": "code",
   "execution_count": 73,
   "metadata": {
    "collapsed": false
   },
   "outputs": [
    {
     "data": {
      "text/plain": [
       "array([[70,  8],\n",
       "       [ 8, 40]])"
      ]
     },
     "execution_count": 73,
     "metadata": {},
     "output_type": "execute_result"
    }
   ],
   "source": [
    "# print the confusion matrix\n",
    "metrics.confusion_matrix(y_test, y_pred_class)"
   ]
  },
  {
   "cell_type": "code",
   "execution_count": 37,
   "metadata": {
    "collapsed": false
   },
   "outputs": [
    {
     "data": {
      "text/plain": [
       "363    Tune in to the first joint candidate event of ...\n",
       "400    Video footage shows 5-year-old Omran Daqneesh ...\n",
       "271    Mexican and U.S. Breweries Team up to Make Bee...\n",
       "488    April 10, 2017, 8:42 AM | The winners of the 2...\n",
       "232    Only the Dutch Chocolate packages with Rocky R...\n",
       "408    Tune in to the first joint candidate event of ...\n",
       "357    Video footage shows 5-year-old Omran Daqneesh ...\n",
       "509    Incoming White House press secretary Sarah Huc...\n",
       "Name: text, dtype: object"
      ]
     },
     "execution_count": 37,
     "metadata": {},
     "output_type": "execute_result"
    }
   ],
   "source": [
    "# print the false positives (real news incorrectly classified as fake)\n",
    "x_test[y_test < y_pred_class]"
   ]
  },
  {
   "cell_type": "code",
   "execution_count": 40,
   "metadata": {
    "collapsed": false
   },
   "outputs": [
    {
     "data": {
      "text/plain": [
       "'Video footage shows 5-year-old Omran Daqneesh being plucked away from the rubble in the aftermath of a devastating airstrike in Aleppo and carried inside an ambulance, looking dazed and flat-eyed.\\n\\nThe boy then runs his hand over his blood-covered face, looks at his hands and wipes them on the ambulance chair.\\n\\nWatch the heartbreaking video here: http://on.msnbc.com/2bfBhoO'"
      ]
     },
     "execution_count": 40,
     "metadata": {},
     "output_type": "execute_result"
    }
   ],
   "source": [
    "# example false positives\n",
    "x_test[400]"
   ]
  },
  {
   "cell_type": "code",
   "execution_count": 41,
   "metadata": {
    "collapsed": false
   },
   "outputs": [
    {
     "data": {
      "text/plain": [
       "47     Big changes may be on the horizon for the stat...\n",
       "34     Phoenix, AZ — Sitting in the front row during ...\n",
       "186    Ivanka Trump is a success, despite what her fa...\n",
       "4      Nine-speed auto rated 31/47 mpg\\n\\nThe 2017 Ch...\n",
       "29     WASHINGTON, D.C. (AP) — Today President Donald...\n",
       "170    Or, Dr. Mike Adams says: \"You have the Constit...\n",
       "201    A 10-year-old was involved in an alleged argum...\n",
       "18     Teacher Breaks Down in Tears When She Sees Wha...\n",
       "Name: text, dtype: object"
      ]
     },
     "execution_count": 41,
     "metadata": {},
     "output_type": "execute_result"
    }
   ],
   "source": [
    "# print the false negatives (fake news incorrectly classified as real)\n",
    "x_test[y_test > y_pred_class]"
   ]
  },
  {
   "cell_type": "code",
   "execution_count": 43,
   "metadata": {
    "collapsed": false
   },
   "outputs": [
    {
     "data": {
      "text/plain": [
       "'Nine-speed auto rated 31/47 mpg\\n\\nThe 2017 Chevrolet Cruze Diesel sedan has been EPA-rated 30/52/37 mpg (city/highway/combined) when equipped with the six-speed manual transmission. Based on those numbers, GM estimates the Cruze Diesel has a range of up to 702 miles on one tank.\\n\\nThe Cruze Diesel is powered by a 1.6-liter turbodiesel I-4 that makes 137 hp and 240 lb-ft of torque. In addition to the six-speed manual, the diesel is also offered with a nine-speed automatic, which is rated at 31/47/37 mpg. Chevy calls the 52-mpg highway number “segment-best,” but with Volkswagen’s Jetta TDI sidelined by the company’s diesel emissions scandal, it’s difficult to make any apples-to-apples comparisons. Both manual and automatic EPA estimates best the previous Cruze Diesel’s 27/44/32 mpg result, however. That car was powered by a 151-hp, 256-lb-ft 2.0-liter turbodiesel I-4 mated to a six-speed automatic.\\n\\nNot surprisingly, the diesels’ fuel economy ratings also come in higher than their gas counterparts. The standard 2017 Chevrolet Cruze is powered by a turbocharged 1.4-liter I-4 that’s rated 30/40/34 mpg with the six-speed automatic and 28/39/32 mpg with the six-speed manual.\\n\\nThe 2017 Chevrolet Cruze Diesel sedan starts at $24,670, including $875 destination. The Cruze Diesel hatchback will arrive for the 2018 model year. Pricing and EPA estimates have not yet been announced for that model.\\n\\nSource: Chevrolet'"
      ]
     },
     "execution_count": 43,
     "metadata": {},
     "output_type": "execute_result"
    }
   ],
   "source": [
    "# example false negative\n",
    "x_test[4]"
   ]
  },
  {
   "cell_type": "code",
   "execution_count": 74,
   "metadata": {
    "collapsed": false
   },
   "outputs": [
    {
     "data": {
      "text/plain": [
       "0.88354700854700852"
      ]
     },
     "execution_count": 74,
     "metadata": {},
     "output_type": "execute_result"
    }
   ],
   "source": [
    "# calculate predicted probabilities for x_test_dtm (poorly calibrated)\n",
    "y_pred_prob = nb.predict_proba(x_test_dtm)[:, 1]\n",
    "# calculate AUC\n",
    "metrics.roc_auc_score(y_test, y_pred_prob)"
   ]
  },
  {
   "cell_type": "code",
   "execution_count": null,
   "metadata": {
    "collapsed": true
   },
   "outputs": [],
   "source": []
  }
 ],
 "metadata": {
  "anaconda-cloud": {},
  "kernelspec": {
   "display_name": "Python [Root]",
   "language": "python",
   "name": "Python [Root]"
  },
  "language_info": {
   "codemirror_mode": {
    "name": "ipython",
    "version": 3
   },
   "file_extension": ".py",
   "mimetype": "text/x-python",
   "name": "python",
   "nbconvert_exporter": "python",
   "pygments_lexer": "ipython3",
   "version": "3.5.2"
  }
 },
 "nbformat": 4,
 "nbformat_minor": 0
}
