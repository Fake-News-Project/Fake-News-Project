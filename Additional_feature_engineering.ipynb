{
 "cells": [
  {
   "cell_type": "code",
   "execution_count": 1,
   "metadata": {
    "collapsed": true
   },
   "outputs": [],
   "source": [
    "import pandas as pd\n",
    "import numpy as np\n",
    "import matplotlib.pyplot as plt\n",
    "import seaborn as sns\n",
    "import os\n",
    "\n",
    "\n",
    "%matplotlib inline"
   ]
  },
  {
   "cell_type": "code",
   "execution_count": 2,
   "metadata": {
    "collapsed": false
   },
   "outputs": [],
   "source": [
    "path = os.path.join('data', 'balanced_data.csv')\n",
    "balanced_df = pd.read_csv(path, usecols=[1,2,3,4,5,6])"
   ]
  },
  {
   "cell_type": "code",
   "execution_count": 3,
   "metadata": {
    "collapsed": false
   },
   "outputs": [],
   "source": [
    "balanced_df = balanced_df.sample(frac=1).reset_index(drop=True)"
   ]
  },
  {
   "cell_type": "code",
   "execution_count": 4,
   "metadata": {
    "collapsed": false
   },
   "outputs": [
    {
     "data": {
      "text/html": [
       "<div>\n",
       "<table border=\"1\" class=\"dataframe\">\n",
       "  <thead>\n",
       "    <tr style=\"text-align: right;\">\n",
       "      <th></th>\n",
       "      <th>url</th>\n",
       "      <th>source</th>\n",
       "      <th>title</th>\n",
       "      <th>author</th>\n",
       "      <th>text</th>\n",
       "      <th>authenticity</th>\n",
       "    </tr>\n",
       "  </thead>\n",
       "  <tbody>\n",
       "    <tr>\n",
       "      <th>0</th>\n",
       "      <td>http://www.cnn.com/2017/07/26/health/mental-he...</td>\n",
       "      <td>cnn</td>\n",
       "      <td>A rift among experts over analyzing Trump's me...</td>\n",
       "      <td>['Jen Christensen']</td>\n",
       "      <td>(CNN) You might expect partisan politicians to...</td>\n",
       "      <td>0</td>\n",
       "    </tr>\n",
       "    <tr>\n",
       "      <th>1</th>\n",
       "      <td>http://www.politico.com/story/2017/07/27/senat...</td>\n",
       "      <td>politico</td>\n",
       "      <td>Senate releases 'skinny' Obamacare repeal bill</td>\n",
       "      <td>['Rachana Pradhan']</td>\n",
       "      <td>The so-called \"skinny\" repeal bill eliminates ...</td>\n",
       "      <td>0</td>\n",
       "    </tr>\n",
       "    <tr>\n",
       "      <th>2</th>\n",
       "      <td>https://newswithviews.com/dhs-takes-child-from...</td>\n",
       "      <td>newswithviews</td>\n",
       "      <td>DHS takes child from mother gives custody to a...</td>\n",
       "      <td>[]</td>\n",
       "      <td>DHS takes child from mother gives custody to a...</td>\n",
       "      <td>1</td>\n",
       "    </tr>\n",
       "    <tr>\n",
       "      <th>3</th>\n",
       "      <td>http://www.cbsnews.com/media/10-homes-you-can-...</td>\n",
       "      <td>cbsnews</td>\n",
       "      <td>10 homes you can buy for $5,000</td>\n",
       "      <td>['Ilyce Glink']</td>\n",
       "      <td>Believe it or not, there are actual, standing ...</td>\n",
       "      <td>0</td>\n",
       "    </tr>\n",
       "    <tr>\n",
       "      <th>4</th>\n",
       "      <td>http://www.cnn.com/2016/09/08/health/rubella-h...</td>\n",
       "      <td>cnn</td>\n",
       "      <td>Can forgotten rubella children of the '60s hol...</td>\n",
       "      <td>['Story Jessica Ravitz', 'Cnn Video Anne Lagam...</td>\n",
       "      <td>Brooklyn, New York (CNN) One side of the bedro...</td>\n",
       "      <td>0</td>\n",
       "    </tr>\n",
       "  </tbody>\n",
       "</table>\n",
       "</div>"
      ],
      "text/plain": [
       "                                                 url         source  \\\n",
       "0  http://www.cnn.com/2017/07/26/health/mental-he...            cnn   \n",
       "1  http://www.politico.com/story/2017/07/27/senat...       politico   \n",
       "2  https://newswithviews.com/dhs-takes-child-from...  newswithviews   \n",
       "3  http://www.cbsnews.com/media/10-homes-you-can-...        cbsnews   \n",
       "4  http://www.cnn.com/2016/09/08/health/rubella-h...            cnn   \n",
       "\n",
       "                                               title  \\\n",
       "0  A rift among experts over analyzing Trump's me...   \n",
       "1     Senate releases 'skinny' Obamacare repeal bill   \n",
       "2  DHS takes child from mother gives custody to a...   \n",
       "3                    10 homes you can buy for $5,000   \n",
       "4  Can forgotten rubella children of the '60s hol...   \n",
       "\n",
       "                                              author  \\\n",
       "0                                ['Jen Christensen']   \n",
       "1                                ['Rachana Pradhan']   \n",
       "2                                                 []   \n",
       "3                                    ['Ilyce Glink']   \n",
       "4  ['Story Jessica Ravitz', 'Cnn Video Anne Lagam...   \n",
       "\n",
       "                                                text  authenticity  \n",
       "0  (CNN) You might expect partisan politicians to...             0  \n",
       "1  The so-called \"skinny\" repeal bill eliminates ...             0  \n",
       "2  DHS takes child from mother gives custody to a...             1  \n",
       "3  Believe it or not, there are actual, standing ...             0  \n",
       "4  Brooklyn, New York (CNN) One side of the bedro...             0  "
      ]
     },
     "execution_count": 4,
     "metadata": {},
     "output_type": "execute_result"
    }
   ],
   "source": [
    "balanced_df.head()"
   ]
  },
  {
   "cell_type": "code",
   "execution_count": 5,
   "metadata": {
    "collapsed": false
   },
   "outputs": [
    {
     "name": "stdout",
     "output_type": "stream",
     "text": [
      "# of true news = (1473, 6) and # of fake news = (1473, 6)\n"
     ]
    }
   ],
   "source": [
    "t = balanced_df[balanced_df.authenticity == 0].shape\n",
    "f = balanced_df[balanced_df.authenticity == 1].shape\n",
    "\n",
    "print(\"# of true news = {} and # of fake news = {}\".format(t,f))"
   ]
  },
  {
   "cell_type": "code",
   "execution_count": 6,
   "metadata": {
    "collapsed": false
   },
   "outputs": [],
   "source": [
    "df = balanced_df[['title', 'author', 'text', 'authenticity']]"
   ]
  },
  {
   "cell_type": "markdown",
   "metadata": {},
   "source": [
    "### Author (yes or no)"
   ]
  },
  {
   "cell_type": "code",
   "execution_count": 7,
   "metadata": {
    "collapsed": false
   },
   "outputs": [
    {
     "name": "stderr",
     "output_type": "stream",
     "text": [
      "/Users/HyesooYoun/anaconda/envs/py3k/lib/python3.6/site-packages/ipykernel/__main__.py:1: SettingWithCopyWarning: \n",
      "A value is trying to be set on a copy of a slice from a DataFrame\n",
      "\n",
      "See the caveats in the documentation: http://pandas.pydata.org/pandas-docs/stable/indexing.html#indexing-view-versus-copy\n",
      "  if __name__ == '__main__':\n",
      "/Users/HyesooYoun/anaconda/envs/py3k/lib/python3.6/site-packages/pandas/core/generic.py:4702: SettingWithCopyWarning: \n",
      "A value is trying to be set on a copy of a slice from a DataFrame\n",
      "\n",
      "See the caveats in the documentation: http://pandas.pydata.org/pandas-docs/stable/indexing.html#indexing-view-versus-copy\n",
      "  self._update_inplace(new_data)\n",
      "/Users/HyesooYoun/anaconda/envs/py3k/lib/python3.6/site-packages/IPython/core/interactiveshell.py:2881: SettingWithCopyWarning: \n",
      "A value is trying to be set on a copy of a slice from a DataFrame\n",
      "\n",
      "See the caveats in the documentation: http://pandas.pydata.org/pandas-docs/stable/indexing.html#indexing-view-versus-copy\n",
      "  exec(code_obj, self.user_global_ns, self.user_ns)\n",
      "/Users/HyesooYoun/anaconda/envs/py3k/lib/python3.6/site-packages/ipykernel/__main__.py:2: SettingWithCopyWarning: \n",
      "A value is trying to be set on a copy of a slice from a DataFrame\n",
      "\n",
      "See the caveats in the documentation: http://pandas.pydata.org/pandas-docs/stable/indexing.html#indexing-view-versus-copy\n",
      "  from ipykernel import kernelapp as app\n"
     ]
    },
    {
     "data": {
      "text/html": [
       "<div>\n",
       "<table border=\"1\" class=\"dataframe\">\n",
       "  <thead>\n",
       "    <tr style=\"text-align: right;\">\n",
       "      <th></th>\n",
       "      <th>title</th>\n",
       "      <th>author</th>\n",
       "      <th>text</th>\n",
       "      <th>authenticity</th>\n",
       "    </tr>\n",
       "  </thead>\n",
       "  <tbody>\n",
       "    <tr>\n",
       "      <th>0</th>\n",
       "      <td>A rift among experts over analyzing Trump's me...</td>\n",
       "      <td>1</td>\n",
       "      <td>(CNN) You might expect partisan politicians to...</td>\n",
       "      <td>0</td>\n",
       "    </tr>\n",
       "    <tr>\n",
       "      <th>1</th>\n",
       "      <td>Senate releases 'skinny' Obamacare repeal bill</td>\n",
       "      <td>1</td>\n",
       "      <td>The so-called \"skinny\" repeal bill eliminates ...</td>\n",
       "      <td>0</td>\n",
       "    </tr>\n",
       "    <tr>\n",
       "      <th>2</th>\n",
       "      <td>DHS takes child from mother gives custody to a...</td>\n",
       "      <td>0</td>\n",
       "      <td>DHS takes child from mother gives custody to a...</td>\n",
       "      <td>1</td>\n",
       "    </tr>\n",
       "    <tr>\n",
       "      <th>3</th>\n",
       "      <td>10 homes you can buy for $5,000</td>\n",
       "      <td>1</td>\n",
       "      <td>Believe it or not, there are actual, standing ...</td>\n",
       "      <td>0</td>\n",
       "    </tr>\n",
       "    <tr>\n",
       "      <th>4</th>\n",
       "      <td>Can forgotten rubella children of the '60s hol...</td>\n",
       "      <td>1</td>\n",
       "      <td>Brooklyn, New York (CNN) One side of the bedro...</td>\n",
       "      <td>0</td>\n",
       "    </tr>\n",
       "  </tbody>\n",
       "</table>\n",
       "</div>"
      ],
      "text/plain": [
       "                                               title author  \\\n",
       "0  A rift among experts over analyzing Trump's me...      1   \n",
       "1     Senate releases 'skinny' Obamacare repeal bill      1   \n",
       "2  DHS takes child from mother gives custody to a...      0   \n",
       "3                    10 homes you can buy for $5,000      1   \n",
       "4  Can forgotten rubella children of the '60s hol...      1   \n",
       "\n",
       "                                                text  authenticity  \n",
       "0  (CNN) You might expect partisan politicians to...             0  \n",
       "1  The so-called \"skinny\" repeal bill eliminates ...             0  \n",
       "2  DHS takes child from mother gives custody to a...             1  \n",
       "3  Believe it or not, there are actual, standing ...             0  \n",
       "4  Brooklyn, New York (CNN) One side of the bedro...             0  "
      ]
     },
     "execution_count": 7,
     "metadata": {},
     "output_type": "execute_result"
    }
   ],
   "source": [
    "df.author[df.author == '[]'] = 0\n",
    "df.author[df.author != 0]  = 1\n",
    "df.head()"
   ]
  },
  {
   "cell_type": "markdown",
   "metadata": {},
   "source": [
    "### Rate of capitals in title"
   ]
  },
  {
   "cell_type": "code",
   "execution_count": 8,
   "metadata": {
    "collapsed": false
   },
   "outputs": [
    {
     "name": "stderr",
     "output_type": "stream",
     "text": [
      "/Users/HyesooYoun/anaconda/envs/py3k/lib/python3.6/site-packages/ipykernel/__main__.py:1: SettingWithCopyWarning: \n",
      "A value is trying to be set on a copy of a slice from a DataFrame.\n",
      "Try using .loc[row_indexer,col_indexer] = value instead\n",
      "\n",
      "See the caveats in the documentation: http://pandas.pydata.org/pandas-docs/stable/indexing.html#indexing-view-versus-copy\n",
      "  if __name__ == '__main__':\n"
     ]
    },
    {
     "data": {
      "text/html": [
       "<div>\n",
       "<table border=\"1\" class=\"dataframe\">\n",
       "  <thead>\n",
       "    <tr style=\"text-align: right;\">\n",
       "      <th></th>\n",
       "      <th>title</th>\n",
       "      <th>author</th>\n",
       "      <th>text</th>\n",
       "      <th>authenticity</th>\n",
       "      <th>title_list</th>\n",
       "    </tr>\n",
       "  </thead>\n",
       "  <tbody>\n",
       "    <tr>\n",
       "      <th>0</th>\n",
       "      <td>A rift among experts over analyzing Trump's me...</td>\n",
       "      <td>1</td>\n",
       "      <td>(CNN) You might expect partisan politicians to...</td>\n",
       "      <td>0</td>\n",
       "      <td>[A,  , r, i, f, t,  , a, m, o, n, g,  , e, x, ...</td>\n",
       "    </tr>\n",
       "    <tr>\n",
       "      <th>1</th>\n",
       "      <td>Senate releases 'skinny' Obamacare repeal bill</td>\n",
       "      <td>1</td>\n",
       "      <td>The so-called \"skinny\" repeal bill eliminates ...</td>\n",
       "      <td>0</td>\n",
       "      <td>[S, e, n, a, t, e,  , r, e, l, e, a, s, e, s, ...</td>\n",
       "    </tr>\n",
       "    <tr>\n",
       "      <th>2</th>\n",
       "      <td>DHS takes child from mother gives custody to a...</td>\n",
       "      <td>0</td>\n",
       "      <td>DHS takes child from mother gives custody to a...</td>\n",
       "      <td>1</td>\n",
       "      <td>[D, H, S,  , t, a, k, e, s,  , c, h, i, l, d, ...</td>\n",
       "    </tr>\n",
       "    <tr>\n",
       "      <th>3</th>\n",
       "      <td>10 homes you can buy for $5,000</td>\n",
       "      <td>1</td>\n",
       "      <td>Believe it or not, there are actual, standing ...</td>\n",
       "      <td>0</td>\n",
       "      <td>[1, 0,  , h, o, m, e, s,  , y, o, u,  , c, a, ...</td>\n",
       "    </tr>\n",
       "    <tr>\n",
       "      <th>4</th>\n",
       "      <td>Can forgotten rubella children of the '60s hol...</td>\n",
       "      <td>1</td>\n",
       "      <td>Brooklyn, New York (CNN) One side of the bedro...</td>\n",
       "      <td>0</td>\n",
       "      <td>[C, a, n,  , f, o, r, g, o, t, t, e, n,  , r, ...</td>\n",
       "    </tr>\n",
       "  </tbody>\n",
       "</table>\n",
       "</div>"
      ],
      "text/plain": [
       "                                               title author  \\\n",
       "0  A rift among experts over analyzing Trump's me...      1   \n",
       "1     Senate releases 'skinny' Obamacare repeal bill      1   \n",
       "2  DHS takes child from mother gives custody to a...      0   \n",
       "3                    10 homes you can buy for $5,000      1   \n",
       "4  Can forgotten rubella children of the '60s hol...      1   \n",
       "\n",
       "                                                text  authenticity  \\\n",
       "0  (CNN) You might expect partisan politicians to...             0   \n",
       "1  The so-called \"skinny\" repeal bill eliminates ...             0   \n",
       "2  DHS takes child from mother gives custody to a...             1   \n",
       "3  Believe it or not, there are actual, standing ...             0   \n",
       "4  Brooklyn, New York (CNN) One side of the bedro...             0   \n",
       "\n",
       "                                          title_list  \n",
       "0  [A,  , r, i, f, t,  , a, m, o, n, g,  , e, x, ...  \n",
       "1  [S, e, n, a, t, e,  , r, e, l, e, a, s, e, s, ...  \n",
       "2  [D, H, S,  , t, a, k, e, s,  , c, h, i, l, d, ...  \n",
       "3  [1, 0,  , h, o, m, e, s,  , y, o, u,  , c, a, ...  \n",
       "4  [C, a, n,  , f, o, r, g, o, t, t, e, n,  , r, ...  "
      ]
     },
     "execution_count": 8,
     "metadata": {},
     "output_type": "execute_result"
    }
   ],
   "source": [
    "df['title_list'] = [list(x) for x in df.title]\n",
    "df.head()"
   ]
  },
  {
   "cell_type": "code",
   "execution_count": 9,
   "metadata": {
    "collapsed": false
   },
   "outputs": [
    {
     "data": {
      "text/html": [
       "<div>\n",
       "<table border=\"1\" class=\"dataframe\">\n",
       "  <thead>\n",
       "    <tr style=\"text-align: right;\">\n",
       "      <th></th>\n",
       "      <th>title</th>\n",
       "      <th>author</th>\n",
       "      <th>text</th>\n",
       "      <th>authenticity</th>\n",
       "      <th>title_list</th>\n",
       "      <th>caprate_title</th>\n",
       "    </tr>\n",
       "  </thead>\n",
       "  <tbody>\n",
       "    <tr>\n",
       "      <th>0</th>\n",
       "      <td>A rift among experts over analyzing Trump's me...</td>\n",
       "      <td>1</td>\n",
       "      <td>(CNN) You might expect partisan politicians to...</td>\n",
       "      <td>0</td>\n",
       "      <td>[A,  , r, i, f, t,  , a, m, o, n, g,  , e, x, ...</td>\n",
       "      <td>0.251010</td>\n",
       "    </tr>\n",
       "    <tr>\n",
       "      <th>1</th>\n",
       "      <td>Senate releases 'skinny' Obamacare repeal bill</td>\n",
       "      <td>1</td>\n",
       "      <td>The so-called \"skinny\" repeal bill eliminates ...</td>\n",
       "      <td>0</td>\n",
       "      <td>[S, e, n, a, t, e,  , r, e, l, e, a, s, e, s, ...</td>\n",
       "      <td>0.311034</td>\n",
       "    </tr>\n",
       "    <tr>\n",
       "      <th>2</th>\n",
       "      <td>DHS takes child from mother gives custody to a...</td>\n",
       "      <td>0</td>\n",
       "      <td>DHS takes child from mother gives custody to a...</td>\n",
       "      <td>1</td>\n",
       "      <td>[D, H, S,  , t, a, k, e, s,  , c, h, i, l, d, ...</td>\n",
       "      <td>0.340656</td>\n",
       "    </tr>\n",
       "    <tr>\n",
       "      <th>3</th>\n",
       "      <td>10 homes you can buy for $5,000</td>\n",
       "      <td>1</td>\n",
       "      <td>Believe it or not, there are actual, standing ...</td>\n",
       "      <td>0</td>\n",
       "      <td>[1, 0,  , h, o, m, e, s,  , y, o, u,  , c, a, ...</td>\n",
       "      <td>0.000000</td>\n",
       "    </tr>\n",
       "    <tr>\n",
       "      <th>4</th>\n",
       "      <td>Can forgotten rubella children of the '60s hol...</td>\n",
       "      <td>1</td>\n",
       "      <td>Brooklyn, New York (CNN) One side of the bedro...</td>\n",
       "      <td>0</td>\n",
       "      <td>[C, a, n,  , f, o, r, g, o, t, t, e, n,  , r, ...</td>\n",
       "      <td>0.207356</td>\n",
       "    </tr>\n",
       "  </tbody>\n",
       "</table>\n",
       "</div>"
      ],
      "text/plain": [
       "                                               title author  \\\n",
       "0  A rift among experts over analyzing Trump's me...      1   \n",
       "1     Senate releases 'skinny' Obamacare repeal bill      1   \n",
       "2  DHS takes child from mother gives custody to a...      0   \n",
       "3                    10 homes you can buy for $5,000      1   \n",
       "4  Can forgotten rubella children of the '60s hol...      1   \n",
       "\n",
       "                                                text  authenticity  \\\n",
       "0  (CNN) You might expect partisan politicians to...             0   \n",
       "1  The so-called \"skinny\" repeal bill eliminates ...             0   \n",
       "2  DHS takes child from mother gives custody to a...             1   \n",
       "3  Believe it or not, there are actual, standing ...             0   \n",
       "4  Brooklyn, New York (CNN) One side of the bedro...             0   \n",
       "\n",
       "                                          title_list  caprate_title  \n",
       "0  [A,  , r, i, f, t,  , a, m, o, n, g,  , e, x, ...       0.251010  \n",
       "1  [S, e, n, a, t, e,  , r, e, l, e, a, s, e, s, ...       0.311034  \n",
       "2  [D, H, S,  , t, a, k, e, s,  , c, h, i, l, d, ...       0.340656  \n",
       "3  [1, 0,  , h, o, m, e, s,  , y, o, u,  , c, a, ...       0.000000  \n",
       "4  [C, a, n,  , f, o, r, g, o, t, t, e, n,  , r, ...       0.207356  "
      ]
     },
     "execution_count": 9,
     "metadata": {},
     "output_type": "execute_result"
    }
   ],
   "source": [
    "num_cap_title = df.title_list.apply(lambda x: len([a for a in x if a.isupper()]))\n",
    "len_title = df.title.str.len()\n",
    "df['caprate_title'] = num_cap_title/len_title\n",
    "df.caprate_title /= df.caprate_title.mean()\n",
    "df.head()"
   ]
  },
  {
   "cell_type": "code",
   "execution_count": 10,
   "metadata": {
    "collapsed": false
   },
   "outputs": [
    {
     "name": "stdout",
     "output_type": "stream",
     "text": [
      "capital rate of true news title = 0.7117083803469406 and capital rate of fake news title = 1.2882916196530592\n"
     ]
    }
   ],
   "source": [
    "f = df.caprate_title[df.authenticity == 1].mean()\n",
    "t = df.caprate_title[df.authenticity == 0].mean()\n",
    "\n",
    "print(\"capital rate of true news title = {} and capital rate of fake news title = {}\".format(t,f))"
   ]
  },
  {
   "cell_type": "markdown",
   "metadata": {},
   "source": [
    "### exaggerating puctuation in title"
   ]
  },
  {
   "cell_type": "code",
   "execution_count": 11,
   "metadata": {
    "collapsed": false
   },
   "outputs": [
    {
     "name": "stdout",
     "output_type": "stream",
     "text": [
      "exaggerating punctuation rate of true news title = 0.1816252035580772 and exaggerating punctuation rate of fake news title = 1.8183747964419223\n"
     ]
    }
   ],
   "source": [
    "num_exag_title = df.title_list.apply(lambda x: len([a for a in x if (a == ('!' or '?' or ':' or '-'))]))\n",
    "df['exagg_puct_title'] = num_exag_title/len_title\n",
    "df.exagg_puct_title /= df.exagg_puct_title.mean()\n",
    "f = df.exagg_puct_title[df.authenticity == 1].mean()\n",
    "t = df.exagg_puct_title[df.authenticity == 0].mean()\n",
    "\n",
    "print(\"exaggerating punctuation rate of true news title = {} and exaggerating punctuation rate of fake news title = {}\".format(t,f))"
   ]
  },
  {
   "cell_type": "code",
   "execution_count": null,
   "metadata": {
    "collapsed": true
   },
   "outputs": [],
   "source": []
  },
  {
   "cell_type": "markdown",
   "metadata": {},
   "source": [
    "### Rate of capitals in text"
   ]
  },
  {
   "cell_type": "code",
   "execution_count": 12,
   "metadata": {
    "collapsed": false
   },
   "outputs": [
    {
     "name": "stdout",
     "output_type": "stream",
     "text": [
      "capital rate of true news text = 1.0153860571309468 and capital rate of fake news text = 0.9846139428690485\n"
     ]
    }
   ],
   "source": [
    "df['text_list'] = [list(x) for x in df.text]\n",
    "num_cap_text = df.text_list.apply(lambda x: len([a for a in x if a.isupper()]))\n",
    "len_text = df.text.str.len()\n",
    "df['caprate_text'] = num_cap_text/len_text\n",
    "df.caprate_text /= df.caprate_text.mean()\n",
    "f = df.caprate_text[df.authenticity == 1].mean()\n",
    "t = df.caprate_text[df.authenticity == 0].mean()\n",
    "\n",
    "print(\"capital rate of true news text = {} and capital rate of fake news text = {}\".format(t,f))"
   ]
  },
  {
   "cell_type": "code",
   "execution_count": 13,
   "metadata": {
    "collapsed": false
   },
   "outputs": [
    {
     "data": {
      "text/html": [
       "<div>\n",
       "<table border=\"1\" class=\"dataframe\">\n",
       "  <thead>\n",
       "    <tr style=\"text-align: right;\">\n",
       "      <th></th>\n",
       "      <th>author</th>\n",
       "      <th>caprate_title</th>\n",
       "      <th>exagg_puct_title</th>\n",
       "    </tr>\n",
       "  </thead>\n",
       "  <tbody>\n",
       "    <tr>\n",
       "      <th>0</th>\n",
       "      <td>1</td>\n",
       "      <td>0.251010</td>\n",
       "      <td>0.0</td>\n",
       "    </tr>\n",
       "    <tr>\n",
       "      <th>1</th>\n",
       "      <td>1</td>\n",
       "      <td>0.311034</td>\n",
       "      <td>0.0</td>\n",
       "    </tr>\n",
       "    <tr>\n",
       "      <th>2</th>\n",
       "      <td>0</td>\n",
       "      <td>0.340656</td>\n",
       "      <td>0.0</td>\n",
       "    </tr>\n",
       "    <tr>\n",
       "      <th>3</th>\n",
       "      <td>1</td>\n",
       "      <td>0.000000</td>\n",
       "      <td>0.0</td>\n",
       "    </tr>\n",
       "    <tr>\n",
       "      <th>4</th>\n",
       "      <td>1</td>\n",
       "      <td>0.207356</td>\n",
       "      <td>0.0</td>\n",
       "    </tr>\n",
       "  </tbody>\n",
       "</table>\n",
       "</div>"
      ],
      "text/plain": [
       "  author  caprate_title  exagg_puct_title\n",
       "0      1       0.251010               0.0\n",
       "1      1       0.311034               0.0\n",
       "2      0       0.340656               0.0\n",
       "3      1       0.000000               0.0\n",
       "4      1       0.207356               0.0"
      ]
     },
     "execution_count": 13,
     "metadata": {},
     "output_type": "execute_result"
    }
   ],
   "source": [
    "selected_df = df[['author', 'caprate_title', 'exagg_puct_title']]\n",
    "selected_df.head()"
   ]
  },
  {
   "cell_type": "code",
   "execution_count": 14,
   "metadata": {
    "collapsed": false
   },
   "outputs": [
    {
     "data": {
      "text/html": [
       "<div>\n",
       "<table border=\"1\" class=\"dataframe\">\n",
       "  <thead>\n",
       "    <tr style=\"text-align: right;\">\n",
       "      <th></th>\n",
       "      <th>title</th>\n",
       "      <th>author</th>\n",
       "      <th>text</th>\n",
       "      <th>authenticity</th>\n",
       "      <th>title_list</th>\n",
       "      <th>caprate_title</th>\n",
       "      <th>exagg_puct_title</th>\n",
       "      <th>text_list</th>\n",
       "      <th>caprate_text</th>\n",
       "    </tr>\n",
       "  </thead>\n",
       "  <tbody>\n",
       "    <tr>\n",
       "      <th>0</th>\n",
       "      <td>A rift among experts over analyzing Trump's me...</td>\n",
       "      <td>1</td>\n",
       "      <td>(CNN) You might expect partisan politicians to...</td>\n",
       "      <td>0</td>\n",
       "      <td>[A,  , r, i, f, t,  , a, m, o, n, g,  , e, x, ...</td>\n",
       "      <td>0.251010</td>\n",
       "      <td>0.0</td>\n",
       "      <td>[(, C, N, N, ),  , Y, o, u,  , m, i, g, h, t, ...</td>\n",
       "      <td>0.672269</td>\n",
       "    </tr>\n",
       "    <tr>\n",
       "      <th>1</th>\n",
       "      <td>Senate releases 'skinny' Obamacare repeal bill</td>\n",
       "      <td>1</td>\n",
       "      <td>The so-called \"skinny\" repeal bill eliminates ...</td>\n",
       "      <td>0</td>\n",
       "      <td>[S, e, n, a, t, e,  , r, e, l, e, a, s, e, s, ...</td>\n",
       "      <td>0.311034</td>\n",
       "      <td>0.0</td>\n",
       "      <td>[T, h, e,  , s, o, -, c, a, l, l, e, d,  , \", ...</td>\n",
       "      <td>0.898673</td>\n",
       "    </tr>\n",
       "    <tr>\n",
       "      <th>2</th>\n",
       "      <td>DHS takes child from mother gives custody to a...</td>\n",
       "      <td>0</td>\n",
       "      <td>DHS takes child from mother gives custody to a...</td>\n",
       "      <td>1</td>\n",
       "      <td>[D, H, S,  , t, a, k, e, s,  , c, h, i, l, d, ...</td>\n",
       "      <td>0.340656</td>\n",
       "      <td>0.0</td>\n",
       "      <td>[D, H, S,  , t, a, k, e, s,  , c, h, i, l, d, ...</td>\n",
       "      <td>0.897305</td>\n",
       "    </tr>\n",
       "    <tr>\n",
       "      <th>3</th>\n",
       "      <td>10 homes you can buy for $5,000</td>\n",
       "      <td>1</td>\n",
       "      <td>Believe it or not, there are actual, standing ...</td>\n",
       "      <td>0</td>\n",
       "      <td>[1, 0,  , h, o, m, e, s,  , y, o, u,  , c, a, ...</td>\n",
       "      <td>0.000000</td>\n",
       "      <td>0.0</td>\n",
       "      <td>[B, e, l, i, e, v, e,  , i, t,  , o, r,  , n, ...</td>\n",
       "      <td>0.327902</td>\n",
       "    </tr>\n",
       "    <tr>\n",
       "      <th>4</th>\n",
       "      <td>Can forgotten rubella children of the '60s hol...</td>\n",
       "      <td>1</td>\n",
       "      <td>Brooklyn, New York (CNN) One side of the bedro...</td>\n",
       "      <td>0</td>\n",
       "      <td>[C, a, n,  , f, o, r, g, o, t, t, e, n,  , r, ...</td>\n",
       "      <td>0.207356</td>\n",
       "      <td>0.0</td>\n",
       "      <td>[B, r, o, o, k, l, y, n, ,,  , N, e, w,  , Y, ...</td>\n",
       "      <td>0.573194</td>\n",
       "    </tr>\n",
       "  </tbody>\n",
       "</table>\n",
       "</div>"
      ],
      "text/plain": [
       "                                               title author  \\\n",
       "0  A rift among experts over analyzing Trump's me...      1   \n",
       "1     Senate releases 'skinny' Obamacare repeal bill      1   \n",
       "2  DHS takes child from mother gives custody to a...      0   \n",
       "3                    10 homes you can buy for $5,000      1   \n",
       "4  Can forgotten rubella children of the '60s hol...      1   \n",
       "\n",
       "                                                text  authenticity  \\\n",
       "0  (CNN) You might expect partisan politicians to...             0   \n",
       "1  The so-called \"skinny\" repeal bill eliminates ...             0   \n",
       "2  DHS takes child from mother gives custody to a...             1   \n",
       "3  Believe it or not, there are actual, standing ...             0   \n",
       "4  Brooklyn, New York (CNN) One side of the bedro...             0   \n",
       "\n",
       "                                          title_list  caprate_title  \\\n",
       "0  [A,  , r, i, f, t,  , a, m, o, n, g,  , e, x, ...       0.251010   \n",
       "1  [S, e, n, a, t, e,  , r, e, l, e, a, s, e, s, ...       0.311034   \n",
       "2  [D, H, S,  , t, a, k, e, s,  , c, h, i, l, d, ...       0.340656   \n",
       "3  [1, 0,  , h, o, m, e, s,  , y, o, u,  , c, a, ...       0.000000   \n",
       "4  [C, a, n,  , f, o, r, g, o, t, t, e, n,  , r, ...       0.207356   \n",
       "\n",
       "   exagg_puct_title                                          text_list  \\\n",
       "0               0.0  [(, C, N, N, ),  , Y, o, u,  , m, i, g, h, t, ...   \n",
       "1               0.0  [T, h, e,  , s, o, -, c, a, l, l, e, d,  , \", ...   \n",
       "2               0.0  [D, H, S,  , t, a, k, e, s,  , c, h, i, l, d, ...   \n",
       "3               0.0  [B, e, l, i, e, v, e,  , i, t,  , o, r,  , n, ...   \n",
       "4               0.0  [B, r, o, o, k, l, y, n, ,,  , N, e, w,  , Y, ...   \n",
       "\n",
       "   caprate_text  \n",
       "0      0.672269  \n",
       "1      0.898673  \n",
       "2      0.897305  \n",
       "3      0.327902  \n",
       "4      0.573194  "
      ]
     },
     "execution_count": 14,
     "metadata": {},
     "output_type": "execute_result"
    }
   ],
   "source": [
    "df.head()"
   ]
  },
  {
   "cell_type": "code",
   "execution_count": 15,
   "metadata": {
    "collapsed": false
   },
   "outputs": [
    {
     "data": {
      "text/html": [
       "<div>\n",
       "<table border=\"1\" class=\"dataframe\">\n",
       "  <thead>\n",
       "    <tr style=\"text-align: right;\">\n",
       "      <th></th>\n",
       "      <th>Real_news_mean</th>\n",
       "      <th>Real_news_sterr</th>\n",
       "      <th>Fake_news_mean</th>\n",
       "      <th>Fake_news_sterr</th>\n",
       "    </tr>\n",
       "  </thead>\n",
       "  <tbody>\n",
       "    <tr>\n",
       "      <th>author</th>\n",
       "      <td>0.727766</td>\n",
       "      <td>0.008203</td>\n",
       "      <td>0.511881</td>\n",
       "      <td>0.009213</td>\n",
       "    </tr>\n",
       "    <tr>\n",
       "      <th>caprate_title</th>\n",
       "      <td>0.711708</td>\n",
       "      <td>0.012993</td>\n",
       "      <td>1.288292</td>\n",
       "      <td>0.017557</td>\n",
       "    </tr>\n",
       "    <tr>\n",
       "      <th>exagg_puct_title</th>\n",
       "      <td>0.181625</td>\n",
       "      <td>0.043996</td>\n",
       "      <td>1.818375</td>\n",
       "      <td>0.139297</td>\n",
       "    </tr>\n",
       "  </tbody>\n",
       "</table>\n",
       "</div>"
      ],
      "text/plain": [
       "                  Real_news_mean  Real_news_sterr  Fake_news_mean  \\\n",
       "author                  0.727766         0.008203        0.511881   \n",
       "caprate_title           0.711708         0.012993        1.288292   \n",
       "exagg_puct_title        0.181625         0.043996        1.818375   \n",
       "\n",
       "                  Fake_news_sterr  \n",
       "author                   0.009213  \n",
       "caprate_title            0.017557  \n",
       "exagg_puct_title         0.139297  "
      ]
     },
     "execution_count": 15,
     "metadata": {},
     "output_type": "execute_result"
    }
   ],
   "source": [
    "bar_df = pd.DataFrame(columns = ['Real_news_mean', 'Real_news_sterr', 'Fake_news_mean', 'Fake_news_sterr'], index = ['author','caprate_title', 'exagg_puct_title'])\n",
    "bar_df.Real_news_mean = [df.author[df.authenticity == 0].mean(), df.caprate_title[df.authenticity == 0].mean(), df.exagg_puct_title[df.authenticity == 0].mean() ]\n",
    "bar_df.Fake_news_mean = [df.author[df.authenticity == 1].mean(), df.caprate_title[df.authenticity == 1].mean(), df.exagg_puct_title[df.authenticity == 1].mean() ]\n",
    "bar_df.Real_news_sterr =[df.author[df.authenticity == 0].std()/np.sqrt(df.shape[0]), df.caprate_title[df.authenticity == 0].std()/np.sqrt(df.shape[0]), df.exagg_puct_title[df.authenticity == 0].std()/np.sqrt(df.shape[0]) ]\n",
    "bar_df.Fake_news_sterr =[df.author[df.authenticity == 1].std()/np.sqrt(df.shape[0]), df.caprate_title[df.authenticity == 1].std()/np.sqrt(df.shape[0]), df.exagg_puct_title[df.authenticity == 1].std()/np.sqrt(df.shape[0]) ]\n",
    "bar_df"
   ]
  },
  {
   "cell_type": "code",
   "execution_count": 16,
   "metadata": {
    "collapsed": false
   },
   "outputs": [
    {
     "data": {
      "image/png": "[encoded data removed]",
      "text/plain": [
       "<matplotlib.figure.Figure at 0x116398f60>"
      ]
     },
     "metadata": {},
     "output_type": "display_data"
    }
   ],
   "source": [
    "f, ax = plt.subplots(1,1)\n",
    "ax.legend(labels = ['Real news', 'Fake news'], loc = 'upper right', bbox_to_anchor=(1.2, 0.5))\n",
    "width = 0.25\n",
    "groups = [1,2,3]\n",
    "ax.set_ylabel('Normarlized Correlation Ratio',fontsize = 15)\n",
    "ax.set_title('Example of a few features other than tf-idf, and their correlation with authenticity', fontsize = 15)\n",
    "ax.set_xticks(groups)\n",
    "ax.set_xticklabels(('Authors', 'Rate of uppercases\\nin title', 'Rate of exaggerating punction\\nin title'), fontsize = 15,rotation = 45)\n",
    "\n",
    "\n",
    "c = (x for x in ['red','green'])\n",
    "for a in ['Real_news', 'Fake_news']:\n",
    "    ax.bar(groups, bar_df[a+'_mean'], width, color=next(c), alpha = 0.4, yerr=bar_df[a+'_sterr'])\n",
    "    groups = [(x + width) for x in groups]\n",
    "\n",
    "plt.show()"
   ]
  },
  {
   "cell_type": "code",
   "execution_count": 17,
   "metadata": {
    "collapsed": true
   },
   "outputs": [],
   "source": [
    "path = os.path.join('data','additional_features.csv')\n",
    "selected_df.to_csv(path)"
   ]
  }
 ],
 "metadata": {
  "kernelspec": {
   "display_name": "python3.5",
   "language": "python",
   "name": "python3.5"
  },
  "language_info": {
   "codemirror_mode": {
    "name": "ipython",
    "version": 3
   },
   "file_extension": ".py",
   "mimetype": "text/x-python",
   "name": "python",
   "nbconvert_exporter": "python",
   "pygments_lexer": "ipython3",
   "version": "3.6.0"
  }
 },
 "nbformat": 4,
 "nbformat_minor": 2
}
