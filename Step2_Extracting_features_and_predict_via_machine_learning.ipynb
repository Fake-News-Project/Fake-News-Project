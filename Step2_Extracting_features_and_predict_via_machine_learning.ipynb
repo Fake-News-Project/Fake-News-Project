{
 "cells": [
  {
   "cell_type": "code",
   "execution_count": 46,
   "metadata": {
    "collapsed": false
   },
   "outputs": [],
   "source": [
    "## Import libraries & Packages\n",
    "\n",
    "# Data structure and visualization\n",
    "import pandas as pd\n",
    "import numpy as np\n",
    "import matplotlib.pyplot as plt\n",
    "import colorsys\n",
    "import os\n",
    "%matplotlib inline\n",
    "\n",
    "from sklearn.metrics import roc_curve\n",
    "from sklearn.metrics import f1_score\n",
    "from sklearn.metrics import auc\n",
    "from sklearn.metrics import precision_recall_curve\n",
    "\n",
    "# Machine learning\n",
    "from sklearn.linear_model import LogisticRegression\n",
    "from sklearn.svm import SVC\n",
    "from sklearn.svm import LinearSVC\n",
    "from sklearn.ensemble import RandomForestClassifier\n",
    "from sklearn.neighbors import KNeighborsClassifier\n",
    "from sklearn.naive_bayes import GaussianNB\n",
    "from sklearn.neural_network import MLPClassifier\n",
    "from sklearn.model_selection import train_test_split\n",
    "from sklearn.model_selection import validation_curve\n",
    "from sklearn.model_selection import learning_curve\n",
    "from sklearn.preprocessing import PolynomialFeatures\n",
    "from sklearn.pipeline import Pipeline\n",
    "from sklearn.preprocessing import StandardScaler\n",
    "from sklearn.preprocessing import MinMaxScaler\n",
    "from sklearn.naive_bayes import MultinomialNB"
   ]
  },
  {
   "cell_type": "markdown",
   "metadata": {},
   "source": [
    "# Import data (balanced_data.csv)"
   ]
  },
  {
   "cell_type": "code",
   "execution_count": 2,
   "metadata": {
    "collapsed": false
   },
   "outputs": [
    {
     "data": {
      "text/html": [
       "<div>\n",
       "<table border=\"1\" class=\"dataframe\">\n",
       "  <thead>\n",
       "    <tr style=\"text-align: right;\">\n",
       "      <th></th>\n",
       "      <th>url</th>\n",
       "      <th>source</th>\n",
       "      <th>title</th>\n",
       "      <th>text</th>\n",
       "      <th>authenticity</th>\n",
       "    </tr>\n",
       "  </thead>\n",
       "  <tbody>\n",
       "    <tr>\n",
       "      <th>2941</th>\n",
       "      <td>https://newswithviews.com/evangelicals-pray-fo...</td>\n",
       "      <td>newswithviews</td>\n",
       "      <td>Evangelicals Pray For President In W.H. – Demo...</td>\n",
       "      <td>Evangelicals Pray For President In W.H. – Demo...</td>\n",
       "      <td>1</td>\n",
       "    </tr>\n",
       "    <tr>\n",
       "      <th>2942</th>\n",
       "      <td>https://newswithviews.com/vaccines-good-or-bad...</td>\n",
       "      <td>newswithviews</td>\n",
       "      <td>Vaccines: Good or Bad?, Part 8</td>\n",
       "      <td>Vaccines: Good or Bad?, Part 8\\n\\nThe more we ...</td>\n",
       "      <td>1</td>\n",
       "    </tr>\n",
       "    <tr>\n",
       "      <th>2943</th>\n",
       "      <td>https://reagancoalition.com/articles/2017/fath...</td>\n",
       "      <td>reagancoalition</td>\n",
       "      <td>Father PUNISHES 10-Year-Old Daughter by Strand...</td>\n",
       "      <td>Christopher Charles Watson, from Kingman, Ariz...</td>\n",
       "      <td>1</td>\n",
       "    </tr>\n",
       "    <tr>\n",
       "      <th>2944</th>\n",
       "      <td>http://www.foxbusiness.com/features/2017/07/27...</td>\n",
       "      <td>foxnews</td>\n",
       "      <td>Delta purchases 10% stake in Air France-KLM</td>\n",
       "      <td>Delta Air Lines (DAL) and China Eastern Airlin...</td>\n",
       "      <td>0</td>\n",
       "    </tr>\n",
       "    <tr>\n",
       "      <th>2945</th>\n",
       "      <td>http://www.cnn.com/2016/09/08/health/rubella-h...</td>\n",
       "      <td>cnn</td>\n",
       "      <td>Can forgotten rubella children of the '60s hol...</td>\n",
       "      <td>Brooklyn, New York (CNN) One side of the bedro...</td>\n",
       "      <td>0</td>\n",
       "    </tr>\n",
       "  </tbody>\n",
       "</table>\n",
       "</div>"
      ],
      "text/plain": [
       "                                                    url           source  \\\n",
       "2941  https://newswithviews.com/evangelicals-pray-fo...    newswithviews   \n",
       "2942  https://newswithviews.com/vaccines-good-or-bad...    newswithviews   \n",
       "2943  https://reagancoalition.com/articles/2017/fath...  reagancoalition   \n",
       "2944  http://www.foxbusiness.com/features/2017/07/27...          foxnews   \n",
       "2945  http://www.cnn.com/2016/09/08/health/rubella-h...              cnn   \n",
       "\n",
       "                                                  title  \\\n",
       "2941  Evangelicals Pray For President In W.H. – Demo...   \n",
       "2942                     Vaccines: Good or Bad?, Part 8   \n",
       "2943  Father PUNISHES 10-Year-Old Daughter by Strand...   \n",
       "2944        Delta purchases 10% stake in Air France-KLM   \n",
       "2945  Can forgotten rubella children of the '60s hol...   \n",
       "\n",
       "                                                   text  authenticity  \n",
       "2941  Evangelicals Pray For President In W.H. – Demo...             1  \n",
       "2942  Vaccines: Good or Bad?, Part 8\\n\\nThe more we ...             1  \n",
       "2943  Christopher Charles Watson, from Kingman, Ariz...             1  \n",
       "2944  Delta Air Lines (DAL) and China Eastern Airlin...             0  \n",
       "2945  Brooklyn, New York (CNN) One side of the bedro...             0  "
      ]
     },
     "execution_count": 2,
     "metadata": {},
     "output_type": "execute_result"
    }
   ],
   "source": [
    "path = os.path.join('data', 'balanced_data.csv')\n",
    "total_df = pd.read_csv(path, usecols=[1,2,3,5,6])\n",
    "total_df.tail()"
   ]
  },
  {
   "cell_type": "markdown",
   "metadata": {},
   "source": [
    "## Data set information"
   ]
  },
  {
   "cell_type": "code",
   "execution_count": 3,
   "metadata": {
    "collapsed": false
   },
   "outputs": [
    {
     "name": "stdout",
     "output_type": "stream",
     "text": [
      "The number of total real news websites scraped is 42 and that of fake ones is 12\n",
      "----------------------------------------------------------------------------------------------------\n",
      "Real news websites scraped are:\n",
      "['newyorker', 'nytimes', 'cnn', 'nbcnews', 'cbsnews', 'bbc', 'npr', 'foxnews', 'go', 'politico', 'reuters', 'msnbc']\n",
      "----------------------------------------------------------------------------------------------------\n",
      "Fake news websites scraped are:\n",
      "['reagancoalition', 'wordpress', 'Americanoverlook', 'thedcgazette', 'ABCnews', 'majorthoughts', 'AmericanFlavor', 'infostormer', 'politicalo', 'nephef', 'donaldtrumppotus45', 'Bighairynews', 'prntly', 'americanfreepress', 'bipartisanreport', 'newswithviews', 'Clashdaily', '24wpn', 'nbc', 'Americannews', 'interestingdailynews', 'redcountry', 'nationonenews', 'openmagazines', 'newsbbc', 'bizstandardnews', 'pamelageller', 'president45donaldtrump', 'beforeitsnews', 'sputniknews', 'ddsnewstrend', 'readconservatives', 'Conservativedailypost', 'aurora-news', 'realnewsrightnow', 'now8news', 'krbcnews', 'politicono', 'CivicTribune', 'local31news', 'ladylibertysnews', 'lastdeplorables']\n"
     ]
    }
   ],
   "source": [
    "f_sites = list(set(list(total_df['source'][total_df.authenticity == 1])))\n",
    "t_sites = list(set(list(total_df['source'][total_df.authenticity == 0])))\n",
    "f = len(t_sites)\n",
    "t = len(f_sites)\n",
    "\n",
    "print(\"The number of total real news websites scraped is {} and that of fake ones is {}\".format(t,f))\n",
    "print('-'*100)\n",
    "print(\"Real news websites scraped are:\\n{}\".format(t_sites))\n",
    "print('-'*100)\n",
    "print(\"Fake news websites scraped are:\\n{}\".format(f_sites))"
   ]
  },
  {
   "cell_type": "markdown",
   "metadata": {},
   "source": [
    "## Import additional features"
   ]
  },
  {
   "cell_type": "code",
   "execution_count": 43,
   "metadata": {
    "collapsed": false
   },
   "outputs": [
    {
     "data": {
      "text/html": [
       "<div>\n",
       "<table border=\"1\" class=\"dataframe\">\n",
       "  <thead>\n",
       "    <tr style=\"text-align: right;\">\n",
       "      <th></th>\n",
       "      <th>author</th>\n",
       "      <th>caprate_title</th>\n",
       "      <th>exagg_puct_title</th>\n",
       "    </tr>\n",
       "  </thead>\n",
       "  <tbody>\n",
       "    <tr>\n",
       "      <th>0</th>\n",
       "      <td>1</td>\n",
       "      <td>0.251010</td>\n",
       "      <td>0.0</td>\n",
       "    </tr>\n",
       "    <tr>\n",
       "      <th>1</th>\n",
       "      <td>1</td>\n",
       "      <td>0.311034</td>\n",
       "      <td>0.0</td>\n",
       "    </tr>\n",
       "    <tr>\n",
       "      <th>2</th>\n",
       "      <td>0</td>\n",
       "      <td>0.340656</td>\n",
       "      <td>0.0</td>\n",
       "    </tr>\n",
       "    <tr>\n",
       "      <th>3</th>\n",
       "      <td>1</td>\n",
       "      <td>0.000000</td>\n",
       "      <td>0.0</td>\n",
       "    </tr>\n",
       "    <tr>\n",
       "      <th>4</th>\n",
       "      <td>1</td>\n",
       "      <td>0.207356</td>\n",
       "      <td>0.0</td>\n",
       "    </tr>\n",
       "  </tbody>\n",
       "</table>\n",
       "</div>"
      ],
      "text/plain": [
       "   author  caprate_title  exagg_puct_title\n",
       "0       1       0.251010               0.0\n",
       "1       1       0.311034               0.0\n",
       "2       0       0.340656               0.0\n",
       "3       1       0.000000               0.0\n",
       "4       1       0.207356               0.0"
      ]
     },
     "execution_count": 43,
     "metadata": {},
     "output_type": "execute_result"
    }
   ],
   "source": [
    "path = os.path.join('data', 'additional_features.csv')\n",
    "addfeat_df = pd.read_csv(path, usecols=[1,2,3])\n",
    "addfeat_df.head()"
   ]
  },
  {
   "cell_type": "markdown",
   "metadata": {},
   "source": [
    "# Generate train, cv, test datasets "
   ]
  },
  {
   "cell_type": "code",
   "execution_count": 5,
   "metadata": {
    "collapsed": false
   },
   "outputs": [
    {
     "name": "stdout",
     "output_type": "stream",
     "text": [
      "Shape of X_train is (2062,), X_cv is (353,), X_test is (531,), af_train is (2062, 3), af_cv is (353, 3), af_test is (531, 3)\n"
     ]
    }
   ],
   "source": [
    "# # define training, cross-validation and testing sets\n",
    "\n",
    "Y = total_df['authenticity']\n",
    "addfeat_df['text'] = total_df.text\n",
    "addfeat_df.head()\n",
    "Xaf = addfeat_df\n",
    "Xaf_train, Xaf_cvt, Y_train, Y_cvt = train_test_split(Xaf, Y, test_size=0.3, random_state=42)\n",
    "Xaf_cv, Xaf_test, Y_cv, Y_test = train_test_split(Xaf_cvt, Y_cvt, test_size= 0.6, random_state=42)\n",
    "X_train, af_train = Xaf_train.text, Xaf_train.drop('text', axis = 1)\n",
    "X_cv, af_cv = Xaf_cv.text, Xaf_cv.drop('text', axis = 1)\n",
    "X_test, af_test = Xaf_test.text, Xaf_test.drop('text', axis = 1)\n",
    "\n",
    "A = X_train.shape\n",
    "B = X_cv.shape\n",
    "C = X_test.shape\n",
    "D = af_train.shape\n",
    "E = af_cv.shape\n",
    "F = af_test.shape\n",
    "\n",
    "\n",
    "print(\"Shape of X_train is {}, X_cv is {}, X_test is {}, af_train is {}, af_cv is {}, af_test is {}\"\n",
    "      .format(A,B,C,D,E,F))"
   ]
  },
  {
   "cell_type": "code",
   "execution_count": null,
   "metadata": {
    "collapsed": false
   },
   "outputs": [],
   "source": [
    "Y.value_counts()"
   ]
  },
  {
   "cell_type": "markdown",
   "metadata": {},
   "source": [
    "# Generate features"
   ]
  },
  {
   "cell_type": "code",
   "execution_count": 6,
   "metadata": {
    "collapsed": true
   },
   "outputs": [],
   "source": [
    "import nltk\n",
    "import string\n",
    "from nltk.stem.porter import PorterStemmer\n",
    "\n",
    "stemmer = PorterStemmer()\n",
    "def stem_tokens(tokens, stemmer):\n",
    "    stemmed = []\n",
    "    for item in tokens:\n",
    "        stemmed.append(stemmer.stem(item))\n",
    "    return stemmed\n",
    "\n",
    "def tokenize_stemmer(text):\n",
    "    tokens = nltk.word_tokenize(text)\n",
    "    # option to include punctuation or not\n",
    "    #tokens = [i for i in tokens if i not in string.punctuation]\n",
    "    stems = stem_tokens(tokens, stemmer)\n",
    "    return stems"
   ]
  },
  {
   "cell_type": "markdown",
   "metadata": {},
   "source": [
    "## Method 1: Use CountVectorizer to generate features¶"
   ]
  },
  {
   "cell_type": "code",
   "execution_count": null,
   "metadata": {
    "collapsed": true
   },
   "outputs": [],
   "source": [
    "# import and instantiate CountVectorizer (with the default parameters)\n",
    "from sklearn.feature_extraction.text import CountVectorizer\n",
    "\n",
    "# instantiate the vectorizer\n",
    "vect = CountVectorizer()"
   ]
  },
  {
   "cell_type": "code",
   "execution_count": null,
   "metadata": {
    "collapsed": false
   },
   "outputs": [],
   "source": [
    "# learn training data vocabulary, then use it to create a document-term matrix\n",
    "vect.fit(X_train)"
   ]
  },
  {
   "cell_type": "code",
   "execution_count": null,
   "metadata": {
    "collapsed": false
   },
   "outputs": [],
   "source": [
    "X_train_tot = vect.transform(X_train)\n",
    "X_test_tot = vect.transform(X_test)\n",
    "X_cv_tot = vect.transform(X_cv)"
   ]
  },
  {
   "cell_type": "markdown",
   "metadata": {},
   "source": [
    "## Method 2: Use TF-IDF to generate features for the text body of news¶"
   ]
  },
  {
   "cell_type": "code",
   "execution_count": 7,
   "metadata": {
    "collapsed": false
   },
   "outputs": [],
   "source": [
    "from sklearn.feature_extraction.text import TfidfVectorizer\n",
    "\n",
    "tfidf = TfidfVectorizer(tokenizer=tokenize_stemmer,stop_words='english',ngram_range=(1, 2))"
   ]
  },
  {
   "cell_type": "code",
   "execution_count": 8,
   "metadata": {
    "collapsed": false
   },
   "outputs": [
    {
     "data": {
      "text/plain": [
       "TfidfVectorizer(analyzer='word', binary=False, decode_error='strict',\n",
       "        dtype=<class 'numpy.int64'>, encoding='utf-8', input='content',\n",
       "        lowercase=True, max_df=1.0, max_features=None, min_df=1,\n",
       "        ngram_range=(1, 2), norm='l2', preprocessor=None, smooth_idf=True,\n",
       "        stop_words='english', strip_accents=None, sublinear_tf=False,\n",
       "        token_pattern='(?u)\\\\b\\\\w\\\\w+\\\\b',\n",
       "        tokenizer=<function tokenize_stemmer at 0x11b2bc488>, use_idf=True,\n",
       "        vocabulary=None)"
      ]
     },
     "execution_count": 8,
     "metadata": {},
     "output_type": "execute_result"
    }
   ],
   "source": [
    "tfidf.fit(X_train)"
   ]
  },
  {
   "cell_type": "code",
   "execution_count": 9,
   "metadata": {
    "collapsed": false
   },
   "outputs": [
    {
     "data": {
      "text/plain": [
       "(2062, 570026)"
      ]
     },
     "execution_count": 9,
     "metadata": {},
     "output_type": "execute_result"
    }
   ],
   "source": [
    "X_train_tot = tfidf.transform(X_train)\n",
    "X_test_tot = tfidf.transform(X_test)\n",
    "X_cv_tot = tfidf.transform(X_cv)\n",
    "\n",
    "X_train_tot.shape"
   ]
  },
  {
   "cell_type": "markdown",
   "metadata": {},
   "source": [
    "## Feature selection"
   ]
  },
  {
   "cell_type": "code",
   "execution_count": 14,
   "metadata": {
    "collapsed": true
   },
   "outputs": [],
   "source": [
    "from sklearn.feature_selection import SelectPercentile, SelectKBest, f_classif, chi2, SelectFromModel"
   ]
  },
  {
   "cell_type": "code",
   "execution_count": 15,
   "metadata": {
    "collapsed": false,
    "scrolled": true
   },
   "outputs": [
    {
     "name": "stdout",
     "output_type": "stream",
     "text": [
      "X_train_selected shape:  (2062, 2260)\n",
      "X_test_selected shape:  (531, 2260)\n",
      "X_cv_selected shape:  (353, 2260)\n"
     ]
    }
   ],
   "source": [
    "# select top 10% features\n",
    "# selector = SelectPercentile(f_classif, percentile = 10) \n",
    "\n",
    "# select top 25000 features\n",
    "#selector = SelectKBest(chi2, k = 10000) \n",
    "\n",
    "\n",
    "# select from model\n",
    "lsvc = LinearSVC(C=9000, penalty=\"l1\", dual=False)#.fit(X_train_tot, Y_train)\n",
    "selector = SelectFromModel(lsvc, prefit=False)\n",
    "\n",
    "\n",
    "selector.fit(X_train_tot, Y_train)\n",
    "X_train_selected = selector.transform(X_train_tot)\n",
    "X_test_selected = selector.transform(X_test_tot)\n",
    "X_cv_selected = selector.transform(X_cv_tot)\n",
    "\n",
    "print(\"X_train_selected shape: \", X_train_selected.shape)\n",
    "print(\"X_test_selected shape: \", X_test_selected.shape)\n",
    "print(\"X_cv_selected shape: \", X_cv_selected.shape)"
   ]
  },
  {
   "cell_type": "markdown",
   "metadata": {},
   "source": [
    "## Obtain seleted feature names"
   ]
  },
  {
   "cell_type": "code",
   "execution_count": 164,
   "metadata": {
    "collapsed": false,
    "scrolled": false
   },
   "outputs": [
    {
     "name": "stderr",
     "output_type": "stream",
     "text": [
      "//anaconda/lib/python3.5/site-packages/sklearn/utils/validation.py:395: DeprecationWarning: Passing 1d arrays as data is deprecated in 0.17 and will raise ValueError in 0.19. Reshape your data either using X.reshape(-1, 1) if your data has a single feature or X.reshape(1, -1) if it contains a single sample.\n",
      "  DeprecationWarning)\n"
     ]
    },
    {
     "data": {
      "text/plain": [
       "(1, 2260)"
      ]
     },
     "execution_count": 164,
     "metadata": {},
     "output_type": "execute_result"
    }
   ],
   "source": [
    "feat_names_tfidf = tfidf.get_feature_names()\n",
    "feat_names_sel = selector.transform(feat_names_tfidf)\n",
    "feat_names_sel.shape"
   ]
  },
  {
   "cell_type": "code",
   "execution_count": 165,
   "metadata": {
    "collapsed": false
   },
   "outputs": [
    {
     "data": {
      "text/plain": [
       "['!', '! !', '! ”', '#', '# #', '$', '$ 399', '%', '% ,', '% .']"
      ]
     },
     "execution_count": 165,
     "metadata": {},
     "output_type": "execute_result"
    }
   ],
   "source": [
    "feat_names_sel_list = feat_names_sel.flatten().tolist()\n",
    "feat_names_sel_list[:10]"
   ]
  },
  {
   "cell_type": "markdown",
   "metadata": {},
   "source": [
    "## Visualize top features for each class"
   ]
  },
  {
   "cell_type": "code",
   "execution_count": 325,
   "metadata": {
    "collapsed": false
   },
   "outputs": [],
   "source": [
    "def top_tfidf_features(row, features, top_n=25):\n",
    "    ''' Get top n tfidf values in row and return them with their corresponding feature names.'''\n",
    "    topn_ids = np.argsort(row)[::-1][:top_n]\n",
    "    top_feats = [(features[i], row[i]) for i in topn_ids]\n",
    "    df = pd.DataFrame(top_feats)\n",
    "    df.columns = ['feature', 'tfidf']\n",
    "    return df\n",
    "\n",
    "def top_features_in_doc(x_train_dtm, features, row_id, top_n=25):\n",
    "    ''' Top tfidf features in specific document (matrix row) '''\n",
    "    row = np.squeeze(x_train_dtm[row_id].toarray())\n",
    "    return top_tfidf_features(row, features, top_n)\n",
    "\n",
    "def top_mean_features(x_train_dtm, features, grp_ids=None, min_tfidf=0.1, top_n=25):\n",
    "    ''' Return the top n features that on average are most important amongst documents in rows\n",
    "        indentified by indices in grp_ids. '''\n",
    "    if grp_ids:\n",
    "        D = x_train_dtm[grp_ids].toarray()\n",
    "    else:\n",
    "        D = x_train_dtm.toarray()\n",
    "\n",
    "    D[D < min_tfidf] = 0\n",
    "    tfidf_means = np.mean(D, axis=0)\n",
    "    return top_tfidf_features(tfidf_means, features, top_n)\n",
    "\n",
    "def top_features_by_class(x_train_dtm, y_train, features, min_tfidf=0.1, top_n=25):\n",
    "    ''' Return a list of dfs, where each df holds top_n features and their mean tfidf value\n",
    "        calculated across documents with the same class label. '''\n",
    "    dfs = []\n",
    "    labels = np.unique(y_train)\n",
    "    for label in labels:\n",
    "        ids = np.where(y_train==label)\n",
    "        features_df = top_mean_features(x_train_dtm, features, ids, min_tfidf=min_tfidf, top_n=top_n)\n",
    "        features_df.label = label\n",
    "        dfs.append(features_df)\n",
    "    return dfs\n",
    "\n",
    "def plot_tfidf_classfeats_h(dfs):\n",
    "    ''' Plot the data frames returned by the function plot_tfidf_classfeats(). '''\n",
    "    width = 0.5\n",
    "    fig = plt.figure(figsize=(12, 5), facecolor=\"w\")\n",
    "    x = np.arange(len(dfs[0]))\n",
    "    for i, df in enumerate(dfs):\n",
    "        ax = fig.add_subplot(1, len(dfs), i+1)\n",
    "        ax.spines[\"top\"].set_visible(False)\n",
    "        ax.spines[\"right\"].set_visible(False)\n",
    "        ax.set_frame_on(False)\n",
    "        ax.get_xaxis().tick_bottom()\n",
    "        ax.get_yaxis().tick_left()\n",
    "        ax.set_xlabel(\"Mean TF-IDF Score\", labelpad=16, fontsize=12.5)\n",
    "        ax.set_title(\"Class = \" + str(df.label), fontsize=13.5)\n",
    "        ax.ticklabel_format(axis='x', fontsize=12.5)\n",
    "        ax.barh(x, df.tfidf, width, align='center', color='indigo')\n",
    "        ax.set_yticks(x)\n",
    "        ax.set_ylim([-1, x[-1]+1])\n",
    "        yticks = ax.set_yticklabels(df.feature,fontsize=12.5)\n",
    "        plt.subplots_adjust(bottom=0.09, right=0.97, left=0.15, top=0.95, wspace=0.52)\n",
    "    plt.tight_layout()\n",
    "    plt.savefig('./figures/topfeatures_tfidf.png', transparent=True)\n",
    "    plt.show()"
   ]
  },
  {
   "cell_type": "code",
   "execution_count": 326,
   "metadata": {
    "collapsed": false
   },
   "outputs": [
    {
     "data": {
      "image/png": "[encoded data removed]",
      "text/plain": [
       "<matplotlib.figure.Figure at 0x177c69390>"
      ]
     },
     "metadata": {},
     "output_type": "display_data"
    }
   ],
   "source": [
    "top_features = top_features_by_class(X_train_selected, Y_train, feat_names_sel_list,top_n=10)\n",
    "plot_tfidf_classfeats_h(top_features)"
   ]
  },
  {
   "cell_type": "markdown",
   "metadata": {},
   "source": [
    "## Adding additional features"
   ]
  },
  {
   "cell_type": "code",
   "execution_count": 70,
   "metadata": {
    "collapsed": false
   },
   "outputs": [
    {
     "name": "stdout",
     "output_type": "stream",
     "text": [
      "X_train_sel_add shape:  (2062, 2263)\n",
      "X_test_sel_add shape:  (531, 2263)\n",
      "X_cv_sel_add shape:  (353, 2263)\n"
     ]
    }
   ],
   "source": [
    "import scipy as sp\n",
    "\n",
    "def concat_3features(df):\n",
    "    author = np.array([[x] for x in df.author])\n",
    "    caprate = np.array([[x] for x in df.caprate_title])\n",
    "    exagg =  np.array([[x] for x in df.exagg_puct_title])\n",
    "    return  np.concatenate((author, caprate, exagg), axis=1)\n",
    "\n",
    "X_train_sel_add = sp.sparse.hstack((X_train_selected, concat_3features(af_train)))\n",
    "X_cv_sel_add = sp.sparse.hstack((X_cv_selected, concat_3features(af_cv)))\n",
    "X_test_sel_add = sp.sparse.hstack((X_test_selected, concat_3features(af_test)))\n",
    "print(\"X_train_sel_add shape: \", X_train_sel_add.shape)\n",
    "print(\"X_test_sel_add shape: \", X_test_sel_add.shape)\n",
    "print(\"X_cv_sel_add shape: \", X_cv_sel_add.shape)"
   ]
  },
  {
   "cell_type": "code",
   "execution_count": 71,
   "metadata": {
    "collapsed": true
   },
   "outputs": [],
   "source": [
    "# add additional feature names\n",
    "feat_names_add = ['author', 'title_capitalization', 'exclamation_in_title']"
   ]
  },
  {
   "cell_type": "markdown",
   "metadata": {},
   "source": [
    "# Set train, test, cv data, choose one method"
   ]
  },
  {
   "cell_type": "markdown",
   "metadata": {},
   "source": [
    "## 1. use all features"
   ]
  },
  {
   "cell_type": "code",
   "execution_count": 228,
   "metadata": {
    "collapsed": false
   },
   "outputs": [
    {
     "name": "stdout",
     "output_type": "stream",
     "text": [
      "X_train_tot_add shape:  (2062, 570029)\n",
      "X_test_tot_add shape:  (531, 570029)\n",
      "X_cv_tot_add shape:  (353, 570029)\n"
     ]
    }
   ],
   "source": [
    "X_train_tot_add = sp.sparse.hstack((X_train_tot, concat_3features(af_train)))\n",
    "X_cv_tot_add = sp.sparse.hstack((X_cv_tot, concat_3features(af_cv)))\n",
    "X_test_tot_add = sp.sparse.hstack((X_test_tot, concat_3features(af_test)))\n",
    "print(\"X_train_tot_add shape: \", X_train_tot_add.shape)\n",
    "print(\"X_test_tot_add shape: \", X_test_tot_add.shape)\n",
    "print(\"X_cv_tot_add shape: \", X_cv_tot_add.shape)\n",
    "\n",
    "X_train_dtm = X_train_tot_add\n",
    "X_test_dtm = X_test_tot_add\n",
    "X_cv_dtm = X_cv_tot_add"
   ]
  },
  {
   "cell_type": "code",
   "execution_count": 229,
   "metadata": {
    "collapsed": false
   },
   "outputs": [
    {
     "data": {
      "text/plain": [
       "['!', '! !', '! #', '! $', '! %', \"! '\", \"! ''\", \"! 'll\", \"! 'm\", \"! 're\"]"
      ]
     },
     "execution_count": 229,
     "metadata": {},
     "output_type": "execute_result"
    }
   ],
   "source": [
    "feat_names = feat_names_tfidf\n",
    "feat_names[:10]"
   ]
  },
  {
   "cell_type": "markdown",
   "metadata": {},
   "source": [
    "##  2. use selected features from text body of news"
   ]
  },
  {
   "cell_type": "code",
   "execution_count": 78,
   "metadata": {
    "collapsed": false
   },
   "outputs": [],
   "source": [
    "X_train_dtm = X_train_selected\n",
    "X_test_dtm = X_test_selected\n",
    "X_cv_dtm = X_cv_selected"
   ]
  },
  {
   "cell_type": "code",
   "execution_count": 133,
   "metadata": {
    "collapsed": false
   },
   "outputs": [
    {
     "data": {
      "text/plain": [
       "['!', '! !', '! ”', '#', '# #', '$', '$ 399', '%', '% ,', '% .']"
      ]
     },
     "execution_count": 133,
     "metadata": {},
     "output_type": "execute_result"
    }
   ],
   "source": [
    "feat_names = feat_names_sel_list\n",
    "feat_names[:10]"
   ]
  },
  {
   "cell_type": "markdown",
   "metadata": {},
   "source": [
    "## 3. use selected and additional features"
   ]
  },
  {
   "cell_type": "code",
   "execution_count": 269,
   "metadata": {
    "collapsed": false
   },
   "outputs": [],
   "source": [
    "X_train_dtm = X_train_sel_add\n",
    "X_test_dtm = X_test_sel_add\n",
    "X_cv_dtm = X_cv_sel_add"
   ]
  },
  {
   "cell_type": "code",
   "execution_count": 270,
   "metadata": {
    "collapsed": false
   },
   "outputs": [
    {
     "data": {
      "text/plain": [
       "['author',\n",
       " 'title_capitalization',\n",
       " 'exclamation_in_title',\n",
       " '!',\n",
       " '! !',\n",
       " '! ”',\n",
       " '#',\n",
       " '# #',\n",
       " '$',\n",
       " '$ 399']"
      ]
     },
     "execution_count": 270,
     "metadata": {},
     "output_type": "execute_result"
    }
   ],
   "source": [
    "feat_names = feat_names_add + feat_names_sel_list \n",
    "feat_names[:10]"
   ]
  },
  {
   "cell_type": "markdown",
   "metadata": {},
   "source": [
    "# Test different models"
   ]
  },
  {
   "cell_type": "code",
   "execution_count": 271,
   "metadata": {
    "collapsed": true
   },
   "outputs": [],
   "source": [
    "# validation test & Learning curve\n",
    "\n",
    "def valid_test(model, param, param_candidates):\n",
    "    \n",
    "#     candidates = np.logspace(-7, 7, 10) # for alpha, C \n",
    "#     candidates = [1,2,3,4,5,6,7,8,9,10]# for integers\n",
    "    train_scores, valid_scores = validation_curve(model, X_cv_dtm, Y_cv, param, param_candidates)\n",
    "    avg_ts, avg_vs = train_scores.mean(axis = 1), valid_scores.mean(axis = 1)\n",
    "    sd_ts, sd_vs = train_scores.std(axis = 1), valid_scores.std(axis = 1)\n",
    "    vs_max_ix = np.argmax(avg_vs)\n",
    "    best = param_candidates[vs_max_ix]\n",
    "    print('The best {} value for {} is {}'.format(param, model, best))\n",
    "    plt.figure(figsize=(10, 6))\n",
    "    plt.ylim([0,1.1])\n",
    "    plt.title('Validation Test')\n",
    "    plt.ylabel('Scores')\n",
    "    plt.xlabel('Candidate {} index'.format(param))\n",
    "    plt.plot(range(10), avg_ts, label = 'Training Scores')\n",
    "    plt.plot(range(10), avg_vs, label = 'Cross validation Scores')\n",
    "    plt.legend(loc = 'best')\n",
    "    return best\n",
    "\n",
    "def Learning_curve(model):\n",
    "    train_sizes = [50,100,150,200,250,300,350,400]\n",
    "    train_sizes, train_scores, test_scores = learning_curve(model, X_train_dtm, Y_train, train_sizes=train_sizes)   \n",
    "    train_scores_mean, test_scores_mean = train_scores.mean(axis = 1), test_scores.mean(axis = 1)\n",
    "    train_scores_std, test_scores_std = train_scores.std(axis = 1), test_scores.std(axis = 1)\n",
    "    plt.figure(figsize=(10, 6))\n",
    "    plt.ylim([0,1.1])\n",
    "    plt.title('Learning Curve',fontsize=15)\n",
    "    plt.ylabel('Scores',fontsize=13.5)\n",
    "    plt.xlabel('Training Size',fontsize=13.5)\n",
    "    plt.fill_between(train_sizes, train_scores_mean - train_scores_std,\n",
    "                     train_scores_mean + train_scores_std, alpha=0.1,\n",
    "                     color=\"r\")\n",
    "    plt.fill_between(train_sizes, test_scores_mean - test_scores_std,\n",
    "                     test_scores_mean + test_scores_std, alpha=0.1, color=\"g\")\n",
    "    plt.plot(train_sizes, train_scores_mean, 'o-', color=\"r\",\n",
    "             label=\"Training Score\")\n",
    "    plt.plot(train_sizes, test_scores_mean, 'o-', color=\"g\",\n",
    "             label=\"Cross-Validation Score\")\n",
    "    plt.legend(loc = 'best')\n",
    "    plt.savefig('./figures/learning_curve.png', transparent=True)\n",
    "    plt.show()\n",
    "    \n",
    "def plot_roc_curve(model):\n",
    "    y_pred_prob = model.predict_proba(X_test_dtm)\n",
    "    fpr, tpr, thrs = roc_curve(Y_test, y_pred_prob[:,1])\n",
    "        \n",
    "    plt.figure(figsize=(10, 6))\n",
    "    plt.plot([0, 1], [0, 1], 'k--')\n",
    "    plt.plot(fpr, tpr, label='Logistic Regression', color='darkorange',lw = 3)\n",
    "    plt.xlabel('False Positive Rate',fontsize=13.5)\n",
    "    plt.ylabel('True Positive Rate',fontsize=13.5)\n",
    "    plt.title('ROC Curve',fontsize=15)\n",
    "    plt.savefig('./figures/roc_curve.png', transparent=True)\n",
    "    plt.show()\n",
    "    print('AUC is {}'.format(auc(fpr, tpr)))\n",
    "\n",
    "def plot_precision_recall(model):\n",
    "    y_pred_dec = model.decision_function(X_test_dtm)\n",
    "    precision, recall, thresholds = precision_recall_curve(Y_test, y_pred_dec)\n",
    "    plt.figure(figsize=(10, 6))\n",
    "    plt.plot([0, 1], [1, 0],'k--')\n",
    "    plt.plot(recall, precision, label='Logistic Regression', color='teal',lw = 3)\n",
    "    plt.xlabel('Recall',fontsize=13.5)\n",
    "    plt.ylabel('Precision',fontsize=13.5)\n",
    "    plt.title('Recall-Precision Curve',fontsize=15)\n",
    "    plt.savefig('./figures/recall_precision_curve.png', transparent=True)\n",
    "    plt.show()\n",
    "\n",
    "def print_scores(model, y_test_pred):\n",
    "    print('Train score is {}'.format(model.score(X_train_dtm, Y_train)))\n",
    "    print('Test score is {}'.format(model.score(X_test_dtm, Y_test)))\n",
    "    print('F1 score is {}'.format(f1_score(Y_test,y_test_pred)))\n",
    "        "
   ]
  },
  {
   "cell_type": "markdown",
   "metadata": {},
   "source": [
    "## 1. Logistic Regression"
   ]
  },
  {
   "cell_type": "code",
   "execution_count": 272,
   "metadata": {
    "collapsed": false
   },
   "outputs": [
    {
     "name": "stdout",
     "output_type": "stream",
     "text": [
      "The best C value for LogisticRegression(C=10000.0, class_weight=None, dual=False,\n",
      "          fit_intercept=True, intercept_scaling=1, max_iter=100,\n",
      "          multi_class='ovr', n_jobs=1, penalty='l2', random_state=None,\n",
      "          solver='liblinear', tol=0.0001, verbose=0, warm_start=False) is 278.2559402207126\n"
     ]
    },
    {
     "data": {
      "image/png": "[encoded data removed]",
      "text/plain": [
       "<matplotlib.figure.Figure at 0x17ced6ef0>"
      ]
     },
     "metadata": {},
     "output_type": "display_data"
    },
    {
     "data": {
      "image/png": "[encoded data removed]",
      "text/plain": [
       "<matplotlib.figure.Figure at 0x13a2bd320>"
      ]
     },
     "metadata": {},
     "output_type": "display_data"
    },
    {
     "name": "stdout",
     "output_type": "stream",
     "text": [
      "CPU times: user 64.2 ms, sys: 1.1 ms, total: 65.3 ms\n",
      "Wall time: 65.1 ms\n"
     ]
    }
   ],
   "source": [
    "best_C = valid_test(LogisticRegression(), \"C\", np.logspace(2, 4, 10))\n",
    "LR = LogisticRegression(C = best_C)\n",
    "#LR = LogisticRegression()\n",
    "Learning_curve(LR)\n",
    "%time LR.fit(X_train_dtm, Y_train)\n",
    "Y_test_pred_LR = LR.predict(X_test_dtm)\n",
    "\n",
    "# polynomial_features = PolynomialFeatures(degree=2,include_bias=False)\n",
    "# pipeline = Pipeline([(\"polynomial_features\", polynomial_features), (\"linear_regression\", LR)])\n",
    "# Learning_curve(pipeline)\n",
    "# # Learning_curve(LR)\n",
    "\n",
    "# pipeline.fit(X_train, Y_train)\n",
    "# Y_test_pred_LR = pipeline.predict(X_test)\n",
    "# print('Train score is {}'.format(pipeline.score(X_train, Y_train)))\n",
    "# print('Cross validation score is {}'.format(pipeline.score(X_cv, Y_cv)))"
   ]
  },
  {
   "cell_type": "code",
   "execution_count": 244,
   "metadata": {
    "collapsed": false
   },
   "outputs": [
    {
     "data": {
      "image/png": "[encoded data removed]",
      "text/plain": [
       "<matplotlib.figure.Figure at 0x17cee2198>"
      ]
     },
     "metadata": {},
     "output_type": "display_data"
    },
    {
     "data": {
      "image/png": "[encoded data removed]",
      "text/plain": [
       "<matplotlib.figure.Figure at 0x17ced6f28>"
      ]
     },
     "metadata": {},
     "output_type": "display_data"
    },
    {
     "name": "stdout",
     "output_type": "stream",
     "text": [
      "AUC is 0.9726890756302521\n",
      "Train score is 0.9995150339476236\n",
      "Test score is 0.9190207156308852\n",
      "F1 score is 0.9205175600739371\n"
     ]
    }
   ],
   "source": [
    "# plot precision recall curve\n",
    "plot_precision_recall(LR)\n",
    "# plot ROC curve\n",
    "plot_roc_curve(LR)\n",
    "# print scores\n",
    "print_scores(LR, Y_test_pred_LR)"
   ]
  },
  {
   "cell_type": "markdown",
   "metadata": {},
   "source": [
    "### visualize  top features for each class"
   ]
  },
  {
   "cell_type": "code",
   "execution_count": 275,
   "metadata": {
    "collapsed": false
   },
   "outputs": [],
   "source": [
    "def plot_coefficients(classifier, feature_names, top_features=20):\n",
    " coef = classifier.coef_.ravel()\n",
    " top_positive_coefficients = np.argsort(coef)[-top_features:]\n",
    " top_negative_coefficients = np.argsort(coef)[:top_features]\n",
    " top_coefficients = np.hstack([top_negative_coefficients, top_positive_coefficients])\n",
    " # create plot\n",
    " plt.figure(figsize=(15, 5))\n",
    " colors = ['green' if c < 0 else 'red' for c in coef[top_coefficients]]\n",
    " plt.bar(np.arange(2 * top_features), coef[top_coefficients], color=colors)\n",
    " feature_names = np.array(feature_names)\n",
    " plt.xticks(np.arange(1, 1 + 2 * top_features), feature_names[top_coefficients], \n",
    "            rotation=60, ha='right', fontsize=12)\n",
    " plt.ylabel('Coefficient',fontsize=12)\n",
    " plt.tight_layout()\n",
    " plt.savefig('./figures/topfeatures_class.png', transparent=True)\n",
    " plt.show()"
   ]
  },
  {
   "cell_type": "code",
   "execution_count": 276,
   "metadata": {
    "collapsed": false
   },
   "outputs": [
    {
     "data": {
      "image/png": "[encoded data removed]",
      "text/plain": [
       "<matplotlib.figure.Figure at 0x13af8c940>"
      ]
     },
     "metadata": {},
     "output_type": "display_data"
    }
   ],
   "source": [
    "plot_coefficients(LR, feat_names)"
   ]
  },
  {
   "cell_type": "markdown",
   "metadata": {},
   "source": [
    "### feature importance"
   ]
  },
  {
   "cell_type": "code",
   "execution_count": 236,
   "metadata": {
    "collapsed": true
   },
   "outputs": [],
   "source": [
    "def plot_feature_importance(label):\n",
    "    x = [x for x in range(LR.coef_.size)]\n",
    "\n",
    "    LR.coef_.sort()\n",
    "    y = LR.coef_\n",
    "    \n",
    "    f, ax = plt.subplots(1,1,figsize=(10,6))\n",
    "    ax.set_xlim([0,LR.coef_.size])\n",
    "    ax.set_ylabel('Coefficient',fontsize=13.5)\n",
    "    ax.set_xlabel('Number of Features',fontsize=13.5)\n",
    "    ax.bar(x,y[0],color='b',edgecolor='none',width=1.0)\n",
    "    ax.set_title('Feature Importance',fontsize=15)\n",
    "    file_name = './figures/' + label + '_feature_selection_coef.png'\n",
    "    plt.savefig(file_name, transparent=True)\n",
    "    plt.show"
   ]
  },
  {
   "cell_type": "markdown",
   "metadata": {},
   "source": [
    "#### 1. before feature selection"
   ]
  },
  {
   "cell_type": "code",
   "execution_count": 237,
   "metadata": {
    "collapsed": false
   },
   "outputs": [
    {
     "name": "stdout",
     "output_type": "stream",
     "text": [
      "CPU times: user 17min 33s, sys: 1min 51s, total: 19min 24s\n",
      "Wall time: 19min 44s\n"
     ]
    },
    {
     "data": {
      "image/png": "[encoded data removed]",
      "text/plain": [
       "<matplotlib.figure.Figure at 0x135474b00>"
      ]
     },
     "metadata": {},
     "output_type": "display_data"
    }
   ],
   "source": [
    "# too slow\n",
    "%time plot_feature_importance('before')"
   ]
  },
  {
   "cell_type": "markdown",
   "metadata": {},
   "source": [
    "#### 2. after feature selection"
   ]
  },
  {
   "cell_type": "code",
   "execution_count": 219,
   "metadata": {
    "collapsed": false
   },
   "outputs": [
    {
     "name": "stdout",
     "output_type": "stream",
     "text": [
      "CPU times: user 3.37 s, sys: 41.6 ms, total: 3.42 s\n",
      "Wall time: 3.42 s\n"
     ]
    },
    {
     "data": {
      "image/png": "[encoded data removed]",
      "text/plain": [
       "<matplotlib.figure.Figure at 0x135238320>"
      ]
     },
     "metadata": {},
     "output_type": "display_data"
    }
   ],
   "source": [
    "%time plot_feature_importance('after')"
   ]
  },
  {
   "cell_type": "markdown",
   "metadata": {},
   "source": [
    "### feature selection vs. prediction rate"
   ]
  },
  {
   "cell_type": "code",
   "execution_count": null,
   "metadata": {
    "collapsed": true
   },
   "outputs": [],
   "source": [
    "from sklearn import feature_selection\n",
    "from sklearn.model_selection import cross_val_score\n",
    "import warnings\n",
    "warnings.filterwarnings('ignore')"
   ]
  },
  {
   "cell_type": "code",
   "execution_count": null,
   "metadata": {
    "collapsed": false,
    "scrolled": true
   },
   "outputs": [],
   "source": [
    "transform = feature_selection.SelectPercentile(feature_selection.f_classif)\n",
    "clf = Pipeline([('anova', transform), ('LR', LogisticRegression(C = best_C))])\n",
    "\n",
    "score_means = list()\n",
    "score_stds = list()\n",
    "percentiles = (1, 3, 6, 10, 15, 20, 30, 40, 60, 80, 100)\n",
    "\n",
    "for percentile in percentiles:\n",
    "    clf.set_params(anova__percentile=percentile)\n",
    "    this_scores = cross_val_score(clf, X_cv_dtm, Y_cv)\n",
    "    score_means.append(this_scores.mean())\n",
    "    score_stds.append(this_scores.std())\n",
    "    \n",
    "plt.figure(figsize=(10, 6))\n",
    "plt.ylim([0,1])\n",
    "plt.errorbar(percentiles, score_means, np.array(score_stds))\n",
    "\n",
    "plt.title('Performance of the LR-Anova varying the percentile of features selected', fontsize=15)\n",
    "plt.xlabel('Percentile', fontsize=13.5)\n",
    "plt.ylabel('Prediction rate', fontsize=13.5)\n",
    "plt.savefig('./figures/prediction_percentile.png')\n",
    "plt.show()"
   ]
  },
  {
   "cell_type": "code",
   "execution_count": null,
   "metadata": {
    "collapsed": false
   },
   "outputs": [],
   "source": [
    "from sklearn.ensemble import ExtraTreesClassifier\n",
    "\n",
    "model = ExtraTreesClassifier()\n",
    "model.fit(X_train_dtm, Y_train)\n",
    "# display the relative importance of each attribute\n",
    "#print(model.feature_importances_)\n",
    "df = pd.DataFrame(model.feature_importances_, columns = ['importance'])\n",
    "df.shape"
   ]
  },
  {
   "cell_type": "code",
   "execution_count": null,
   "metadata": {
    "collapsed": false
   },
   "outputs": [],
   "source": [
    "model.feature_importances_"
   ]
  },
  {
   "cell_type": "code",
   "execution_count": null,
   "metadata": {
    "collapsed": false,
    "scrolled": true
   },
   "outputs": [],
   "source": [
    "plt.figure(figsize=(10, 6))\n",
    "plt.xlim([0,df.index.size])\n",
    "plt.bar(df.index, df.importance, color=\"b\",edgecolor='none')\n",
    "plt.title('Feature importance', fontsize=15)\n",
    "plt.xlabel('Features', fontsize=13.5)\n",
    "plt.ylabel('Importances', fontsize=13.5)\n",
    "#plt.savefig('./figures/feature_importances.png')\n",
    "plt.show()"
   ]
  },
  {
   "cell_type": "markdown",
   "metadata": {},
   "source": [
    "## 2. Neural networking (MLP)"
   ]
  },
  {
   "cell_type": "code",
   "execution_count": null,
   "metadata": {
    "collapsed": false
   },
   "outputs": [],
   "source": [
    "best_alpha = valid_test(MLPClassifier(), 'alpha', np.logspace(-5, -1, 10))\n",
    "MLP = MLPClassifier(alpha=best_alpha, hidden_layer_sizes=(10, 10, 10), random_state=1, max_iter=200)\n",
    "# MLP = MLPClassifier(alpha=1e-05, hidden_layer_sizes=(12, 12, 12), random_state=1, max_iter=200)\n",
    "MLP.fit(X_train_dtm, Y_train)\n",
    "Learning_curve(MLP)\n",
    "Y_test_pred_MLP = MLP.predict(X_test_dtm)\n",
    "\n",
    "# polynomial_features = PolynomialFeatures(degree=2,include_bias=False)\n",
    "# pipeline = Pipeline([(\"polynomial_features\", polynomial_features), (\"MLP_Classifier\", MLP)])\n",
    "# pipeline.fit(X_train, Y_train)\n",
    "# Learning_curve(pipeline)\n",
    "# Y_test_pred_MLP = MLP.predict(X_test)\n",
    "\n",
    "# print('train score is {}'.format(pipeline.score(X_train, Y_train)))\n",
    "# print('cross validation score is {}'.format(pipeline.score(X_cv, Y_cv)))"
   ]
  },
  {
   "cell_type": "code",
   "execution_count": null,
   "metadata": {
    "collapsed": true
   },
   "outputs": [],
   "source": [
    "# plot precision recall curve\n",
    "plot_precision_recall(MLP, X_test_dtm, Y_test)\n",
    "# plot ROC curve\n",
    "plot_roc_curve(MLP, X_test_dtm, Y_test)\n",
    "# print scores\n",
    "print_scores(MLP, X_train_dtm, Y_train, X_test_dtm, Y_test, Y_test_pred_MLP)"
   ]
  },
  {
   "cell_type": "markdown",
   "metadata": {},
   "source": [
    "## 3. Support Vector Machines"
   ]
  },
  {
   "cell_type": "code",
   "execution_count": null,
   "metadata": {
    "collapsed": false
   },
   "outputs": [],
   "source": [
    "best_gamma = valid_test(SVC(), \"gamma\", np.logspace(-5, 5, 10))\n",
    "best_C = valid_test(SVC(gamma = best_gamma), \"C\", np.logspace(-5, 5, 10))\n",
    "svm = SVC(C = best_C, gamma = best_gamma)\n",
    "# svm = SVC(C = 3.6, gamma = 0.0016)\n",
    "svm.fit(X_train_dtm, Y_train)\n",
    "Learning_curve(svm)\n",
    "Y_test_pred_svm = svm.predict(X_test_dtm)"
   ]
  },
  {
   "cell_type": "code",
   "execution_count": null,
   "metadata": {
    "collapsed": false
   },
   "outputs": [],
   "source": [
    "# plot precision recall curve\n",
    "plot_precision_recall(svm, X_test_dtm, Y_test)\n",
    "# plot ROC curve\n",
    "#plot_roc_curve(svm, X_test_dtm, Y_test)\n",
    "# print scores\n",
    "print_scores(svm, X_train_dtm, Y_train, X_test_dtm, Y_test, Y_test_pred_svm)"
   ]
  },
  {
   "cell_type": "markdown",
   "metadata": {},
   "source": [
    "## 4. RandomForestClassifier"
   ]
  },
  {
   "cell_type": "code",
   "execution_count": null,
   "metadata": {
    "collapsed": false
   },
   "outputs": [],
   "source": [
    "best_estimator = valid_test(RandomForestClassifier(), \"n_estimators\", [x for x in range(2,12)])\n",
    "RF = RandomForestClassifier(n_estimators=best_estimator)\n",
    "Learning_curve(RF)\n",
    "%time RF.fit(X_train_dtm, Y_train)\n",
    "Y_test_pred_RF = RF.predict(X_test_dtm)"
   ]
  },
  {
   "cell_type": "code",
   "execution_count": null,
   "metadata": {
    "collapsed": false
   },
   "outputs": [],
   "source": [
    "# RF does not have decision_function\n",
    "#plot_precision_recall(RF, X_test_dtm, Y_test)\n",
    "\n",
    "# plot ROC curve\n",
    "plot_roc_curve(RF)\n",
    "# print scores\n",
    "print_scores(RF, Y_test_pred_RF)"
   ]
  },
  {
   "cell_type": "markdown",
   "metadata": {},
   "source": [
    "## 5. naive_bayes"
   ]
  },
  {
   "cell_type": "code",
   "execution_count": null,
   "metadata": {
    "collapsed": false
   },
   "outputs": [],
   "source": [
    "best_alpha = valid_test(MultinomialNB(), \"alpha\", np.logspace(-10, 2, 10))\n",
    "nb = MultinomialNB(alpha = best_alpha)\n",
    "#nb = MultinomialNB()\n",
    "Learning_curve(nb)\n",
    "%time nb.fit(X_train_dtm, Y_train)\n",
    "Y_test_pred_nb = nb.predict(X_test_dtm)    "
   ]
  },
  {
   "cell_type": "code",
   "execution_count": null,
   "metadata": {
    "collapsed": false
   },
   "outputs": [],
   "source": [
    "# nb does not have decision_function\n",
    "#plot_precision_recall(nb)\n",
    "\n",
    "# plot ROC curve\n",
    "plot_roc_curve(nb)\n",
    "# print scores\n",
    "print_scores(nb, Y_test_pred_nb)"
   ]
  },
  {
   "cell_type": "code",
   "execution_count": null,
   "metadata": {
    "collapsed": true
   },
   "outputs": [],
   "source": []
  }
 ],
 "metadata": {
  "anaconda-cloud": {},
  "kernelspec": {
   "display_name": "Python [Root]",
   "language": "python",
   "name": "Python [Root]"
  },
  "language_info": {
   "codemirror_mode": {
    "name": "ipython",
    "version": 3
   },
   "file_extension": ".py",
   "mimetype": "text/x-python",
   "name": "python",
   "nbconvert_exporter": "python",
   "pygments_lexer": "ipython3",
   "version": "3.5.2"
  }
 },
 "nbformat": 4,
 "nbformat_minor": 2
}
