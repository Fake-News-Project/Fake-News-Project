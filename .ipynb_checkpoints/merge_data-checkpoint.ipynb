{
 "cells": [
  {
   "cell_type": "markdown",
   "metadata": {},
   "source": [
    "# Merge data\n",
    "* Data format is following Hyesoo's format\n",
    "* All data is exported to a csv file"
   ]
  },
  {
   "cell_type": "code",
   "execution_count": 1,
   "metadata": {
    "collapsed": true
   },
   "outputs": [],
   "source": [
    "import pandas as pd\n",
    "import os"
   ]
  },
  {
   "cell_type": "markdown",
   "metadata": {},
   "source": [
    "## Import Additional(Renata) data"
   ]
  },
  {
   "cell_type": "code",
   "execution_count": 2,
   "metadata": {
    "collapsed": true
   },
   "outputs": [],
   "source": [
    "path = os.path.join('data', 'Additional_fake_df.csv')\n",
    "df_add_fakenews = pd.read_csv(path,usecols=[1,2,3,4,5,6])"
   ]
  },
  {
   "cell_type": "markdown",
   "metadata": {},
   "source": [
    "## Import Jinmei's data"
   ]
  },
  {
   "cell_type": "markdown",
   "metadata": {},
   "source": [
    "### import fake news"
   ]
  },
  {
   "cell_type": "code",
   "execution_count": 3,
   "metadata": {
    "collapsed": false
   },
   "outputs": [],
   "source": [
    "path = os.path.join('data', 'fakenews_jz.csv')\n",
    "df_fakenews = pd.read_csv(path,usecols=[1,2,3,4,5])\n",
    "df_fakenews['authenticity'] = 1"
   ]
  },
  {
   "cell_type": "markdown",
   "metadata": {},
   "source": [
    "### import real news"
   ]
  },
  {
   "cell_type": "code",
   "execution_count": 4,
   "metadata": {
    "collapsed": false,
    "scrolled": true
   },
   "outputs": [],
   "source": [
    "path = os.path.join('data', 'realnews_jz.csv')\n",
    "df_realnews = pd.read_csv(path,usecols=[0,1,2,3,4])\n",
    "df_realnews['authenticity'] = 0"
   ]
  },
  {
   "cell_type": "markdown",
   "metadata": {},
   "source": [
    "### merge fake and real news"
   ]
  },
  {
   "cell_type": "code",
   "execution_count": 5,
   "metadata": {
    "collapsed": false
   },
   "outputs": [
    {
     "data": {
      "text/html": [
       "<div>\n",
       "<table border=\"1\" class=\"dataframe\">\n",
       "  <thead>\n",
       "    <tr style=\"text-align: right;\">\n",
       "      <th></th>\n",
       "      <th>url</th>\n",
       "      <th>source</th>\n",
       "      <th>title</th>\n",
       "      <th>author</th>\n",
       "      <th>text</th>\n",
       "      <th>authenticity</th>\n",
       "    </tr>\n",
       "  </thead>\n",
       "  <tbody>\n",
       "    <tr>\n",
       "      <th>1271</th>\n",
       "      <td>http://www.newyorker.com/news/news-desk</td>\n",
       "      <td>newyorker</td>\n",
       "      <td>News Desk: Breaking News, Reporting, and Polit...</td>\n",
       "      <td>[]</td>\n",
       "      <td>NaN</td>\n",
       "      <td>0</td>\n",
       "    </tr>\n",
       "    <tr>\n",
       "      <th>1272</th>\n",
       "      <td>http://www.newyorker.com/cartoon/dernavich-201...</td>\n",
       "      <td>newyorker</td>\n",
       "      <td>A Cartoon from The New Yorker</td>\n",
       "      <td>[]</td>\n",
       "      <td>NaN</td>\n",
       "      <td>0</td>\n",
       "    </tr>\n",
       "    <tr>\n",
       "      <th>1273</th>\n",
       "      <td>http://tunein.com/radio/New-Yorker-Poetry-p803...</td>\n",
       "      <td>newyorker</td>\n",
       "      <td>New Yorker Poetry</td>\n",
       "      <td>[]</td>\n",
       "      <td>Yusef Komunyakaa reads a poem by Marilyn Hacke...</td>\n",
       "      <td>0</td>\n",
       "    </tr>\n",
       "    <tr>\n",
       "      <th>1274</th>\n",
       "      <td>http://video.newyorker.com/watch/shorts-murmur...</td>\n",
       "      <td>newyorker</td>\n",
       "      <td>The Startup to End All Startups</td>\n",
       "      <td>[]</td>\n",
       "      <td>The Startup to End All Startups\\n\\nMeet uBox, ...</td>\n",
       "      <td>0</td>\n",
       "    </tr>\n",
       "    <tr>\n",
       "      <th>1275</th>\n",
       "      <td>http://www.newyorker.com/humor/borowitz-report...</td>\n",
       "      <td>newyorker</td>\n",
       "      <td>Cruz: “The Dream of Keeping Poor People from S...</td>\n",
       "      <td>[]</td>\n",
       "      <td>WASHINGTON ( The Borowitz Report )—Acknowledgi...</td>\n",
       "      <td>0</td>\n",
       "    </tr>\n",
       "  </tbody>\n",
       "</table>\n",
       "</div>"
      ],
      "text/plain": [
       "                                                    url     source  \\\n",
       "1271            http://www.newyorker.com/news/news-desk  newyorker   \n",
       "1272  http://www.newyorker.com/cartoon/dernavich-201...  newyorker   \n",
       "1273  http://tunein.com/radio/New-Yorker-Poetry-p803...  newyorker   \n",
       "1274  http://video.newyorker.com/watch/shorts-murmur...  newyorker   \n",
       "1275  http://www.newyorker.com/humor/borowitz-report...  newyorker   \n",
       "\n",
       "                                                  title author  \\\n",
       "1271  News Desk: Breaking News, Reporting, and Polit...     []   \n",
       "1272                      A Cartoon from The New Yorker     []   \n",
       "1273                                  New Yorker Poetry     []   \n",
       "1274                    The Startup to End All Startups     []   \n",
       "1275  Cruz: “The Dream of Keeping Poor People from S...     []   \n",
       "\n",
       "                                                   text  authenticity  \n",
       "1271                                                NaN             0  \n",
       "1272                                                NaN             0  \n",
       "1273  Yusef Komunyakaa reads a poem by Marilyn Hacke...             0  \n",
       "1274  The Startup to End All Startups\\n\\nMeet uBox, ...             0  \n",
       "1275  WASHINGTON ( The Borowitz Report )—Acknowledgi...             0  "
      ]
     },
     "execution_count": 5,
     "metadata": {},
     "output_type": "execute_result"
    }
   ],
   "source": [
    "df_jinmei = pd.concat([df_fakenews, df_realnews], ignore_index=True)\n",
    "df_jinmei.tail()"
   ]
  },
  {
   "cell_type": "code",
   "execution_count": 6,
   "metadata": {
    "collapsed": false
   },
   "outputs": [
    {
     "data": {
      "text/plain": [
       "(1276, 6)"
      ]
     },
     "execution_count": 6,
     "metadata": {},
     "output_type": "execute_result"
    }
   ],
   "source": [
    "df_jinmei.shape"
   ]
  },
  {
   "cell_type": "markdown",
   "metadata": {},
   "source": [
    "### clean data"
   ]
  },
  {
   "cell_type": "code",
   "execution_count": 7,
   "metadata": {
    "collapsed": false
   },
   "outputs": [
    {
     "data": {
      "text/html": [
       "<div>\n",
       "<table border=\"1\" class=\"dataframe\">\n",
       "  <thead>\n",
       "    <tr style=\"text-align: right;\">\n",
       "      <th></th>\n",
       "      <th>url</th>\n",
       "      <th>source</th>\n",
       "      <th>title</th>\n",
       "      <th>author</th>\n",
       "      <th>text</th>\n",
       "      <th>authenticity</th>\n",
       "    </tr>\n",
       "  </thead>\n",
       "  <tbody>\n",
       "    <tr>\n",
       "      <th>1268</th>\n",
       "      <td>http://www.newyorker.com/humor/borowitz-report...</td>\n",
       "      <td>newyorker</td>\n",
       "      <td>Stephen Hawking Angers Trump Supporters with B...</td>\n",
       "      <td>[]</td>\n",
       "      <td>LONDON ( The Borowitz Report )—The theoretical...</td>\n",
       "      <td>0</td>\n",
       "    </tr>\n",
       "    <tr>\n",
       "      <th>1269</th>\n",
       "      <td>http://tunein.com/radio/New-Yorker-Radio-Hour-...</td>\n",
       "      <td>newyorker</td>\n",
       "      <td>The New Yorker Radio Hour</td>\n",
       "      <td>[]</td>\n",
       "      <td>Description:\\n\\nDavid Remnick is joined by The...</td>\n",
       "      <td>0</td>\n",
       "    </tr>\n",
       "    <tr>\n",
       "      <th>1273</th>\n",
       "      <td>http://tunein.com/radio/New-Yorker-Poetry-p803...</td>\n",
       "      <td>newyorker</td>\n",
       "      <td>New Yorker Poetry</td>\n",
       "      <td>[]</td>\n",
       "      <td>Yusef Komunyakaa reads a poem by Marilyn Hacke...</td>\n",
       "      <td>0</td>\n",
       "    </tr>\n",
       "    <tr>\n",
       "      <th>1274</th>\n",
       "      <td>http://video.newyorker.com/watch/shorts-murmur...</td>\n",
       "      <td>newyorker</td>\n",
       "      <td>The Startup to End All Startups</td>\n",
       "      <td>[]</td>\n",
       "      <td>The Startup to End All Startups\\n\\nMeet uBox, ...</td>\n",
       "      <td>0</td>\n",
       "    </tr>\n",
       "    <tr>\n",
       "      <th>1275</th>\n",
       "      <td>http://www.newyorker.com/humor/borowitz-report...</td>\n",
       "      <td>newyorker</td>\n",
       "      <td>Cruz: “The Dream of Keeping Poor People from S...</td>\n",
       "      <td>[]</td>\n",
       "      <td>WASHINGTON ( The Borowitz Report )—Acknowledgi...</td>\n",
       "      <td>0</td>\n",
       "    </tr>\n",
       "  </tbody>\n",
       "</table>\n",
       "</div>"
      ],
      "text/plain": [
       "                                                    url     source  \\\n",
       "1268  http://www.newyorker.com/humor/borowitz-report...  newyorker   \n",
       "1269  http://tunein.com/radio/New-Yorker-Radio-Hour-...  newyorker   \n",
       "1273  http://tunein.com/radio/New-Yorker-Poetry-p803...  newyorker   \n",
       "1274  http://video.newyorker.com/watch/shorts-murmur...  newyorker   \n",
       "1275  http://www.newyorker.com/humor/borowitz-report...  newyorker   \n",
       "\n",
       "                                                  title author  \\\n",
       "1268  Stephen Hawking Angers Trump Supporters with B...     []   \n",
       "1269                          The New Yorker Radio Hour     []   \n",
       "1273                                  New Yorker Poetry     []   \n",
       "1274                    The Startup to End All Startups     []   \n",
       "1275  Cruz: “The Dream of Keeping Poor People from S...     []   \n",
       "\n",
       "                                                   text  authenticity  \n",
       "1268  LONDON ( The Borowitz Report )—The theoretical...             0  \n",
       "1269  Description:\\n\\nDavid Remnick is joined by The...             0  \n",
       "1273  Yusef Komunyakaa reads a poem by Marilyn Hacke...             0  \n",
       "1274  The Startup to End All Startups\\n\\nMeet uBox, ...             0  \n",
       "1275  WASHINGTON ( The Borowitz Report )—Acknowledgi...             0  "
      ]
     },
     "execution_count": 7,
     "metadata": {},
     "output_type": "execute_result"
    }
   ],
   "source": [
    "# drop rows where text contains NaN\n",
    "df_jinmei = df_jinmei.dropna(axis=0,subset=['text'], how='any') \n",
    "df_jinmei.tail()"
   ]
  },
  {
   "cell_type": "code",
   "execution_count": 8,
   "metadata": {
    "collapsed": false
   },
   "outputs": [
    {
     "data": {
      "text/plain": [
       "(1213, 6)"
      ]
     },
     "execution_count": 8,
     "metadata": {},
     "output_type": "execute_result"
    }
   ],
   "source": [
    "df_jinmei.shape"
   ]
  },
  {
   "cell_type": "code",
   "execution_count": 9,
   "metadata": {
    "collapsed": false
   },
   "outputs": [
    {
     "data": {
      "text/plain": [
       "(822, 6)"
      ]
     },
     "execution_count": 9,
     "metadata": {},
     "output_type": "execute_result"
    }
   ],
   "source": [
    "# drop rows where the length of characters in text is less than 500\n",
    "df_jinmei = df_jinmei[df_jinmei.text.map(len) > 500]\n",
    "df_jinmei.shape"
   ]
  },
  {
   "cell_type": "markdown",
   "metadata": {},
   "source": [
    "## Import Hyesoo's data"
   ]
  },
  {
   "cell_type": "code",
   "execution_count": 10,
   "metadata": {
    "collapsed": false
   },
   "outputs": [
    {
     "data": {
      "text/html": [
       "<div>\n",
       "<table border=\"1\" class=\"dataframe\">\n",
       "  <thead>\n",
       "    <tr style=\"text-align: right;\">\n",
       "      <th></th>\n",
       "      <th>url</th>\n",
       "      <th>source</th>\n",
       "      <th>title</th>\n",
       "      <th>author</th>\n",
       "      <th>text</th>\n",
       "      <th>authenticity</th>\n",
       "    </tr>\n",
       "  </thead>\n",
       "  <tbody>\n",
       "    <tr>\n",
       "      <th>1736</th>\n",
       "      <td>https://www.ice.gov/news/releases/operation-ma...</td>\n",
       "      <td>politico</td>\n",
       "      <td>Operation Matador nets 39 MS-13 arrests in las...</td>\n",
       "      <td>[]</td>\n",
       "      <td>NEW YORK – U.S. Immigration and Customs Enforc...</td>\n",
       "      <td>1</td>\n",
       "    </tr>\n",
       "    <tr>\n",
       "      <th>1737</th>\n",
       "      <td>http://www.politico.com/story/2017/07/27/obama...</td>\n",
       "      <td>politico</td>\n",
       "      <td>Senate Republicans prepare to pass Obamacare r...</td>\n",
       "      <td>['John Bresnahan', 'Burgess Everett', 'Jennife...</td>\n",
       "      <td>Senate Republicans are closing in on passage o...</td>\n",
       "      <td>1</td>\n",
       "    </tr>\n",
       "    <tr>\n",
       "      <th>1738</th>\n",
       "      <td>https://www.nytimes.com/2017/07/26/technology/...</td>\n",
       "      <td>nytimes</td>\n",
       "      <td>Google’s New Parental Control App Has a Flaw: ...</td>\n",
       "      <td>['Brian X. Chen', 'Tech Fix']</td>\n",
       "      <td>“The fact that the kid can graduate themselves...</td>\n",
       "      <td>1</td>\n",
       "    </tr>\n",
       "    <tr>\n",
       "      <th>1739</th>\n",
       "      <td>http://www.foxnews.com/entertainment/2017/07/2...</td>\n",
       "      <td>foxnews</td>\n",
       "      <td>Hulu resurrects TGIF lineup with acquisition o...</td>\n",
       "      <td>['Tyler Mccarthy']</td>\n",
       "      <td>Hulu is hoping to make itself the go-to stream...</td>\n",
       "      <td>1</td>\n",
       "    </tr>\n",
       "    <tr>\n",
       "      <th>1740</th>\n",
       "      <td>http://www.npr.org/2017/07/27/539559582/5-unan...</td>\n",
       "      <td>npr</td>\n",
       "      <td>5 Unanswered Questions About Trump's 'Ban' On ...</td>\n",
       "      <td>['Philip Ewing']</td>\n",
       "      <td>5 Unanswered Questions About Trump's 'Ban' On ...</td>\n",
       "      <td>1</td>\n",
       "    </tr>\n",
       "  </tbody>\n",
       "</table>\n",
       "</div>"
      ],
      "text/plain": [
       "                                                    url    source  \\\n",
       "1736  https://www.ice.gov/news/releases/operation-ma...  politico   \n",
       "1737  http://www.politico.com/story/2017/07/27/obama...  politico   \n",
       "1738  https://www.nytimes.com/2017/07/26/technology/...   nytimes   \n",
       "1739  http://www.foxnews.com/entertainment/2017/07/2...   foxnews   \n",
       "1740  http://www.npr.org/2017/07/27/539559582/5-unan...       npr   \n",
       "\n",
       "                                                  title  \\\n",
       "1736  Operation Matador nets 39 MS-13 arrests in las...   \n",
       "1737  Senate Republicans prepare to pass Obamacare r...   \n",
       "1738  Google’s New Parental Control App Has a Flaw: ...   \n",
       "1739  Hulu resurrects TGIF lineup with acquisition o...   \n",
       "1740  5 Unanswered Questions About Trump's 'Ban' On ...   \n",
       "\n",
       "                                                 author  \\\n",
       "1736                                                 []   \n",
       "1737  ['John Bresnahan', 'Burgess Everett', 'Jennife...   \n",
       "1738                      ['Brian X. Chen', 'Tech Fix']   \n",
       "1739                                 ['Tyler Mccarthy']   \n",
       "1740                                   ['Philip Ewing']   \n",
       "\n",
       "                                                   text  authenticity  \n",
       "1736  NEW YORK – U.S. Immigration and Customs Enforc...             1  \n",
       "1737  Senate Republicans are closing in on passage o...             1  \n",
       "1738  “The fact that the kid can graduate themselves...             1  \n",
       "1739  Hulu is hoping to make itself the go-to stream...             1  \n",
       "1740  5 Unanswered Questions About Trump's 'Ban' On ...             1  "
      ]
     },
     "execution_count": 10,
     "metadata": {},
     "output_type": "execute_result"
    }
   ],
   "source": [
    "path = os.path.join('data', 'hyesoo_df.csv')\n",
    "df_hyesoo = pd.read_csv(path,usecols=[1,2,3,4,5,6]) \n",
    "df_hyesoo.tail()"
   ]
  },
  {
   "cell_type": "code",
   "execution_count": 11,
   "metadata": {
    "collapsed": false
   },
   "outputs": [
    {
     "data": {
      "text/html": [
       "<div>\n",
       "<table border=\"1\" class=\"dataframe\">\n",
       "  <thead>\n",
       "    <tr style=\"text-align: right;\">\n",
       "      <th></th>\n",
       "      <th>url</th>\n",
       "      <th>source</th>\n",
       "      <th>title</th>\n",
       "      <th>author</th>\n",
       "      <th>text</th>\n",
       "      <th>authenticity</th>\n",
       "    </tr>\n",
       "  </thead>\n",
       "  <tbody>\n",
       "    <tr>\n",
       "      <th>1736</th>\n",
       "      <td>https://www.ice.gov/news/releases/operation-ma...</td>\n",
       "      <td>politico</td>\n",
       "      <td>Operation Matador nets 39 MS-13 arrests in las...</td>\n",
       "      <td>[]</td>\n",
       "      <td>NEW YORK – U.S. Immigration and Customs Enforc...</td>\n",
       "      <td>0</td>\n",
       "    </tr>\n",
       "    <tr>\n",
       "      <th>1737</th>\n",
       "      <td>http://www.politico.com/story/2017/07/27/obama...</td>\n",
       "      <td>politico</td>\n",
       "      <td>Senate Republicans prepare to pass Obamacare r...</td>\n",
       "      <td>['John Bresnahan', 'Burgess Everett', 'Jennife...</td>\n",
       "      <td>Senate Republicans are closing in on passage o...</td>\n",
       "      <td>0</td>\n",
       "    </tr>\n",
       "    <tr>\n",
       "      <th>1738</th>\n",
       "      <td>https://www.nytimes.com/2017/07/26/technology/...</td>\n",
       "      <td>nytimes</td>\n",
       "      <td>Google’s New Parental Control App Has a Flaw: ...</td>\n",
       "      <td>['Brian X. Chen', 'Tech Fix']</td>\n",
       "      <td>“The fact that the kid can graduate themselves...</td>\n",
       "      <td>0</td>\n",
       "    </tr>\n",
       "    <tr>\n",
       "      <th>1739</th>\n",
       "      <td>http://www.foxnews.com/entertainment/2017/07/2...</td>\n",
       "      <td>foxnews</td>\n",
       "      <td>Hulu resurrects TGIF lineup with acquisition o...</td>\n",
       "      <td>['Tyler Mccarthy']</td>\n",
       "      <td>Hulu is hoping to make itself the go-to stream...</td>\n",
       "      <td>0</td>\n",
       "    </tr>\n",
       "    <tr>\n",
       "      <th>1740</th>\n",
       "      <td>http://www.npr.org/2017/07/27/539559582/5-unan...</td>\n",
       "      <td>npr</td>\n",
       "      <td>5 Unanswered Questions About Trump's 'Ban' On ...</td>\n",
       "      <td>['Philip Ewing']</td>\n",
       "      <td>5 Unanswered Questions About Trump's 'Ban' On ...</td>\n",
       "      <td>0</td>\n",
       "    </tr>\n",
       "  </tbody>\n",
       "</table>\n",
       "</div>"
      ],
      "text/plain": [
       "                                                    url    source  \\\n",
       "1736  https://www.ice.gov/news/releases/operation-ma...  politico   \n",
       "1737  http://www.politico.com/story/2017/07/27/obama...  politico   \n",
       "1738  https://www.nytimes.com/2017/07/26/technology/...   nytimes   \n",
       "1739  http://www.foxnews.com/entertainment/2017/07/2...   foxnews   \n",
       "1740  http://www.npr.org/2017/07/27/539559582/5-unan...       npr   \n",
       "\n",
       "                                                  title  \\\n",
       "1736  Operation Matador nets 39 MS-13 arrests in las...   \n",
       "1737  Senate Republicans prepare to pass Obamacare r...   \n",
       "1738  Google’s New Parental Control App Has a Flaw: ...   \n",
       "1739  Hulu resurrects TGIF lineup with acquisition o...   \n",
       "1740  5 Unanswered Questions About Trump's 'Ban' On ...   \n",
       "\n",
       "                                                 author  \\\n",
       "1736                                                 []   \n",
       "1737  ['John Bresnahan', 'Burgess Everett', 'Jennife...   \n",
       "1738                      ['Brian X. Chen', 'Tech Fix']   \n",
       "1739                                 ['Tyler Mccarthy']   \n",
       "1740                                   ['Philip Ewing']   \n",
       "\n",
       "                                                   text  authenticity  \n",
       "1736  NEW YORK – U.S. Immigration and Customs Enforc...             0  \n",
       "1737  Senate Republicans are closing in on passage o...             0  \n",
       "1738  “The fact that the kid can graduate themselves...             0  \n",
       "1739  Hulu is hoping to make itself the go-to stream...             0  \n",
       "1740  5 Unanswered Questions About Trump's 'Ban' On ...             0  "
      ]
     },
     "execution_count": 11,
     "metadata": {},
     "output_type": "execute_result"
    }
   ],
   "source": [
    "path = os.path.join('data', 'hyesoo_df.csv')\n",
    "df_hyesoo = pd.read_csv(path,usecols=[1,2,3,4,5,6]) \n",
    "swap_map = {1:0, 0:1}\n",
    "df_hyesoo.authenticity = df_hyesoo.authenticity.map(swap_map)\n",
    "df_hyesoo.tail()"
   ]
  },
  {
   "cell_type": "markdown",
   "metadata": {},
   "source": [
    "## Merge all data"
   ]
  },
  {
   "cell_type": "code",
   "execution_count": 12,
   "metadata": {
    "collapsed": false
   },
   "outputs": [
    {
     "data": {
      "text/html": [
       "<div>\n",
       "<table border=\"1\" class=\"dataframe\">\n",
       "  <thead>\n",
       "    <tr style=\"text-align: right;\">\n",
       "      <th></th>\n",
       "      <th>url</th>\n",
       "      <th>source</th>\n",
       "      <th>title</th>\n",
       "      <th>author</th>\n",
       "      <th>text</th>\n",
       "      <th>authenticity</th>\n",
       "    </tr>\n",
       "  </thead>\n",
       "  <tbody>\n",
       "    <tr>\n",
       "      <th>3035</th>\n",
       "      <td>https://sputniknews.com/columnists/20170713105...</td>\n",
       "      <td>sputniknews</td>\n",
       "      <td>Russia 'Collusion' Smoking Gun?</td>\n",
       "      <td>[]</td>\n",
       "      <td>This is the proof, we are told, that the Trump...</td>\n",
       "      <td>1</td>\n",
       "    </tr>\n",
       "    <tr>\n",
       "      <th>3036</th>\n",
       "      <td>http://pamelageller.com/2017/07/state-departme...</td>\n",
       "      <td>pamelageller</td>\n",
       "      <td>State Department Removes Word ‘Genocide’ From ...</td>\n",
       "      <td>['Geller Report Staff', 'Mark Steiner', 'David...</td>\n",
       "      <td>The U.S. State Department under President Dona...</td>\n",
       "      <td>1</td>\n",
       "    </tr>\n",
       "    <tr>\n",
       "      <th>3037</th>\n",
       "      <td>http://www.linkiesta.it/it/article/2017/04/27/...</td>\n",
       "      <td>pamelageller</td>\n",
       "      <td>Luca Ricolfi: \"La vecchia sinistra è rimasta s...</td>\n",
       "      <td>['Alessandro Franzi', 'Di Euvisions', 'A Cura ...</td>\n",
       "      <td>La sinistra non sa più dare protezione. \"Ed è ...</td>\n",
       "      <td>1</td>\n",
       "    </tr>\n",
       "    <tr>\n",
       "      <th>3038</th>\n",
       "      <td>https://sputniknews.com/science/20170801105605...</td>\n",
       "      <td>sputniknews</td>\n",
       "      <td>To the Stars We Return: Start-Ups Offering Spa...</td>\n",
       "      <td>[]</td>\n",
       "      <td>A Houston-based startup will send your cremate...</td>\n",
       "      <td>1</td>\n",
       "    </tr>\n",
       "    <tr>\n",
       "      <th>3039</th>\n",
       "      <td>https://sputniknews.com/radio_trendstorm/20170...</td>\n",
       "      <td>sputniknews</td>\n",
       "      <td>China &amp; India: Walking the Himalayan Tightrope</td>\n",
       "      <td>[]</td>\n",
       "      <td>China &amp; India: Walking the Himalayan Tightrope...</td>\n",
       "      <td>1</td>\n",
       "    </tr>\n",
       "  </tbody>\n",
       "</table>\n",
       "</div>"
      ],
      "text/plain": [
       "                                                    url        source  \\\n",
       "3035  https://sputniknews.com/columnists/20170713105...   sputniknews   \n",
       "3036  http://pamelageller.com/2017/07/state-departme...  pamelageller   \n",
       "3037  http://www.linkiesta.it/it/article/2017/04/27/...  pamelageller   \n",
       "3038  https://sputniknews.com/science/20170801105605...   sputniknews   \n",
       "3039  https://sputniknews.com/radio_trendstorm/20170...   sputniknews   \n",
       "\n",
       "                                                  title  \\\n",
       "3035                    Russia 'Collusion' Smoking Gun?   \n",
       "3036  State Department Removes Word ‘Genocide’ From ...   \n",
       "3037  Luca Ricolfi: \"La vecchia sinistra è rimasta s...   \n",
       "3038  To the Stars We Return: Start-Ups Offering Spa...   \n",
       "3039     China & India: Walking the Himalayan Tightrope   \n",
       "\n",
       "                                                 author  \\\n",
       "3035                                                 []   \n",
       "3036  ['Geller Report Staff', 'Mark Steiner', 'David...   \n",
       "3037  ['Alessandro Franzi', 'Di Euvisions', 'A Cura ...   \n",
       "3038                                                 []   \n",
       "3039                                                 []   \n",
       "\n",
       "                                                   text  authenticity  \n",
       "3035  This is the proof, we are told, that the Trump...             1  \n",
       "3036  The U.S. State Department under President Dona...             1  \n",
       "3037  La sinistra non sa più dare protezione. \"Ed è ...             1  \n",
       "3038  A Houston-based startup will send your cremate...             1  \n",
       "3039  China & India: Walking the Himalayan Tightrope...             1  "
      ]
     },
     "execution_count": 12,
     "metadata": {},
     "output_type": "execute_result"
    }
   ],
   "source": [
    "df_merge = pd.concat([df_jinmei, df_hyesoo, df_add_fakenews], ignore_index=True)\n",
    "df_merge.tail()"
   ]
  },
  {
   "cell_type": "code",
   "execution_count": 13,
   "metadata": {
    "collapsed": false
   },
   "outputs": [
    {
     "data": {
      "text/plain": [
       "(3040, 6)"
      ]
     },
     "execution_count": 13,
     "metadata": {},
     "output_type": "execute_result"
    }
   ],
   "source": [
    "df_merge.shape"
   ]
  },
  {
   "cell_type": "code",
   "execution_count": 14,
   "metadata": {
    "collapsed": true
   },
   "outputs": [],
   "source": [
    "df_merge = df_merge.sample(frac=1).reset_index(drop=True)"
   ]
  },
  {
   "cell_type": "code",
   "execution_count": 15,
   "metadata": {
    "collapsed": false
   },
   "outputs": [
    {
     "name": "stdout",
     "output_type": "stream",
     "text": [
      "total number of fake news is url             1474\n",
      "source          1474\n",
      "title           1474\n",
      "author          1474\n",
      "text            1474\n",
      "authenticity    1474\n",
      "dtype: int64 and that of true news is url             1566\n",
      "source          1566\n",
      "title           1566\n",
      "author          1566\n",
      "text            1566\n",
      "authenticity    1566\n",
      "dtype: int64\n"
     ]
    }
   ],
   "source": [
    "f = df_merge[df_merge.authenticity == 1].count()\n",
    "t = df_merge[df_merge.authenticity == 0].count()\n",
    "print(\"total number of fake news is {} and that of true news is {}\".format(f,t))"
   ]
  },
  {
   "cell_type": "markdown",
   "metadata": {},
   "source": [
    "## Export data to csv file"
   ]
  },
  {
   "cell_type": "code",
   "execution_count": 16,
   "metadata": {
    "collapsed": true
   },
   "outputs": [],
   "source": [
    "path = os.path.join('data','merged_data.csv')\n",
    "df_merge.to_csv(path)  "
   ]
  },
  {
   "cell_type": "code",
   "execution_count": 17,
   "metadata": {
    "collapsed": false
   },
   "outputs": [
    {
     "data": {
      "text/html": [
       "<div>\n",
       "<table border=\"1\" class=\"dataframe\">\n",
       "  <thead>\n",
       "    <tr style=\"text-align: right;\">\n",
       "      <th></th>\n",
       "      <th>Unnamed: 0</th>\n",
       "      <th>url</th>\n",
       "      <th>source</th>\n",
       "      <th>title</th>\n",
       "      <th>author</th>\n",
       "      <th>text</th>\n",
       "      <th>authenticity</th>\n",
       "    </tr>\n",
       "  </thead>\n",
       "  <tbody>\n",
       "    <tr>\n",
       "      <th>3030</th>\n",
       "      <td>3030</td>\n",
       "      <td>http://beforeitsnews.com/economy/2017/07/the-f...</td>\n",
       "      <td>beforeitsnews</td>\n",
       "      <td>The Moment of Truth is Upon Us! The Fed Delays...</td>\n",
       "      <td>['Due Diligence']</td>\n",
       "      <td>The Moment of Truth is Upon Us! The Fed Delays...</td>\n",
       "      <td>1</td>\n",
       "    </tr>\n",
       "    <tr>\n",
       "      <th>3031</th>\n",
       "      <td>3031</td>\n",
       "      <td>http://www.cnn.com/travel/article/catskills-ne...</td>\n",
       "      <td>cnn</td>\n",
       "      <td>Catskills see big revival as New York vacation...</td>\n",
       "      <td>[]</td>\n",
       "      <td>Alexandra Marvar, CNN • Updated 27th July 2017...</td>\n",
       "      <td>0</td>\n",
       "    </tr>\n",
       "    <tr>\n",
       "      <th>3032</th>\n",
       "      <td>3032</td>\n",
       "      <td>http://www.cbsnews.com/news/andy-cohen-on-meet...</td>\n",
       "      <td>cbsnews</td>\n",
       "      <td>Andy Cohen on meeting President Trump, getting...</td>\n",
       "      <td>['Andrea Park']</td>\n",
       "      <td>TV personality Andy Cohen is known for his rea...</td>\n",
       "      <td>0</td>\n",
       "    </tr>\n",
       "    <tr>\n",
       "      <th>3033</th>\n",
       "      <td>3033</td>\n",
       "      <td>http://www.politico.eu/article/populist-italia...</td>\n",
       "      <td>pamelageller</td>\n",
       "      <td>Populist Italian marriage to give Brussels hea...</td>\n",
       "      <td>['Giada Zampano', 'Jacopo Barigazzi', 'Helen C...</td>\n",
       "      <td>ROME — Italy’s next government could see a pop...</td>\n",
       "      <td>1</td>\n",
       "    </tr>\n",
       "    <tr>\n",
       "      <th>3034</th>\n",
       "      <td>3034</td>\n",
       "      <td>http://www.dailymail.co.uk/news/article-472061...</td>\n",
       "      <td>wordpress</td>\n",
       "      <td>Top general blames New York Times for ISIS lea...</td>\n",
       "      <td>['Keith Griffith For Dailymail.Com']</td>\n",
       "      <td>A top US general has blamed leaks to the New Y...</td>\n",
       "      <td>1</td>\n",
       "    </tr>\n",
       "    <tr>\n",
       "      <th>3035</th>\n",
       "      <td>3035</td>\n",
       "      <td>https://www.nytimes.com/2017/07/27/us/politics...</td>\n",
       "      <td>nytimes</td>\n",
       "      <td>With New Sanctions, Senate Forces Trump’s Hand...</td>\n",
       "      <td>['Matt Flegenheimer']</td>\n",
       "      <td>“The administration supports sanctions against...</td>\n",
       "      <td>0</td>\n",
       "    </tr>\n",
       "    <tr>\n",
       "      <th>3036</th>\n",
       "      <td>3036</td>\n",
       "      <td>http://www.cbsnews.com/news/raw-chicken-should...</td>\n",
       "      <td>cbsnews</td>\n",
       "      <td>Does washing raw chicken make it safer to eat?</td>\n",
       "      <td>['Bianca Seidman']</td>\n",
       "      <td>Though it may seem like good hygiene to wash c...</td>\n",
       "      <td>0</td>\n",
       "    </tr>\n",
       "    <tr>\n",
       "      <th>3037</th>\n",
       "      <td>3037</td>\n",
       "      <td>http://www.dailywire.com/news/18742/fake-news-...</td>\n",
       "      <td>wordpress</td>\n",
       "      <td>Fake News Freefall: CNN Slips Waaaaaay Behind ...</td>\n",
       "      <td>[]</td>\n",
       "      <td>Another mammoth news week, another ratings cat...</td>\n",
       "      <td>1</td>\n",
       "    </tr>\n",
       "    <tr>\n",
       "      <th>3038</th>\n",
       "      <td>3038</td>\n",
       "      <td>http://www.reuters.com/article/us-usa-trump-pr...</td>\n",
       "      <td>reuters</td>\n",
       "      <td>Top Trump lieutenant Scaramucci lashes colleag...</td>\n",
       "      <td>['Steve Holland']</td>\n",
       "      <td>(Note: Strong language in paragraph 3)\\n\\nBy S...</td>\n",
       "      <td>0</td>\n",
       "    </tr>\n",
       "    <tr>\n",
       "      <th>3039</th>\n",
       "      <td>3039</td>\n",
       "      <td>http://president45donaldtrump.com/unemployment...</td>\n",
       "      <td>president45donaldtrump</td>\n",
       "      <td>Unemployment rate drops to 5.1% as more people...</td>\n",
       "      <td>[]</td>\n",
       "      <td>There comes a certain point in time when manip...</td>\n",
       "      <td>1</td>\n",
       "    </tr>\n",
       "  </tbody>\n",
       "</table>\n",
       "</div>"
      ],
      "text/plain": [
       "      Unnamed: 0                                                url  \\\n",
       "3030        3030  http://beforeitsnews.com/economy/2017/07/the-f...   \n",
       "3031        3031  http://www.cnn.com/travel/article/catskills-ne...   \n",
       "3032        3032  http://www.cbsnews.com/news/andy-cohen-on-meet...   \n",
       "3033        3033  http://www.politico.eu/article/populist-italia...   \n",
       "3034        3034  http://www.dailymail.co.uk/news/article-472061...   \n",
       "3035        3035  https://www.nytimes.com/2017/07/27/us/politics...   \n",
       "3036        3036  http://www.cbsnews.com/news/raw-chicken-should...   \n",
       "3037        3037  http://www.dailywire.com/news/18742/fake-news-...   \n",
       "3038        3038  http://www.reuters.com/article/us-usa-trump-pr...   \n",
       "3039        3039  http://president45donaldtrump.com/unemployment...   \n",
       "\n",
       "                      source  \\\n",
       "3030           beforeitsnews   \n",
       "3031                     cnn   \n",
       "3032                 cbsnews   \n",
       "3033            pamelageller   \n",
       "3034               wordpress   \n",
       "3035                 nytimes   \n",
       "3036                 cbsnews   \n",
       "3037               wordpress   \n",
       "3038                 reuters   \n",
       "3039  president45donaldtrump   \n",
       "\n",
       "                                                  title  \\\n",
       "3030  The Moment of Truth is Upon Us! The Fed Delays...   \n",
       "3031  Catskills see big revival as New York vacation...   \n",
       "3032  Andy Cohen on meeting President Trump, getting...   \n",
       "3033  Populist Italian marriage to give Brussels hea...   \n",
       "3034  Top general blames New York Times for ISIS lea...   \n",
       "3035  With New Sanctions, Senate Forces Trump’s Hand...   \n",
       "3036     Does washing raw chicken make it safer to eat?   \n",
       "3037  Fake News Freefall: CNN Slips Waaaaaay Behind ...   \n",
       "3038  Top Trump lieutenant Scaramucci lashes colleag...   \n",
       "3039  Unemployment rate drops to 5.1% as more people...   \n",
       "\n",
       "                                                 author  \\\n",
       "3030                                  ['Due Diligence']   \n",
       "3031                                                 []   \n",
       "3032                                    ['Andrea Park']   \n",
       "3033  ['Giada Zampano', 'Jacopo Barigazzi', 'Helen C...   \n",
       "3034               ['Keith Griffith For Dailymail.Com']   \n",
       "3035                              ['Matt Flegenheimer']   \n",
       "3036                                 ['Bianca Seidman']   \n",
       "3037                                                 []   \n",
       "3038                                  ['Steve Holland']   \n",
       "3039                                                 []   \n",
       "\n",
       "                                                   text  authenticity  \n",
       "3030  The Moment of Truth is Upon Us! The Fed Delays...             1  \n",
       "3031  Alexandra Marvar, CNN • Updated 27th July 2017...             0  \n",
       "3032  TV personality Andy Cohen is known for his rea...             0  \n",
       "3033  ROME — Italy’s next government could see a pop...             1  \n",
       "3034  A top US general has blamed leaks to the New Y...             1  \n",
       "3035  “The administration supports sanctions against...             0  \n",
       "3036  Though it may seem like good hygiene to wash c...             0  \n",
       "3037  Another mammoth news week, another ratings cat...             1  \n",
       "3038  (Note: Strong language in paragraph 3)\\n\\nBy S...             0  \n",
       "3039  There comes a certain point in time when manip...             1  "
      ]
     },
     "execution_count": 17,
     "metadata": {},
     "output_type": "execute_result"
    }
   ],
   "source": [
    "# test\n",
    "df_test = pd.read_csv(path) \n",
    "df_test.tail(n=10)"
   ]
  },
  {
   "cell_type": "code",
   "execution_count": null,
   "metadata": {
    "collapsed": true
   },
   "outputs": [],
   "source": []
  }
 ],
 "metadata": {
  "anaconda-cloud": {},
  "kernelspec": {
   "display_name": "Python 3",
   "language": "python",
   "name": "python3"
  },
  "language_info": {
   "codemirror_mode": {
    "name": "ipython",
    "version": 3
   },
   "file_extension": ".py",
   "mimetype": "text/x-python",
   "name": "python",
   "nbconvert_exporter": "python",
   "pygments_lexer": "ipython3",
   "version": "3.6.0"
  }
 },
 "nbformat": 4,
 "nbformat_minor": 0
}
