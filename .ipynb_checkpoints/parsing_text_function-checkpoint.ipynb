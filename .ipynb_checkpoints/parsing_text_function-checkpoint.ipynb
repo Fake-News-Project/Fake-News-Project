{
 "cells": [
  {
   "cell_type": "code",
   "execution_count": 29,
   "metadata": {
    "collapsed": false
   },
   "outputs": [
    {
     "data": {
      "text/plain": [
       "['Fake',\n",
       " 'news',\n",
       " 'is',\n",
       " 'super',\n",
       " 'bad',\n",
       " \"Let's\",\n",
       " 'find',\n",
       " 'out',\n",
       " 'the',\n",
       " 'best',\n",
       " 'solution']"
      ]
     },
     "execution_count": 29,
     "metadata": {},
     "output_type": "execute_result"
    }
   ],
   "source": [
    "text_org = \"Fake news is really bad! Let's find out the best solution!\"\n",
    "parsed_text = list(text_org)\n",
    "\n",
    "def parsing (text):\n",
    "    parsed_text = list(text)\n",
    "    avoid_list = [' ', ',', '.', '?', '!', '~', '*','#']\n",
    "    if parsed_text[-1] in avoid_list:\n",
    "        parsed_text = parsed_text[:-1]\n",
    "\n",
    "    n = len(parsed_text)\n",
    "    word = []\n",
    "    i=0\n",
    "    final_words = []\n",
    "\n",
    "    def combine_words(word):\n",
    "        if len(word) == 1:\n",
    "            return word[0]\n",
    "        else:\n",
    "            return word[0] + combine_words(word[1:])\n",
    "\n",
    "    while i < n:\n",
    "        if parsed_text[i] not in avoid_list:\n",
    "            word += [parsed_text[i]]\n",
    "            if i == n-1:\n",
    "                final_words += [combine_words(word)]\n",
    "        else:\n",
    "            if parsed_text[i-1] in avoid_list:\n",
    "                pass\n",
    "            else:\n",
    "                final_words += [combine_words(word)]\n",
    "                word = []\n",
    "        i += 1\n",
    "    return (final_words)\n",
    "\n",
    "parsing(text_org)"
   ]
  },
  {
   "cell_type": "code",
   "execution_count": null,
   "metadata": {
    "collapsed": true
   },
   "outputs": [],
   "source": []
  }
 ],
 "metadata": {
  "kernelspec": {
   "display_name": "python3.5",
   "language": "python",
   "name": "python3.5"
  },
  "language_info": {
   "codemirror_mode": {
    "name": "ipython",
    "version": 3
   },
   "file_extension": ".py",
   "mimetype": "text/x-python",
   "name": "python",
   "nbconvert_exporter": "python",
   "pygments_lexer": "ipython3",
   "version": "3.6.0"
  }
 },
 "nbformat": 4,
 "nbformat_minor": 2
}
