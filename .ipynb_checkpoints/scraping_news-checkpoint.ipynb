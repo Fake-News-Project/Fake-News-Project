{
 "cells": [
  {
   "cell_type": "markdown",
   "metadata": {},
   "source": [
    "# Scraping news articles using newspaper"
   ]
  },
  {
   "cell_type": "markdown",
   "metadata": {
    "collapsed": true
   },
   "source": [
    "### [Installation](\"http://newspaper.readthedocs.io/en/latest/user_guide/install.html\")\n",
    "* using pip: pip install newspaper3k\n",
    "* using source code:\n",
    " * git clone git://github.com/codelucas/newspaper.git\n",
    " * pip3 install -r requirements.txt\n",
    " * python3 setup.py install\n",
    " * python3 tests/unit_tests.py"
   ]
  },
  {
   "cell_type": "markdown",
   "metadata": {},
   "source": [
    "### Obtain a single article from URL"
   ]
  },
  {
   "cell_type": "code",
   "execution_count": null,
   "metadata": {
    "collapsed": false
   },
   "outputs": [],
   "source": [
    "# obtain a article and parse it\n",
    "from newspaper import Article\n",
    "url = 'https://www.washingtonpost.com/powerpost/john-mccain-republican-senator-from-arizona-has-a-brain-tumor/2017/07/19/3331c5fa-6cdf-11e7-b9e2-2056e768a7e5_story.html?hpid=hp_hp-top-table-main_mccain-845pm%3Ahomepage%2Fstory&utm_term=.92dfe61d87fe'\n",
    "article.download()\n",
    "#article.html\n",
    "article.parse()"
   ]
  },
  {
   "cell_type": "code",
   "execution_count": null,
   "metadata": {
    "collapsed": false
   },
   "outputs": [],
   "source": [
    "# print article infomation\n",
    "print(article.title)\n",
    "print(article.authors)\n",
    "print(article.publish_date)"
   ]
  },
  {
   "cell_type": "code",
   "execution_count": null,
   "metadata": {
    "collapsed": false
   },
   "outputs": [],
   "source": [
    "# print out article body\n",
    "print(article.text)"
   ]
  },
  {
   "cell_type": "code",
   "execution_count": null,
   "metadata": {
    "collapsed": false
   },
   "outputs": [],
   "source": [
    "print(article.top_image)"
   ]
  },
  {
   "cell_type": "code",
   "execution_count": null,
   "metadata": {
    "collapsed": false
   },
   "outputs": [],
   "source": [
    "article.nlp()\n",
    "\n",
    "# find keywords in the article\n",
    "print(article.keywords)"
   ]
  },
  {
   "cell_type": "code",
   "execution_count": null,
   "metadata": {
    "collapsed": false
   },
   "outputs": [],
   "source": [
    "# print summary in the article\n",
    "print(article.summary)"
   ]
  },
  {
   "cell_type": "markdown",
   "metadata": {},
   "source": [
    "### Obtain a series of articles from a website"
   ]
  },
  {
   "cell_type": "code",
   "execution_count": null,
   "metadata": {
    "collapsed": true
   },
   "outputs": [],
   "source": [
    "import newspaper\n",
    "cnn_articles = newspaper.build('http://cnn.com',memoize_articles=False)"
   ]
  },
  {
   "cell_type": "code",
   "execution_count": null,
   "metadata": {
    "collapsed": false
   },
   "outputs": [],
   "source": [
    "# this part of code does not work\n",
    "for item in cnn_articles.articles:  \n",
    "    print(item.url)"
   ]
  },
  {
   "cell_type": "code",
   "execution_count": null,
   "metadata": {
    "collapsed": false
   },
   "outputs": [],
   "source": [
    "for category in cnn_articles.category_urls(): \n",
    "    print(category)"
   ]
  },
  {
   "cell_type": "code",
   "execution_count": null,
   "metadata": {
    "collapsed": false
   },
   "outputs": [],
   "source": [
    "# check one of the article\n",
    "cnn_article = cnn_articles.articles[5]\n",
    "cnn_article.download()\n",
    "cnn_article.parse()\n",
    "print(cnn_article.title)"
   ]
  },
  {
   "cell_type": "markdown",
   "metadata": {},
   "source": [
    "### Obtain recent political articles from a website"
   ]
  },
  {
   "cell_type": "code",
   "execution_count": null,
   "metadata": {
    "collapsed": true
   },
   "outputs": [],
   "source": [
    "cnn_politics_articles = newspaper.build('http://www.cnn.com/politics',memoize_articles=False)"
   ]
  },
  {
   "cell_type": "code",
   "execution_count": null,
   "metadata": {
    "collapsed": false
   },
   "outputs": [],
   "source": [
    "for item in cnn_politics_articles.articles:  \n",
    "    print(item.url)"
   ]
  },
  {
   "cell_type": "code",
   "execution_count": null,
   "metadata": {
    "collapsed": false
   },
   "outputs": [],
   "source": [
    "# print out the number of articles\n",
    "print(cnn_politics_articles.size())"
   ]
  },
  {
   "cell_type": "code",
   "execution_count": null,
   "metadata": {
    "collapsed": false
   },
   "outputs": [],
   "source": [
    "# print out information of one article\n",
    "politics_article = cnn_politics_articles.articles[100]\n",
    "politics_article.download()\n",
    "politics_article.parse()\n",
    "print(politics_article.title)"
   ]
  }
 ],
 "metadata": {
  "anaconda-cloud": {},
  "kernelspec": {
   "display_name": "Python 3",
   "language": "python",
   "name": "python3"
  },
  "language_info": {
   "codemirror_mode": {
    "name": "ipython",
    "version": 3
   },
   "file_extension": ".py",
   "mimetype": "text/x-python",
   "name": "python",
   "nbconvert_exporter": "python",
   "pygments_lexer": "ipython3",
   "version": "3.6.0"
  }
 },
 "nbformat": 4,
 "nbformat_minor": 0
}
