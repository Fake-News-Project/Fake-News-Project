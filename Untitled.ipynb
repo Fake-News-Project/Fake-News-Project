{
 "cells": [
  {
   "cell_type": "code",
   "execution_count": null,
   "metadata": {
    "collapsed": true
   },
   "outputs": [],
   "source": [
    "# create tfidf2\n",
    "tfidf2 = tdf.transform(list_cluster)\n",
    "\n",
    "#create dates\n",
    "dates=['010000000000', '001000000000', '001000000000', '000000000001', '001000000000', '000000000010',...]\n",
    "\n",
    "# binarize dates\n",
    "lb = LabelBinarizer()\n",
    "b_dates = lb.fit_transform(dates)\n",
    "\n",
    "new_tfidf = np.concatenate((tfidf2, b_dates), axis=1)\n",
    "\n",
    "\n",
    "\n",
    ">>> from scipy.sparse import coo_matrix, hstack\n",
    ">>> A = coo_matrix([[1, 2], [3, 4]])\n",
    ">>> B = coo_matrix([[5], [6]])\n",
    ">>> hstack([A,B]).toarray()\n",
    "array([[1, 2, 5],\n",
    "       [3, 4, 6]])\n",
    "\n",
    "\n",
    "np.array([[x] for x in X2_df.cap_rate])\n",
    "    \n",
    "\n",
    "final = sp.sparse.hstack((tfidf_matrix, np.array([[x] for x in X2_df.cap_rate])))"
   ]
  }
 ],
 "metadata": {
  "kernelspec": {
   "display_name": "python3.5",
   "language": "python",
   "name": "python3.5"
  },
  "language_info": {
   "codemirror_mode": {
    "name": "ipython",
    "version": 3
   },
   "file_extension": ".py",
   "mimetype": "text/x-python",
   "name": "python",
   "nbconvert_exporter": "python",
   "pygments_lexer": "ipython3",
   "version": "3.6.0"
  }
 },
 "nbformat": 4,
 "nbformat_minor": 2
}
