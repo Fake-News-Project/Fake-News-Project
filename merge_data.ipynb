{
 "cells": [
  {
   "cell_type": "markdown",
   "metadata": {},
   "source": [
    "# Merge data\n",
    "* Data format is following Hyesoo's format\n",
    "* All data is exported to a csv file"
   ]
  },
  {
   "cell_type": "code",
   "execution_count": 3,
   "metadata": {
    "collapsed": true
   },
   "outputs": [],
   "source": [
    "import pandas as pd\n",
    "import os"
   ]
  },
  {
   "cell_type": "markdown",
   "metadata": {},
   "source": [
    "## Import Jinmei's data"
   ]
  },
  {
   "cell_type": "markdown",
   "metadata": {},
   "source": [
    "### import fake news"
   ]
  },
  {
   "cell_type": "code",
   "execution_count": 4,
   "metadata": {
    "collapsed": false
   },
   "outputs": [],
   "source": [
    "path = os.path.join('data', 'fakenews_jz.csv')\n",
    "df_fakenews = pd.read_csv(path,usecols=[1,2,3,4,5])\n",
    "df_fakenews['authenticity'] = 0"
   ]
  },
  {
   "cell_type": "markdown",
   "metadata": {},
   "source": [
    "### import real news"
   ]
  },
  {
   "cell_type": "code",
   "execution_count": 5,
   "metadata": {
    "collapsed": false,
    "scrolled": true
   },
   "outputs": [],
   "source": [
    "path = os.path.join('data', 'realnews_jz.csv')\n",
    "df_realnews = pd.read_csv(path,usecols=[0,1,2,3,4])\n",
    "df_realnews['authenticity'] = 1"
   ]
  },
  {
   "cell_type": "markdown",
   "metadata": {},
   "source": [
    "### merge fake and real news"
   ]
  },
  {
   "cell_type": "code",
   "execution_count": 6,
   "metadata": {
    "collapsed": false
   },
   "outputs": [
    {
     "data": {
      "text/html": [
       "<div>\n",
       "<table border=\"1\" class=\"dataframe\">\n",
       "  <thead>\n",
       "    <tr style=\"text-align: right;\">\n",
       "      <th></th>\n",
       "      <th>url</th>\n",
       "      <th>source</th>\n",
       "      <th>title</th>\n",
       "      <th>author</th>\n",
       "      <th>text</th>\n",
       "      <th>authenticity</th>\n",
       "    </tr>\n",
       "  </thead>\n",
       "  <tbody>\n",
       "    <tr>\n",
       "      <th>1271</th>\n",
       "      <td>http://www.newyorker.com/news/news-desk</td>\n",
       "      <td>newyorker</td>\n",
       "      <td>News Desk: Breaking News, Reporting, and Polit...</td>\n",
       "      <td>[]</td>\n",
       "      <td>NaN</td>\n",
       "      <td>1</td>\n",
       "    </tr>\n",
       "    <tr>\n",
       "      <th>1272</th>\n",
       "      <td>http://www.newyorker.com/cartoon/dernavich-201...</td>\n",
       "      <td>newyorker</td>\n",
       "      <td>A Cartoon from The New Yorker</td>\n",
       "      <td>[]</td>\n",
       "      <td>NaN</td>\n",
       "      <td>1</td>\n",
       "    </tr>\n",
       "    <tr>\n",
       "      <th>1273</th>\n",
       "      <td>http://tunein.com/radio/New-Yorker-Poetry-p803...</td>\n",
       "      <td>newyorker</td>\n",
       "      <td>New Yorker Poetry</td>\n",
       "      <td>[]</td>\n",
       "      <td>Yusef Komunyakaa reads a poem by Marilyn Hacke...</td>\n",
       "      <td>1</td>\n",
       "    </tr>\n",
       "    <tr>\n",
       "      <th>1274</th>\n",
       "      <td>http://video.newyorker.com/watch/shorts-murmur...</td>\n",
       "      <td>newyorker</td>\n",
       "      <td>The Startup to End All Startups</td>\n",
       "      <td>[]</td>\n",
       "      <td>The Startup to End All Startups\\n\\nMeet uBox, ...</td>\n",
       "      <td>1</td>\n",
       "    </tr>\n",
       "    <tr>\n",
       "      <th>1275</th>\n",
       "      <td>http://www.newyorker.com/humor/borowitz-report...</td>\n",
       "      <td>newyorker</td>\n",
       "      <td>Cruz: “The Dream of Keeping Poor People from S...</td>\n",
       "      <td>[]</td>\n",
       "      <td>WASHINGTON ( The Borowitz Report )—Acknowledgi...</td>\n",
       "      <td>1</td>\n",
       "    </tr>\n",
       "  </tbody>\n",
       "</table>\n",
       "</div>"
      ],
      "text/plain": [
       "                                                    url     source  \\\n",
       "1271            http://www.newyorker.com/news/news-desk  newyorker   \n",
       "1272  http://www.newyorker.com/cartoon/dernavich-201...  newyorker   \n",
       "1273  http://tunein.com/radio/New-Yorker-Poetry-p803...  newyorker   \n",
       "1274  http://video.newyorker.com/watch/shorts-murmur...  newyorker   \n",
       "1275  http://www.newyorker.com/humor/borowitz-report...  newyorker   \n",
       "\n",
       "                                                  title author  \\\n",
       "1271  News Desk: Breaking News, Reporting, and Polit...     []   \n",
       "1272                      A Cartoon from The New Yorker     []   \n",
       "1273                                  New Yorker Poetry     []   \n",
       "1274                    The Startup to End All Startups     []   \n",
       "1275  Cruz: “The Dream of Keeping Poor People from S...     []   \n",
       "\n",
       "                                                   text  authenticity  \n",
       "1271                                                NaN             1  \n",
       "1272                                                NaN             1  \n",
       "1273  Yusef Komunyakaa reads a poem by Marilyn Hacke...             1  \n",
       "1274  The Startup to End All Startups\\n\\nMeet uBox, ...             1  \n",
       "1275  WASHINGTON ( The Borowitz Report )—Acknowledgi...             1  "
      ]
     },
     "execution_count": 6,
     "metadata": {},
     "output_type": "execute_result"
    }
   ],
   "source": [
    "df_jinmei = pd.concat([df_fakenews, df_realnews], ignore_index=True)\n",
    "df_jinmei.tail()"
   ]
  },
  {
   "cell_type": "code",
   "execution_count": 5,
   "metadata": {
    "collapsed": false
   },
   "outputs": [
    {
     "data": {
      "text/plain": [
       "(1276, 6)"
      ]
     },
     "execution_count": 5,
     "metadata": {},
     "output_type": "execute_result"
    }
   ],
   "source": [
    "df_jinmei.shape"
   ]
  },
  {
   "cell_type": "markdown",
   "metadata": {},
   "source": [
    "### clean data"
   ]
  },
  {
   "cell_type": "code",
   "execution_count": 7,
   "metadata": {
    "collapsed": false
   },
   "outputs": [
    {
     "data": {
      "text/html": [
       "<div>\n",
       "<table border=\"1\" class=\"dataframe\">\n",
       "  <thead>\n",
       "    <tr style=\"text-align: right;\">\n",
       "      <th></th>\n",
       "      <th>url</th>\n",
       "      <th>source</th>\n",
       "      <th>title</th>\n",
       "      <th>author</th>\n",
       "      <th>text</th>\n",
       "      <th>authenticity</th>\n",
       "    </tr>\n",
       "  </thead>\n",
       "  <tbody>\n",
       "    <tr>\n",
       "      <th>1268</th>\n",
       "      <td>http://www.newyorker.com/humor/borowitz-report...</td>\n",
       "      <td>newyorker</td>\n",
       "      <td>Stephen Hawking Angers Trump Supporters with B...</td>\n",
       "      <td>[]</td>\n",
       "      <td>LONDON ( The Borowitz Report )—The theoretical...</td>\n",
       "      <td>1</td>\n",
       "    </tr>\n",
       "    <tr>\n",
       "      <th>1269</th>\n",
       "      <td>http://tunein.com/radio/New-Yorker-Radio-Hour-...</td>\n",
       "      <td>newyorker</td>\n",
       "      <td>The New Yorker Radio Hour</td>\n",
       "      <td>[]</td>\n",
       "      <td>Description:\\n\\nDavid Remnick is joined by The...</td>\n",
       "      <td>1</td>\n",
       "    </tr>\n",
       "    <tr>\n",
       "      <th>1273</th>\n",
       "      <td>http://tunein.com/radio/New-Yorker-Poetry-p803...</td>\n",
       "      <td>newyorker</td>\n",
       "      <td>New Yorker Poetry</td>\n",
       "      <td>[]</td>\n",
       "      <td>Yusef Komunyakaa reads a poem by Marilyn Hacke...</td>\n",
       "      <td>1</td>\n",
       "    </tr>\n",
       "    <tr>\n",
       "      <th>1274</th>\n",
       "      <td>http://video.newyorker.com/watch/shorts-murmur...</td>\n",
       "      <td>newyorker</td>\n",
       "      <td>The Startup to End All Startups</td>\n",
       "      <td>[]</td>\n",
       "      <td>The Startup to End All Startups\\n\\nMeet uBox, ...</td>\n",
       "      <td>1</td>\n",
       "    </tr>\n",
       "    <tr>\n",
       "      <th>1275</th>\n",
       "      <td>http://www.newyorker.com/humor/borowitz-report...</td>\n",
       "      <td>newyorker</td>\n",
       "      <td>Cruz: “The Dream of Keeping Poor People from S...</td>\n",
       "      <td>[]</td>\n",
       "      <td>WASHINGTON ( The Borowitz Report )—Acknowledgi...</td>\n",
       "      <td>1</td>\n",
       "    </tr>\n",
       "  </tbody>\n",
       "</table>\n",
       "</div>"
      ],
      "text/plain": [
       "                                                    url     source  \\\n",
       "1268  http://www.newyorker.com/humor/borowitz-report...  newyorker   \n",
       "1269  http://tunein.com/radio/New-Yorker-Radio-Hour-...  newyorker   \n",
       "1273  http://tunein.com/radio/New-Yorker-Poetry-p803...  newyorker   \n",
       "1274  http://video.newyorker.com/watch/shorts-murmur...  newyorker   \n",
       "1275  http://www.newyorker.com/humor/borowitz-report...  newyorker   \n",
       "\n",
       "                                                  title author  \\\n",
       "1268  Stephen Hawking Angers Trump Supporters with B...     []   \n",
       "1269                          The New Yorker Radio Hour     []   \n",
       "1273                                  New Yorker Poetry     []   \n",
       "1274                    The Startup to End All Startups     []   \n",
       "1275  Cruz: “The Dream of Keeping Poor People from S...     []   \n",
       "\n",
       "                                                   text  authenticity  \n",
       "1268  LONDON ( The Borowitz Report )—The theoretical...             1  \n",
       "1269  Description:\\n\\nDavid Remnick is joined by The...             1  \n",
       "1273  Yusef Komunyakaa reads a poem by Marilyn Hacke...             1  \n",
       "1274  The Startup to End All Startups\\n\\nMeet uBox, ...             1  \n",
       "1275  WASHINGTON ( The Borowitz Report )—Acknowledgi...             1  "
      ]
     },
     "execution_count": 7,
     "metadata": {},
     "output_type": "execute_result"
    }
   ],
   "source": [
    "# drop rows where text contains NaN\n",
    "df_jinmei = df_jinmei.dropna(axis=0,subset=['text'], how='any') \n",
    "df_jinmei.tail()"
   ]
  },
  {
   "cell_type": "code",
   "execution_count": 7,
   "metadata": {
    "collapsed": false
   },
   "outputs": [
    {
     "data": {
      "text/plain": [
       "(1213, 6)"
      ]
     },
     "execution_count": 7,
     "metadata": {},
     "output_type": "execute_result"
    }
   ],
   "source": [
    "df_jinmei.shape"
   ]
  },
  {
   "cell_type": "code",
   "execution_count": 8,
   "metadata": {
    "collapsed": false
   },
   "outputs": [
    {
     "data": {
      "text/plain": [
       "(822, 6)"
      ]
     },
     "execution_count": 8,
     "metadata": {},
     "output_type": "execute_result"
    }
   ],
   "source": [
    "# drop rows where the length of characters in text is less than 500\n",
    "df_jinmei = df_jinmei[df_jinmei.text.map(len) > 500]\n",
    "df_jinmei.shape"
   ]
  },
  {
   "cell_type": "markdown",
   "metadata": {},
   "source": [
    "## Import Hyesoo's data"
   ]
  },
  {
   "cell_type": "code",
   "execution_count": 9,
   "metadata": {
    "collapsed": false
   },
   "outputs": [
    {
     "data": {
      "text/html": [
       "<div>\n",
       "<table border=\"1\" class=\"dataframe\">\n",
       "  <thead>\n",
       "    <tr style=\"text-align: right;\">\n",
       "      <th></th>\n",
       "      <th>url</th>\n",
       "      <th>source</th>\n",
       "      <th>title</th>\n",
       "      <th>author</th>\n",
       "      <th>text</th>\n",
       "      <th>authenticity</th>\n",
       "    </tr>\n",
       "  </thead>\n",
       "  <tbody>\n",
       "    <tr>\n",
       "      <th>1736</th>\n",
       "      <td>https://www.ice.gov/news/releases/operation-ma...</td>\n",
       "      <td>politico</td>\n",
       "      <td>Operation Matador nets 39 MS-13 arrests in las...</td>\n",
       "      <td>[]</td>\n",
       "      <td>NEW YORK – U.S. Immigration and Customs Enforc...</td>\n",
       "      <td>1</td>\n",
       "    </tr>\n",
       "    <tr>\n",
       "      <th>1737</th>\n",
       "      <td>http://www.politico.com/story/2017/07/27/obama...</td>\n",
       "      <td>politico</td>\n",
       "      <td>Senate Republicans prepare to pass Obamacare r...</td>\n",
       "      <td>['John Bresnahan', 'Burgess Everett', 'Jennife...</td>\n",
       "      <td>Senate Republicans are closing in on passage o...</td>\n",
       "      <td>1</td>\n",
       "    </tr>\n",
       "    <tr>\n",
       "      <th>1738</th>\n",
       "      <td>https://www.nytimes.com/2017/07/26/technology/...</td>\n",
       "      <td>nytimes</td>\n",
       "      <td>Google’s New Parental Control App Has a Flaw: ...</td>\n",
       "      <td>['Brian X. Chen', 'Tech Fix']</td>\n",
       "      <td>“The fact that the kid can graduate themselves...</td>\n",
       "      <td>1</td>\n",
       "    </tr>\n",
       "    <tr>\n",
       "      <th>1739</th>\n",
       "      <td>http://www.foxnews.com/entertainment/2017/07/2...</td>\n",
       "      <td>foxnews</td>\n",
       "      <td>Hulu resurrects TGIF lineup with acquisition o...</td>\n",
       "      <td>['Tyler Mccarthy']</td>\n",
       "      <td>Hulu is hoping to make itself the go-to stream...</td>\n",
       "      <td>1</td>\n",
       "    </tr>\n",
       "    <tr>\n",
       "      <th>1740</th>\n",
       "      <td>http://www.npr.org/2017/07/27/539559582/5-unan...</td>\n",
       "      <td>npr</td>\n",
       "      <td>5 Unanswered Questions About Trump's 'Ban' On ...</td>\n",
       "      <td>['Philip Ewing']</td>\n",
       "      <td>5 Unanswered Questions About Trump's 'Ban' On ...</td>\n",
       "      <td>1</td>\n",
       "    </tr>\n",
       "  </tbody>\n",
       "</table>\n",
       "</div>"
      ],
      "text/plain": [
       "                                                    url    source  \\\n",
       "1736  https://www.ice.gov/news/releases/operation-ma...  politico   \n",
       "1737  http://www.politico.com/story/2017/07/27/obama...  politico   \n",
       "1738  https://www.nytimes.com/2017/07/26/technology/...   nytimes   \n",
       "1739  http://www.foxnews.com/entertainment/2017/07/2...   foxnews   \n",
       "1740  http://www.npr.org/2017/07/27/539559582/5-unan...       npr   \n",
       "\n",
       "                                                  title  \\\n",
       "1736  Operation Matador nets 39 MS-13 arrests in las...   \n",
       "1737  Senate Republicans prepare to pass Obamacare r...   \n",
       "1738  Google’s New Parental Control App Has a Flaw: ...   \n",
       "1739  Hulu resurrects TGIF lineup with acquisition o...   \n",
       "1740  5 Unanswered Questions About Trump's 'Ban' On ...   \n",
       "\n",
       "                                                 author  \\\n",
       "1736                                                 []   \n",
       "1737  ['John Bresnahan', 'Burgess Everett', 'Jennife...   \n",
       "1738                      ['Brian X. Chen', 'Tech Fix']   \n",
       "1739                                 ['Tyler Mccarthy']   \n",
       "1740                                   ['Philip Ewing']   \n",
       "\n",
       "                                                   text  authenticity  \n",
       "1736  NEW YORK – U.S. Immigration and Customs Enforc...             1  \n",
       "1737  Senate Republicans are closing in on passage o...             1  \n",
       "1738  “The fact that the kid can graduate themselves...             1  \n",
       "1739  Hulu is hoping to make itself the go-to stream...             1  \n",
       "1740  5 Unanswered Questions About Trump's 'Ban' On ...             1  "
      ]
     },
     "execution_count": 9,
     "metadata": {},
     "output_type": "execute_result"
    }
   ],
   "source": [
    "path = os.path.join('data', 'hyesoo_df.csv')\n",
    "df_hyesoo = pd.read_csv(path,usecols=[1,2,3,4,5,6]) \n",
    "df_hyesoo.tail()"
   ]
  },
  {
   "cell_type": "markdown",
   "metadata": {},
   "source": [
    "## Merge all data"
   ]
  },
  {
   "cell_type": "code",
   "execution_count": 10,
   "metadata": {
    "collapsed": false
   },
   "outputs": [
    {
     "data": {
      "text/html": [
       "<div>\n",
       "<table border=\"1\" class=\"dataframe\">\n",
       "  <thead>\n",
       "    <tr style=\"text-align: right;\">\n",
       "      <th></th>\n",
       "      <th>url</th>\n",
       "      <th>source</th>\n",
       "      <th>title</th>\n",
       "      <th>author</th>\n",
       "      <th>text</th>\n",
       "      <th>authenticity</th>\n",
       "    </tr>\n",
       "  </thead>\n",
       "  <tbody>\n",
       "    <tr>\n",
       "      <th>2558</th>\n",
       "      <td>https://www.ice.gov/news/releases/operation-ma...</td>\n",
       "      <td>politico</td>\n",
       "      <td>Operation Matador nets 39 MS-13 arrests in las...</td>\n",
       "      <td>[]</td>\n",
       "      <td>NEW YORK – U.S. Immigration and Customs Enforc...</td>\n",
       "      <td>1</td>\n",
       "    </tr>\n",
       "    <tr>\n",
       "      <th>2559</th>\n",
       "      <td>http://www.politico.com/story/2017/07/27/obama...</td>\n",
       "      <td>politico</td>\n",
       "      <td>Senate Republicans prepare to pass Obamacare r...</td>\n",
       "      <td>['John Bresnahan', 'Burgess Everett', 'Jennife...</td>\n",
       "      <td>Senate Republicans are closing in on passage o...</td>\n",
       "      <td>1</td>\n",
       "    </tr>\n",
       "    <tr>\n",
       "      <th>2560</th>\n",
       "      <td>https://www.nytimes.com/2017/07/26/technology/...</td>\n",
       "      <td>nytimes</td>\n",
       "      <td>Google’s New Parental Control App Has a Flaw: ...</td>\n",
       "      <td>['Brian X. Chen', 'Tech Fix']</td>\n",
       "      <td>“The fact that the kid can graduate themselves...</td>\n",
       "      <td>1</td>\n",
       "    </tr>\n",
       "    <tr>\n",
       "      <th>2561</th>\n",
       "      <td>http://www.foxnews.com/entertainment/2017/07/2...</td>\n",
       "      <td>foxnews</td>\n",
       "      <td>Hulu resurrects TGIF lineup with acquisition o...</td>\n",
       "      <td>['Tyler Mccarthy']</td>\n",
       "      <td>Hulu is hoping to make itself the go-to stream...</td>\n",
       "      <td>1</td>\n",
       "    </tr>\n",
       "    <tr>\n",
       "      <th>2562</th>\n",
       "      <td>http://www.npr.org/2017/07/27/539559582/5-unan...</td>\n",
       "      <td>npr</td>\n",
       "      <td>5 Unanswered Questions About Trump's 'Ban' On ...</td>\n",
       "      <td>['Philip Ewing']</td>\n",
       "      <td>5 Unanswered Questions About Trump's 'Ban' On ...</td>\n",
       "      <td>1</td>\n",
       "    </tr>\n",
       "  </tbody>\n",
       "</table>\n",
       "</div>"
      ],
      "text/plain": [
       "                                                    url    source  \\\n",
       "2558  https://www.ice.gov/news/releases/operation-ma...  politico   \n",
       "2559  http://www.politico.com/story/2017/07/27/obama...  politico   \n",
       "2560  https://www.nytimes.com/2017/07/26/technology/...   nytimes   \n",
       "2561  http://www.foxnews.com/entertainment/2017/07/2...   foxnews   \n",
       "2562  http://www.npr.org/2017/07/27/539559582/5-unan...       npr   \n",
       "\n",
       "                                                  title  \\\n",
       "2558  Operation Matador nets 39 MS-13 arrests in las...   \n",
       "2559  Senate Republicans prepare to pass Obamacare r...   \n",
       "2560  Google’s New Parental Control App Has a Flaw: ...   \n",
       "2561  Hulu resurrects TGIF lineup with acquisition o...   \n",
       "2562  5 Unanswered Questions About Trump's 'Ban' On ...   \n",
       "\n",
       "                                                 author  \\\n",
       "2558                                                 []   \n",
       "2559  ['John Bresnahan', 'Burgess Everett', 'Jennife...   \n",
       "2560                      ['Brian X. Chen', 'Tech Fix']   \n",
       "2561                                 ['Tyler Mccarthy']   \n",
       "2562                                   ['Philip Ewing']   \n",
       "\n",
       "                                                   text  authenticity  \n",
       "2558  NEW YORK – U.S. Immigration and Customs Enforc...             1  \n",
       "2559  Senate Republicans are closing in on passage o...             1  \n",
       "2560  “The fact that the kid can graduate themselves...             1  \n",
       "2561  Hulu is hoping to make itself the go-to stream...             1  \n",
       "2562  5 Unanswered Questions About Trump's 'Ban' On ...             1  "
      ]
     },
     "execution_count": 10,
     "metadata": {},
     "output_type": "execute_result"
    }
   ],
   "source": [
    "df_merge = pd.concat([df_jinmei, df_hyesoo], ignore_index=True)\n",
    "df_merge.tail()"
   ]
  },
  {
   "cell_type": "code",
   "execution_count": 11,
   "metadata": {
    "collapsed": false
   },
   "outputs": [
    {
     "data": {
      "text/plain": [
       "(2563, 6)"
      ]
     },
     "execution_count": 11,
     "metadata": {},
     "output_type": "execute_result"
    }
   ],
   "source": [
    "df_merge.shape"
   ]
  },
  {
   "cell_type": "markdown",
   "metadata": {},
   "source": [
    "## Export data to csv file"
   ]
  },
  {
   "cell_type": "code",
   "execution_count": 12,
   "metadata": {
    "collapsed": true
   },
   "outputs": [],
   "source": [
    "path = os.path.join('data','merged_data.csv')\n",
    "df_merge.to_csv(path)  "
   ]
  },
  {
   "cell_type": "code",
   "execution_count": 12,
   "metadata": {
    "collapsed": false
   },
   "outputs": [],
   "source": [
    "# test\n",
    "#df_test = pd.read_csv(path) \n",
    "#df_test.tail()"
   ]
  },
  {
   "cell_type": "markdown",
   "metadata": {
    "collapsed": true
   },
   "source": [
    "## Balance data"
   ]
  },
  {
   "cell_type": "code",
   "execution_count": 11,
   "metadata": {
    "collapsed": false
   },
   "outputs": [
    {
     "data": {
      "text/html": [
       "<div>\n",
       "<table border=\"1\" class=\"dataframe\">\n",
       "  <thead>\n",
       "    <tr style=\"text-align: right;\">\n",
       "      <th></th>\n",
       "      <th>url</th>\n",
       "      <th>source</th>\n",
       "      <th>title</th>\n",
       "      <th>author</th>\n",
       "      <th>text</th>\n",
       "      <th>authenticity</th>\n",
       "      <th>label_num</th>\n",
       "    </tr>\n",
       "  </thead>\n",
       "  <tbody>\n",
       "    <tr>\n",
       "      <th>2558</th>\n",
       "      <td>https://www.ice.gov/news/releases/operation-ma...</td>\n",
       "      <td>politico</td>\n",
       "      <td>Operation Matador nets 39 MS-13 arrests in las...</td>\n",
       "      <td>[]</td>\n",
       "      <td>NEW YORK – U.S. Immigration and Customs Enforc...</td>\n",
       "      <td>1</td>\n",
       "      <td>0</td>\n",
       "    </tr>\n",
       "    <tr>\n",
       "      <th>2559</th>\n",
       "      <td>http://www.politico.com/story/2017/07/27/obama...</td>\n",
       "      <td>politico</td>\n",
       "      <td>Senate Republicans prepare to pass Obamacare r...</td>\n",
       "      <td>['John Bresnahan', 'Burgess Everett', 'Jennife...</td>\n",
       "      <td>Senate Republicans are closing in on passage o...</td>\n",
       "      <td>1</td>\n",
       "      <td>0</td>\n",
       "    </tr>\n",
       "    <tr>\n",
       "      <th>2560</th>\n",
       "      <td>https://www.nytimes.com/2017/07/26/technology/...</td>\n",
       "      <td>nytimes</td>\n",
       "      <td>Google’s New Parental Control App Has a Flaw: ...</td>\n",
       "      <td>['Brian X. Chen', 'Tech Fix']</td>\n",
       "      <td>“The fact that the kid can graduate themselves...</td>\n",
       "      <td>1</td>\n",
       "      <td>0</td>\n",
       "    </tr>\n",
       "    <tr>\n",
       "      <th>2561</th>\n",
       "      <td>http://www.foxnews.com/entertainment/2017/07/2...</td>\n",
       "      <td>foxnews</td>\n",
       "      <td>Hulu resurrects TGIF lineup with acquisition o...</td>\n",
       "      <td>['Tyler Mccarthy']</td>\n",
       "      <td>Hulu is hoping to make itself the go-to stream...</td>\n",
       "      <td>1</td>\n",
       "      <td>0</td>\n",
       "    </tr>\n",
       "    <tr>\n",
       "      <th>2562</th>\n",
       "      <td>http://www.npr.org/2017/07/27/539559582/5-unan...</td>\n",
       "      <td>npr</td>\n",
       "      <td>5 Unanswered Questions About Trump's 'Ban' On ...</td>\n",
       "      <td>['Philip Ewing']</td>\n",
       "      <td>5 Unanswered Questions About Trump's 'Ban' On ...</td>\n",
       "      <td>1</td>\n",
       "      <td>0</td>\n",
       "    </tr>\n",
       "  </tbody>\n",
       "</table>\n",
       "</div>"
      ],
      "text/plain": [
       "                                                    url    source  \\\n",
       "2558  https://www.ice.gov/news/releases/operation-ma...  politico   \n",
       "2559  http://www.politico.com/story/2017/07/27/obama...  politico   \n",
       "2560  https://www.nytimes.com/2017/07/26/technology/...   nytimes   \n",
       "2561  http://www.foxnews.com/entertainment/2017/07/2...   foxnews   \n",
       "2562  http://www.npr.org/2017/07/27/539559582/5-unan...       npr   \n",
       "\n",
       "                                                  title  \\\n",
       "2558  Operation Matador nets 39 MS-13 arrests in las...   \n",
       "2559  Senate Republicans prepare to pass Obamacare r...   \n",
       "2560  Google’s New Parental Control App Has a Flaw: ...   \n",
       "2561  Hulu resurrects TGIF lineup with acquisition o...   \n",
       "2562  5 Unanswered Questions About Trump's 'Ban' On ...   \n",
       "\n",
       "                                                 author  \\\n",
       "2558                                                 []   \n",
       "2559  ['John Bresnahan', 'Burgess Everett', 'Jennife...   \n",
       "2560                      ['Brian X. Chen', 'Tech Fix']   \n",
       "2561                                 ['Tyler Mccarthy']   \n",
       "2562                                   ['Philip Ewing']   \n",
       "\n",
       "                                                   text  authenticity  \\\n",
       "2558  NEW YORK – U.S. Immigration and Customs Enforc...             1   \n",
       "2559  Senate Republicans are closing in on passage o...             1   \n",
       "2560  “The fact that the kid can graduate themselves...             1   \n",
       "2561  Hulu is hoping to make itself the go-to stream...             1   \n",
       "2562  5 Unanswered Questions About Trump's 'Ban' On ...             1   \n",
       "\n",
       "      label_num  \n",
       "2558          0  \n",
       "2559          0  \n",
       "2560          0  \n",
       "2561          0  \n",
       "2562          0  "
      ]
     },
     "execution_count": 11,
     "metadata": {},
     "output_type": "execute_result"
    }
   ],
   "source": [
    "df_merge['label_num'] = df_merge.authenticity.map({1:0,0:1})\n",
    "df_merge.tail()"
   ]
  },
  {
   "cell_type": "markdown",
   "metadata": {},
   "source": [
    "### sample real news\n",
    "number of real news ~= number of fake news"
   ]
  },
  {
   "cell_type": "code",
   "execution_count": 13,
   "metadata": {
    "collapsed": false
   },
   "outputs": [
    {
     "data": {
      "text/plain": [
       "(1002, 7)"
      ]
     },
     "execution_count": 13,
     "metadata": {},
     "output_type": "execute_result"
    }
   ],
   "source": [
    "data_balanced_realnews = df_merge[df_merge.label_num==0]\n",
    "data_balanced_realnews = data_balanced_realnews.sample(frac=0.64)\n",
    "data_balanced_realnews.shape"
   ]
  },
  {
   "cell_type": "markdown",
   "metadata": {},
   "source": [
    "### get all fake news"
   ]
  },
  {
   "cell_type": "code",
   "execution_count": 14,
   "metadata": {
    "collapsed": false
   },
   "outputs": [
    {
     "data": {
      "text/plain": [
       "(997, 7)"
      ]
     },
     "execution_count": 14,
     "metadata": {},
     "output_type": "execute_result"
    }
   ],
   "source": [
    "data_balanced_fakenews = df_merge[df_merge.label_num==1]\n",
    "data_balanced_fakenews.shape"
   ]
  },
  {
   "cell_type": "markdown",
   "metadata": {},
   "source": [
    "### combine real and fake news"
   ]
  },
  {
   "cell_type": "code",
   "execution_count": 16,
   "metadata": {
    "collapsed": false,
    "scrolled": true
   },
   "outputs": [
    {
     "data": {
      "text/plain": [
       "0    1002\n",
       "1     997\n",
       "Name: label_num, dtype: int64"
      ]
     },
     "execution_count": 16,
     "metadata": {},
     "output_type": "execute_result"
    }
   ],
   "source": [
    "data_balanced = pd.concat([data_balanced_realnews, data_balanced_fakenews], ignore_index=True)\n",
    "data_balanced.label_num.value_counts()"
   ]
  },
  {
   "cell_type": "markdown",
   "metadata": {},
   "source": [
    "### export data"
   ]
  },
  {
   "cell_type": "code",
   "execution_count": 17,
   "metadata": {
    "collapsed": true
   },
   "outputs": [],
   "source": [
    "path = os.path.join('data','balanced_data.csv')\n",
    "data_balanced.to_csv(path)  "
   ]
  },
  {
   "cell_type": "code",
   "execution_count": null,
   "metadata": {
    "collapsed": true
   },
   "outputs": [],
   "source": []
  }
 ],
 "metadata": {
  "anaconda-cloud": {},
  "kernelspec": {
   "display_name": "Python [Root]",
   "language": "python",
   "name": "Python [Root]"
  },
  "language_info": {
   "codemirror_mode": {
    "name": "ipython",
    "version": 3
   },
   "file_extension": ".py",
   "mimetype": "text/x-python",
   "name": "python",
   "nbconvert_exporter": "python",
   "pygments_lexer": "ipython3",
   "version": "3.5.2"
  }
 },
 "nbformat": 4,
 "nbformat_minor": 0
}
