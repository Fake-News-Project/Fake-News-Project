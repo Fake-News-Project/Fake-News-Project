{
 "cells": [
  {
   "cell_type": "markdown",
   "metadata": {},
   "source": [
    "# Scraping news from fake news websites"
   ]
  },
  {
   "cell_type": "markdown",
   "metadata": {},
   "source": [
    "Fake news websites are taken from\n",
    "https://github.com/BigMcLargeHuge/opensources/blob/master/sources/sources.csv"
   ]
  },
  {
   "cell_type": "markdown",
   "metadata": {},
   "source": [
    "## Fake news website list"
   ]
  },
  {
   "cell_type": "code",
   "execution_count": 32,
   "metadata": {
    "collapsed": true
   },
   "outputs": [],
   "source": [
    "url_interestingdailynews = 'https://www.interestingdailynews.com'\n",
    "url_nbccomco = 'http://nbc.com.co'\n",
    "url_newsbbcnet = 'http://www.newsbbc.net'\n",
    "url_madworldnews = 'http://madworldnews.com'\n",
    "url_majorthoughts = 'http://majorthoughts.com'\n",
    "url_nationonenews = 'http://nationonenews.com'"
   ]
  },
  {
   "cell_type": "code",
   "execution_count": 13,
   "metadata": {
    "collapsed": true
   },
   "outputs": [],
   "source": [
    "import newspaper\n",
    "import pandas as pd\n",
    "import numpy as np\n",
    "import os"
   ]
  },
  {
   "cell_type": "code",
   "execution_count": 24,
   "metadata": {
    "collapsed": true
   },
   "outputs": [],
   "source": [
    "# collect all or most recent 100 articles from a website\n",
    "def generate_data(news_url):\n",
    "    col_names = [\"url\",\"source\", \"title\", \"author\", \"text\"]\n",
    "    article_df = pd.DataFrame(columns = col_names)\n",
    "    \n",
    "    print(news_url)\n",
    "    news_articles = newspaper.build(news_url, memoize_articles=False)\n",
    "    \n",
    "    size_articles = news_articles.size()\n",
    "    num_news = 100\n",
    "    if size_articles < num_news:\n",
    "        num_news = size_articles\n",
    "     \n",
    "    news_brand = news_articles.brand\n",
    "    count = 0\n",
    "    for i in range(0,num_news):\n",
    "        article = news_articles.articles[i];\n",
    "        try:\n",
    "            article.download()\n",
    "            article.parse()\n",
    "            print(article.url)\n",
    "            \n",
    "            entry = pd.DataFrame([[article.url, news_brand, \\\n",
    "                                   article.title, article.authors, article.text]], columns=col_names)\n",
    "            article_df = article_df.append(entry)\n",
    "            count += 1\n",
    "        except:\n",
    "            pass\n",
    "        \n",
    "    print(\"The total number of \" + str(news_brand) + \" articles is \", count) \n",
    "        \n",
    "    article_df.set_index('url', inplace=True)\n",
    "    return article_df    "
   ]
  },
  {
   "cell_type": "code",
   "execution_count": 63,
   "metadata": {
    "collapsed": false,
    "scrolled": true
   },
   "outputs": [
    {
     "data": {
      "text/plain": [
       "62"
      ]
     },
     "execution_count": 63,
     "metadata": {},
     "output_type": "execute_result"
    }
   ],
   "source": [
    "# check the number of articles in the website before scraping \n",
    "# some websites do not have many articles\n",
    "url = 'http://nationonenews.com'\n",
    "articles_list = newspaper.build(url,memoize_articles=False)\n",
    "articles_list.size()"
   ]
  },
  {
   "cell_type": "markdown",
   "metadata": {},
   "source": [
    "## 1. Obtain news from 'https://www.interestingdailynews.com'"
   ]
  },
  {
   "cell_type": "code",
   "execution_count": 33,
   "metadata": {
    "collapsed": false,
    "scrolled": true
   },
   "outputs": [
    {
     "name": "stdout",
     "output_type": "stream",
     "text": [
      "https://www.interestingdailynews.com\n",
      "You must `download()` an article first!\n",
      "You must `download()` an article first!\n",
      "https://www.interestingdailynews.com/not-just-cnn-griffin-dumped-advertisers-career-self-decapitation/\n",
      "https://www.interestingdailynews.com/man-rapes-infant-leaves-something-remember/\n",
      "https://www.interestingdailynews.com/pro-trump-billboard-causes-huge-controversy-small-southern-town/\n",
      "https://www.interestingdailynews.com/huge-melee-breaks-out-trump-rally-attacked-by-thugs-but-supporters-were-prepared-for-war-video/\n",
      "https://www.interestingdailynews.com/2017-chevrolet-cruze-diesel-epa-rated-3052-mpg-with-manual/\n",
      "https://www.interestingdailynews.com/benellis-upcoming-750cc-parallel-twin-naked-spotted/\n",
      "https://www.interestingdailynews.com/rachel-maddow-exposes-mike-pences-4-biggest-lies-must-watch/\n",
      "https://www.interestingdailynews.com/alert-1-million-pounds-of-americas-favorite-frozen-food-recalled-throw-it-away-now-it-could-kill-your-family/\n",
      "https://www.interestingdailynews.com/breaking-fbi-director-exposed-by-teen-girl-who-just-revealed-the-sick-thing-he-did-to-her/\n",
      "https://www.interestingdailynews.com/kevin-durant-warriors-reportedly-agree-2-year-53-million-contract/\n",
      "https://www.interestingdailynews.com/look-popular-beer-company-sends-trump-sick-message-side-every-bottle-boycott/\n",
      "https://www.interestingdailynews.com/saudi-prince-meets-new-york-city-cop-for-breaking-the-l%d0%b0w-and-try-to-escape-video/\n",
      "https://www.interestingdailynews.com/new-poll-finds-majority-side-trump-one/\n",
      "https://www.interestingdailynews.com/muslim-demands-pig-farmer-move-theyre-building-mosque-next-door-farmer-perfect-response/\n",
      "https://www.interestingdailynews.com/first-commercially-available-flying-car-goes-on-sale-for-399000-video/\n",
      "https://www.interestingdailynews.com/boston-marathon-bomber-tsarnaev-severely-injured-prison-may-never-walk-talk/\n",
      "https://www.interestingdailynews.com/us-opens-sanctions-chinese-banks-aiding-north-korea/\n",
      "https://www.interestingdailynews.com/the-truth-about-harley-riders-that-everyone-should-now-video/\n",
      "https://www.interestingdailynews.com/teacher-breaks-down-in-tears-when-she-sees-whats-captured-in-a-photo-of-the-aftermath-of-a-bus-fire/\n",
      "https://www.interestingdailynews.com/spied-rolls-royce-cullinan-shows-off-suv-rear-end/\n",
      "https://www.interestingdailynews.com/trump-blasts-bmw-for-er-building-almost-50000-more-cars-in-the-us-than-it-sells-in-the-us/\n",
      "The total number of interestingdailynews articles is  21\n"
     ]
    }
   ],
   "source": [
    "df_interestingdailynews = generate_data(url_interestingdailynews)"
   ]
  },
  {
   "cell_type": "code",
   "execution_count": 34,
   "metadata": {
    "collapsed": false
   },
   "outputs": [],
   "source": [
    "output_path = os.path.join('data', 'interestingdailynews.csv')\n",
    "df_interestingdailynews.to_csv(output_path)"
   ]
  },
  {
   "cell_type": "code",
   "execution_count": 35,
   "metadata": {
    "collapsed": false
   },
   "outputs": [],
   "source": [
    "# read data\n",
    "input_path = output_path\n",
    "data_interestingdailynews = pd.read_csv(input_path)"
   ]
  },
  {
   "cell_type": "code",
   "execution_count": 37,
   "metadata": {
    "collapsed": false
   },
   "outputs": [
    {
     "data": {
      "text/html": [
       "<div>\n",
       "<table border=\"1\" class=\"dataframe\">\n",
       "  <thead>\n",
       "    <tr style=\"text-align: right;\">\n",
       "      <th></th>\n",
       "      <th>url</th>\n",
       "      <th>source</th>\n",
       "      <th>title</th>\n",
       "      <th>author</th>\n",
       "      <th>text</th>\n",
       "    </tr>\n",
       "  </thead>\n",
       "  <tbody>\n",
       "    <tr>\n",
       "      <th>0</th>\n",
       "      <td>https://www.interestingdailynews.com/not-just-...</td>\n",
       "      <td>interestingdailynews</td>\n",
       "      <td>Not Just CNN: Griffin Dumped By Other Advertis...</td>\n",
       "      <td>['Interesting Daily News']</td>\n",
       "      <td>Not Just CNN: Griffin Dumped By Other Advertis...</td>\n",
       "    </tr>\n",
       "    <tr>\n",
       "      <th>1</th>\n",
       "      <td>https://www.interestingdailynews.com/man-rapes...</td>\n",
       "      <td>interestingdailynews</td>\n",
       "      <td>Man Rapes Infant, Leaves Her With Something To...</td>\n",
       "      <td>['Interesting Daily News']</td>\n",
       "      <td>Man Rapes Infant, Leaves Her With Something To...</td>\n",
       "    </tr>\n",
       "    <tr>\n",
       "      <th>2</th>\n",
       "      <td>https://www.interestingdailynews.com/pro-trump...</td>\n",
       "      <td>interestingdailynews</td>\n",
       "      <td>Pro-Trump Billboard Causes ‘HUGE’ Controversy ...</td>\n",
       "      <td>['Interesting Daily News']</td>\n",
       "      <td>It’s a stark, simple message on a black billbo...</td>\n",
       "    </tr>\n",
       "    <tr>\n",
       "      <th>3</th>\n",
       "      <td>https://www.interestingdailynews.com/huge-mele...</td>\n",
       "      <td>interestingdailynews</td>\n",
       "      <td>HUGE MELEE BREAKS OUT! Trump Rally Attacked By...</td>\n",
       "      <td>['Interesting Daily News']</td>\n",
       "      <td>HUGE MELEE BREAKS OUT! Trump Rally Attacked By...</td>\n",
       "    </tr>\n",
       "    <tr>\n",
       "      <th>4</th>\n",
       "      <td>https://www.interestingdailynews.com/2017-chev...</td>\n",
       "      <td>interestingdailynews</td>\n",
       "      <td>2017 CHEVROLET CRUZE DIESEL EPA-RATED 30/52 MP...</td>\n",
       "      <td>['Interesting Daily News']</td>\n",
       "      <td>Nine-speed auto rated 31/47 mpg\\n\\nThe 2017 Ch...</td>\n",
       "    </tr>\n",
       "  </tbody>\n",
       "</table>\n",
       "</div>"
      ],
      "text/plain": [
       "                                                 url                source  \\\n",
       "0  https://www.interestingdailynews.com/not-just-...  interestingdailynews   \n",
       "1  https://www.interestingdailynews.com/man-rapes...  interestingdailynews   \n",
       "2  https://www.interestingdailynews.com/pro-trump...  interestingdailynews   \n",
       "3  https://www.interestingdailynews.com/huge-mele...  interestingdailynews   \n",
       "4  https://www.interestingdailynews.com/2017-chev...  interestingdailynews   \n",
       "\n",
       "                                               title  \\\n",
       "0  Not Just CNN: Griffin Dumped By Other Advertis...   \n",
       "1  Man Rapes Infant, Leaves Her With Something To...   \n",
       "2  Pro-Trump Billboard Causes ‘HUGE’ Controversy ...   \n",
       "3  HUGE MELEE BREAKS OUT! Trump Rally Attacked By...   \n",
       "4  2017 CHEVROLET CRUZE DIESEL EPA-RATED 30/52 MP...   \n",
       "\n",
       "                       author  \\\n",
       "0  ['Interesting Daily News']   \n",
       "1  ['Interesting Daily News']   \n",
       "2  ['Interesting Daily News']   \n",
       "3  ['Interesting Daily News']   \n",
       "4  ['Interesting Daily News']   \n",
       "\n",
       "                                                text  \n",
       "0  Not Just CNN: Griffin Dumped By Other Advertis...  \n",
       "1  Man Rapes Infant, Leaves Her With Something To...  \n",
       "2  It’s a stark, simple message on a black billbo...  \n",
       "3  HUGE MELEE BREAKS OUT! Trump Rally Attacked By...  \n",
       "4  Nine-speed auto rated 31/47 mpg\\n\\nThe 2017 Ch...  "
      ]
     },
     "execution_count": 37,
     "metadata": {},
     "output_type": "execute_result"
    }
   ],
   "source": [
    "data_interestingdailynews.head()"
   ]
  },
  {
   "cell_type": "markdown",
   "metadata": {},
   "source": [
    "## 2. Obtain news from 'http://nbc.com.co'"
   ]
  },
  {
   "cell_type": "code",
   "execution_count": 38,
   "metadata": {
    "collapsed": false
   },
   "outputs": [
    {
     "name": "stdout",
     "output_type": "stream",
     "text": [
      "http://nbc.com.co\n",
      "http://nbc.com.co/suicide-will-affect-aaron-hernandezs-estate-payout/\n",
      "http://nbc.com.co/News/entertainment/music/\n",
      "http://nbc.com.co/lifeguards-lose-protection-personal-injury-liability/\n",
      "http://nbc.com.co/vince-gilligan-announces-breaking-bad-season-6-begins-shooting-august-2015/\n",
      "http://nbc.com.co/best-places-find-free-roulette-game-web/\n",
      "http://nbc.com.co/bill-murray-is-a-hero-in-london-after-saving-the-life-of-a-child-from-oncoming-traffic/\n",
      "http://nbc.com.co/News/global/criminal/national/\n",
      "http://nbc.com.co/News/news/\n",
      "http://nbc.com.co/trump-to-build-wall-out-of-homes-for-veterans/\n",
      "http://nbc.com.co/horror-movies-themes-online-games-popularity/\n",
      "http://nbc.com.co/News/nbc-news/\n",
      "http://nbc.com.co/News/global/criminal/regional/\n",
      "http://nbc.com.co/News/global/criminal/\n",
      "http://nbc.com.co/jonathan-gregory-the-creepiest-comedian-in-america/\n",
      "http://nbc.com.co/News/politics/\n",
      "http://nbc.com.co/personal-injury-claims-ford-explorer-rise/\n",
      "http://nbc.com.co/News/lifestyle/\n",
      "http://nbc.com.co/detroit-laws-cant-prosecute-watch-crimes-dont-report/\n",
      "http://nbc.com.co/News/global/terorism/\n",
      "http://nbc.com.co/obama-announces-third-term-presidential-run/\n",
      "http://nbc.com.co/vince-gilligan-announces-breaking-bad-season-6/\n",
      "http://nbc.com.co/News/global/\n",
      "http://nbc.com.co/News/entertainment/\n",
      "http://nbc.com.co/top-5-large-tablets-buy-right-now/\n",
      "http://nbc.com.co/News/technology/\n",
      "http://nbc.com.co/hate-crimes-rise-since-trump-took-office/\n",
      "http://nbc.com.co/push-cap-damages-medical-malpractice-horizon/\n",
      "The total number of nbc articles is  27\n"
     ]
    }
   ],
   "source": [
    "df_nbccomco = generate_data(url_nbccomco)"
   ]
  },
  {
   "cell_type": "code",
   "execution_count": 40,
   "metadata": {
    "collapsed": false
   },
   "outputs": [
    {
     "data": {
      "text/html": [
       "<div>\n",
       "<table border=\"1\" class=\"dataframe\">\n",
       "  <thead>\n",
       "    <tr style=\"text-align: right;\">\n",
       "      <th></th>\n",
       "      <th>url</th>\n",
       "      <th>source</th>\n",
       "      <th>title</th>\n",
       "      <th>author</th>\n",
       "      <th>text</th>\n",
       "    </tr>\n",
       "  </thead>\n",
       "  <tbody>\n",
       "    <tr>\n",
       "      <th>22</th>\n",
       "      <td>http://nbc.com.co/News/entertainment/</td>\n",
       "      <td>nbc</td>\n",
       "      <td>Entertainment Archives</td>\n",
       "      <td>['Almira Anke', 'Hanif Ibrahim', 'Jacob Morgan']</td>\n",
       "      <td>People are somehow wired to love scary stuff. ...</td>\n",
       "    </tr>\n",
       "    <tr>\n",
       "      <th>23</th>\n",
       "      <td>http://nbc.com.co/top-5-large-tablets-buy-righ...</td>\n",
       "      <td>nbc</td>\n",
       "      <td>Top 5 Large Tablets To Buy Right Now</td>\n",
       "      <td>['Almira Anke', 'Hanif Ibrahim', 'Jacob Morgan']</td>\n",
       "      <td>Full-size tablets have been popular ever since...</td>\n",
       "    </tr>\n",
       "    <tr>\n",
       "      <th>24</th>\n",
       "      <td>http://nbc.com.co/News/technology/</td>\n",
       "      <td>nbc</td>\n",
       "      <td>Technology Archives</td>\n",
       "      <td>['Almira Anke', 'Hanif Ibrahim', 'Jacob Morgan']</td>\n",
       "      <td>Counter-Strike: Global Offensive is one of the...</td>\n",
       "    </tr>\n",
       "    <tr>\n",
       "      <th>25</th>\n",
       "      <td>http://nbc.com.co/hate-crimes-rise-since-trump...</td>\n",
       "      <td>nbc</td>\n",
       "      <td>Are Hate Crimes On The Rise Since Trump Took O...</td>\n",
       "      <td>['Almira Anke', 'Hanif Ibrahim', 'Jacob Morgan']</td>\n",
       "      <td>Whether you are in favor of or against the Tru...</td>\n",
       "    </tr>\n",
       "    <tr>\n",
       "      <th>26</th>\n",
       "      <td>http://nbc.com.co/push-cap-damages-medical-mal...</td>\n",
       "      <td>nbc</td>\n",
       "      <td>Push To Cap Damages For Medical Malpractice On...</td>\n",
       "      <td>['Almira Anke', 'Hanif Ibrahim', 'Jacob Morgan']</td>\n",
       "      <td>Big changes may be on the horizon for the stat...</td>\n",
       "    </tr>\n",
       "  </tbody>\n",
       "</table>\n",
       "</div>"
      ],
      "text/plain": [
       "                                                  url source  \\\n",
       "22              http://nbc.com.co/News/entertainment/    nbc   \n",
       "23  http://nbc.com.co/top-5-large-tablets-buy-righ...    nbc   \n",
       "24                 http://nbc.com.co/News/technology/    nbc   \n",
       "25  http://nbc.com.co/hate-crimes-rise-since-trump...    nbc   \n",
       "26  http://nbc.com.co/push-cap-damages-medical-mal...    nbc   \n",
       "\n",
       "                                                title  \\\n",
       "22                             Entertainment Archives   \n",
       "23               Top 5 Large Tablets To Buy Right Now   \n",
       "24                                Technology Archives   \n",
       "25  Are Hate Crimes On The Rise Since Trump Took O...   \n",
       "26  Push To Cap Damages For Medical Malpractice On...   \n",
       "\n",
       "                                              author  \\\n",
       "22  ['Almira Anke', 'Hanif Ibrahim', 'Jacob Morgan']   \n",
       "23  ['Almira Anke', 'Hanif Ibrahim', 'Jacob Morgan']   \n",
       "24  ['Almira Anke', 'Hanif Ibrahim', 'Jacob Morgan']   \n",
       "25  ['Almira Anke', 'Hanif Ibrahim', 'Jacob Morgan']   \n",
       "26  ['Almira Anke', 'Hanif Ibrahim', 'Jacob Morgan']   \n",
       "\n",
       "                                                 text  \n",
       "22  People are somehow wired to love scary stuff. ...  \n",
       "23  Full-size tablets have been popular ever since...  \n",
       "24  Counter-Strike: Global Offensive is one of the...  \n",
       "25  Whether you are in favor of or against the Tru...  \n",
       "26  Big changes may be on the horizon for the stat...  "
      ]
     },
     "execution_count": 40,
     "metadata": {},
     "output_type": "execute_result"
    }
   ],
   "source": [
    "path = os.path.join('data', 'nbccomco.csv')\n",
    "df_nbccomco.to_csv(path)  \n",
    "\n",
    "# test: read data\n",
    "data_nbccomco = pd.read_csv(path)\n",
    "data_nbccomco.tail()"
   ]
  },
  {
   "cell_type": "markdown",
   "metadata": {},
   "source": [
    "## 3. Obtain news from 'http://www.newsbbc.net'"
   ]
  },
  {
   "cell_type": "code",
   "execution_count": 41,
   "metadata": {
    "collapsed": false
   },
   "outputs": [
    {
     "name": "stdout",
     "output_type": "stream",
     "text": [
      "http://www.newsbbc.net\n",
      "http://yournewswire.com/john-kerry-calls-for-russia-and-syria-war-crimes-investigation/\n",
      "http://www.globalhealingcenter.com/natural-health/what-is-a-raw-vegan-diet/?a_aid=54e3fadc2316d\n",
      "http://www.zerohedge.com/news/2016-10-06/leaked-memo-confirms-hillary-was-given-questions-ahead-interview\n",
      "http://www.globalhealingcenter.com/natural-health/healthy-lifestyle-changes-to-make-today/\n",
      "http://inhabitat.com/trump-sons-selling-post-inauguration-access-and-private-hunting-trip-for-1m/\n",
      "http://www.dailymail.co.uk/news/article-3827732/U-S-accuses-Russia-hacking-attempts-political-groups.html\n",
      "http://freebeacon.com/politics/clinton-campaign-helped-script-steve-harvey-interview/\n",
      "http://time.com/4634078/rex-tillerson-south-china-sea-donald-trump/\n",
      "http://www.newsbbc.net/2017/04/tribute-for-family-of-soldier-killed.html\n",
      "http://yournewswire.com/scientific-study-towers-collapsed-due-to-controlled-demolition/\n",
      "http://www.newsbbc.net/2017/07/cia-agent-confesses-on-deathbed-we-blew.html\n",
      "http://21stcenturywire.com/2016/12/14/tulsi-gabbard-introduces-bill-to-stop-us-government-funding-and-arming-jihadist-terrorists-in-syria/\n",
      "http://www.trueactivist.com/non-profit-run-by-trumps-sons-selling-access-to-first-family-for-500k-1-million-per-person/\n",
      "http://www.globalhealingcenter.com/natural-health/why-sleep-is-important-to-your-health/?a_aid=54e3fadc2316d\n",
      "http://www.newsbbc.net/2017/01/marijuana-activists-to-supply-thousands.html\n",
      "http://www.newsbbc.net/2016/12/obama-quietly-signs-2017-ndaa-over.html\n",
      "http://www.newsbbc.net/2017/07/new-analysis-kills-dnc-hacking.html\n",
      "http://www.zerohedge.com/news/2016-10-05/clinton-caught-using-child-actor-ask-planted-question-pennsylvania-townhall\n",
      "https://theforensicator.wordpress.com/guccifer-2-ngp-van-metadata-analysis/\n",
      "http://www.dailymail.co.uk/news/article-3842846/Rumors-swirl-Pamela-Anderson-poisoned-Julian-Assange-vegan-meal-Pret.html\n",
      "http://yournewswire.com/911-bbc-report-collapse-of-wtc7-26-minutes-too-early/\n",
      "http://www.reuters.com/article/us-usa-trump-china-idUSKBN15504D\n",
      "http://www.newsbbc.net/2017/01/mccain-says-russian-cyberattacks.html\n",
      "http://www.newsbbc.net/search/label/News?max-results=6\n",
      "http://www.angrypatriotmovement.com/wikileaks-releases-proof-of-hillarys-treason/\n",
      "http://www.newsbbc.net/2017/03/10-easy-ways-to-healthy-diet-for-kids.html\n",
      "http://www.globalhealingcenter.com/natural-health/the-top-5-harmful-toxins-in-air/?a_aid=54e3fadc2316d\n",
      "http://www.businessinsider.com/trump-attacks-clinton-for-foundation-pay-to-play-allegations-2016-10\n",
      "https://lawyerist.com/172034/microsoft-sql-2017-improvements-advanced-analytics-may-mean-lawyers/\n",
      "http://www.newsbbc.net/2016/10/leaked-memo-confirms-hillary-was-given.html\n",
      "http://thehill.com/policy/cybersecurity/300890-assange-grudge-against-clinton-shapes-us-election\n",
      "http://yournewswire.com/ron-paul-cia-meddled-in-hundreds-of-elections/\n",
      "http://www.dumblittleman.com/2008/02/kickstart-your-brain-with-the-mozart.html\n",
      "Article `download()` failed with 404 Client Error: Not Found for url: http://thepoliticalinsider.com/wikileaks-confirms-hillary-sold-weapons-isis-drops-another-bombshell-breaking-news/ on URL http://www.thepoliticalinsider.com/wikileaks-confirms-hillary-sold-weapons-isis-drops-another-bombshell-breaking-news/\n",
      "http://www.newsbbc.net/2016/10/breaking-wikileaks-releases-proof-of.html\n",
      "http://www.newyorker.com/magazine/2016/05/16/donald-trump-jr-the-outdoorsman\n",
      "http://townhall.com/tipsheet/guybenson/2015/09/11/analysis-gop-should-shut-down-senate-business-to-break-dems-iran-deal-filibuster-n2050696\n",
      "https://motherboard.vice.com/en_us/article/yp3bbv/dnc-hacker-guccifer-20-full-interview-transcript\n",
      "You must `download()` an article first!\n",
      "https://lawyerist.com/110074/microsoft-commits-1-million-access-justice/\n",
      "http://townhall.com/tipsheet/guybenson/2015/09/14/peace-partners-iranian-regime-releases-video-threatening-to-humiliate-us-n2051741\n",
      "http://www.reuters.com/article/us-pence-asia-japan-idUSKBN17L066\n",
      "http://www.cbsnews.com/news/donald-trump-cabinet-richest-in-us-history-historians-say/\n",
      "https://www.nytimes.com/2017/04/18/world/asia/aircraft-carrier-north-korea-carl-vinson.html?_r=0\n",
      "http://www.newsbbc.net/2017/05/microsoft-sql-2017-improvements.html\n",
      "http://www.globalhealingcenter.com/natural-health/benefits-of-water-for-your-body/?a_aid=54e3fadc2316d\n",
      "http://www.mtv.com/news/1650711/kanye-west-jokes-about-devil-worship-illuminati-rumors/\n",
      "http://www.globalhealingcenter.com/natural-health/6-health-benefits-of-eating-organic-food/?a_aid=54e3fadc2316d\n",
      "http://www.digitalmusicnews.com/2016/10/04/kim-kardashian-kanye-west-fabricated/\n",
      "http://www.newsbbc.net/2016/10/julian-assange-taken-offline-in-cyber.html\n",
      "http://www.newsbbc.net/2017/04/pence-us-ready-to-use-overwhelming.html\n",
      "http://www.newsbbc.net/2016/12/ron-paul-cia-meddled-in-hundreds-of.html\n",
      "http://www.newsbbc.net/2016/12/trump-sons-sell-access-to-first-family.html\n",
      "http://www.straitstimes.com/asia/east-asia/china-must-expand-nuclear-arsenal-in-response-to-trump-global-times\n",
      "http://www.newsbbc.net/2016/10/a-bill-clinton-rape-survivor-just-told.html\n",
      "http://helplogger.blogspot.com/2014/11/5-cool-recent-post-widgets-for-blogger.html\n",
      "https://conservativedailypost.com/u-s-state-department-confirms-iran-never-signed-treaty-obamas-nuclear-deal-fully-illegal\n",
      "http://www.newsbbc.net/2016/12/us-state-department-confirms-iran-never.html\n",
      "http://www.hollywoodreporter.com/news/donald-trumps-new-attack-ad-896660\n",
      "http://www.nytimes.com/2015/10/30/world/middleeast/iran-is-said-to-detain-another-american.html\n",
      "http://www.trueactivist.com/donations-to-the-clinton-foundation-plummet-as-familys-political-clout-evaporates/\n",
      "https://www.thesun.co.uk/tvandshowbiz/1944698/giant-bodyguard-pascal-duvier-seen-flanking-kanye-west-at-his-chicago-gig/\n",
      "http://www.newsbbc.net/2016/10/10-ways-to-kickstart-your-brain-on-lazy.html\n",
      "http://yournewswire.com/trump-putin-is-right-about-hillary-she-has-no-dignity/\n",
      "http://yournewswire.com/u-s-officially-accuses-russia-of-political-hacks/\n",
      "http://www.newsbbc.net/2016/12/trump-putin-is-right-about-hillary-she.html\n",
      "http://www.newsbbc.net/2016/09/ron-paul-vote-all-you-want-secret_6.html\n",
      "http://time.com/25150/rape-victims-talk-about-tweeting-their-experiences-publicly/\n",
      "http://www.newsbbc.net/2017/01/wikileaks-offers-reward-for-info-on.html\n",
      "http://www.newsbbc.net/2017/01/china-just-issued-nuclear-warning-to.html\n",
      "http://www.globalhealingcenter.com/natural-health/refined-sugar-toxic-to-your-health/?a_aid=54e3fadc2316d\n",
      "http://www.matchacollege.com/subjects/best-online-education-teaching-degree-programs/\n",
      "http://www.healthandyoga.com/html/news/yogicbreath.html\n",
      "http://disobedientmedia.com/2017/07/new-research-shows-guccifer-2-0-files-were-copied-locally-not-hacked/\n",
      "http://www.newsbbc.net/2016/10/october-surprise-wwiii-begins-to-boil.html\n",
      "http://www.usatoday.com/story/life/music/2016/10/04/kanye-west-postpones-tour-dates-kim-kardashian-robbery/91515312/\n",
      "http://www.reuters.com/article/us-usa-china-southchinasea-idUSKBN1572M4\n",
      "http://www.trueactivist.com/tribute-for-family-of-soldier-killed-fighting-isis-raises-200k-overnight/\n",
      "http://georgewashington.blogspot.com/2005/11/how-could-they-plant-bombs-in-world.html\n",
      "http://english.alarabiya.net/en/News/middle-east/2015/08/29/Rowhani-Iran-nuke-deal-doesn-t-need-parliament-approval.html\n",
      "http://www.newsbbc.net/2017/04/6-healthy-lifestyle-changes-to-make.html\n",
      "http://www.newsbbc.net/search/label/News\n",
      "http://www.newsbbc.net/2016/12/boy-with-no-shoes-gifts-stray-dog.html\n",
      "http://www.presstv.ir/Detail/2017/01/05/504871/Russian-cyberattacks-against-US-an-act-of-war-McCain\n",
      "http://townhall.com/tipsheet/guybenson/2015/10/12/iran-missile-n2064650\n",
      "http://www.newsbbc.net/2016/10/us-officially-accuses-russia-of.html\n",
      "http://www.newsbbc.net/2016/10/kanye-west-says-illuminati-behind-paris.html\n",
      "http://www.nbcnews.com/meet-the-press/video/vp-biden-on-russia-and-cyber-warfare-786308675872\n",
      "http://www.cbsnews.com/news/report-cia-lost-office-in-wtc/\n",
      "The total number of newsbbc articles is  87\n"
     ]
    }
   ],
   "source": [
    "df_newsbbcnet = generate_data(url_newsbbcnet)"
   ]
  },
  {
   "cell_type": "code",
   "execution_count": 42,
   "metadata": {
    "collapsed": false
   },
   "outputs": [
    {
     "data": {
      "text/html": [
       "<div>\n",
       "<table border=\"1\" class=\"dataframe\">\n",
       "  <thead>\n",
       "    <tr style=\"text-align: right;\">\n",
       "      <th></th>\n",
       "      <th>url</th>\n",
       "      <th>source</th>\n",
       "      <th>title</th>\n",
       "      <th>author</th>\n",
       "      <th>text</th>\n",
       "    </tr>\n",
       "  </thead>\n",
       "  <tbody>\n",
       "    <tr>\n",
       "      <th>82</th>\n",
       "      <td>http://townhall.com/tipsheet/guybenson/2015/10...</td>\n",
       "      <td>newsbbc</td>\n",
       "      <td>Humiliation: Iran Test Fires Long-Range Missil...</td>\n",
       "      <td>['Guy Benson', \"Cortney O'Brien\", 'Katie Pavli...</td>\n",
       "      <td>Oh, Here We Go: Left Wingers Say Trump's Speec...</td>\n",
       "    </tr>\n",
       "    <tr>\n",
       "      <th>83</th>\n",
       "      <td>http://www.newsbbc.net/2016/10/us-officially-a...</td>\n",
       "      <td>newsbbc</td>\n",
       "      <td>U.S. Officially Accuses Russia Of Political Hacks</td>\n",
       "      <td>['Rossy Smith']</td>\n",
       "      <td>Comprehensive up-to-date online news coverage,...</td>\n",
       "    </tr>\n",
       "    <tr>\n",
       "      <th>84</th>\n",
       "      <td>http://www.newsbbc.net/2016/10/kanye-west-says...</td>\n",
       "      <td>newsbbc</td>\n",
       "      <td>Kanye West Says Illuminati Behind Paris Robbery</td>\n",
       "      <td>['Rossy Smith']</td>\n",
       "      <td>Comprehensive up-to-date online news coverage,...</td>\n",
       "    </tr>\n",
       "    <tr>\n",
       "      <th>85</th>\n",
       "      <td>http://www.nbcnews.com/meet-the-press/video/vp...</td>\n",
       "      <td>newsbbc</td>\n",
       "      <td>VP Biden on Russia and Cyber Warfare</td>\n",
       "      <td>[]</td>\n",
       "      <td>MTP Exclusive: VP Biden Promises Response to R...</td>\n",
       "    </tr>\n",
       "    <tr>\n",
       "      <th>86</th>\n",
       "      <td>http://www.cbsnews.com/news/report-cia-lost-of...</td>\n",
       "      <td>newsbbc</td>\n",
       "      <td>Report: CIA Lost Office In WTC</td>\n",
       "      <td>['Cbsnews.Com Staff Cbsnews.Com Staff']</td>\n",
       "      <td>A secret office operated by the CIA was destro...</td>\n",
       "    </tr>\n",
       "  </tbody>\n",
       "</table>\n",
       "</div>"
      ],
      "text/plain": [
       "                                                  url   source  \\\n",
       "82  http://townhall.com/tipsheet/guybenson/2015/10...  newsbbc   \n",
       "83  http://www.newsbbc.net/2016/10/us-officially-a...  newsbbc   \n",
       "84  http://www.newsbbc.net/2016/10/kanye-west-says...  newsbbc   \n",
       "85  http://www.nbcnews.com/meet-the-press/video/vp...  newsbbc   \n",
       "86  http://www.cbsnews.com/news/report-cia-lost-of...  newsbbc   \n",
       "\n",
       "                                                title  \\\n",
       "82  Humiliation: Iran Test Fires Long-Range Missil...   \n",
       "83  U.S. Officially Accuses Russia Of Political Hacks   \n",
       "84    Kanye West Says Illuminati Behind Paris Robbery   \n",
       "85               VP Biden on Russia and Cyber Warfare   \n",
       "86                     Report: CIA Lost Office In WTC   \n",
       "\n",
       "                                               author  \\\n",
       "82  ['Guy Benson', \"Cortney O'Brien\", 'Katie Pavli...   \n",
       "83                                    ['Rossy Smith']   \n",
       "84                                    ['Rossy Smith']   \n",
       "85                                                 []   \n",
       "86            ['Cbsnews.Com Staff Cbsnews.Com Staff']   \n",
       "\n",
       "                                                 text  \n",
       "82  Oh, Here We Go: Left Wingers Say Trump's Speec...  \n",
       "83  Comprehensive up-to-date online news coverage,...  \n",
       "84  Comprehensive up-to-date online news coverage,...  \n",
       "85  MTP Exclusive: VP Biden Promises Response to R...  \n",
       "86  A secret office operated by the CIA was destro...  "
      ]
     },
     "execution_count": 42,
     "metadata": {},
     "output_type": "execute_result"
    }
   ],
   "source": [
    "path = os.path.join('data', 'newsbbcnet.csv')\n",
    "df_newsbbcnet.to_csv(path)  \n",
    "\n",
    "# test: read data\n",
    "data_newsbbcnet = pd.read_csv(path)\n",
    "data_newsbbcnet.tail()  "
   ]
  },
  {
   "cell_type": "markdown",
   "metadata": {},
   "source": [
    "## 4. Obtain news from 'http://madworldnews.net'"
   ]
  },
  {
   "cell_type": "code",
   "execution_count": 50,
   "metadata": {
    "collapsed": false
   },
   "outputs": [
    {
     "name": "stdout",
     "output_type": "stream",
     "text": [
      "http://madworldnews.com\n",
      "http://madworldnews.tumblr.com/post/163459150247/as-snowflakes-melt-over-trumps-transgender#notes\n",
      "http://madworldnews.tumblr.com/post/163456261437/ben-jerrys-force-liberal-agenda-on-customers\n",
      "http://madworldnews.tumblr.com/post/163455894382/teen-killed-dismembered-after-discovering-dads\n",
      "http://madworldnews.tumblr.com/post/163458421947/what-dirty-dem-quietly-did-after-corrupt-it\n",
      "http://madworldnews.tumblr.com/post/163456537032/melania-gets-revenge-on-michelle-obama-at-ohio\n",
      "http://madworldnews.tumblr.com/post/163455658862/homesick-florida-woman-decides-to-check-google\n",
      "http://madworldnews.tumblr.com/post/163457493467/us-senate-front-runner-declares-2-words-at-pork\n",
      "http://madworldnews.tumblr.com/post/163459150247/as-snowflakes-melt-over-trumps-transgender\n",
      "http://madworldnews.tumblr.com/post/163459516997/florida-thug-shoots-cop-in-the-face-gets-instant\n",
      "http://madworldnews.tumblr.com/post/163455055437/ohio-pervert-raped-girlfriends-toddler-to-death#notes\n",
      "http://madworldnews.com/2017/07/\n",
      "http://madworldnews.tumblr.com/post/163456537032/melania-gets-revenge-on-michelle-obama-at-ohio#notes\n",
      "http://madworldnews.tumblr.com/post/163455055437/ohio-pervert-raped-girlfriends-toddler-to-death\n",
      "http://madworldnews.tumblr.com/post/163458421947/what-dirty-dem-quietly-did-after-corrupt-it#notes\n",
      "http://madworldnews.tumblr.com/post/163459784942/liberals-freak-out-as-trumps-transgender-military\n",
      "The total number of madworldnews articles is  15\n"
     ]
    }
   ],
   "source": [
    "df_madworldnews = generate_data(url_madworldnews) "
   ]
  },
  {
   "cell_type": "code",
   "execution_count": 51,
   "metadata": {
    "collapsed": false
   },
   "outputs": [
    {
     "data": {
      "text/html": [
       "<div>\n",
       "<table border=\"1\" class=\"dataframe\">\n",
       "  <thead>\n",
       "    <tr style=\"text-align: right;\">\n",
       "      <th></th>\n",
       "      <th>url</th>\n",
       "      <th>source</th>\n",
       "      <th>title</th>\n",
       "      <th>author</th>\n",
       "      <th>text</th>\n",
       "    </tr>\n",
       "  </thead>\n",
       "  <tbody>\n",
       "    <tr>\n",
       "      <th>10</th>\n",
       "      <td>http://madworldnews.com/2017/07/</td>\n",
       "      <td>madworldnews</td>\n",
       "      <td>Home • Mad World News</td>\n",
       "      <td>[]</td>\n",
       "      <td>Melania Trump is ruthlessly scrutinized by the...</td>\n",
       "    </tr>\n",
       "    <tr>\n",
       "      <th>11</th>\n",
       "      <td>http://madworldnews.tumblr.com/post/1634565370...</td>\n",
       "      <td>madworldnews</td>\n",
       "      <td>MadWorldNews.com • Melania Gets Revenge On Mic...</td>\n",
       "      <td>[]</td>\n",
       "      <td>The Voice of Reason in an Insane World - Mad W...</td>\n",
       "    </tr>\n",
       "    <tr>\n",
       "      <th>12</th>\n",
       "      <td>http://madworldnews.tumblr.com/post/1634550554...</td>\n",
       "      <td>madworldnews</td>\n",
       "      <td>MadWorldNews.com • Ohio Pervert Raped Girlfrie...</td>\n",
       "      <td>[]</td>\n",
       "      <td>The Voice of Reason in an Insane World - Mad W...</td>\n",
       "    </tr>\n",
       "    <tr>\n",
       "      <th>13</th>\n",
       "      <td>http://madworldnews.tumblr.com/post/1634584219...</td>\n",
       "      <td>madworldnews</td>\n",
       "      <td>MadWorldNews.com • What Dirty Dem Quietly Did ...</td>\n",
       "      <td>[]</td>\n",
       "      <td>The Voice of Reason in an Insane World - Mad W...</td>\n",
       "    </tr>\n",
       "    <tr>\n",
       "      <th>14</th>\n",
       "      <td>http://madworldnews.tumblr.com/post/1634597849...</td>\n",
       "      <td>madworldnews</td>\n",
       "      <td>MadWorldNews.com • Liberals Freak Out As Trump...</td>\n",
       "      <td>[]</td>\n",
       "      <td>The Voice of Reason in an Insane World - Mad W...</td>\n",
       "    </tr>\n",
       "  </tbody>\n",
       "</table>\n",
       "</div>"
      ],
      "text/plain": [
       "                                                  url        source  \\\n",
       "10                   http://madworldnews.com/2017/07/  madworldnews   \n",
       "11  http://madworldnews.tumblr.com/post/1634565370...  madworldnews   \n",
       "12  http://madworldnews.tumblr.com/post/1634550554...  madworldnews   \n",
       "13  http://madworldnews.tumblr.com/post/1634584219...  madworldnews   \n",
       "14  http://madworldnews.tumblr.com/post/1634597849...  madworldnews   \n",
       "\n",
       "                                                title author  \\\n",
       "10                              Home • Mad World News     []   \n",
       "11  MadWorldNews.com • Melania Gets Revenge On Mic...     []   \n",
       "12  MadWorldNews.com • Ohio Pervert Raped Girlfrie...     []   \n",
       "13  MadWorldNews.com • What Dirty Dem Quietly Did ...     []   \n",
       "14  MadWorldNews.com • Liberals Freak Out As Trump...     []   \n",
       "\n",
       "                                                 text  \n",
       "10  Melania Trump is ruthlessly scrutinized by the...  \n",
       "11  The Voice of Reason in an Insane World - Mad W...  \n",
       "12  The Voice of Reason in an Insane World - Mad W...  \n",
       "13  The Voice of Reason in an Insane World - Mad W...  \n",
       "14  The Voice of Reason in an Insane World - Mad W...  "
      ]
     },
     "execution_count": 51,
     "metadata": {},
     "output_type": "execute_result"
    }
   ],
   "source": [
    "path = os.path.join('data', 'madworldnews.csv')\n",
    "df_madworldnews.to_csv(path)  \n",
    "\n",
    "# test: read data\n",
    "data_madworldnews = pd.read_csv(path)\n",
    "data_madworldnews.tail() "
   ]
  },
  {
   "cell_type": "markdown",
   "metadata": {},
   "source": [
    "## 5. Obtain news from 'http://majorthoughts.com'"
   ]
  },
  {
   "cell_type": "code",
   "execution_count": 56,
   "metadata": {
    "collapsed": false
   },
   "outputs": [
    {
     "name": "stdout",
     "output_type": "stream",
     "text": [
      "http://majorthoughts.com\n",
      "http://www.majorthoughts.com/gata-top-demais-representando-muito-linda-twerk-brazil-twerk-shake_024c27997.html\n",
      "http://www.majorthoughts.com/list-of-rappers-currently-in-jail_aefd81c8d.html\n",
      "http://www.majorthoughts.com/one-thot-puts-deadly-hands-on-other-thot-ghetto-fight-kings-2k15-1_dccd92699.html\n",
      "http://www.majorthoughts.com/meek-mill-tells-nicki-minaj-to-give-his-35million-or-see-smoke-pull-over_b73a0872d.html\n",
      "http://www.majorthoughts.com/she-should-have-never-put-hands-on-her-baby-people-roll-up-to-two-women-having-a-cat_a9c75ea67.html\n",
      "http://www.majorthoughts.com/boosie-badazz-dice-game-with-meek-mill-lucci_6be2ddb97.html\n",
      "http://www.majorthoughts.com/5-moments-you-wouldn%e2%80%99t-believe-if-they-weren%e2%80%99t-recorded_aa6ced657.html\n",
      "http://www.majorthoughts.com/meek-mill-when-she-give-my-30million-i-will-tell-her-who-robbed-her-house_b6f55583b.html\n",
      "http://www.majorthoughts.com/eastside-ghetto-fights-i-got-it_519a869e2.html\n",
      "http://www.majorthoughts.com/brazilian-twerk-que-rico-baina-esta-chica_d7c807bb0.html\n",
      "http://www.majorthoughts.com/how-to-get-a-bad-cop-fired_eae7d32be.html\n",
      "http://www.majorthoughts.com/dbz-ghetto-fights-in-the-hood_0804b0bdb.html\n",
      "http://www.majorthoughts.com/nicki-minaj-pulls-up-on-meek-mill-at-cvs-pharmacy-in-hollywood_ee916a474.html\n",
      "http://www.majorthoughts.com/50-cent-clowns-bow-wow-nails-bow-wow-challenge-bowwowchallenge_003691868.html\n",
      "http://www.majorthoughts.com/uploads/thumbs/2080dafe5-1.jpg&quot\n",
      "The total number of majorthoughts articles is  15\n"
     ]
    }
   ],
   "source": [
    "df_majorthoughts = generate_data(url_majorthoughts)"
   ]
  },
  {
   "cell_type": "code",
   "execution_count": 60,
   "metadata": {
    "collapsed": false
   },
   "outputs": [
    {
     "data": {
      "text/html": [
       "<div>\n",
       "<table border=\"1\" class=\"dataframe\">\n",
       "  <thead>\n",
       "    <tr style=\"text-align: right;\">\n",
       "      <th></th>\n",
       "      <th>url</th>\n",
       "      <th>source</th>\n",
       "      <th>title</th>\n",
       "      <th>author</th>\n",
       "      <th>text</th>\n",
       "    </tr>\n",
       "  </thead>\n",
       "  <tbody>\n",
       "    <tr>\n",
       "      <th>10</th>\n",
       "      <td>http://www.majorthoughts.com/how-to-get-a-bad-...</td>\n",
       "      <td>majorthoughts</td>\n",
       "      <td>HOW TO GET A BAD COP FIRED</td>\n",
       "      <td>[]</td>\n",
       "      <td>Download your free copy of RISE OF THE WARRIOR...</td>\n",
       "    </tr>\n",
       "    <tr>\n",
       "      <th>11</th>\n",
       "      <td>http://www.majorthoughts.com/dbz-ghetto-fights...</td>\n",
       "      <td>majorthoughts</td>\n",
       "      <td>Dbz ghetto fights in the hood</td>\n",
       "      <td>[]</td>\n",
       "      <td>crazy shit goes on in the hood, enter if you d...</td>\n",
       "    </tr>\n",
       "    <tr>\n",
       "      <th>12</th>\n",
       "      <td>http://www.majorthoughts.com/nicki-minaj-pulls...</td>\n",
       "      <td>majorthoughts</td>\n",
       "      <td>Nicki Minaj Pulls Up On Meek Mill At CVS Pharm...</td>\n",
       "      <td>[]</td>\n",
       "      <td>Meek Mill in LA at CVS with Nicki Minaj\\n\\nSub...</td>\n",
       "    </tr>\n",
       "    <tr>\n",
       "      <th>13</th>\n",
       "      <td>http://www.majorthoughts.com/50-cent-clowns-bo...</td>\n",
       "      <td>majorthoughts</td>\n",
       "      <td>50 Cent Clowns Bow Wow Nails Bow Wow Challenge...</td>\n",
       "      <td>[]</td>\n",
       "      <td>Thanks! Share it with your friends!\\n\\n×\\n\\nYo...</td>\n",
       "    </tr>\n",
       "    <tr>\n",
       "      <th>14</th>\n",
       "      <td>http://www.majorthoughts.com/uploads/thumbs/20...</td>\n",
       "      <td>majorthoughts</td>\n",
       "      <td>Major Thoughts</td>\n",
       "      <td>[]</td>\n",
       "      <td>NaN</td>\n",
       "    </tr>\n",
       "  </tbody>\n",
       "</table>\n",
       "</div>"
      ],
      "text/plain": [
       "                                                  url         source  \\\n",
       "10  http://www.majorthoughts.com/how-to-get-a-bad-...  majorthoughts   \n",
       "11  http://www.majorthoughts.com/dbz-ghetto-fights...  majorthoughts   \n",
       "12  http://www.majorthoughts.com/nicki-minaj-pulls...  majorthoughts   \n",
       "13  http://www.majorthoughts.com/50-cent-clowns-bo...  majorthoughts   \n",
       "14  http://www.majorthoughts.com/uploads/thumbs/20...  majorthoughts   \n",
       "\n",
       "                                                title author  \\\n",
       "10                         HOW TO GET A BAD COP FIRED     []   \n",
       "11                      Dbz ghetto fights in the hood     []   \n",
       "12  Nicki Minaj Pulls Up On Meek Mill At CVS Pharm...     []   \n",
       "13  50 Cent Clowns Bow Wow Nails Bow Wow Challenge...     []   \n",
       "14                                     Major Thoughts     []   \n",
       "\n",
       "                                                 text  \n",
       "10  Download your free copy of RISE OF THE WARRIOR...  \n",
       "11  crazy shit goes on in the hood, enter if you d...  \n",
       "12  Meek Mill in LA at CVS with Nicki Minaj\\n\\nSub...  \n",
       "13  Thanks! Share it with your friends!\\n\\n×\\n\\nYo...  \n",
       "14                                                NaN  "
      ]
     },
     "execution_count": 60,
     "metadata": {},
     "output_type": "execute_result"
    }
   ],
   "source": [
    "path = os.path.join('data', 'majorthoughts.csv')\n",
    "df_majorthoughts.to_csv(path)\n",
    "# test: read data\n",
    "data_majorthoughts = pd.read_csv(path)\n",
    "data_majorthoughts.tail()  "
   ]
  },
  {
   "cell_type": "markdown",
   "metadata": {},
   "source": [
    "## 6. Obtain news from 'http://nationonenews.com'"
   ]
  },
  {
   "cell_type": "code",
   "execution_count": 64,
   "metadata": {
    "collapsed": false
   },
   "outputs": [
    {
     "name": "stdout",
     "output_type": "stream",
     "text": [
      "http://nationonenews.com\n",
      "https://nationonenews.com/2017/07/23/breaking-san-antonio-human-smuggling-8-dead-28-serious-condition.html\n",
      "https://nationonenews.com/2017/07/22/stein-recount-questions.html\n",
      "https://nationonenews.com/2017/07/22/leaks-trump-going-money.html\n",
      "https://nationonenews.com/2017/07/26/president-trump-just-started-war-can-win.html/feed\n",
      "https://nationonenews.com/2017/07/14/trump-took-time-recognize-real-heros-france.html/feed\n",
      "https://nationonenews.com/2017/03/06/porn-stars-get-offended.html\n",
      "https://nationonenews.com/2016/11/18/video-high-school-takes-mannequin-challenge-new-extreme-raises-bar.html\n",
      "https://nationonenews.com/2017/07/09/trump-helps-marine-everyone-missed.html\n",
      "https://nationonenews.com/2017/05/16/immediately-abc-stabbed-tim-allen-back-learned-will-last-man-standing-not-abc.html\n",
      "https://nationonenews.com/2017/07/10/trump-responds-report-says-james-comey-leaked-classified-information.html\n",
      "https://nationonenews.com/2017/07/09/trump-helps-marine-everyone-missed.html#comments\n",
      "https://nationonenews.com/2017/07/07/best-handshake-putin-trump-obama.html#comments\n",
      "https://nationonenews.com/2017/07/22/stein-recount-questions.html#comments\n",
      "https://nationonenews.com/2017/07/22/viral-video-trump-appears-game-thrones-sortof.html\n",
      "https://nationonenews.com/2017/07/06/donald-trump-jr-fires-back-cnns-jim-acosta-internet-storm-follows.html#comments\n",
      "https://nationonenews.com/2017/07/22/viral-video-trump-appears-game-thrones-sortof.html#respond\n",
      "https://nationonenews.com/c/news/business\n",
      "https://nationonenews.com/2017/05/24/college-mother-disabled-son-will-bring-tears.html\n",
      "https://nationonenews.com/2017/07/20/spot-phony-candidate-texas.html/feed\n",
      "https://nationonenews.com/2017/07/14/trump-took-time-recognize-real-heros-france.html#comments\n",
      "https://nationonenews.com/2017/07/21/not-fast-scaramucci-not-replacing-spicer-amid-scandal.html/feed\n",
      "https://nationonenews.com/2017/03/13/success-ivanka-trump-hate.html\n",
      "https://nationonenews.com/2016/10/16/obama-calls-for-censorship-of-the-media-and-suppression-of-the-1st-amendment-because-of-us.html\n",
      "https://nationonenews.com/2017/07/23/breaking-san-antonio-human-smuggling-8-dead-28-serious-condition.html/feed\n",
      "https://nationonenews.com/2017/07/10/trump-responds-report-says-james-comey-leaked-classified-information.html#comments\n",
      "https://nationonenews.com/2017/07/19/eye-americas-political-storm-settles-las-vegas.html/feed\n",
      "https://nationonenews.com/2017/05/20/watch-proof-abc-canceled-last-man-standing-trump.html\n",
      "https://nationonenews.com/2017/03/15/msnbc-reveals-trumps-big-tax-secret-white-house-dropped-boom.html#comments\n",
      "https://nationonenews.com/2017/07/05/watch-fox-news-put-washington-hurt-deranged-democrats-lol.html#comments\n",
      "https://nationonenews.com/2017/05/20/watch-proof-abc-canceled-last-man-standing-trump.html#comments\n",
      "https://nationonenews.com/2017/07/08/trump-distance-climate-change-scam.html\n",
      "https://nationonenews.com/2017/07/22/leaks-trump-going-money.html/feed\n",
      "https://nationonenews.com/2017/07/09/chicago-diploma.html\n",
      "https://nationonenews.com/2017/07/12/main-stream-media-plans-uses-net-neutrality-censor-trump-supporters.html#comments\n",
      "https://nationonenews.com/2017/07/14/trump-took-time-recognize-real-heros-france.html\n",
      "https://nationonenews.com/2017/05/24/college-mother-disabled-son-will-bring-tears.html#comments\n",
      "https://nationonenews.com/2016/10/19/teacher-goes-old-school-on-this-student-and-cleans-his-dirty-mouth-police-say-no-crime-committed.html\n",
      "https://nationonenews.com/2017/03/12/democratic-dog-doubt.html\n",
      "https://nationonenews.com/2017/07/19/eye-americas-political-storm-settles-las-vegas.html#comments\n",
      "https://nationonenews.com/2017/07/21/not-fast-scaramucci-not-replacing-spicer-amid-scandal.html\n",
      "https://nationonenews.com/2017/07/03/little-fighter-just-gained-world-class-spokesman.html\n",
      "https://nationonenews.com/2017/07/12/main-stream-media-plans-uses-net-neutrality-censor-trump-supporters.html\n",
      "https://nationonenews.com/2017/07/26/president-trump-just-started-war-can-win.html\n",
      "https://nationonenews.com/2016/10/13/you-can-have-chris-rock-in-your-living-room-for-just-12-a-month-following-this-deal.html\n",
      "https://nationonenews.com/2017/07/22/leaks-trump-going-money.html#comments\n",
      "https://nationonenews.com/2017/07/03/little-fighter-just-gained-world-class-spokesman.html#comments\n",
      "https://nationonenews.com/2017/07/12/main-stream-media-plans-uses-net-neutrality-censor-trump-supporters.html/feed\n",
      "https://nationonenews.com/2017/07/08/trump-distance-climate-change-scam.html#comments\n",
      "https://nationonenews.com/2017/05/16/immediately-abc-stabbed-tim-allen-back-learned-will-last-man-standing-not-abc.html#comments\n",
      "https://nationonenews.com/2017/07/09/chicago-diploma.html#comments\n",
      "https://nationonenews.com/2017/07/07/best-handshake-putin-trump-obama.html\n",
      "https://nationonenews.com/2017/03/05/arnold-schwarzenegger-embarrasses-trump.html\n",
      "https://nationonenews.com/2017/07/19/eye-americas-political-storm-settles-las-vegas.html\n",
      "https://nationonenews.com/2017/07/20/spot-phony-candidate-texas.html\n",
      "https://nationonenews.com/2017/07/06/donald-trump-jr-fires-back-cnns-jim-acosta-internet-storm-follows.html\n",
      "https://nationonenews.com/2017/03/10/twitter-reacts-melania-trump-making-first-lady.html\n",
      "https://nationonenews.com/2017/03/15/msnbc-reveals-trumps-big-tax-secret-white-house-dropped-boom.html\n",
      "https://nationonenews.com/c/news\n",
      "https://nationonenews.com/2017/07/22/stein-recount-questions.html/feed\n",
      "https://nationonenews.com/2017/07/21/not-fast-scaramucci-not-replacing-spicer-amid-scandal.html#comments\n",
      "https://nationonenews.com/2017/07/05/watch-fox-news-put-washington-hurt-deranged-democrats-lol.html\n",
      "https://nationonenews.com/2017/07/22/viral-video-trump-appears-game-thrones-sortof.html/feed\n",
      "The total number of nationonenews articles is  62\n"
     ]
    }
   ],
   "source": [
    "df_nationonenews = generate_data(url_nationonenews)"
   ]
  },
  {
   "cell_type": "code",
   "execution_count": 65,
   "metadata": {
    "collapsed": false
   },
   "outputs": [
    {
     "data": {
      "text/html": [
       "<div>\n",
       "<table border=\"1\" class=\"dataframe\">\n",
       "  <thead>\n",
       "    <tr style=\"text-align: right;\">\n",
       "      <th></th>\n",
       "      <th>url</th>\n",
       "      <th>source</th>\n",
       "      <th>title</th>\n",
       "      <th>author</th>\n",
       "      <th>text</th>\n",
       "    </tr>\n",
       "  </thead>\n",
       "  <tbody>\n",
       "    <tr>\n",
       "      <th>57</th>\n",
       "      <td>https://nationonenews.com/c/news</td>\n",
       "      <td>nationonenews</td>\n",
       "      <td>Nation One News</td>\n",
       "      <td>[]</td>\n",
       "      <td>We use cookies to give you the best possible e...</td>\n",
       "    </tr>\n",
       "    <tr>\n",
       "      <th>58</th>\n",
       "      <td>https://nationonenews.com/2017/07/22/stein-rec...</td>\n",
       "      <td>nationonenews</td>\n",
       "      <td>Comments on: Jill Steins still has $1,361,834....</td>\n",
       "      <td>[]</td>\n",
       "      <td>NaN</td>\n",
       "    </tr>\n",
       "    <tr>\n",
       "      <th>59</th>\n",
       "      <td>https://nationonenews.com/2017/07/21/not-fast-...</td>\n",
       "      <td>nationonenews</td>\n",
       "      <td>Not so fast, Scaramucci is not replacing Spice...</td>\n",
       "      <td>[]</td>\n",
       "      <td>Some news organizations are clamoring to disto...</td>\n",
       "    </tr>\n",
       "    <tr>\n",
       "      <th>60</th>\n",
       "      <td>https://nationonenews.com/2017/07/05/watch-fox...</td>\n",
       "      <td>nationonenews</td>\n",
       "      <td>[WATCH] Fox News Put The Washington \"Hurt\" On ...</td>\n",
       "      <td>[]</td>\n",
       "      <td>The Democrats in Congress will stop at nothing...</td>\n",
       "    </tr>\n",
       "    <tr>\n",
       "      <th>61</th>\n",
       "      <td>https://nationonenews.com/2017/07/22/viral-vid...</td>\n",
       "      <td>nationonenews</td>\n",
       "      <td>Comments on: [Viral Video] Trump appears on Ga...</td>\n",
       "      <td>[]</td>\n",
       "      <td>NaN</td>\n",
       "    </tr>\n",
       "  </tbody>\n",
       "</table>\n",
       "</div>"
      ],
      "text/plain": [
       "                                                  url         source  \\\n",
       "57                   https://nationonenews.com/c/news  nationonenews   \n",
       "58  https://nationonenews.com/2017/07/22/stein-rec...  nationonenews   \n",
       "59  https://nationonenews.com/2017/07/21/not-fast-...  nationonenews   \n",
       "60  https://nationonenews.com/2017/07/05/watch-fox...  nationonenews   \n",
       "61  https://nationonenews.com/2017/07/22/viral-vid...  nationonenews   \n",
       "\n",
       "                                                title author  \\\n",
       "57                                    Nation One News     []   \n",
       "58  Comments on: Jill Steins still has $1,361,834....     []   \n",
       "59  Not so fast, Scaramucci is not replacing Spice...     []   \n",
       "60  [WATCH] Fox News Put The Washington \"Hurt\" On ...     []   \n",
       "61  Comments on: [Viral Video] Trump appears on Ga...     []   \n",
       "\n",
       "                                                 text  \n",
       "57  We use cookies to give you the best possible e...  \n",
       "58                                                NaN  \n",
       "59  Some news organizations are clamoring to disto...  \n",
       "60  The Democrats in Congress will stop at nothing...  \n",
       "61                                                NaN  "
      ]
     },
     "execution_count": 65,
     "metadata": {},
     "output_type": "execute_result"
    }
   ],
   "source": [
    "path = os.path.join('data', 'nationonenews.csv')\n",
    "df_nationonenews.to_csv(path)\n",
    "# test: read data\n",
    "data_nationonenews = pd.read_csv(path)\n",
    "data_nationonenews.tail() "
   ]
  },
  {
   "cell_type": "markdown",
   "metadata": {},
   "source": [
    "## Merge all data"
   ]
  },
  {
   "cell_type": "code",
   "execution_count": 66,
   "metadata": {
    "collapsed": false
   },
   "outputs": [
    {
     "data": {
      "text/html": [
       "<div>\n",
       "<table border=\"1\" class=\"dataframe\">\n",
       "  <thead>\n",
       "    <tr style=\"text-align: right;\">\n",
       "      <th></th>\n",
       "      <th>url</th>\n",
       "      <th>source</th>\n",
       "      <th>title</th>\n",
       "      <th>author</th>\n",
       "      <th>text</th>\n",
       "    </tr>\n",
       "  </thead>\n",
       "  <tbody>\n",
       "    <tr>\n",
       "      <th>222</th>\n",
       "      <td>https://nationonenews.com/c/news</td>\n",
       "      <td>nationonenews</td>\n",
       "      <td>Nation One News</td>\n",
       "      <td>[]</td>\n",
       "      <td>We use cookies to give you the best possible e...</td>\n",
       "    </tr>\n",
       "    <tr>\n",
       "      <th>223</th>\n",
       "      <td>https://nationonenews.com/2017/07/22/stein-rec...</td>\n",
       "      <td>nationonenews</td>\n",
       "      <td>Comments on: Jill Steins still has $1,361,834....</td>\n",
       "      <td>[]</td>\n",
       "      <td>NaN</td>\n",
       "    </tr>\n",
       "    <tr>\n",
       "      <th>224</th>\n",
       "      <td>https://nationonenews.com/2017/07/21/not-fast-...</td>\n",
       "      <td>nationonenews</td>\n",
       "      <td>Not so fast, Scaramucci is not replacing Spice...</td>\n",
       "      <td>[]</td>\n",
       "      <td>Some news organizations are clamoring to disto...</td>\n",
       "    </tr>\n",
       "    <tr>\n",
       "      <th>225</th>\n",
       "      <td>https://nationonenews.com/2017/07/05/watch-fox...</td>\n",
       "      <td>nationonenews</td>\n",
       "      <td>[WATCH] Fox News Put The Washington \"Hurt\" On ...</td>\n",
       "      <td>[]</td>\n",
       "      <td>The Democrats in Congress will stop at nothing...</td>\n",
       "    </tr>\n",
       "    <tr>\n",
       "      <th>226</th>\n",
       "      <td>https://nationonenews.com/2017/07/22/viral-vid...</td>\n",
       "      <td>nationonenews</td>\n",
       "      <td>Comments on: [Viral Video] Trump appears on Ga...</td>\n",
       "      <td>[]</td>\n",
       "      <td>NaN</td>\n",
       "    </tr>\n",
       "  </tbody>\n",
       "</table>\n",
       "</div>"
      ],
      "text/plain": [
       "                                                   url         source  \\\n",
       "222                   https://nationonenews.com/c/news  nationonenews   \n",
       "223  https://nationonenews.com/2017/07/22/stein-rec...  nationonenews   \n",
       "224  https://nationonenews.com/2017/07/21/not-fast-...  nationonenews   \n",
       "225  https://nationonenews.com/2017/07/05/watch-fox...  nationonenews   \n",
       "226  https://nationonenews.com/2017/07/22/viral-vid...  nationonenews   \n",
       "\n",
       "                                                 title author  \\\n",
       "222                                    Nation One News     []   \n",
       "223  Comments on: Jill Steins still has $1,361,834....     []   \n",
       "224  Not so fast, Scaramucci is not replacing Spice...     []   \n",
       "225  [WATCH] Fox News Put The Washington \"Hurt\" On ...     []   \n",
       "226  Comments on: [Viral Video] Trump appears on Ga...     []   \n",
       "\n",
       "                                                  text  \n",
       "222  We use cookies to give you the best possible e...  \n",
       "223                                                NaN  \n",
       "224  Some news organizations are clamoring to disto...  \n",
       "225  The Democrats in Congress will stop at nothing...  \n",
       "226                                                NaN  "
      ]
     },
     "execution_count": 66,
     "metadata": {},
     "output_type": "execute_result"
    }
   ],
   "source": [
    "merge_df = pd.concat([data_interestingdailynews, data_nbccomco, data_newsbbcnet, \\\n",
    "                      data_madworldnews, data_majorthoughts, data_nationonenews], ignore_index=True)\n",
    "merge_df.tail()"
   ]
  },
  {
   "cell_type": "code",
   "execution_count": 69,
   "metadata": {
    "collapsed": false
   },
   "outputs": [
    {
     "data": {
      "text/html": [
       "<div>\n",
       "<table border=\"1\" class=\"dataframe\">\n",
       "  <thead>\n",
       "    <tr style=\"text-align: right;\">\n",
       "      <th></th>\n",
       "      <th>Unnamed: 0</th>\n",
       "      <th>url</th>\n",
       "      <th>source</th>\n",
       "      <th>title</th>\n",
       "      <th>author</th>\n",
       "      <th>text</th>\n",
       "    </tr>\n",
       "  </thead>\n",
       "  <tbody>\n",
       "    <tr>\n",
       "      <th>222</th>\n",
       "      <td>222</td>\n",
       "      <td>https://nationonenews.com/c/news</td>\n",
       "      <td>nationonenews</td>\n",
       "      <td>Nation One News</td>\n",
       "      <td>[]</td>\n",
       "      <td>We use cookies to give you the best possible e...</td>\n",
       "    </tr>\n",
       "    <tr>\n",
       "      <th>223</th>\n",
       "      <td>223</td>\n",
       "      <td>https://nationonenews.com/2017/07/22/stein-rec...</td>\n",
       "      <td>nationonenews</td>\n",
       "      <td>Comments on: Jill Steins still has $1,361,834....</td>\n",
       "      <td>[]</td>\n",
       "      <td>NaN</td>\n",
       "    </tr>\n",
       "    <tr>\n",
       "      <th>224</th>\n",
       "      <td>224</td>\n",
       "      <td>https://nationonenews.com/2017/07/21/not-fast-...</td>\n",
       "      <td>nationonenews</td>\n",
       "      <td>Not so fast, Scaramucci is not replacing Spice...</td>\n",
       "      <td>[]</td>\n",
       "      <td>Some news organizations are clamoring to disto...</td>\n",
       "    </tr>\n",
       "    <tr>\n",
       "      <th>225</th>\n",
       "      <td>225</td>\n",
       "      <td>https://nationonenews.com/2017/07/05/watch-fox...</td>\n",
       "      <td>nationonenews</td>\n",
       "      <td>[WATCH] Fox News Put The Washington \"Hurt\" On ...</td>\n",
       "      <td>[]</td>\n",
       "      <td>The Democrats in Congress will stop at nothing...</td>\n",
       "    </tr>\n",
       "    <tr>\n",
       "      <th>226</th>\n",
       "      <td>226</td>\n",
       "      <td>https://nationonenews.com/2017/07/22/viral-vid...</td>\n",
       "      <td>nationonenews</td>\n",
       "      <td>Comments on: [Viral Video] Trump appears on Ga...</td>\n",
       "      <td>[]</td>\n",
       "      <td>NaN</td>\n",
       "    </tr>\n",
       "  </tbody>\n",
       "</table>\n",
       "</div>"
      ],
      "text/plain": [
       "     Unnamed: 0                                                url  \\\n",
       "222         222                   https://nationonenews.com/c/news   \n",
       "223         223  https://nationonenews.com/2017/07/22/stein-rec...   \n",
       "224         224  https://nationonenews.com/2017/07/21/not-fast-...   \n",
       "225         225  https://nationonenews.com/2017/07/05/watch-fox...   \n",
       "226         226  https://nationonenews.com/2017/07/22/viral-vid...   \n",
       "\n",
       "            source                                              title author  \\\n",
       "222  nationonenews                                    Nation One News     []   \n",
       "223  nationonenews  Comments on: Jill Steins still has $1,361,834....     []   \n",
       "224  nationonenews  Not so fast, Scaramucci is not replacing Spice...     []   \n",
       "225  nationonenews  [WATCH] Fox News Put The Washington \"Hurt\" On ...     []   \n",
       "226  nationonenews  Comments on: [Viral Video] Trump appears on Ga...     []   \n",
       "\n",
       "                                                  text  \n",
       "222  We use cookies to give you the best possible e...  \n",
       "223                                                NaN  \n",
       "224  Some news organizations are clamoring to disto...  \n",
       "225  The Democrats in Congress will stop at nothing...  \n",
       "226                                                NaN  "
      ]
     },
     "execution_count": 69,
     "metadata": {},
     "output_type": "execute_result"
    }
   ],
   "source": [
    "path = os.path.join('data', 'fakenews_jz.csv')\n",
    "merge_df.to_csv(path)\n",
    "# test: read data\n",
    "data_fakenews = pd.read_csv(path)\n",
    "data_fakenews.tail()"
   ]
  },
  {
   "cell_type": "code",
   "execution_count": null,
   "metadata": {
    "collapsed": true
   },
   "outputs": [],
   "source": []
  }
 ],
 "metadata": {
  "kernelspec": {
   "display_name": "Python [Root]",
   "language": "python",
   "name": "Python [Root]"
  },
  "language_info": {
   "codemirror_mode": {
    "name": "ipython",
    "version": 3
   },
   "file_extension": ".py",
   "mimetype": "text/x-python",
   "name": "python",
   "nbconvert_exporter": "python",
   "pygments_lexer": "ipython3",
   "version": "3.5.2"
  }
 },
 "nbformat": 4,
 "nbformat_minor": 0
}
