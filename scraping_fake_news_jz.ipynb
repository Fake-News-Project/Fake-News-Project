{
 "cells": [
  {
   "cell_type": "markdown",
   "metadata": {},
   "source": [
    "# Scraping news from fake news websites"
   ]
  },
  {
   "cell_type": "markdown",
   "metadata": {},
   "source": [
    "Fake news websites are taken from\n",
    "https://github.com/BigMcLargeHuge/opensources/blob/master/sources/sources.csv"
   ]
  },
  {
   "cell_type": "markdown",
   "metadata": {},
   "source": [
    "## Fake news website list"
   ]
  },
  {
   "cell_type": "code",
   "execution_count": 32,
   "metadata": {
    "collapsed": true
   },
   "outputs": [],
   "source": [
    "url_interestingdailynews = 'https://www.interestingdailynews.com'\n",
    "url_nbccomco = 'http://nbc.com.co'\n",
    "url_newsbbcnet = 'http://www.newsbbc.net'\n",
    "url_madworldnews = 'http://madworldnews.com'\n",
    "url_majorthoughts = 'http://majorthoughts.com'\n",
    "url_nationonenews = 'http://nationonenews.com'"
   ]
  },
  {
   "cell_type": "code",
   "execution_count": 13,
   "metadata": {
    "collapsed": true
   },
   "outputs": [],
   "source": [
    "import newspaper\n",
    "import pandas as pd\n",
    "import numpy as np\n",
    "import os"
   ]
  },
  {
   "cell_type": "code",
   "execution_count": 24,
   "metadata": {
    "collapsed": true
   },
   "outputs": [],
   "source": [
    "# collect all or most recent 100 articles from a website\n",
    "def generate_data(news_url):\n",
    "    col_names = [\"url\",\"source\", \"title\", \"author\", \"text\"]\n",
    "    article_df = pd.DataFrame(columns = col_names)\n",
    "    \n",
    "    print(news_url)\n",
    "    news_articles = newspaper.build(news_url, memoize_articles=False)\n",
    "    \n",
    "    size_articles = news_articles.size()\n",
    "    num_news = 100\n",
    "    if size_articles < num_news:\n",
    "        num_news = size_articles\n",
    "     \n",
    "    news_brand = news_articles.brand\n",
    "    count = 0\n",
    "    for i in range(0,num_news):\n",
    "        article = news_articles.articles[i];\n",
    "        try:\n",
    "            article.download()\n",
    "            article.parse()\n",
    "            print(article.url)\n",
    "            \n",
    "            entry = pd.DataFrame([[article.url, news_brand, \\\n",
    "                                   article.title, article.authors, article.text]], columns=col_names)\n",
    "            article_df = article_df.append(entry)\n",
    "            count += 1\n",
    "        except:\n",
    "            pass\n",
    "        \n",
    "    print(\"The total number of \" + str(news_brand) + \" articles is \", count) \n",
    "        \n",
    "    article_df.set_index('url', inplace=True)\n",
    "    return article_df    "
   ]
  },
  {
   "cell_type": "code",
   "execution_count": 63,
   "metadata": {
    "collapsed": false,
    "scrolled": true
   },
   "outputs": [
    {
     "data": {
      "text/plain": [
       "62"
      ]
     },
     "execution_count": 63,
     "metadata": {},
     "output_type": "execute_result"
    }
   ],
   "source": [
    "# check the number of articles in the website before scraping \n",
    "# some websites do not have many articles\n",
    "url = 'http://nationonenews.com'\n",
    "articles_list = newspaper.build(url,memoize_articles=False)\n",
    "articles_list.size()"
   ]
  },
  {
   "cell_type": "markdown",
   "metadata": {},
   "source": [
    "## 1. Obtain news from 'https://www.interestingdailynews.com'"
   ]
  },
  {
   "cell_type": "code",
   "execution_count": 33,
   "metadata": {
    "collapsed": false,
    "scrolled": true
   },
   "outputs": [
    {
     "name": "stdout",
     "output_type": "stream",
     "text": [
      "https://www.interestingdailynews.com\n",
      "You must `download()` an article first!\n",
      "You must `download()` an article first!\n",
      "https://www.interestingdailynews.com/not-just-cnn-griffin-dumped-advertisers-career-self-decapitation/\n",
      "https://www.interestingdailynews.com/man-rapes-infant-leaves-something-remember/\n",
      "https://www.interestingdailynews.com/pro-trump-billboard-causes-huge-controversy-small-southern-town/\n",
      "https://www.interestingdailynews.com/huge-melee-breaks-out-trump-rally-attacked-by-thugs-but-supporters-were-prepared-for-war-video/\n",
      "https://www.interestingdailynews.com/2017-chevrolet-cruze-diesel-epa-rated-3052-mpg-with-manual/\n",
      "https://www.interestingdailynews.com/benellis-upcoming-750cc-parallel-twin-naked-spotted/\n",
      "https://www.interestingdailynews.com/rachel-maddow-exposes-mike-pences-4-biggest-lies-must-watch/\n",
      "https://www.interestingdailynews.com/alert-1-million-pounds-of-americas-favorite-frozen-food-recalled-throw-it-away-now-it-could-kill-your-family/\n",
      "https://www.interestingdailynews.com/breaking-fbi-director-exposed-by-teen-girl-who-just-revealed-the-sick-thing-he-did-to-her/\n",
      "https://www.interestingdailynews.com/kevin-durant-warriors-reportedly-agree-2-year-53-million-contract/\n",
      "https://www.interestingdailynews.com/look-popular-beer-company-sends-trump-sick-message-side-every-bottle-boycott/\n",
      "https://www.interestingdailynews.com/saudi-prince-meets-new-york-city-cop-for-breaking-the-l%d0%b0w-and-try-to-escape-video/\n",
      "https://www.interestingdailynews.com/new-poll-finds-majority-side-trump-one/\n",
      "https://www.interestingdailynews.com/muslim-demands-pig-farmer-move-theyre-building-mosque-next-door-farmer-perfect-response/\n",
      "https://www.interestingdailynews.com/first-commercially-available-flying-car-goes-on-sale-for-399000-video/\n",
      "https://www.interestingdailynews.com/boston-marathon-bomber-tsarnaev-severely-injured-prison-may-never-walk-talk/\n",
      "https://www.interestingdailynews.com/us-opens-sanctions-chinese-banks-aiding-north-korea/\n",
      "https://www.interestingdailynews.com/the-truth-about-harley-riders-that-everyone-should-now-video/\n",
      "https://www.interestingdailynews.com/teacher-breaks-down-in-tears-when-she-sees-whats-captured-in-a-photo-of-the-aftermath-of-a-bus-fire/\n",
      "https://www.interestingdailynews.com/spied-rolls-royce-cullinan-shows-off-suv-rear-end/\n",
      "https://www.interestingdailynews.com/trump-blasts-bmw-for-er-building-almost-50000-more-cars-in-the-us-than-it-sells-in-the-us/\n",
      "The total number of interestingdailynews articles is  21\n"
     ]
    }
   ],
   "source": [
    "df_interestingdailynews = generate_data(url_interestingdailynews)"
   ]
  },
  {
   "cell_type": "code",
   "execution_count": 131,
   "metadata": {
    "collapsed": false
   },
   "outputs": [],
   "source": [
    "output_path = os.path.join('data','indv_file', 'interestingdailynews.csv')\n",
    "df_interestingdailynews.to_csv(output_path)"
   ]
  },
  {
   "cell_type": "code",
   "execution_count": 35,
   "metadata": {
    "collapsed": false
   },
   "outputs": [],
   "source": [
    "# read data\n",
    "input_path = output_path\n",
    "data_interestingdailynews = pd.read_csv(input_path)"
   ]
  },
  {
   "cell_type": "code",
   "execution_count": 37,
   "metadata": {
    "collapsed": false
   },
   "outputs": [
    {
     "data": {
      "text/html": [
       "<div>\n",
       "<table border=\"1\" class=\"dataframe\">\n",
       "  <thead>\n",
       "    <tr style=\"text-align: right;\">\n",
       "      <th></th>\n",
       "      <th>url</th>\n",
       "      <th>source</th>\n",
       "      <th>title</th>\n",
       "      <th>author</th>\n",
       "      <th>text</th>\n",
       "    </tr>\n",
       "  </thead>\n",
       "  <tbody>\n",
       "    <tr>\n",
       "      <th>0</th>\n",
       "      <td>https://www.interestingdailynews.com/not-just-...</td>\n",
       "      <td>interestingdailynews</td>\n",
       "      <td>Not Just CNN: Griffin Dumped By Other Advertis...</td>\n",
       "      <td>['Interesting Daily News']</td>\n",
       "      <td>Not Just CNN: Griffin Dumped By Other Advertis...</td>\n",
       "    </tr>\n",
       "    <tr>\n",
       "      <th>1</th>\n",
       "      <td>https://www.interestingdailynews.com/man-rapes...</td>\n",
       "      <td>interestingdailynews</td>\n",
       "      <td>Man Rapes Infant, Leaves Her With Something To...</td>\n",
       "      <td>['Interesting Daily News']</td>\n",
       "      <td>Man Rapes Infant, Leaves Her With Something To...</td>\n",
       "    </tr>\n",
       "    <tr>\n",
       "      <th>2</th>\n",
       "      <td>https://www.interestingdailynews.com/pro-trump...</td>\n",
       "      <td>interestingdailynews</td>\n",
       "      <td>Pro-Trump Billboard Causes ‘HUGE’ Controversy ...</td>\n",
       "      <td>['Interesting Daily News']</td>\n",
       "      <td>It’s a stark, simple message on a black billbo...</td>\n",
       "    </tr>\n",
       "    <tr>\n",
       "      <th>3</th>\n",
       "      <td>https://www.interestingdailynews.com/huge-mele...</td>\n",
       "      <td>interestingdailynews</td>\n",
       "      <td>HUGE MELEE BREAKS OUT! Trump Rally Attacked By...</td>\n",
       "      <td>['Interesting Daily News']</td>\n",
       "      <td>HUGE MELEE BREAKS OUT! Trump Rally Attacked By...</td>\n",
       "    </tr>\n",
       "    <tr>\n",
       "      <th>4</th>\n",
       "      <td>https://www.interestingdailynews.com/2017-chev...</td>\n",
       "      <td>interestingdailynews</td>\n",
       "      <td>2017 CHEVROLET CRUZE DIESEL EPA-RATED 30/52 MP...</td>\n",
       "      <td>['Interesting Daily News']</td>\n",
       "      <td>Nine-speed auto rated 31/47 mpg\\n\\nThe 2017 Ch...</td>\n",
       "    </tr>\n",
       "  </tbody>\n",
       "</table>\n",
       "</div>"
      ],
      "text/plain": [
       "                                                 url                source  \\\n",
       "0  https://www.interestingdailynews.com/not-just-...  interestingdailynews   \n",
       "1  https://www.interestingdailynews.com/man-rapes...  interestingdailynews   \n",
       "2  https://www.interestingdailynews.com/pro-trump...  interestingdailynews   \n",
       "3  https://www.interestingdailynews.com/huge-mele...  interestingdailynews   \n",
       "4  https://www.interestingdailynews.com/2017-chev...  interestingdailynews   \n",
       "\n",
       "                                               title  \\\n",
       "0  Not Just CNN: Griffin Dumped By Other Advertis...   \n",
       "1  Man Rapes Infant, Leaves Her With Something To...   \n",
       "2  Pro-Trump Billboard Causes ‘HUGE’ Controversy ...   \n",
       "3  HUGE MELEE BREAKS OUT! Trump Rally Attacked By...   \n",
       "4  2017 CHEVROLET CRUZE DIESEL EPA-RATED 30/52 MP...   \n",
       "\n",
       "                       author  \\\n",
       "0  ['Interesting Daily News']   \n",
       "1  ['Interesting Daily News']   \n",
       "2  ['Interesting Daily News']   \n",
       "3  ['Interesting Daily News']   \n",
       "4  ['Interesting Daily News']   \n",
       "\n",
       "                                                text  \n",
       "0  Not Just CNN: Griffin Dumped By Other Advertis...  \n",
       "1  Man Rapes Infant, Leaves Her With Something To...  \n",
       "2  It’s a stark, simple message on a black billbo...  \n",
       "3  HUGE MELEE BREAKS OUT! Trump Rally Attacked By...  \n",
       "4  Nine-speed auto rated 31/47 mpg\\n\\nThe 2017 Ch...  "
      ]
     },
     "execution_count": 37,
     "metadata": {},
     "output_type": "execute_result"
    }
   ],
   "source": [
    "data_interestingdailynews.head()"
   ]
  },
  {
   "cell_type": "markdown",
   "metadata": {},
   "source": [
    "## 2. Obtain news from 'http://nbc.com.co'"
   ]
  },
  {
   "cell_type": "code",
   "execution_count": 38,
   "metadata": {
    "collapsed": false
   },
   "outputs": [
    {
     "name": "stdout",
     "output_type": "stream",
     "text": [
      "http://nbc.com.co\n",
      "http://nbc.com.co/suicide-will-affect-aaron-hernandezs-estate-payout/\n",
      "http://nbc.com.co/News/entertainment/music/\n",
      "http://nbc.com.co/lifeguards-lose-protection-personal-injury-liability/\n",
      "http://nbc.com.co/vince-gilligan-announces-breaking-bad-season-6-begins-shooting-august-2015/\n",
      "http://nbc.com.co/best-places-find-free-roulette-game-web/\n",
      "http://nbc.com.co/bill-murray-is-a-hero-in-london-after-saving-the-life-of-a-child-from-oncoming-traffic/\n",
      "http://nbc.com.co/News/global/criminal/national/\n",
      "http://nbc.com.co/News/news/\n",
      "http://nbc.com.co/trump-to-build-wall-out-of-homes-for-veterans/\n",
      "http://nbc.com.co/horror-movies-themes-online-games-popularity/\n",
      "http://nbc.com.co/News/nbc-news/\n",
      "http://nbc.com.co/News/global/criminal/regional/\n",
      "http://nbc.com.co/News/global/criminal/\n",
      "http://nbc.com.co/jonathan-gregory-the-creepiest-comedian-in-america/\n",
      "http://nbc.com.co/News/politics/\n",
      "http://nbc.com.co/personal-injury-claims-ford-explorer-rise/\n",
      "http://nbc.com.co/News/lifestyle/\n",
      "http://nbc.com.co/detroit-laws-cant-prosecute-watch-crimes-dont-report/\n",
      "http://nbc.com.co/News/global/terorism/\n",
      "http://nbc.com.co/obama-announces-third-term-presidential-run/\n",
      "http://nbc.com.co/vince-gilligan-announces-breaking-bad-season-6/\n",
      "http://nbc.com.co/News/global/\n",
      "http://nbc.com.co/News/entertainment/\n",
      "http://nbc.com.co/top-5-large-tablets-buy-right-now/\n",
      "http://nbc.com.co/News/technology/\n",
      "http://nbc.com.co/hate-crimes-rise-since-trump-took-office/\n",
      "http://nbc.com.co/push-cap-damages-medical-malpractice-horizon/\n",
      "The total number of nbc articles is  27\n"
     ]
    }
   ],
   "source": [
    "df_nbccomco = generate_data(url_nbccomco)"
   ]
  },
  {
   "cell_type": "code",
   "execution_count": 132,
   "metadata": {
    "collapsed": false
   },
   "outputs": [
    {
     "data": {
      "text/html": [
       "<div>\n",
       "<table border=\"1\" class=\"dataframe\">\n",
       "  <thead>\n",
       "    <tr style=\"text-align: right;\">\n",
       "      <th></th>\n",
       "      <th>url</th>\n",
       "      <th>source</th>\n",
       "      <th>title</th>\n",
       "      <th>author</th>\n",
       "      <th>text</th>\n",
       "    </tr>\n",
       "  </thead>\n",
       "  <tbody>\n",
       "    <tr>\n",
       "      <th>22</th>\n",
       "      <td>http://nbc.com.co/News/entertainment/</td>\n",
       "      <td>nbc</td>\n",
       "      <td>Entertainment Archives</td>\n",
       "      <td>['Almira Anke', 'Hanif Ibrahim', 'Jacob Morgan']</td>\n",
       "      <td>People are somehow wired to love scary stuff. ...</td>\n",
       "    </tr>\n",
       "    <tr>\n",
       "      <th>23</th>\n",
       "      <td>http://nbc.com.co/top-5-large-tablets-buy-righ...</td>\n",
       "      <td>nbc</td>\n",
       "      <td>Top 5 Large Tablets To Buy Right Now</td>\n",
       "      <td>['Almira Anke', 'Hanif Ibrahim', 'Jacob Morgan']</td>\n",
       "      <td>Full-size tablets have been popular ever since...</td>\n",
       "    </tr>\n",
       "    <tr>\n",
       "      <th>24</th>\n",
       "      <td>http://nbc.com.co/News/technology/</td>\n",
       "      <td>nbc</td>\n",
       "      <td>Technology Archives</td>\n",
       "      <td>['Almira Anke', 'Hanif Ibrahim', 'Jacob Morgan']</td>\n",
       "      <td>Counter-Strike: Global Offensive is one of the...</td>\n",
       "    </tr>\n",
       "    <tr>\n",
       "      <th>25</th>\n",
       "      <td>http://nbc.com.co/hate-crimes-rise-since-trump...</td>\n",
       "      <td>nbc</td>\n",
       "      <td>Are Hate Crimes On The Rise Since Trump Took O...</td>\n",
       "      <td>['Almira Anke', 'Hanif Ibrahim', 'Jacob Morgan']</td>\n",
       "      <td>Whether you are in favor of or against the Tru...</td>\n",
       "    </tr>\n",
       "    <tr>\n",
       "      <th>26</th>\n",
       "      <td>http://nbc.com.co/push-cap-damages-medical-mal...</td>\n",
       "      <td>nbc</td>\n",
       "      <td>Push To Cap Damages For Medical Malpractice On...</td>\n",
       "      <td>['Almira Anke', 'Hanif Ibrahim', 'Jacob Morgan']</td>\n",
       "      <td>Big changes may be on the horizon for the stat...</td>\n",
       "    </tr>\n",
       "  </tbody>\n",
       "</table>\n",
       "</div>"
      ],
      "text/plain": [
       "                                                  url source  \\\n",
       "22              http://nbc.com.co/News/entertainment/    nbc   \n",
       "23  http://nbc.com.co/top-5-large-tablets-buy-righ...    nbc   \n",
       "24                 http://nbc.com.co/News/technology/    nbc   \n",
       "25  http://nbc.com.co/hate-crimes-rise-since-trump...    nbc   \n",
       "26  http://nbc.com.co/push-cap-damages-medical-mal...    nbc   \n",
       "\n",
       "                                                title  \\\n",
       "22                             Entertainment Archives   \n",
       "23               Top 5 Large Tablets To Buy Right Now   \n",
       "24                                Technology Archives   \n",
       "25  Are Hate Crimes On The Rise Since Trump Took O...   \n",
       "26  Push To Cap Damages For Medical Malpractice On...   \n",
       "\n",
       "                                              author  \\\n",
       "22  ['Almira Anke', 'Hanif Ibrahim', 'Jacob Morgan']   \n",
       "23  ['Almira Anke', 'Hanif Ibrahim', 'Jacob Morgan']   \n",
       "24  ['Almira Anke', 'Hanif Ibrahim', 'Jacob Morgan']   \n",
       "25  ['Almira Anke', 'Hanif Ibrahim', 'Jacob Morgan']   \n",
       "26  ['Almira Anke', 'Hanif Ibrahim', 'Jacob Morgan']   \n",
       "\n",
       "                                                 text  \n",
       "22  People are somehow wired to love scary stuff. ...  \n",
       "23  Full-size tablets have been popular ever since...  \n",
       "24  Counter-Strike: Global Offensive is one of the...  \n",
       "25  Whether you are in favor of or against the Tru...  \n",
       "26  Big changes may be on the horizon for the stat...  "
      ]
     },
     "execution_count": 132,
     "metadata": {},
     "output_type": "execute_result"
    }
   ],
   "source": [
    "path = os.path.join('data','indv_file', 'nbccomco.csv')\n",
    "df_nbccomco.to_csv(path)  \n",
    "\n",
    "# test: read data\n",
    "data_nbccomco = pd.read_csv(path)\n",
    "data_nbccomco.tail()"
   ]
  },
  {
   "cell_type": "markdown",
   "metadata": {},
   "source": [
    "## 3. Obtain news from 'http://www.newsbbc.net'"
   ]
  },
  {
   "cell_type": "code",
   "execution_count": 41,
   "metadata": {
    "collapsed": false
   },
   "outputs": [
    {
     "name": "stdout",
     "output_type": "stream",
     "text": [
      "http://www.newsbbc.net\n",
      "http://yournewswire.com/john-kerry-calls-for-russia-and-syria-war-crimes-investigation/\n",
      "http://www.globalhealingcenter.com/natural-health/what-is-a-raw-vegan-diet/?a_aid=54e3fadc2316d\n",
      "http://www.zerohedge.com/news/2016-10-06/leaked-memo-confirms-hillary-was-given-questions-ahead-interview\n",
      "http://www.globalhealingcenter.com/natural-health/healthy-lifestyle-changes-to-make-today/\n",
      "http://inhabitat.com/trump-sons-selling-post-inauguration-access-and-private-hunting-trip-for-1m/\n",
      "http://www.dailymail.co.uk/news/article-3827732/U-S-accuses-Russia-hacking-attempts-political-groups.html\n",
      "http://freebeacon.com/politics/clinton-campaign-helped-script-steve-harvey-interview/\n",
      "http://time.com/4634078/rex-tillerson-south-china-sea-donald-trump/\n",
      "http://www.newsbbc.net/2017/04/tribute-for-family-of-soldier-killed.html\n",
      "http://yournewswire.com/scientific-study-towers-collapsed-due-to-controlled-demolition/\n",
      "http://www.newsbbc.net/2017/07/cia-agent-confesses-on-deathbed-we-blew.html\n",
      "http://21stcenturywire.com/2016/12/14/tulsi-gabbard-introduces-bill-to-stop-us-government-funding-and-arming-jihadist-terrorists-in-syria/\n",
      "http://www.trueactivist.com/non-profit-run-by-trumps-sons-selling-access-to-first-family-for-500k-1-million-per-person/\n",
      "http://www.globalhealingcenter.com/natural-health/why-sleep-is-important-to-your-health/?a_aid=54e3fadc2316d\n",
      "http://www.newsbbc.net/2017/01/marijuana-activists-to-supply-thousands.html\n",
      "http://www.newsbbc.net/2016/12/obama-quietly-signs-2017-ndaa-over.html\n",
      "http://www.newsbbc.net/2017/07/new-analysis-kills-dnc-hacking.html\n",
      "http://www.zerohedge.com/news/2016-10-05/clinton-caught-using-child-actor-ask-planted-question-pennsylvania-townhall\n",
      "https://theforensicator.wordpress.com/guccifer-2-ngp-van-metadata-analysis/\n",
      "http://www.dailymail.co.uk/news/article-3842846/Rumors-swirl-Pamela-Anderson-poisoned-Julian-Assange-vegan-meal-Pret.html\n",
      "http://yournewswire.com/911-bbc-report-collapse-of-wtc7-26-minutes-too-early/\n",
      "http://www.reuters.com/article/us-usa-trump-china-idUSKBN15504D\n",
      "http://www.newsbbc.net/2017/01/mccain-says-russian-cyberattacks.html\n",
      "http://www.newsbbc.net/search/label/News?max-results=6\n",
      "http://www.angrypatriotmovement.com/wikileaks-releases-proof-of-hillarys-treason/\n",
      "http://www.newsbbc.net/2017/03/10-easy-ways-to-healthy-diet-for-kids.html\n",
      "http://www.globalhealingcenter.com/natural-health/the-top-5-harmful-toxins-in-air/?a_aid=54e3fadc2316d\n",
      "http://www.businessinsider.com/trump-attacks-clinton-for-foundation-pay-to-play-allegations-2016-10\n",
      "https://lawyerist.com/172034/microsoft-sql-2017-improvements-advanced-analytics-may-mean-lawyers/\n",
      "http://www.newsbbc.net/2016/10/leaked-memo-confirms-hillary-was-given.html\n",
      "http://thehill.com/policy/cybersecurity/300890-assange-grudge-against-clinton-shapes-us-election\n",
      "http://yournewswire.com/ron-paul-cia-meddled-in-hundreds-of-elections/\n",
      "http://www.dumblittleman.com/2008/02/kickstart-your-brain-with-the-mozart.html\n",
      "Article `download()` failed with 404 Client Error: Not Found for url: http://thepoliticalinsider.com/wikileaks-confirms-hillary-sold-weapons-isis-drops-another-bombshell-breaking-news/ on URL http://www.thepoliticalinsider.com/wikileaks-confirms-hillary-sold-weapons-isis-drops-another-bombshell-breaking-news/\n",
      "http://www.newsbbc.net/2016/10/breaking-wikileaks-releases-proof-of.html\n",
      "http://www.newyorker.com/magazine/2016/05/16/donald-trump-jr-the-outdoorsman\n",
      "http://townhall.com/tipsheet/guybenson/2015/09/11/analysis-gop-should-shut-down-senate-business-to-break-dems-iran-deal-filibuster-n2050696\n",
      "https://motherboard.vice.com/en_us/article/yp3bbv/dnc-hacker-guccifer-20-full-interview-transcript\n",
      "You must `download()` an article first!\n",
      "https://lawyerist.com/110074/microsoft-commits-1-million-access-justice/\n",
      "http://townhall.com/tipsheet/guybenson/2015/09/14/peace-partners-iranian-regime-releases-video-threatening-to-humiliate-us-n2051741\n",
      "http://www.reuters.com/article/us-pence-asia-japan-idUSKBN17L066\n",
      "http://www.cbsnews.com/news/donald-trump-cabinet-richest-in-us-history-historians-say/\n",
      "https://www.nytimes.com/2017/04/18/world/asia/aircraft-carrier-north-korea-carl-vinson.html?_r=0\n",
      "http://www.newsbbc.net/2017/05/microsoft-sql-2017-improvements.html\n",
      "http://www.globalhealingcenter.com/natural-health/benefits-of-water-for-your-body/?a_aid=54e3fadc2316d\n",
      "http://www.mtv.com/news/1650711/kanye-west-jokes-about-devil-worship-illuminati-rumors/\n",
      "http://www.globalhealingcenter.com/natural-health/6-health-benefits-of-eating-organic-food/?a_aid=54e3fadc2316d\n",
      "http://www.digitalmusicnews.com/2016/10/04/kim-kardashian-kanye-west-fabricated/\n",
      "http://www.newsbbc.net/2016/10/julian-assange-taken-offline-in-cyber.html\n",
      "http://www.newsbbc.net/2017/04/pence-us-ready-to-use-overwhelming.html\n",
      "http://www.newsbbc.net/2016/12/ron-paul-cia-meddled-in-hundreds-of.html\n",
      "http://www.newsbbc.net/2016/12/trump-sons-sell-access-to-first-family.html\n",
      "http://www.straitstimes.com/asia/east-asia/china-must-expand-nuclear-arsenal-in-response-to-trump-global-times\n",
      "http://www.newsbbc.net/2016/10/a-bill-clinton-rape-survivor-just-told.html\n",
      "http://helplogger.blogspot.com/2014/11/5-cool-recent-post-widgets-for-blogger.html\n",
      "https://conservativedailypost.com/u-s-state-department-confirms-iran-never-signed-treaty-obamas-nuclear-deal-fully-illegal\n",
      "http://www.newsbbc.net/2016/12/us-state-department-confirms-iran-never.html\n",
      "http://www.hollywoodreporter.com/news/donald-trumps-new-attack-ad-896660\n",
      "http://www.nytimes.com/2015/10/30/world/middleeast/iran-is-said-to-detain-another-american.html\n",
      "http://www.trueactivist.com/donations-to-the-clinton-foundation-plummet-as-familys-political-clout-evaporates/\n",
      "https://www.thesun.co.uk/tvandshowbiz/1944698/giant-bodyguard-pascal-duvier-seen-flanking-kanye-west-at-his-chicago-gig/\n",
      "http://www.newsbbc.net/2016/10/10-ways-to-kickstart-your-brain-on-lazy.html\n",
      "http://yournewswire.com/trump-putin-is-right-about-hillary-she-has-no-dignity/\n",
      "http://yournewswire.com/u-s-officially-accuses-russia-of-political-hacks/\n",
      "http://www.newsbbc.net/2016/12/trump-putin-is-right-about-hillary-she.html\n",
      "http://www.newsbbc.net/2016/09/ron-paul-vote-all-you-want-secret_6.html\n",
      "http://time.com/25150/rape-victims-talk-about-tweeting-their-experiences-publicly/\n",
      "http://www.newsbbc.net/2017/01/wikileaks-offers-reward-for-info-on.html\n",
      "http://www.newsbbc.net/2017/01/china-just-issued-nuclear-warning-to.html\n",
      "http://www.globalhealingcenter.com/natural-health/refined-sugar-toxic-to-your-health/?a_aid=54e3fadc2316d\n",
      "http://www.matchacollege.com/subjects/best-online-education-teaching-degree-programs/\n",
      "http://www.healthandyoga.com/html/news/yogicbreath.html\n",
      "http://disobedientmedia.com/2017/07/new-research-shows-guccifer-2-0-files-were-copied-locally-not-hacked/\n",
      "http://www.newsbbc.net/2016/10/october-surprise-wwiii-begins-to-boil.html\n",
      "http://www.usatoday.com/story/life/music/2016/10/04/kanye-west-postpones-tour-dates-kim-kardashian-robbery/91515312/\n",
      "http://www.reuters.com/article/us-usa-china-southchinasea-idUSKBN1572M4\n",
      "http://www.trueactivist.com/tribute-for-family-of-soldier-killed-fighting-isis-raises-200k-overnight/\n",
      "http://georgewashington.blogspot.com/2005/11/how-could-they-plant-bombs-in-world.html\n",
      "http://english.alarabiya.net/en/News/middle-east/2015/08/29/Rowhani-Iran-nuke-deal-doesn-t-need-parliament-approval.html\n",
      "http://www.newsbbc.net/2017/04/6-healthy-lifestyle-changes-to-make.html\n",
      "http://www.newsbbc.net/search/label/News\n",
      "http://www.newsbbc.net/2016/12/boy-with-no-shoes-gifts-stray-dog.html\n",
      "http://www.presstv.ir/Detail/2017/01/05/504871/Russian-cyberattacks-against-US-an-act-of-war-McCain\n",
      "http://townhall.com/tipsheet/guybenson/2015/10/12/iran-missile-n2064650\n",
      "http://www.newsbbc.net/2016/10/us-officially-accuses-russia-of.html\n",
      "http://www.newsbbc.net/2016/10/kanye-west-says-illuminati-behind-paris.html\n",
      "http://www.nbcnews.com/meet-the-press/video/vp-biden-on-russia-and-cyber-warfare-786308675872\n",
      "http://www.cbsnews.com/news/report-cia-lost-office-in-wtc/\n",
      "The total number of newsbbc articles is  87\n"
     ]
    }
   ],
   "source": [
    "df_newsbbcnet = generate_data(url_newsbbcnet)"
   ]
  },
  {
   "cell_type": "code",
   "execution_count": 133,
   "metadata": {
    "collapsed": false
   },
   "outputs": [
    {
     "data": {
      "text/html": [
       "<div>\n",
       "<table border=\"1\" class=\"dataframe\">\n",
       "  <thead>\n",
       "    <tr style=\"text-align: right;\">\n",
       "      <th></th>\n",
       "      <th>url</th>\n",
       "      <th>source</th>\n",
       "      <th>title</th>\n",
       "      <th>author</th>\n",
       "      <th>text</th>\n",
       "    </tr>\n",
       "  </thead>\n",
       "  <tbody>\n",
       "    <tr>\n",
       "      <th>82</th>\n",
       "      <td>http://townhall.com/tipsheet/guybenson/2015/10...</td>\n",
       "      <td>newsbbc</td>\n",
       "      <td>Humiliation: Iran Test Fires Long-Range Missil...</td>\n",
       "      <td>['Guy Benson', \"Cortney O'Brien\", 'Katie Pavli...</td>\n",
       "      <td>Oh, Here We Go: Left Wingers Say Trump's Speec...</td>\n",
       "    </tr>\n",
       "    <tr>\n",
       "      <th>83</th>\n",
       "      <td>http://www.newsbbc.net/2016/10/us-officially-a...</td>\n",
       "      <td>newsbbc</td>\n",
       "      <td>U.S. Officially Accuses Russia Of Political Hacks</td>\n",
       "      <td>['Rossy Smith']</td>\n",
       "      <td>Comprehensive up-to-date online news coverage,...</td>\n",
       "    </tr>\n",
       "    <tr>\n",
       "      <th>84</th>\n",
       "      <td>http://www.newsbbc.net/2016/10/kanye-west-says...</td>\n",
       "      <td>newsbbc</td>\n",
       "      <td>Kanye West Says Illuminati Behind Paris Robbery</td>\n",
       "      <td>['Rossy Smith']</td>\n",
       "      <td>Comprehensive up-to-date online news coverage,...</td>\n",
       "    </tr>\n",
       "    <tr>\n",
       "      <th>85</th>\n",
       "      <td>http://www.nbcnews.com/meet-the-press/video/vp...</td>\n",
       "      <td>newsbbc</td>\n",
       "      <td>VP Biden on Russia and Cyber Warfare</td>\n",
       "      <td>[]</td>\n",
       "      <td>MTP Exclusive: VP Biden Promises Response to R...</td>\n",
       "    </tr>\n",
       "    <tr>\n",
       "      <th>86</th>\n",
       "      <td>http://www.cbsnews.com/news/report-cia-lost-of...</td>\n",
       "      <td>newsbbc</td>\n",
       "      <td>Report: CIA Lost Office In WTC</td>\n",
       "      <td>['Cbsnews.Com Staff Cbsnews.Com Staff']</td>\n",
       "      <td>A secret office operated by the CIA was destro...</td>\n",
       "    </tr>\n",
       "  </tbody>\n",
       "</table>\n",
       "</div>"
      ],
      "text/plain": [
       "                                                  url   source  \\\n",
       "82  http://townhall.com/tipsheet/guybenson/2015/10...  newsbbc   \n",
       "83  http://www.newsbbc.net/2016/10/us-officially-a...  newsbbc   \n",
       "84  http://www.newsbbc.net/2016/10/kanye-west-says...  newsbbc   \n",
       "85  http://www.nbcnews.com/meet-the-press/video/vp...  newsbbc   \n",
       "86  http://www.cbsnews.com/news/report-cia-lost-of...  newsbbc   \n",
       "\n",
       "                                                title  \\\n",
       "82  Humiliation: Iran Test Fires Long-Range Missil...   \n",
       "83  U.S. Officially Accuses Russia Of Political Hacks   \n",
       "84    Kanye West Says Illuminati Behind Paris Robbery   \n",
       "85               VP Biden on Russia and Cyber Warfare   \n",
       "86                     Report: CIA Lost Office In WTC   \n",
       "\n",
       "                                               author  \\\n",
       "82  ['Guy Benson', \"Cortney O'Brien\", 'Katie Pavli...   \n",
       "83                                    ['Rossy Smith']   \n",
       "84                                    ['Rossy Smith']   \n",
       "85                                                 []   \n",
       "86            ['Cbsnews.Com Staff Cbsnews.Com Staff']   \n",
       "\n",
       "                                                 text  \n",
       "82  Oh, Here We Go: Left Wingers Say Trump's Speec...  \n",
       "83  Comprehensive up-to-date online news coverage,...  \n",
       "84  Comprehensive up-to-date online news coverage,...  \n",
       "85  MTP Exclusive: VP Biden Promises Response to R...  \n",
       "86  A secret office operated by the CIA was destro...  "
      ]
     },
     "execution_count": 133,
     "metadata": {},
     "output_type": "execute_result"
    }
   ],
   "source": [
    "path = os.path.join('data', 'indv_file','newsbbcnet.csv')\n",
    "df_newsbbcnet.to_csv(path)  \n",
    "\n",
    "# test: read data\n",
    "data_newsbbcnet = pd.read_csv(path)\n",
    "data_newsbbcnet.tail()  "
   ]
  },
  {
   "cell_type": "markdown",
   "metadata": {},
   "source": [
    "## 4. Obtain news from 'http://madworldnews.net'"
   ]
  },
  {
   "cell_type": "code",
   "execution_count": 50,
   "metadata": {
    "collapsed": false
   },
   "outputs": [
    {
     "name": "stdout",
     "output_type": "stream",
     "text": [
      "http://madworldnews.com\n",
      "http://madworldnews.tumblr.com/post/163459150247/as-snowflakes-melt-over-trumps-transgender#notes\n",
      "http://madworldnews.tumblr.com/post/163456261437/ben-jerrys-force-liberal-agenda-on-customers\n",
      "http://madworldnews.tumblr.com/post/163455894382/teen-killed-dismembered-after-discovering-dads\n",
      "http://madworldnews.tumblr.com/post/163458421947/what-dirty-dem-quietly-did-after-corrupt-it\n",
      "http://madworldnews.tumblr.com/post/163456537032/melania-gets-revenge-on-michelle-obama-at-ohio\n",
      "http://madworldnews.tumblr.com/post/163455658862/homesick-florida-woman-decides-to-check-google\n",
      "http://madworldnews.tumblr.com/post/163457493467/us-senate-front-runner-declares-2-words-at-pork\n",
      "http://madworldnews.tumblr.com/post/163459150247/as-snowflakes-melt-over-trumps-transgender\n",
      "http://madworldnews.tumblr.com/post/163459516997/florida-thug-shoots-cop-in-the-face-gets-instant\n",
      "http://madworldnews.tumblr.com/post/163455055437/ohio-pervert-raped-girlfriends-toddler-to-death#notes\n",
      "http://madworldnews.com/2017/07/\n",
      "http://madworldnews.tumblr.com/post/163456537032/melania-gets-revenge-on-michelle-obama-at-ohio#notes\n",
      "http://madworldnews.tumblr.com/post/163455055437/ohio-pervert-raped-girlfriends-toddler-to-death\n",
      "http://madworldnews.tumblr.com/post/163458421947/what-dirty-dem-quietly-did-after-corrupt-it#notes\n",
      "http://madworldnews.tumblr.com/post/163459784942/liberals-freak-out-as-trumps-transgender-military\n",
      "The total number of madworldnews articles is  15\n"
     ]
    }
   ],
   "source": [
    "df_madworldnews = generate_data(url_madworldnews) "
   ]
  },
  {
   "cell_type": "code",
   "execution_count": 134,
   "metadata": {
    "collapsed": false
   },
   "outputs": [
    {
     "data": {
      "text/html": [
       "<div>\n",
       "<table border=\"1\" class=\"dataframe\">\n",
       "  <thead>\n",
       "    <tr style=\"text-align: right;\">\n",
       "      <th></th>\n",
       "      <th>url</th>\n",
       "      <th>source</th>\n",
       "      <th>title</th>\n",
       "      <th>author</th>\n",
       "      <th>text</th>\n",
       "    </tr>\n",
       "  </thead>\n",
       "  <tbody>\n",
       "    <tr>\n",
       "      <th>10</th>\n",
       "      <td>http://madworldnews.com/2017/07/</td>\n",
       "      <td>madworldnews</td>\n",
       "      <td>Home • Mad World News</td>\n",
       "      <td>[]</td>\n",
       "      <td>Melania Trump is ruthlessly scrutinized by the...</td>\n",
       "    </tr>\n",
       "    <tr>\n",
       "      <th>11</th>\n",
       "      <td>http://madworldnews.tumblr.com/post/1634565370...</td>\n",
       "      <td>madworldnews</td>\n",
       "      <td>MadWorldNews.com • Melania Gets Revenge On Mic...</td>\n",
       "      <td>[]</td>\n",
       "      <td>The Voice of Reason in an Insane World - Mad W...</td>\n",
       "    </tr>\n",
       "    <tr>\n",
       "      <th>12</th>\n",
       "      <td>http://madworldnews.tumblr.com/post/1634550554...</td>\n",
       "      <td>madworldnews</td>\n",
       "      <td>MadWorldNews.com • Ohio Pervert Raped Girlfrie...</td>\n",
       "      <td>[]</td>\n",
       "      <td>The Voice of Reason in an Insane World - Mad W...</td>\n",
       "    </tr>\n",
       "    <tr>\n",
       "      <th>13</th>\n",
       "      <td>http://madworldnews.tumblr.com/post/1634584219...</td>\n",
       "      <td>madworldnews</td>\n",
       "      <td>MadWorldNews.com • What Dirty Dem Quietly Did ...</td>\n",
       "      <td>[]</td>\n",
       "      <td>The Voice of Reason in an Insane World - Mad W...</td>\n",
       "    </tr>\n",
       "    <tr>\n",
       "      <th>14</th>\n",
       "      <td>http://madworldnews.tumblr.com/post/1634597849...</td>\n",
       "      <td>madworldnews</td>\n",
       "      <td>MadWorldNews.com • Liberals Freak Out As Trump...</td>\n",
       "      <td>[]</td>\n",
       "      <td>The Voice of Reason in an Insane World - Mad W...</td>\n",
       "    </tr>\n",
       "  </tbody>\n",
       "</table>\n",
       "</div>"
      ],
      "text/plain": [
       "                                                  url        source  \\\n",
       "10                   http://madworldnews.com/2017/07/  madworldnews   \n",
       "11  http://madworldnews.tumblr.com/post/1634565370...  madworldnews   \n",
       "12  http://madworldnews.tumblr.com/post/1634550554...  madworldnews   \n",
       "13  http://madworldnews.tumblr.com/post/1634584219...  madworldnews   \n",
       "14  http://madworldnews.tumblr.com/post/1634597849...  madworldnews   \n",
       "\n",
       "                                                title author  \\\n",
       "10                              Home • Mad World News     []   \n",
       "11  MadWorldNews.com • Melania Gets Revenge On Mic...     []   \n",
       "12  MadWorldNews.com • Ohio Pervert Raped Girlfrie...     []   \n",
       "13  MadWorldNews.com • What Dirty Dem Quietly Did ...     []   \n",
       "14  MadWorldNews.com • Liberals Freak Out As Trump...     []   \n",
       "\n",
       "                                                 text  \n",
       "10  Melania Trump is ruthlessly scrutinized by the...  \n",
       "11  The Voice of Reason in an Insane World - Mad W...  \n",
       "12  The Voice of Reason in an Insane World - Mad W...  \n",
       "13  The Voice of Reason in an Insane World - Mad W...  \n",
       "14  The Voice of Reason in an Insane World - Mad W...  "
      ]
     },
     "execution_count": 134,
     "metadata": {},
     "output_type": "execute_result"
    }
   ],
   "source": [
    "path = os.path.join('data', 'indv_file','madworldnews.csv')\n",
    "df_madworldnews.to_csv(path)  \n",
    "\n",
    "# test: read data\n",
    "data_madworldnews = pd.read_csv(path)\n",
    "data_madworldnews.tail() "
   ]
  },
  {
   "cell_type": "markdown",
   "metadata": {},
   "source": [
    "## 5. Obtain news from 'http://majorthoughts.com'"
   ]
  },
  {
   "cell_type": "code",
   "execution_count": 56,
   "metadata": {
    "collapsed": false
   },
   "outputs": [
    {
     "name": "stdout",
     "output_type": "stream",
     "text": [
      "http://majorthoughts.com\n",
      "http://www.majorthoughts.com/gata-top-demais-representando-muito-linda-twerk-brazil-twerk-shake_024c27997.html\n",
      "http://www.majorthoughts.com/list-of-rappers-currently-in-jail_aefd81c8d.html\n",
      "http://www.majorthoughts.com/one-thot-puts-deadly-hands-on-other-thot-ghetto-fight-kings-2k15-1_dccd92699.html\n",
      "http://www.majorthoughts.com/meek-mill-tells-nicki-minaj-to-give-his-35million-or-see-smoke-pull-over_b73a0872d.html\n",
      "http://www.majorthoughts.com/she-should-have-never-put-hands-on-her-baby-people-roll-up-to-two-women-having-a-cat_a9c75ea67.html\n",
      "http://www.majorthoughts.com/boosie-badazz-dice-game-with-meek-mill-lucci_6be2ddb97.html\n",
      "http://www.majorthoughts.com/5-moments-you-wouldn%e2%80%99t-believe-if-they-weren%e2%80%99t-recorded_aa6ced657.html\n",
      "http://www.majorthoughts.com/meek-mill-when-she-give-my-30million-i-will-tell-her-who-robbed-her-house_b6f55583b.html\n",
      "http://www.majorthoughts.com/eastside-ghetto-fights-i-got-it_519a869e2.html\n",
      "http://www.majorthoughts.com/brazilian-twerk-que-rico-baina-esta-chica_d7c807bb0.html\n",
      "http://www.majorthoughts.com/how-to-get-a-bad-cop-fired_eae7d32be.html\n",
      "http://www.majorthoughts.com/dbz-ghetto-fights-in-the-hood_0804b0bdb.html\n",
      "http://www.majorthoughts.com/nicki-minaj-pulls-up-on-meek-mill-at-cvs-pharmacy-in-hollywood_ee916a474.html\n",
      "http://www.majorthoughts.com/50-cent-clowns-bow-wow-nails-bow-wow-challenge-bowwowchallenge_003691868.html\n",
      "http://www.majorthoughts.com/uploads/thumbs/2080dafe5-1.jpg&quot\n",
      "The total number of majorthoughts articles is  15\n"
     ]
    }
   ],
   "source": [
    "df_majorthoughts = generate_data(url_majorthoughts)"
   ]
  },
  {
   "cell_type": "code",
   "execution_count": 135,
   "metadata": {
    "collapsed": false
   },
   "outputs": [
    {
     "data": {
      "text/html": [
       "<div>\n",
       "<table border=\"1\" class=\"dataframe\">\n",
       "  <thead>\n",
       "    <tr style=\"text-align: right;\">\n",
       "      <th></th>\n",
       "      <th>url</th>\n",
       "      <th>source</th>\n",
       "      <th>title</th>\n",
       "      <th>author</th>\n",
       "      <th>text</th>\n",
       "    </tr>\n",
       "  </thead>\n",
       "  <tbody>\n",
       "    <tr>\n",
       "      <th>10</th>\n",
       "      <td>http://www.majorthoughts.com/how-to-get-a-bad-...</td>\n",
       "      <td>majorthoughts</td>\n",
       "      <td>HOW TO GET A BAD COP FIRED</td>\n",
       "      <td>[]</td>\n",
       "      <td>Download your free copy of RISE OF THE WARRIOR...</td>\n",
       "    </tr>\n",
       "    <tr>\n",
       "      <th>11</th>\n",
       "      <td>http://www.majorthoughts.com/dbz-ghetto-fights...</td>\n",
       "      <td>majorthoughts</td>\n",
       "      <td>Dbz ghetto fights in the hood</td>\n",
       "      <td>[]</td>\n",
       "      <td>crazy shit goes on in the hood, enter if you d...</td>\n",
       "    </tr>\n",
       "    <tr>\n",
       "      <th>12</th>\n",
       "      <td>http://www.majorthoughts.com/nicki-minaj-pulls...</td>\n",
       "      <td>majorthoughts</td>\n",
       "      <td>Nicki Minaj Pulls Up On Meek Mill At CVS Pharm...</td>\n",
       "      <td>[]</td>\n",
       "      <td>Meek Mill in LA at CVS with Nicki Minaj\\n\\nSub...</td>\n",
       "    </tr>\n",
       "    <tr>\n",
       "      <th>13</th>\n",
       "      <td>http://www.majorthoughts.com/50-cent-clowns-bo...</td>\n",
       "      <td>majorthoughts</td>\n",
       "      <td>50 Cent Clowns Bow Wow Nails Bow Wow Challenge...</td>\n",
       "      <td>[]</td>\n",
       "      <td>Thanks! Share it with your friends!\\n\\n×\\n\\nYo...</td>\n",
       "    </tr>\n",
       "    <tr>\n",
       "      <th>14</th>\n",
       "      <td>http://www.majorthoughts.com/uploads/thumbs/20...</td>\n",
       "      <td>majorthoughts</td>\n",
       "      <td>Major Thoughts</td>\n",
       "      <td>[]</td>\n",
       "      <td>NaN</td>\n",
       "    </tr>\n",
       "  </tbody>\n",
       "</table>\n",
       "</div>"
      ],
      "text/plain": [
       "                                                  url         source  \\\n",
       "10  http://www.majorthoughts.com/how-to-get-a-bad-...  majorthoughts   \n",
       "11  http://www.majorthoughts.com/dbz-ghetto-fights...  majorthoughts   \n",
       "12  http://www.majorthoughts.com/nicki-minaj-pulls...  majorthoughts   \n",
       "13  http://www.majorthoughts.com/50-cent-clowns-bo...  majorthoughts   \n",
       "14  http://www.majorthoughts.com/uploads/thumbs/20...  majorthoughts   \n",
       "\n",
       "                                                title author  \\\n",
       "10                         HOW TO GET A BAD COP FIRED     []   \n",
       "11                      Dbz ghetto fights in the hood     []   \n",
       "12  Nicki Minaj Pulls Up On Meek Mill At CVS Pharm...     []   \n",
       "13  50 Cent Clowns Bow Wow Nails Bow Wow Challenge...     []   \n",
       "14                                     Major Thoughts     []   \n",
       "\n",
       "                                                 text  \n",
       "10  Download your free copy of RISE OF THE WARRIOR...  \n",
       "11  crazy shit goes on in the hood, enter if you d...  \n",
       "12  Meek Mill in LA at CVS with Nicki Minaj\\n\\nSub...  \n",
       "13  Thanks! Share it with your friends!\\n\\n×\\n\\nYo...  \n",
       "14                                                NaN  "
      ]
     },
     "execution_count": 135,
     "metadata": {},
     "output_type": "execute_result"
    }
   ],
   "source": [
    "path = os.path.join('data', 'indv_file','majorthoughts.csv')\n",
    "df_majorthoughts.to_csv(path)\n",
    "# test: read data\n",
    "data_majorthoughts = pd.read_csv(path)\n",
    "data_majorthoughts.tail()  "
   ]
  },
  {
   "cell_type": "markdown",
   "metadata": {},
   "source": [
    "## 6. Obtain news from 'http://nationonenews.com'"
   ]
  },
  {
   "cell_type": "code",
   "execution_count": 64,
   "metadata": {
    "collapsed": false
   },
   "outputs": [
    {
     "name": "stdout",
     "output_type": "stream",
     "text": [
      "http://nationonenews.com\n",
      "https://nationonenews.com/2017/07/23/breaking-san-antonio-human-smuggling-8-dead-28-serious-condition.html\n",
      "https://nationonenews.com/2017/07/22/stein-recount-questions.html\n",
      "https://nationonenews.com/2017/07/22/leaks-trump-going-money.html\n",
      "https://nationonenews.com/2017/07/26/president-trump-just-started-war-can-win.html/feed\n",
      "https://nationonenews.com/2017/07/14/trump-took-time-recognize-real-heros-france.html/feed\n",
      "https://nationonenews.com/2017/03/06/porn-stars-get-offended.html\n",
      "https://nationonenews.com/2016/11/18/video-high-school-takes-mannequin-challenge-new-extreme-raises-bar.html\n",
      "https://nationonenews.com/2017/07/09/trump-helps-marine-everyone-missed.html\n",
      "https://nationonenews.com/2017/05/16/immediately-abc-stabbed-tim-allen-back-learned-will-last-man-standing-not-abc.html\n",
      "https://nationonenews.com/2017/07/10/trump-responds-report-says-james-comey-leaked-classified-information.html\n",
      "https://nationonenews.com/2017/07/09/trump-helps-marine-everyone-missed.html#comments\n",
      "https://nationonenews.com/2017/07/07/best-handshake-putin-trump-obama.html#comments\n",
      "https://nationonenews.com/2017/07/22/stein-recount-questions.html#comments\n",
      "https://nationonenews.com/2017/07/22/viral-video-trump-appears-game-thrones-sortof.html\n",
      "https://nationonenews.com/2017/07/06/donald-trump-jr-fires-back-cnns-jim-acosta-internet-storm-follows.html#comments\n",
      "https://nationonenews.com/2017/07/22/viral-video-trump-appears-game-thrones-sortof.html#respond\n",
      "https://nationonenews.com/c/news/business\n",
      "https://nationonenews.com/2017/05/24/college-mother-disabled-son-will-bring-tears.html\n",
      "https://nationonenews.com/2017/07/20/spot-phony-candidate-texas.html/feed\n",
      "https://nationonenews.com/2017/07/14/trump-took-time-recognize-real-heros-france.html#comments\n",
      "https://nationonenews.com/2017/07/21/not-fast-scaramucci-not-replacing-spicer-amid-scandal.html/feed\n",
      "https://nationonenews.com/2017/03/13/success-ivanka-trump-hate.html\n",
      "https://nationonenews.com/2016/10/16/obama-calls-for-censorship-of-the-media-and-suppression-of-the-1st-amendment-because-of-us.html\n",
      "https://nationonenews.com/2017/07/23/breaking-san-antonio-human-smuggling-8-dead-28-serious-condition.html/feed\n",
      "https://nationonenews.com/2017/07/10/trump-responds-report-says-james-comey-leaked-classified-information.html#comments\n",
      "https://nationonenews.com/2017/07/19/eye-americas-political-storm-settles-las-vegas.html/feed\n",
      "https://nationonenews.com/2017/05/20/watch-proof-abc-canceled-last-man-standing-trump.html\n",
      "https://nationonenews.com/2017/03/15/msnbc-reveals-trumps-big-tax-secret-white-house-dropped-boom.html#comments\n",
      "https://nationonenews.com/2017/07/05/watch-fox-news-put-washington-hurt-deranged-democrats-lol.html#comments\n",
      "https://nationonenews.com/2017/05/20/watch-proof-abc-canceled-last-man-standing-trump.html#comments\n",
      "https://nationonenews.com/2017/07/08/trump-distance-climate-change-scam.html\n",
      "https://nationonenews.com/2017/07/22/leaks-trump-going-money.html/feed\n",
      "https://nationonenews.com/2017/07/09/chicago-diploma.html\n",
      "https://nationonenews.com/2017/07/12/main-stream-media-plans-uses-net-neutrality-censor-trump-supporters.html#comments\n",
      "https://nationonenews.com/2017/07/14/trump-took-time-recognize-real-heros-france.html\n",
      "https://nationonenews.com/2017/05/24/college-mother-disabled-son-will-bring-tears.html#comments\n",
      "https://nationonenews.com/2016/10/19/teacher-goes-old-school-on-this-student-and-cleans-his-dirty-mouth-police-say-no-crime-committed.html\n",
      "https://nationonenews.com/2017/03/12/democratic-dog-doubt.html\n",
      "https://nationonenews.com/2017/07/19/eye-americas-political-storm-settles-las-vegas.html#comments\n",
      "https://nationonenews.com/2017/07/21/not-fast-scaramucci-not-replacing-spicer-amid-scandal.html\n",
      "https://nationonenews.com/2017/07/03/little-fighter-just-gained-world-class-spokesman.html\n",
      "https://nationonenews.com/2017/07/12/main-stream-media-plans-uses-net-neutrality-censor-trump-supporters.html\n",
      "https://nationonenews.com/2017/07/26/president-trump-just-started-war-can-win.html\n",
      "https://nationonenews.com/2016/10/13/you-can-have-chris-rock-in-your-living-room-for-just-12-a-month-following-this-deal.html\n",
      "https://nationonenews.com/2017/07/22/leaks-trump-going-money.html#comments\n",
      "https://nationonenews.com/2017/07/03/little-fighter-just-gained-world-class-spokesman.html#comments\n",
      "https://nationonenews.com/2017/07/12/main-stream-media-plans-uses-net-neutrality-censor-trump-supporters.html/feed\n",
      "https://nationonenews.com/2017/07/08/trump-distance-climate-change-scam.html#comments\n",
      "https://nationonenews.com/2017/05/16/immediately-abc-stabbed-tim-allen-back-learned-will-last-man-standing-not-abc.html#comments\n",
      "https://nationonenews.com/2017/07/09/chicago-diploma.html#comments\n",
      "https://nationonenews.com/2017/07/07/best-handshake-putin-trump-obama.html\n",
      "https://nationonenews.com/2017/03/05/arnold-schwarzenegger-embarrasses-trump.html\n",
      "https://nationonenews.com/2017/07/19/eye-americas-political-storm-settles-las-vegas.html\n",
      "https://nationonenews.com/2017/07/20/spot-phony-candidate-texas.html\n",
      "https://nationonenews.com/2017/07/06/donald-trump-jr-fires-back-cnns-jim-acosta-internet-storm-follows.html\n",
      "https://nationonenews.com/2017/03/10/twitter-reacts-melania-trump-making-first-lady.html\n",
      "https://nationonenews.com/2017/03/15/msnbc-reveals-trumps-big-tax-secret-white-house-dropped-boom.html\n",
      "https://nationonenews.com/c/news\n",
      "https://nationonenews.com/2017/07/22/stein-recount-questions.html/feed\n",
      "https://nationonenews.com/2017/07/21/not-fast-scaramucci-not-replacing-spicer-amid-scandal.html#comments\n",
      "https://nationonenews.com/2017/07/05/watch-fox-news-put-washington-hurt-deranged-democrats-lol.html\n",
      "https://nationonenews.com/2017/07/22/viral-video-trump-appears-game-thrones-sortof.html/feed\n",
      "The total number of nationonenews articles is  62\n"
     ]
    }
   ],
   "source": [
    "df_nationonenews = generate_data(url_nationonenews)"
   ]
  },
  {
   "cell_type": "code",
   "execution_count": 136,
   "metadata": {
    "collapsed": false,
    "scrolled": true
   },
   "outputs": [
    {
     "data": {
      "text/html": [
       "<div>\n",
       "<table border=\"1\" class=\"dataframe\">\n",
       "  <thead>\n",
       "    <tr style=\"text-align: right;\">\n",
       "      <th></th>\n",
       "      <th>url</th>\n",
       "      <th>source</th>\n",
       "      <th>title</th>\n",
       "      <th>author</th>\n",
       "      <th>text</th>\n",
       "    </tr>\n",
       "  </thead>\n",
       "  <tbody>\n",
       "    <tr>\n",
       "      <th>57</th>\n",
       "      <td>https://nationonenews.com/c/news</td>\n",
       "      <td>nationonenews</td>\n",
       "      <td>Nation One News</td>\n",
       "      <td>[]</td>\n",
       "      <td>We use cookies to give you the best possible e...</td>\n",
       "    </tr>\n",
       "    <tr>\n",
       "      <th>58</th>\n",
       "      <td>https://nationonenews.com/2017/07/22/stein-rec...</td>\n",
       "      <td>nationonenews</td>\n",
       "      <td>Comments on: Jill Steins still has $1,361,834....</td>\n",
       "      <td>[]</td>\n",
       "      <td>NaN</td>\n",
       "    </tr>\n",
       "    <tr>\n",
       "      <th>59</th>\n",
       "      <td>https://nationonenews.com/2017/07/21/not-fast-...</td>\n",
       "      <td>nationonenews</td>\n",
       "      <td>Not so fast, Scaramucci is not replacing Spice...</td>\n",
       "      <td>[]</td>\n",
       "      <td>Some news organizations are clamoring to disto...</td>\n",
       "    </tr>\n",
       "    <tr>\n",
       "      <th>60</th>\n",
       "      <td>https://nationonenews.com/2017/07/05/watch-fox...</td>\n",
       "      <td>nationonenews</td>\n",
       "      <td>[WATCH] Fox News Put The Washington \"Hurt\" On ...</td>\n",
       "      <td>[]</td>\n",
       "      <td>The Democrats in Congress will stop at nothing...</td>\n",
       "    </tr>\n",
       "    <tr>\n",
       "      <th>61</th>\n",
       "      <td>https://nationonenews.com/2017/07/22/viral-vid...</td>\n",
       "      <td>nationonenews</td>\n",
       "      <td>Comments on: [Viral Video] Trump appears on Ga...</td>\n",
       "      <td>[]</td>\n",
       "      <td>NaN</td>\n",
       "    </tr>\n",
       "  </tbody>\n",
       "</table>\n",
       "</div>"
      ],
      "text/plain": [
       "                                                  url         source  \\\n",
       "57                   https://nationonenews.com/c/news  nationonenews   \n",
       "58  https://nationonenews.com/2017/07/22/stein-rec...  nationonenews   \n",
       "59  https://nationonenews.com/2017/07/21/not-fast-...  nationonenews   \n",
       "60  https://nationonenews.com/2017/07/05/watch-fox...  nationonenews   \n",
       "61  https://nationonenews.com/2017/07/22/viral-vid...  nationonenews   \n",
       "\n",
       "                                                title author  \\\n",
       "57                                    Nation One News     []   \n",
       "58  Comments on: Jill Steins still has $1,361,834....     []   \n",
       "59  Not so fast, Scaramucci is not replacing Spice...     []   \n",
       "60  [WATCH] Fox News Put The Washington \"Hurt\" On ...     []   \n",
       "61  Comments on: [Viral Video] Trump appears on Ga...     []   \n",
       "\n",
       "                                                 text  \n",
       "57  We use cookies to give you the best possible e...  \n",
       "58                                                NaN  \n",
       "59  Some news organizations are clamoring to disto...  \n",
       "60  The Democrats in Congress will stop at nothing...  \n",
       "61                                                NaN  "
      ]
     },
     "execution_count": 136,
     "metadata": {},
     "output_type": "execute_result"
    }
   ],
   "source": [
    "path = os.path.join('data','indv_file', 'nationonenews.csv')\n",
    "df_nationonenews.to_csv(path)\n",
    "# test: read data\n",
    "data_nationonenews = pd.read_csv(path)\n",
    "data_nationonenews.tail() "
   ]
  },
  {
   "cell_type": "markdown",
   "metadata": {},
   "source": [
    "## 7. infostormer"
   ]
  },
  {
   "cell_type": "code",
   "execution_count": 71,
   "metadata": {
    "collapsed": false
   },
   "outputs": [
    {
     "name": "stdout",
     "output_type": "stream",
     "text": [
      "http://www.infostormer.com\n",
      "http://www.infostormer.com/tumor-mctumorface-aka-john-insane-mccain-returns-to-the-senate/\n",
      "http://www.infostormer.com/category/news/\n",
      "http://www.infostormer.com/jewess-debbie-wasserman-schultzs-paki-it-guy-detained-trying-to-flee-the-country/\n",
      "http://www.infostormer.com/feds-accuse-google-of-not-paying-women-enough/\n",
      "http://www.infostormer.com/category/news/radio/\n",
      "http://www.infostormer.com/mixed-race-monkey-golfer-tiger-woods-arrested-for-dui/\n",
      "http://www.infostormer.com/fbi-apparently-seized-smashed-computer-hard-drives-from-home-of-jewess-debbie-wasserman-schultz-paki-it-monkey/\n",
      "http://www.infostormer.com/kikes-and-retarded-leftists-launch-major-protests-demanding-to-see-trumps-tax-returns/\n",
      "http://www.infostormer.com/trump-delivers-monday-morning-tweet-storm/\n",
      "http://www.infostormer.com/category/news/societal-degradation/\n",
      "http://www.infostormer.com/trump-warns-boy-scouts-about-fake-news/\n",
      "http://www.infostormer.com/16-year-old-german-girl-found-in-mosul-with-isis/\n",
      "http://www.infostormer.com/former-us-intelligence-officers-challenge-assessment-that-russia-hacked-the-democrat-party/\n",
      "http://www.infostormer.com/trump-delivers-obamacare-speech-calling-it-death/\n",
      "http://www.infostormer.com/illegal-monkeys-invading-canada-from-the-united-states/\n",
      "http://www.infostormer.com/senate-passes-measure-to-debate-obamacare-overhaul/\n",
      "http://www.infostormer.com/trump-bans-trannies-from-the-military/\n",
      "http://www.infostormer.com/category/news/video-2/\n",
      "http://www.infostormer.com/weedkiller-found-in-ben-jerrys-ice-cream/\n",
      "http://www.infostormer.com/nigger-kills-mudsharks-5-year-old-son/\n",
      "http://www.infostormer.com/bbc-allows-senile-old-conductor-to-ramble-about-how-brexit-is-bad/\n",
      "http://www.infostormer.com/tucker-carlson-and-tulsi-gabbard-discuss-trump-ending-support-of-islamic-terrorists-in-syria/\n",
      "http://www.infostormer.com/poland-pro-eu-communists-protest-judicial-reforms/\n",
      "http://www.infostormer.com/jew-jared-kushner-speaks-to-senate-intelligence-committee-and-issues-brief-statement-about-russia-kookspiracy/\n",
      "http://www.infostormer.com/phil-donahues-insane-new-theory-why-trump-became-president/\n",
      "http://www.infostormer.com/italy-black-migrants-having-a-nap/\n",
      "http://www.infostormer.com/america-is-the-fattest-nation-in-the-world/\n",
      "http://www.infostormer.com/more-sexual-assault-accusations-directed-towards-former-house-speaker-dennis-hastert/\n",
      "http://www.infostormer.com/are-trump-and-sessions-trolling-the-media-with-twitter-feud/\n",
      "http://www.infostormer.com/shocking-report-says-that-there-is-massive-sexual-violence-in-south-sudan/\n",
      "http://www.infostormer.com/nigger-kills-mudsharks-dog-because-dog-was-suspicious-of-nigger/\n",
      "http://www.infostormer.com/category/news/world-news/\n",
      "http://www.infostormer.com/jack-posobiec-uses-holohoax-to-lecture-adl/\n",
      "http://www.infostormer.com/black-pigeon-on-lauren-southerns-patreon-account-getting-shoahed/\n",
      "http://www.infostormer.com/category/news/us-news/\n",
      "http://www.infostormer.com/oxford-study-claims-rody-duterte-spent-200000-on-internet-troll-army/\n",
      "http://www.infostormer.com/jewish-council-says-anti-semitism-in-germany-is-increasing/\n",
      "http://www.infostormer.com/category/news/jewish-problem/\n",
      "http://www.infostormer.com/new-transformers-film-features-spic-teen-lecturing-audience-about-feminism/\n",
      "The total number of infostormer articles is  39\n"
     ]
    }
   ],
   "source": [
    "url_infostormer = 'http://www.infostormer.com'\n",
    "df_infostormer = generate_data(url_infostormer)"
   ]
  },
  {
   "cell_type": "code",
   "execution_count": 137,
   "metadata": {
    "collapsed": false
   },
   "outputs": [
    {
     "data": {
      "text/html": [
       "<div>\n",
       "<table border=\"1\" class=\"dataframe\">\n",
       "  <thead>\n",
       "    <tr style=\"text-align: right;\">\n",
       "      <th></th>\n",
       "      <th>url</th>\n",
       "      <th>source</th>\n",
       "      <th>title</th>\n",
       "      <th>author</th>\n",
       "      <th>text</th>\n",
       "    </tr>\n",
       "  </thead>\n",
       "  <tbody>\n",
       "    <tr>\n",
       "      <th>34</th>\n",
       "      <td>http://www.infostormer.com/category/news/us-news/</td>\n",
       "      <td>infostormer</td>\n",
       "      <td>Infostormer.Com</td>\n",
       "      <td>[]</td>\n",
       "      <td>This debate on healthcare has become ridiculou...</td>\n",
       "    </tr>\n",
       "    <tr>\n",
       "      <th>35</th>\n",
       "      <td>http://www.infostormer.com/oxford-study-claims...</td>\n",
       "      <td>infostormer</td>\n",
       "      <td>Oxford Study Claims Rody Duterte Spent $200,00...</td>\n",
       "      <td>['Infostormer']</td>\n",
       "      <td>An Oxford study is claiming that Rody Duterte ...</td>\n",
       "    </tr>\n",
       "    <tr>\n",
       "      <th>36</th>\n",
       "      <td>http://www.infostormer.com/jewish-council-says...</td>\n",
       "      <td>infostormer</td>\n",
       "      <td>Jewish Council Says Anti-Semitism in Germany i...</td>\n",
       "      <td>['Infostormer']</td>\n",
       "      <td>It looks as if Jews in Germany are concerned t...</td>\n",
       "    </tr>\n",
       "    <tr>\n",
       "      <th>37</th>\n",
       "      <td>http://www.infostormer.com/category/news/jewis...</td>\n",
       "      <td>infostormer</td>\n",
       "      <td>Infostormer.Com</td>\n",
       "      <td>[]</td>\n",
       "      <td>Even if you film a video promoting the officia...</td>\n",
       "    </tr>\n",
       "    <tr>\n",
       "      <th>38</th>\n",
       "      <td>http://www.infostormer.com/new-transformers-fi...</td>\n",
       "      <td>infostormer</td>\n",
       "      <td>New Transformers Film Features Spic Teen Lectu...</td>\n",
       "      <td>['Infostormer']</td>\n",
       "      <td>The entire series of Transformers films direct...</td>\n",
       "    </tr>\n",
       "  </tbody>\n",
       "</table>\n",
       "</div>"
      ],
      "text/plain": [
       "                                                  url       source  \\\n",
       "34  http://www.infostormer.com/category/news/us-news/  infostormer   \n",
       "35  http://www.infostormer.com/oxford-study-claims...  infostormer   \n",
       "36  http://www.infostormer.com/jewish-council-says...  infostormer   \n",
       "37  http://www.infostormer.com/category/news/jewis...  infostormer   \n",
       "38  http://www.infostormer.com/new-transformers-fi...  infostormer   \n",
       "\n",
       "                                                title           author  \\\n",
       "34                                    Infostormer.Com               []   \n",
       "35  Oxford Study Claims Rody Duterte Spent $200,00...  ['Infostormer']   \n",
       "36  Jewish Council Says Anti-Semitism in Germany i...  ['Infostormer']   \n",
       "37                                    Infostormer.Com               []   \n",
       "38  New Transformers Film Features Spic Teen Lectu...  ['Infostormer']   \n",
       "\n",
       "                                                 text  \n",
       "34  This debate on healthcare has become ridiculou...  \n",
       "35  An Oxford study is claiming that Rody Duterte ...  \n",
       "36  It looks as if Jews in Germany are concerned t...  \n",
       "37  Even if you film a video promoting the officia...  \n",
       "38  The entire series of Transformers films direct...  "
      ]
     },
     "execution_count": 137,
     "metadata": {},
     "output_type": "execute_result"
    }
   ],
   "source": [
    "path = os.path.join('data', 'indv_file','infostormer.csv')\n",
    "df_infostormer.to_csv(path)\n",
    "# test: read data\n",
    "data_infostormer = pd.read_csv(path)\n",
    "data_infostormer.tail() "
   ]
  },
  {
   "cell_type": "markdown",
   "metadata": {},
   "source": [
    "## 8. newswithviews"
   ]
  },
  {
   "cell_type": "code",
   "execution_count": 81,
   "metadata": {
    "collapsed": false,
    "scrolled": true
   },
   "outputs": [
    {
     "name": "stdout",
     "output_type": "stream",
     "text": [
      "http://www.newswithviews.com\n",
      "http://southernoregon.newswithviews.com/josephine-county-is-suing-the-federal-government/\n",
      "http://southernoregon.newswithviews.com/update-on-josephine-county-gmo-laws/\n",
      "https://newswithviews.com/supreme-court-rules-in-favor-of-trumps-anti-terrorism-travel-law/\n",
      "http://southernoregon.newswithviews.com/trump-campaign-worker-dr-diann-morrrison-will-speak-in-grants-pass-to-josephine-county-republicans/\n",
      "http://nwpr.org/post/oregon-governor-issues-executive-order-meant-solidify-states-sanctuary-status\n",
      "https://newswithviews.com/to-russia-with-love-part-3/\n",
      "https://newswithviews.com/evangelicals-pray-for-president-in-w-h-democrats-outraged/\n",
      "http://www.nbcnews.com/feature/college-game-plan/mental-health-problems-rising-among-college-students-n777286\n",
      "https://newswithviews.com/unashamed-anti-zionism-and-demagoguery-of-pastor-chuck-baldwin/\n",
      "https://newswithviews.com/left-montana-going-to-georgia-to-help-republican-karen-handel/\n",
      "http://www.washingtontimes.com/news/2017/mar/22/us-heading-toward-lawlessness/\n",
      "http://southernoregon.newswithviews.com/san-diego-school-board-cair-to-help-teach-your-kids-sharia-law/\n",
      "https://newswithviews.com/deep-state-trio-comey-rosenstein-and-mueller-aim-to-destroy-trump/\n",
      "https://newswithviews.com/emerging-truth-obama-and-ag-lynch-authorized-spying-on-president-trump/\n",
      "http://southernoregon.newswithviews.com/keep-government-accountable-vote-no-on-all-3-property-tax-measures/\n",
      "https://newswithviews.com/new-deep-state-strategy-denying-president-trump-secured-secrets-and-intelligence/\n",
      "https://newswithviews.com/the-fake-news-must-whither-and-die/\n",
      "https://newswithviews.com/six-reasons-why-the-christian-retail-industry-is-struggling/\n",
      "https://newswithviews.com/fda-protects-americans-from-amish-salve/\n",
      "https://newswithviews.com/pro-life-activists-to-sen-mcconnell-stop-funding-planned-parenthood-death-centers/\n",
      "http://www.foxnews.com/politics/2017/06/29/house-passes-kate-s-law-as-part-illegal-immigrant-crackdown.html\n",
      "https://newswithviews.com/chuck-baldwin-netanyahu-jews-and-the-christians/\n",
      "https://newswithviews.com/what-is-the-purpose-of-government/\n",
      "http://www.oregonlive.com/health/index.ssf/2017/07/top_10_oregon_counties_for_gon.html\n",
      "http://southernoregon.newswithviews.com/thousands-marched-for-trump-in-salem-oregon/\n",
      "http://southernoregon.newswithviews.com/why-having-a-good-legal-counsel-is-critical-to-the-success-of-josephine-county/\n",
      "https://newswithviews.com/does-the-constitution-need-to-be-interpreted/\n",
      "http://www.lifenews.com/2017/02/16/oregon-senate-bill-494-would-allow-starving-mentally-ill-patients-to-death/\n",
      "https://newswithviews.com/so-called-antifascism-groups-becoming-bigger-threat-to-u-s-says-intelligence-expert/\n",
      "https://newswithviews.com/i-shared-trumps-annoyance-at-jeff-sessions/\n",
      "https://newswithviews.com/cops-claim-progressive-activists-more-dangerous-than-islamists-and-ms-13/\n",
      "https://newswithviews.com/americans-oblivious-to-the-approaching-storm/\n",
      "https://newswithviews.com/unashamed-anti-zionism-and-demagoguery-of-pastor-chuck-baldwin-2/\n",
      "https://newswithviews.com/the-mullahs-ruling-iran-are-not-iranians/\n",
      "http://southernoregon.newswithviews.com/josephine-county-republicans-oppose-property-tax-measure-17-80/\n",
      "http://theredelephants.com/breaking-trump-activist-stabbed-9-times/\n",
      "https://newswithviews.com/they-really-are-insane-no-kidding/\n",
      "https://newswithviews.com/marriage-is-no-business-of-the-state/\n",
      "https://en.wikipedia.org/wiki/Civil_forfeiture_in_the_United_States\n",
      "https://newswithviews.com/the-message-reveals-truth-about-eugene-peterson-but-not-god/\n",
      "http://southernoregon.newswithviews.com/know-more-about-your-county-government/\n",
      "https://newswithviews.com/dhs-takes-child-from-mother-gives-custody-to-alleged-sex-abuser/\n",
      "https://newswithviews.com/sen-john-mccain-involved-in-deep-state-espionage-against-trump/\n",
      "https://newswithviews.com/restoring-what-it-means-to-be-an-american/\n",
      "https://newswithviews.com/lawlessness-in-the-corridors-of-congress-chamber-of-the-supreme-court-and-on-all-levels/\n",
      "https://newswithviews.com/did-trump-really-win-the-election/\n",
      "http://southernoregon.newswithviews.com/fethullah-gulen-the-hand-that-rocks-americas-charter-school-cradle/\n",
      "https://newswithviews.com/the-perils-of-trial-by-congressional-committee/\n",
      "https://newswithviews.com/sessions-should-withdraw-his-recusal-and-fire-mueller/\n",
      "https://newswithviews.com/vaccines-good-or-bad-part-8/\n",
      "http://southernoregon.newswithviews.com/supremes-overturn-gorsuch-ruling-and-dems-vow-to-filibuster/\n",
      "https://newswithviews.com/catastrophic-news-will-you-be-next/\n",
      "https://newswithviews.com/nyt-interviews-trump-about-sessions-recusal/\n",
      "https://www.yahoo.com/news/us-rolls-travel-ban-hit-162422613.html\n",
      "https://newswithviews.com/declaration-of-independence-our-rights-come-from-god/\n",
      "http://southernoregon.newswithviews.com/the-march-to-world-war-iii/\n",
      "http://www.mailtribune.com/news/20170424/talent-voters-to-decide-on-diesel-tax\n",
      "http://www.mailtribune.com/article/20120724/news/207240315\n",
      "https://newswithviews.com/author/news/\n",
      "https://newswithviews.com/fbi-warned-to-retrieve-documents-removed-unlawfully-by-fired-fbi-director/\n",
      "The total number of newswithviews articles is  60\n"
     ]
    }
   ],
   "source": [
    "url_newswithviews = 'http://www.newswithviews.com'\n",
    "df_newswithviews = generate_data(url_newswithviews)"
   ]
  },
  {
   "cell_type": "code",
   "execution_count": 83,
   "metadata": {
    "collapsed": false
   },
   "outputs": [
    {
     "data": {
      "text/plain": [
       "(60, 4)"
      ]
     },
     "execution_count": 83,
     "metadata": {},
     "output_type": "execute_result"
    }
   ],
   "source": [
    "df_newswithviews.shape"
   ]
  },
  {
   "cell_type": "code",
   "execution_count": 86,
   "metadata": {
    "collapsed": false
   },
   "outputs": [],
   "source": [
    "df_newswithviews = \\\n",
    "df_newswithviews.drop(['http://nwpr.org/post/oregon-governor-issues-executive-order-meant-solidify-states-sanctuary-status', \\\n",
    "                       'http://www.nbcnews.com/feature/college-game-plan/mental-health-problems-rising-among-college-students-n777286', \\\n",
    "                       'http://www.washingtontimes.com/news/2017/mar/22/us-heading-toward-lawlessness/',\\\n",
    "                       'http://www.foxnews.com/politics/2017/06/29/house-passes-kate-s-law-as-part-illegal-immigrant-crackdown.html', \\\n",
    "                       'http://www.oregonlive.com/health/index.ssf/2017/07/top_10_oregon_counties_for_gon.html',\\\n",
    "                       'http://www.lifenews.com/2017/02/16/oregon-senate-bill-494-would-allow-starving-mentally-ill-patients-to-death/',\\\n",
    "                       'http://theredelephants.com/breaking-trump-activist-stabbed-9-times/',\\\n",
    "                       'https://en.wikipedia.org/wiki/Civil_forfeiture_in_the_United_States', \\\n",
    "                       'https://www.yahoo.com/news/us-rolls-travel-ban-hit-162422613.html', \\\n",
    "                       'http://www.mailtribune.com/news/20170424/talent-voters-to-decide-on-diesel-tax', \\\n",
    "                       'http://www.mailtribune.com/article/20120724/news/207240315'\n",
    "                      ])"
   ]
  },
  {
   "cell_type": "code",
   "execution_count": 87,
   "metadata": {
    "collapsed": false
   },
   "outputs": [
    {
     "data": {
      "text/plain": [
       "(49, 4)"
      ]
     },
     "execution_count": 87,
     "metadata": {},
     "output_type": "execute_result"
    }
   ],
   "source": [
    "df_newswithviews.shape"
   ]
  },
  {
   "cell_type": "code",
   "execution_count": 138,
   "metadata": {
    "collapsed": false,
    "scrolled": true
   },
   "outputs": [
    {
     "data": {
      "text/html": [
       "<div>\n",
       "<table border=\"1\" class=\"dataframe\">\n",
       "  <thead>\n",
       "    <tr style=\"text-align: right;\">\n",
       "      <th></th>\n",
       "      <th>url</th>\n",
       "      <th>source</th>\n",
       "      <th>title</th>\n",
       "      <th>author</th>\n",
       "      <th>text</th>\n",
       "    </tr>\n",
       "  </thead>\n",
       "  <tbody>\n",
       "    <tr>\n",
       "      <th>44</th>\n",
       "      <td>https://newswithviews.com/nyt-interviews-trump...</td>\n",
       "      <td>newswithviews</td>\n",
       "      <td>NYT Interviews Trump About Sessions’ Recusal</td>\n",
       "      <td>[]</td>\n",
       "      <td>NYT Interviews Trump About Sessions’ Recusal\\n...</td>\n",
       "    </tr>\n",
       "    <tr>\n",
       "      <th>45</th>\n",
       "      <td>https://newswithviews.com/declaration-of-indep...</td>\n",
       "      <td>newswithviews</td>\n",
       "      <td>Declaration of Independence: Our Rights Come F...</td>\n",
       "      <td>[]</td>\n",
       "      <td>Declaration of Independence: Our Rights Come F...</td>\n",
       "    </tr>\n",
       "    <tr>\n",
       "      <th>46</th>\n",
       "      <td>http://southernoregon.newswithviews.com/the-ma...</td>\n",
       "      <td>newswithviews</td>\n",
       "      <td>The March to World War III</td>\n",
       "      <td>[]</td>\n",
       "      <td>The March to World War III\\n\\nApril 24, 2017\\n...</td>\n",
       "    </tr>\n",
       "    <tr>\n",
       "      <th>47</th>\n",
       "      <td>https://newswithviews.com/author/news/</td>\n",
       "      <td>newswithviews</td>\n",
       "      <td>News With Views</td>\n",
       "      <td>['News With Views']</td>\n",
       "      <td>No Doctor or Insurance needed! Learn More</td>\n",
       "    </tr>\n",
       "    <tr>\n",
       "      <th>48</th>\n",
       "      <td>https://newswithviews.com/fbi-warned-to-retrie...</td>\n",
       "      <td>newswithviews</td>\n",
       "      <td>FBI Warned To Retrieve Documents Removed Unlaw...</td>\n",
       "      <td>[]</td>\n",
       "      <td>FBI Warned To Retrieve Documents Removed Unlaw...</td>\n",
       "    </tr>\n",
       "  </tbody>\n",
       "</table>\n",
       "</div>"
      ],
      "text/plain": [
       "                                                  url         source  \\\n",
       "44  https://newswithviews.com/nyt-interviews-trump...  newswithviews   \n",
       "45  https://newswithviews.com/declaration-of-indep...  newswithviews   \n",
       "46  http://southernoregon.newswithviews.com/the-ma...  newswithviews   \n",
       "47             https://newswithviews.com/author/news/  newswithviews   \n",
       "48  https://newswithviews.com/fbi-warned-to-retrie...  newswithviews   \n",
       "\n",
       "                                                title               author  \\\n",
       "44       NYT Interviews Trump About Sessions’ Recusal                   []   \n",
       "45  Declaration of Independence: Our Rights Come F...                   []   \n",
       "46                         The March to World War III                   []   \n",
       "47                                    News With Views  ['News With Views']   \n",
       "48  FBI Warned To Retrieve Documents Removed Unlaw...                   []   \n",
       "\n",
       "                                                 text  \n",
       "44  NYT Interviews Trump About Sessions’ Recusal\\n...  \n",
       "45  Declaration of Independence: Our Rights Come F...  \n",
       "46  The March to World War III\\n\\nApril 24, 2017\\n...  \n",
       "47          No Doctor or Insurance needed! Learn More  \n",
       "48  FBI Warned To Retrieve Documents Removed Unlaw...  "
      ]
     },
     "execution_count": 138,
     "metadata": {},
     "output_type": "execute_result"
    }
   ],
   "source": [
    "path = os.path.join('data', 'indv_file','newswithviews.csv')\n",
    "df_newswithviews.to_csv(path)\n",
    "# test: read data\n",
    "data_newswithviews = pd.read_csv(path)\n",
    "data_newswithviews.tail() "
   ]
  },
  {
   "cell_type": "code",
   "execution_count": null,
   "metadata": {
    "collapsed": true
   },
   "outputs": [],
   "source": []
  },
  {
   "cell_type": "code",
   "execution_count": 105,
   "metadata": {
    "collapsed": false
   },
   "outputs": [
    {
     "data": {
      "text/plain": [
       "62"
      ]
     },
     "execution_count": 105,
     "metadata": {},
     "output_type": "execute_result"
    }
   ],
   "source": [
    "# check the number of articles in the website before scraping \n",
    "# some websites do not have many articles\n",
    "url = 'http://politicot.com'\n",
    "articles_list = newspaper.build(url,memoize_articles=False)\n",
    "articles_list.size()"
   ]
  },
  {
   "cell_type": "markdown",
   "metadata": {},
   "source": [
    "## 9. nephef"
   ]
  },
  {
   "cell_type": "code",
   "execution_count": 106,
   "metadata": {
    "collapsed": false
   },
   "outputs": [
    {
     "name": "stdout",
     "output_type": "stream",
     "text": [
      "http://www.nephef.com\n",
      "http://www.nephef.com/key-rules-cold-weather-weight-loss/#mh-comments\n",
      "http://www.nephef.com/whats-covfefe-trump-tweet-unites-bewildered-nation/\n",
      "http://www.nephef.com/10-worst-foods-heart-according-cardiologist/\n",
      "http://www.nephef.com/richard-gere-blasts-trump-immigration-policy-must-embrace-love/\n",
      "http://www.nephef.com/whoopi-goldberg-navy-seal-widow-looking-attention/\n",
      "http://www.nephef.com/fat-cutter-drink-extreme-weight-loss/#mh-comments\n",
      "http://www.nephef.com/dhs-secretary-donald-trump-working-streamlined-travel-ban/\n",
      "http://www.nephef.com/trump-may-affirm-special-relationship-us-uk/\n",
      "http://www.nephef.com/category/news/world/\n",
      "http://www.nephef.com/18-people-fired-participating-day-without-immigrants/\n",
      "http://www.nephef.com/category/news/u-s-a/\n",
      "http://www.nephef.com/key-rules-cold-weather-weight-loss/\n",
      "http://www.nephef.com/trying-lose-weight-winter-5-tips-can-help/#mh-comments\n",
      "http://www.nephef.com/fat-cutter-drink-extreme-weight-loss/\n",
      "http://www.nephef.com/category/news/crime/\n",
      "http://www.nephef.com/girls-daring-love-making-positions-will-give-greater-penetration/#mh-comments\n",
      "http://www.nephef.com/trump-will-withdraw-u-s-paris-climate-agreement/\n",
      "http://www.nephef.com/covfefe-tells-need-know-donald-trump/#mh-comments\n",
      "http://www.nephef.com/donald-trump-attacks-fbi-director-james-comey-testifies-russia-investigation/\n",
      "http://www.nephef.com/dont-let-muslim-registry-undo-america/\n",
      "http://www.nephef.com/10-worst-foods-heart-according-cardiologist/#mh-comments\n",
      "http://www.nephef.com/whats-covfefe-trump-tweet-unites-bewildered-nation/#mh-comments\n",
      "http://www.nephef.com/category/news/\n",
      "http://www.nephef.com/espns-mike-ditka-blasts-obama-worst-president-ever-says-hell-probably-vote-trump/\n",
      "http://www.nephef.com/disturbing-video-black-lives-matter-protestor-mowed-oncoming-car/\n",
      "http://www.nephef.com/breaking-trump-goes-next-level-reverses-1-obamas-biggest-power-grabs/\n",
      "http://www.nephef.com/trump-will-withdraw-u-s-paris-climate-agreement/#mh-comments\n",
      "http://www.nephef.com/girls-daring-love-making-positions-will-give-greater-penetration/\n",
      "http://www.nephef.com/leader-next-womens-march-palestinian-terrorist-took-part-two-massacres-israelis-worked-obamacare/\n",
      "http://www.nephef.com/covfefe-tells-need-know-donald-trump/\n",
      "http://www.nephef.com/trying-lose-weight-winter-5-tips-can-help/\n",
      "The total number of nephef articles is  31\n"
     ]
    }
   ],
   "source": [
    "url_nephef = 'http://www.nephef.com'\n",
    "df_nephef = generate_data(url_nephef)"
   ]
  },
  {
   "cell_type": "code",
   "execution_count": 139,
   "metadata": {
    "collapsed": false
   },
   "outputs": [
    {
     "data": {
      "text/html": [
       "<div>\n",
       "<table border=\"1\" class=\"dataframe\">\n",
       "  <thead>\n",
       "    <tr style=\"text-align: right;\">\n",
       "      <th></th>\n",
       "      <th>url</th>\n",
       "      <th>source</th>\n",
       "      <th>title</th>\n",
       "      <th>author</th>\n",
       "      <th>text</th>\n",
       "    </tr>\n",
       "  </thead>\n",
       "  <tbody>\n",
       "    <tr>\n",
       "      <th>26</th>\n",
       "      <td>http://www.nephef.com/trump-will-withdraw-u-s-...</td>\n",
       "      <td>nephef</td>\n",
       "      <td>Trump Will Withdraw U.S. From Paris Climate Ag...</td>\n",
       "      <td>[]</td>\n",
       "      <td>Mr. Trump said that the United States will imm...</td>\n",
       "    </tr>\n",
       "    <tr>\n",
       "      <th>27</th>\n",
       "      <td>http://www.nephef.com/girls-daring-love-making...</td>\n",
       "      <td>nephef</td>\n",
       "      <td>Girls, These Daring Love Making Positions Will...</td>\n",
       "      <td>[]</td>\n",
       "      <td>It gets truly troublesome when you are comfort...</td>\n",
       "    </tr>\n",
       "    <tr>\n",
       "      <th>28</th>\n",
       "      <td>http://www.nephef.com/leader-next-womens-march...</td>\n",
       "      <td>nephef</td>\n",
       "      <td>Leader of next Women’s March is “Palestinian” ...</td>\n",
       "      <td>[]</td>\n",
       "      <td>The document was co-authored by, among others,...</td>\n",
       "    </tr>\n",
       "    <tr>\n",
       "      <th>29</th>\n",
       "      <td>http://www.nephef.com/covfefe-tells-need-know-...</td>\n",
       "      <td>nephef</td>\n",
       "      <td>‘Covfefe’ tells you all you need to know about...</td>\n",
       "      <td>[]</td>\n",
       "      <td>And then, “covfefe.”\\n\\nWhat it should prove i...</td>\n",
       "    </tr>\n",
       "    <tr>\n",
       "      <th>30</th>\n",
       "      <td>http://www.nephef.com/trying-lose-weight-winte...</td>\n",
       "      <td>nephef</td>\n",
       "      <td>Trying To Lose Weight This Winter? These 5 Tip...</td>\n",
       "      <td>[]</td>\n",
       "      <td>Come New Years Day, most people kick into high...</td>\n",
       "    </tr>\n",
       "  </tbody>\n",
       "</table>\n",
       "</div>"
      ],
      "text/plain": [
       "                                                  url  source  \\\n",
       "26  http://www.nephef.com/trump-will-withdraw-u-s-...  nephef   \n",
       "27  http://www.nephef.com/girls-daring-love-making...  nephef   \n",
       "28  http://www.nephef.com/leader-next-womens-march...  nephef   \n",
       "29  http://www.nephef.com/covfefe-tells-need-know-...  nephef   \n",
       "30  http://www.nephef.com/trying-lose-weight-winte...  nephef   \n",
       "\n",
       "                                                title author  \\\n",
       "26  Trump Will Withdraw U.S. From Paris Climate Ag...     []   \n",
       "27  Girls, These Daring Love Making Positions Will...     []   \n",
       "28  Leader of next Women’s March is “Palestinian” ...     []   \n",
       "29  ‘Covfefe’ tells you all you need to know about...     []   \n",
       "30  Trying To Lose Weight This Winter? These 5 Tip...     []   \n",
       "\n",
       "                                                 text  \n",
       "26  Mr. Trump said that the United States will imm...  \n",
       "27  It gets truly troublesome when you are comfort...  \n",
       "28  The document was co-authored by, among others,...  \n",
       "29  And then, “covfefe.”\\n\\nWhat it should prove i...  \n",
       "30  Come New Years Day, most people kick into high...  "
      ]
     },
     "execution_count": 139,
     "metadata": {},
     "output_type": "execute_result"
    }
   ],
   "source": [
    "path = os.path.join('data','indv_file', 'nephef.csv')\n",
    "df_nephef.to_csv(path)\n",
    "# test: read data\n",
    "data_nephef = pd.read_csv(path)\n",
    "data_nephef.tail() "
   ]
  },
  {
   "cell_type": "markdown",
   "metadata": {},
   "source": [
    "## 10. local31news"
   ]
  },
  {
   "cell_type": "code",
   "execution_count": 109,
   "metadata": {
    "collapsed": false
   },
   "outputs": [
    {
     "name": "stdout",
     "output_type": "stream",
     "text": [
      "http://local31news.com\n",
      "http://local31news.com/featured/how-daylight-savings-affects-us-in-the-north/\n",
      "http://local31news.com/featured/how-brits-see-american-tv/\n",
      "http://local31news.com/prescott-arizona/jennifer-aniston-said-this-about-prescott-arizona-residents-2/\n",
      "http://local31news.com/featured/elephant-roars-like-a-dinosaur/\n",
      "http://local31news.com/portland-texas/jim-carrey-moves-to-portland-texas-tells-us-why/\n",
      "http://local31news.com/featured/teens-save-kidnap-victim-who-mouthed-help-me-from-car/\n",
      "http://local31news.com/featured/the-scariest-man-on-the-planet-has-the-weakest-battle-scream-on-the-planet/\n",
      "http://local31news.com/featured/americas-oldest-living-veteran-credits-his-long-life-to-cigars-whiskey-and-guns/\n",
      "http://local31news.com/featured/pastor-fails-miserably-when-interviewed-by-court-about-how-he-lavishly-spends-the-ministrys-funds/\n",
      "http://local31news.com/noblesville-indiana/tom-hanks-explains-why-hes-moving-to-noblesville-indiana/\n",
      "http://local31news.com/featured/temps-in-arizona-exceed-the-melting-point-of-copper-meteorologist-just-goes-with-it/\n",
      "http://local31news.com/featured/he-built-an-airplane-and-cut-his-commute-by-seven-minutes/\n",
      "http://local31news.com/featured/how-to-talk-minnesotan/\n",
      "http://local31news.com/featured/92-year-old-woman-listens-to-her-song-performed-by-willie-nelson-for-the-first-time/\n",
      "http://local31news.com/featured/carl-sagan-explains-the-4th-dimension-in-terms-some-of-us-actually-comprehend/\n",
      "http://local31news.com/kirksville-missouri/matthew-mcconaughey-had-this-to-say-about-kirksville-missouri-residents-2/\n",
      "http://local31news.com/featured/biggie-smalls-calms-down-crying-baby/\n",
      "http://local31news.com/wilmington-delaware/samuel-l-jackson-says-this-about-the-residents-of-wilmington-delaware/\n",
      "http://local31news.com/featured/chris-pratt-accidentally-gives-away-travel-trivia-prize/\n",
      "http://local31news.com/mesquite-nevada/matt-damon-had-this-to-say-about-the-residents-of-mesquite-nevada/\n",
      "http://local31news.com/featured/shark-breaches-diving-cage-with-diver-inside/\n",
      "The total number of local31news articles is  21\n"
     ]
    }
   ],
   "source": [
    "url_local31news = 'http://local31news.com'\n",
    "df_local31news = generate_data(url_local31news)"
   ]
  },
  {
   "cell_type": "code",
   "execution_count": 140,
   "metadata": {
    "collapsed": false
   },
   "outputs": [
    {
     "data": {
      "text/html": [
       "<div>\n",
       "<table border=\"1\" class=\"dataframe\">\n",
       "  <thead>\n",
       "    <tr style=\"text-align: right;\">\n",
       "      <th></th>\n",
       "      <th>url</th>\n",
       "      <th>source</th>\n",
       "      <th>title</th>\n",
       "      <th>author</th>\n",
       "      <th>text</th>\n",
       "    </tr>\n",
       "  </thead>\n",
       "  <tbody>\n",
       "    <tr>\n",
       "      <th>16</th>\n",
       "      <td>http://local31news.com/featured/biggie-smalls-...</td>\n",
       "      <td>local31news</td>\n",
       "      <td>Biggie Smalls Calms Down Crying Baby</td>\n",
       "      <td>[]</td>\n",
       "      <td>“I appreciate that he was rigorous enough in h...</td>\n",
       "    </tr>\n",
       "    <tr>\n",
       "      <th>17</th>\n",
       "      <td>http://local31news.com/wilmington-delaware/sam...</td>\n",
       "      <td>local31news</td>\n",
       "      <td>Samuel L. Jackson Says This About the Resident...</td>\n",
       "      <td>[]</td>\n",
       "      <td>WILMINGTON, Delaware – During a radio intervie...</td>\n",
       "    </tr>\n",
       "    <tr>\n",
       "      <th>18</th>\n",
       "      <td>http://local31news.com/featured/chris-pratt-ac...</td>\n",
       "      <td>local31news</td>\n",
       "      <td>Chris Pratt Accidentally Gives Away Travel Tri...</td>\n",
       "      <td>[]</td>\n",
       "      <td>Due to some shady behavior on game shows in th...</td>\n",
       "    </tr>\n",
       "    <tr>\n",
       "      <th>19</th>\n",
       "      <td>http://local31news.com/mesquite-nevada/matt-da...</td>\n",
       "      <td>local31news</td>\n",
       "      <td>Matt Damon Had This to Say About the Residents...</td>\n",
       "      <td>[]</td>\n",
       "      <td>MESQUITE, Nevada – During a radio interview th...</td>\n",
       "    </tr>\n",
       "    <tr>\n",
       "      <th>20</th>\n",
       "      <td>http://local31news.com/featured/shark-breaches...</td>\n",
       "      <td>local31news</td>\n",
       "      <td>Shark Breaches Diving Cage with Diver Inside</td>\n",
       "      <td>[]</td>\n",
       "      <td>Pretty lame to see these sharks are baited so ...</td>\n",
       "    </tr>\n",
       "  </tbody>\n",
       "</table>\n",
       "</div>"
      ],
      "text/plain": [
       "                                                  url       source  \\\n",
       "16  http://local31news.com/featured/biggie-smalls-...  local31news   \n",
       "17  http://local31news.com/wilmington-delaware/sam...  local31news   \n",
       "18  http://local31news.com/featured/chris-pratt-ac...  local31news   \n",
       "19  http://local31news.com/mesquite-nevada/matt-da...  local31news   \n",
       "20  http://local31news.com/featured/shark-breaches...  local31news   \n",
       "\n",
       "                                                title author  \\\n",
       "16               Biggie Smalls Calms Down Crying Baby     []   \n",
       "17  Samuel L. Jackson Says This About the Resident...     []   \n",
       "18  Chris Pratt Accidentally Gives Away Travel Tri...     []   \n",
       "19  Matt Damon Had This to Say About the Residents...     []   \n",
       "20       Shark Breaches Diving Cage with Diver Inside     []   \n",
       "\n",
       "                                                 text  \n",
       "16  “I appreciate that he was rigorous enough in h...  \n",
       "17  WILMINGTON, Delaware – During a radio intervie...  \n",
       "18  Due to some shady behavior on game shows in th...  \n",
       "19  MESQUITE, Nevada – During a radio interview th...  \n",
       "20  Pretty lame to see these sharks are baited so ...  "
      ]
     },
     "execution_count": 140,
     "metadata": {},
     "output_type": "execute_result"
    }
   ],
   "source": [
    "path = os.path.join('data','indv_file', 'local31news.csv')\n",
    "df_local31news.to_csv(path)\n",
    "# test: read data\n",
    "data_local31news = pd.read_csv(path)\n",
    "data_local31news.tail() "
   ]
  },
  {
   "cell_type": "markdown",
   "metadata": {},
   "source": [
    "## 11. lastdeplorables"
   ]
  },
  {
   "cell_type": "code",
   "execution_count": 112,
   "metadata": {
    "collapsed": false
   },
   "outputs": [
    {
     "name": "stdout",
     "output_type": "stream",
     "text": [
      "http://lastdeplorables.com\n",
      "http://lastdeplorables.com/obama-caught-sneaking-back-u-s-alaska/\n",
      "http://lastdeplorables.com/muslim-cadet-refuses-remove-hijab-military-college-wipes-smug-grin-off-face/\n",
      "http://lastdeplorables.com/category/news/\n",
      "http://lastdeplorables.com/barack-just-broke-law-take-president-secretly-met-behind-trumps-back/\n",
      "http://lastdeplorables.com/don-lemon-walks-off-cnn-set-guest-calls-fake-news/\n",
      "http://lastdeplorables.com/muslim-punches-white-bus-driver-allah-forgot-teach-one-thing-video/\n",
      "http://lastdeplorables.com/breaking-look-just-shot-sky-alaska-north-korea/\n",
      "http://lastdeplorables.com/guilty-guess-got-caught-smuggling-muslims-united-states/\n",
      "http://lastdeplorables.com/facebook-destroys-massive-pro-trump-group-deplorables-attack/\n",
      "http://lastdeplorables.com/breaking-california-wants-18-million-else/\n",
      "http://lastdeplorables.com/president-donald-trump-sends-plane-save-charlie-gards-life/\n",
      "http://lastdeplorables.com/angry-muslim-confronts-cashier-wearing-u-s-flag-happened-next-store-cheering/\n",
      "http://lastdeplorables.com/muslims-wanted-texas-mayor-fired-banned-sharia-courts-check-epic-response/\n",
      "http://lastdeplorables.com/air-force-officer-witnessed-attack-seals-killed-bin-laden-just-said-lied-obama-hell-pay/\n",
      "http://lastdeplorables.com/breaking-federal-judges-invite-muslims-veto-americans-election/\n",
      "http://lastdeplorables.com/j-k-rowling-received-unexpected-request-twitter-users/\n",
      "http://lastdeplorables.com/woman-sets-husband-fire-raping-7-year-old-daughter/\n",
      "http://lastdeplorables.com/photos-first-lady-melania-returns-white-house-stunning-chic-monochrome-outfit/\n",
      "http://lastdeplorables.com/michelle-just-made-racist-america-pay-slavery-forced-endure-first-lady/\n",
      "http://lastdeplorables.com/trumps-border-wall-one-new-feature-enrages-mexico-video/\n",
      "http://lastdeplorables.com/trumps-new-air-force-one-just-arrived-look-caught-everyones-attention-different/\n",
      "http://lastdeplorables.com/whoopi-liberal-hollywood-celebrities-real-victims-video/\n",
      "http://lastdeplorables.com/obama-abruptly-ends-vacay-shows-d-c-day-trump-gets-back-forgets-hes-not-pres-anymore/\n",
      "http://lastdeplorables.com/24-hours-ohio-muslim-charged-terror-plot-fbi-discovers-terrifying-find-jail-cell/\n",
      "The total number of lastdeplorables articles is  24\n"
     ]
    }
   ],
   "source": [
    "url_lastdeplorables = 'http://lastdeplorables.com'\n",
    "df_lastdeplorables = generate_data(url_lastdeplorables)"
   ]
  },
  {
   "cell_type": "code",
   "execution_count": 141,
   "metadata": {
    "collapsed": false
   },
   "outputs": [
    {
     "data": {
      "text/html": [
       "<div>\n",
       "<table border=\"1\" class=\"dataframe\">\n",
       "  <thead>\n",
       "    <tr style=\"text-align: right;\">\n",
       "      <th></th>\n",
       "      <th>url</th>\n",
       "      <th>source</th>\n",
       "      <th>title</th>\n",
       "      <th>author</th>\n",
       "      <th>text</th>\n",
       "    </tr>\n",
       "  </thead>\n",
       "  <tbody>\n",
       "    <tr>\n",
       "      <th>19</th>\n",
       "      <td>http://lastdeplorables.com/trumps-border-wall-...</td>\n",
       "      <td>lastdeplorables</td>\n",
       "      <td>Trump’s Border Wall Has One New Feature That E...</td>\n",
       "      <td>['Robert Amnor']</td>\n",
       "      <td>Of all the wonderful things that President Don...</td>\n",
       "    </tr>\n",
       "    <tr>\n",
       "      <th>20</th>\n",
       "      <td>http://lastdeplorables.com/trumps-new-air-forc...</td>\n",
       "      <td>lastdeplorables</td>\n",
       "      <td>Trump’s New Air Force One Just Arrived, Look W...</td>\n",
       "      <td>['Robert Amnor']</td>\n",
       "      <td>Seeing how the president receives many threats...</td>\n",
       "    </tr>\n",
       "    <tr>\n",
       "      <th>21</th>\n",
       "      <td>http://lastdeplorables.com/whoopi-liberal-holl...</td>\n",
       "      <td>lastdeplorables</td>\n",
       "      <td>Whoopi: Liberal Hollywood Celebrities ARE THE ...</td>\n",
       "      <td>['Robert Amnor']</td>\n",
       "      <td>Whoopi Goldberg of The View is tired of all th...</td>\n",
       "    </tr>\n",
       "    <tr>\n",
       "      <th>22</th>\n",
       "      <td>http://lastdeplorables.com/obama-abruptly-ends...</td>\n",
       "      <td>lastdeplorables</td>\n",
       "      <td>Obama Abruptly Ends Vacay And Shows Up In D.C....</td>\n",
       "      <td>['Robert Amnor']</td>\n",
       "      <td>Obama has had an extremely difficult time reli...</td>\n",
       "    </tr>\n",
       "    <tr>\n",
       "      <th>23</th>\n",
       "      <td>http://lastdeplorables.com/24-hours-ohio-musli...</td>\n",
       "      <td>lastdeplorables</td>\n",
       "      <td>24 Hours After Ohio Muslim Is Charged In Terro...</td>\n",
       "      <td>['Robert Amnor']</td>\n",
       "      <td>Time and time again, Muslims continue to prove...</td>\n",
       "    </tr>\n",
       "  </tbody>\n",
       "</table>\n",
       "</div>"
      ],
      "text/plain": [
       "                                                  url           source  \\\n",
       "19  http://lastdeplorables.com/trumps-border-wall-...  lastdeplorables   \n",
       "20  http://lastdeplorables.com/trumps-new-air-forc...  lastdeplorables   \n",
       "21  http://lastdeplorables.com/whoopi-liberal-holl...  lastdeplorables   \n",
       "22  http://lastdeplorables.com/obama-abruptly-ends...  lastdeplorables   \n",
       "23  http://lastdeplorables.com/24-hours-ohio-musli...  lastdeplorables   \n",
       "\n",
       "                                                title            author  \\\n",
       "19  Trump’s Border Wall Has One New Feature That E...  ['Robert Amnor']   \n",
       "20  Trump’s New Air Force One Just Arrived, Look W...  ['Robert Amnor']   \n",
       "21  Whoopi: Liberal Hollywood Celebrities ARE THE ...  ['Robert Amnor']   \n",
       "22  Obama Abruptly Ends Vacay And Shows Up In D.C....  ['Robert Amnor']   \n",
       "23  24 Hours After Ohio Muslim Is Charged In Terro...  ['Robert Amnor']   \n",
       "\n",
       "                                                 text  \n",
       "19  Of all the wonderful things that President Don...  \n",
       "20  Seeing how the president receives many threats...  \n",
       "21  Whoopi Goldberg of The View is tired of all th...  \n",
       "22  Obama has had an extremely difficult time reli...  \n",
       "23  Time and time again, Muslims continue to prove...  "
      ]
     },
     "execution_count": 141,
     "metadata": {},
     "output_type": "execute_result"
    }
   ],
   "source": [
    "path = os.path.join('data','indv_file', 'lastdeplorables.csv')\n",
    "df_lastdeplorables.to_csv(path)\n",
    "# test: read data\n",
    "data_lastdeplorables = pd.read_csv(path)\n",
    "data_lastdeplorables.tail() "
   ]
  },
  {
   "cell_type": "markdown",
   "metadata": {},
   "source": [
    "## 12. ladylibertysnews"
   ]
  },
  {
   "cell_type": "code",
   "execution_count": 115,
   "metadata": {
    "collapsed": false
   },
   "outputs": [
    {
     "name": "stdout",
     "output_type": "stream",
     "text": [
      "http://ladylibertysnews.com\n",
      "http://ladylibertysnews.com/stop-operation-soros-sos-huge-movement-overthrow-george-soros-explodes-macedonia/\n",
      "http://ladylibertysnews.com/australia-calling-total-ban-muslim-immigration-mosques-burkas/\n",
      "http://ladylibertysnews.com/category/news/\n",
      "http://ladylibertysnews.com/drug-dealer-released-early-obama-program-murders-woman-kids/\n",
      "http://ladylibertysnews.com/caught-webs-obama-unmasking-probe-just-blew-wide-open/\n",
      "http://ladylibertysnews.com/epic-smackdown-lou-dobbs-corrupt-history-obama-just-hit-fainting-couch/\n",
      "http://ladylibertysnews.com/fire-brimstone-trump-terrifies-republican-senators-ultimate-threat/\n",
      "http://ladylibertysnews.com/thousands-muslims-take-streets-nyc-protest-trump-refugee-ban/\n",
      "http://ladylibertysnews.com/neil-7done-counter-strike-supreme-court-just-gave-trump-best-news-life/\n",
      "http://ladylibertysnews.com/muslim-migration-planned-invasion-destroy-western-christendom-according-bachmann/\n",
      "http://ladylibertysnews.com/secret-meeting-trump-mattis-changes-everything/\n",
      "http://ladylibertysnews.com/migrants-take-small-tennessee-town-force-absolute-hell-terrified-christians/\n",
      "http://ladylibertysnews.com/democrats-devastated-jessie-waters-just-ruined-democratic-party-one-brutal-fact/\n",
      "http://ladylibertysnews.com/trump-right-jeff-sessions-just-confirmed-suspectedmake-go-viral/\n",
      "You must `download()` an article first!\n",
      "http://ladylibertysnews.com/rosenstein-just-destroyed-james-comey-one-sentence/\n",
      "http://ladylibertysnews.com/muslims-offended-kids-recite-national-anthem-claim-racist-force/\n",
      "http://ladylibertysnews.com/major-blunder-bill-clintons-former-adviser-slipped-confessed-unthinkable-russia/\n",
      "http://ladylibertysnews.com/liberalism-looks-like-thug-15-kids-13-baby-mommas-zero-jobs/\n",
      "http://ladylibertysnews.com/thugs-thought-home-invasion-rape-good-idea-grandpa-blew-away-shotgun/\n",
      "The total number of ladylibertysnews articles is  19\n"
     ]
    }
   ],
   "source": [
    "url_ladylibertysnews = 'http://ladylibertysnews.com'\n",
    "df_ladylibertysnews = generate_data(url_ladylibertysnews)"
   ]
  },
  {
   "cell_type": "code",
   "execution_count": 142,
   "metadata": {
    "collapsed": false
   },
   "outputs": [
    {
     "data": {
      "text/html": [
       "<div>\n",
       "<table border=\"1\" class=\"dataframe\">\n",
       "  <thead>\n",
       "    <tr style=\"text-align: right;\">\n",
       "      <th></th>\n",
       "      <th>url</th>\n",
       "      <th>source</th>\n",
       "      <th>title</th>\n",
       "      <th>author</th>\n",
       "      <th>text</th>\n",
       "    </tr>\n",
       "  </thead>\n",
       "  <tbody>\n",
       "    <tr>\n",
       "      <th>14</th>\n",
       "      <td>http://ladylibertysnews.com/rosenstein-just-de...</td>\n",
       "      <td>ladylibertysnews</td>\n",
       "      <td>ROSENSTEIN Just DESTROYED James Comey With One...</td>\n",
       "      <td>[\"Alen O'Neill\"]</td>\n",
       "      <td>Former FBI Director James Comey was slow durin...</td>\n",
       "    </tr>\n",
       "    <tr>\n",
       "      <th>15</th>\n",
       "      <td>http://ladylibertysnews.com/muslims-offended-k...</td>\n",
       "      <td>ladylibertysnews</td>\n",
       "      <td>Radical Muslims in Australia OFFENDED That The...</td>\n",
       "      <td>['Todd Cooney']</td>\n",
       "      <td>How intolerant can a group of people get, folk...</td>\n",
       "    </tr>\n",
       "    <tr>\n",
       "      <th>16</th>\n",
       "      <td>http://ladylibertysnews.com/major-blunder-bill...</td>\n",
       "      <td>ladylibertysnews</td>\n",
       "      <td>MAJOR BLUNDER: Bill Clinton’s Former Adviser S...</td>\n",
       "      <td>[\"Alen O'Neill\"]</td>\n",
       "      <td>The mainstream media cannot find legitimate ne...</td>\n",
       "    </tr>\n",
       "    <tr>\n",
       "      <th>17</th>\n",
       "      <td>http://ladylibertysnews.com/liberalism-looks-l...</td>\n",
       "      <td>ladylibertysnews</td>\n",
       "      <td>LIBERALISM TODAY: Leftist Thug Has 15 Kids, 13...</td>\n",
       "      <td>['Ward Bond']</td>\n",
       "      <td>This is exactly what Trump is trying to end. F...</td>\n",
       "    </tr>\n",
       "    <tr>\n",
       "      <th>18</th>\n",
       "      <td>http://ladylibertysnews.com/thugs-thought-home...</td>\n",
       "      <td>ladylibertysnews</td>\n",
       "      <td>THUGS Thought Home Invasion &amp; Rape Were A Good...</td>\n",
       "      <td>[\"Alen O'Neill\"]</td>\n",
       "      <td>Protecting one’s family is inherent in most no...</td>\n",
       "    </tr>\n",
       "  </tbody>\n",
       "</table>\n",
       "</div>"
      ],
      "text/plain": [
       "                                                  url            source  \\\n",
       "14  http://ladylibertysnews.com/rosenstein-just-de...  ladylibertysnews   \n",
       "15  http://ladylibertysnews.com/muslims-offended-k...  ladylibertysnews   \n",
       "16  http://ladylibertysnews.com/major-blunder-bill...  ladylibertysnews   \n",
       "17  http://ladylibertysnews.com/liberalism-looks-l...  ladylibertysnews   \n",
       "18  http://ladylibertysnews.com/thugs-thought-home...  ladylibertysnews   \n",
       "\n",
       "                                                title            author  \\\n",
       "14  ROSENSTEIN Just DESTROYED James Comey With One...  [\"Alen O'Neill\"]   \n",
       "15  Radical Muslims in Australia OFFENDED That The...   ['Todd Cooney']   \n",
       "16  MAJOR BLUNDER: Bill Clinton’s Former Adviser S...  [\"Alen O'Neill\"]   \n",
       "17  LIBERALISM TODAY: Leftist Thug Has 15 Kids, 13...     ['Ward Bond']   \n",
       "18  THUGS Thought Home Invasion & Rape Were A Good...  [\"Alen O'Neill\"]   \n",
       "\n",
       "                                                 text  \n",
       "14  Former FBI Director James Comey was slow durin...  \n",
       "15  How intolerant can a group of people get, folk...  \n",
       "16  The mainstream media cannot find legitimate ne...  \n",
       "17  This is exactly what Trump is trying to end. F...  \n",
       "18  Protecting one’s family is inherent in most no...  "
      ]
     },
     "execution_count": 142,
     "metadata": {},
     "output_type": "execute_result"
    }
   ],
   "source": [
    "path = os.path.join('data', 'indv_file','ladylibertysnews.csv')\n",
    "df_ladylibertysnews.to_csv(path)\n",
    "# test: read data\n",
    "data_ladylibertysnews = pd.read_csv(path)\n",
    "data_ladylibertysnews.tail() "
   ]
  },
  {
   "cell_type": "markdown",
   "metadata": {},
   "source": [
    "## 13. krbcnews"
   ]
  },
  {
   "cell_type": "code",
   "execution_count": 118,
   "metadata": {
    "collapsed": false
   },
   "outputs": [
    {
     "name": "stdout",
     "output_type": "stream",
     "text": [
      "http://krbcnews.com\n",
      "http://krbcnews.com/2016/04/14/houston-violent-anti-trump-protesters-block-tx-35-near-hobby-airport/#respond\n",
      "http://krbcnews.com/2016/04/17/a-new-strain-of-super-gonorrhoea-is-ripping-through-houstons-youth/\n",
      "http://krbcnews.com/2016/04/14/rockstar-announces-gta-6-set-in-fictional-city-based-on-houstongalveston-tx/#respond\n",
      "http://krbcnews.com/2016/04/14/houston-violent-anti-trump-protesters-block-tx-35-near-hobby-airport/feed/\n",
      "http://krbcnews.com/2016/05/01/tool-rumored-to-be-in-final-stages-of-%ce%bf%ce%b5%ce%b4%ce%b9%cf%80%cf%85%cf%83/\n",
      "http://krbcnews.com/2016/04/17/a-new-strain-of-super-gonorrhoea-is-ripping-through-houstons-youth/feed/\n",
      "http://krbcnews.com/2016/05/01/tool-rumored-to-be-in-final-stages-of-%ce%bf%ce%b5%ce%b4%ce%b9%cf%80%cf%85%cf%83/#respond\n",
      "http://krbcnews.com/2016/04/14/rockstar-announces-gta-6-set-in-fictional-city-based-on-houstongalveston-tx/\n",
      "http://krbcnews.com/2016/04/17/a-new-strain-of-super-gonorrhoea-is-ripping-through-houstons-youth/#respond\n",
      "http://krbcnews.com/2016/04/30/nearly-4000-school-websites-hacked-by-isis-childrens-identities-at-major-risk/\n",
      "http://krbcnews.com/2016/04/24/breaking-kardashian-suspected-in-princes-death-warrant-issued-following-investigation/\n",
      "http://krbcnews.com/2016/04/30/nearly-4000-school-websites-hacked-by-isis-childrens-identities-at-major-risk/feed/\n",
      "http://krbcnews.com/2016/05/01/tool-rumored-to-be-in-final-stages-of-%ce%bf%ce%b5%ce%b4%ce%b9%cf%80%cf%85%cf%83/feed/\n",
      "http://krbcnews.com/category/news/\n",
      "http://krbcnews.com/2016/04/14/rockstar-announces-gta-6-set-in-fictional-city-based-on-houstongalveston-tx/feed/\n",
      "http://krbcnews.com/2016/04/14/houston-violent-anti-trump-protesters-block-tx-35-near-hobby-airport/\n",
      "http://krbcnews.com/2016/04/24/breaking-kardashian-suspected-in-princes-death-warrant-issued-following-investigation/feed/\n",
      "http://krbcnews.com/2016/04/24/breaking-kardashian-suspected-in-princes-death-warrant-issued-following-investigation/#respond\n",
      "http://krbcnews.com/2016/04/30/nearly-4000-school-websites-hacked-by-isis-childrens-identities-at-major-risk/#respond\n",
      "The total number of krbcnews articles is  19\n"
     ]
    }
   ],
   "source": [
    "url_krbcnews = 'http://krbcnews.com'\n",
    "df_krbcnews = generate_data(url_krbcnews)"
   ]
  },
  {
   "cell_type": "code",
   "execution_count": 143,
   "metadata": {
    "collapsed": false
   },
   "outputs": [
    {
     "data": {
      "text/html": [
       "<div>\n",
       "<table border=\"1\" class=\"dataframe\">\n",
       "  <thead>\n",
       "    <tr style=\"text-align: right;\">\n",
       "      <th></th>\n",
       "      <th>url</th>\n",
       "      <th>source</th>\n",
       "      <th>title</th>\n",
       "      <th>author</th>\n",
       "      <th>text</th>\n",
       "    </tr>\n",
       "  </thead>\n",
       "  <tbody>\n",
       "    <tr>\n",
       "      <th>14</th>\n",
       "      <td>http://krbcnews.com/2016/04/14/rockstar-announ...</td>\n",
       "      <td>krbcnews</td>\n",
       "      <td>Comments on: Rockstar Announces GTA 6 set in f...</td>\n",
       "      <td>[]</td>\n",
       "      <td>NaN</td>\n",
       "    </tr>\n",
       "    <tr>\n",
       "      <th>15</th>\n",
       "      <td>http://krbcnews.com/2016/04/14/houston-violent...</td>\n",
       "      <td>krbcnews</td>\n",
       "      <td>HOUSTON: Violent anti-Trump protesters block T...</td>\n",
       "      <td>[]</td>\n",
       "      <td>HOUSTON: 4/13 A group of anti-Trump protesters...</td>\n",
       "    </tr>\n",
       "    <tr>\n",
       "      <th>16</th>\n",
       "      <td>http://krbcnews.com/2016/04/24/breaking-kardas...</td>\n",
       "      <td>krbcnews</td>\n",
       "      <td>Comments on: BREAKING: Kardashian suspected in...</td>\n",
       "      <td>[]</td>\n",
       "      <td>NaN</td>\n",
       "    </tr>\n",
       "    <tr>\n",
       "      <th>17</th>\n",
       "      <td>http://krbcnews.com/2016/04/24/breaking-kardas...</td>\n",
       "      <td>krbcnews</td>\n",
       "      <td>BREAKING: Kardashian suspected in Princes deat...</td>\n",
       "      <td>[]</td>\n",
       "      <td>Source\\n\\nRumors had been circling after a vid...</td>\n",
       "    </tr>\n",
       "    <tr>\n",
       "      <th>18</th>\n",
       "      <td>http://krbcnews.com/2016/04/30/nearly-4000-sch...</td>\n",
       "      <td>krbcnews</td>\n",
       "      <td>Nearly 4,000 school websites hacked by ISIS. C...</td>\n",
       "      <td>[]</td>\n",
       "      <td>Reuters reports that nearly 4,000 independent ...</td>\n",
       "    </tr>\n",
       "  </tbody>\n",
       "</table>\n",
       "</div>"
      ],
      "text/plain": [
       "                                                  url    source  \\\n",
       "14  http://krbcnews.com/2016/04/14/rockstar-announ...  krbcnews   \n",
       "15  http://krbcnews.com/2016/04/14/houston-violent...  krbcnews   \n",
       "16  http://krbcnews.com/2016/04/24/breaking-kardas...  krbcnews   \n",
       "17  http://krbcnews.com/2016/04/24/breaking-kardas...  krbcnews   \n",
       "18  http://krbcnews.com/2016/04/30/nearly-4000-sch...  krbcnews   \n",
       "\n",
       "                                                title author  \\\n",
       "14  Comments on: Rockstar Announces GTA 6 set in f...     []   \n",
       "15  HOUSTON: Violent anti-Trump protesters block T...     []   \n",
       "16  Comments on: BREAKING: Kardashian suspected in...     []   \n",
       "17  BREAKING: Kardashian suspected in Princes deat...     []   \n",
       "18  Nearly 4,000 school websites hacked by ISIS. C...     []   \n",
       "\n",
       "                                                 text  \n",
       "14                                                NaN  \n",
       "15  HOUSTON: 4/13 A group of anti-Trump protesters...  \n",
       "16                                                NaN  \n",
       "17  Source\\n\\nRumors had been circling after a vid...  \n",
       "18  Reuters reports that nearly 4,000 independent ...  "
      ]
     },
     "execution_count": 143,
     "metadata": {},
     "output_type": "execute_result"
    }
   ],
   "source": [
    "path = os.path.join('data', 'indv_file','krbcnews.csv')\n",
    "df_krbcnews.to_csv(path)\n",
    "# test: read data\n",
    "data_krbcnews = pd.read_csv(path)\n",
    "data_krbcnews.tail() "
   ]
  },
  {
   "cell_type": "markdown",
   "metadata": {},
   "source": [
    "## 14. now8news"
   ]
  },
  {
   "cell_type": "code",
   "execution_count": 121,
   "metadata": {
    "collapsed": false
   },
   "outputs": [
    {
     "name": "stdout",
     "output_type": "stream",
     "text": [
      "http://now8news.com\n",
      "http://now8news.com/dead-body-homeless-man-turns-legendary-elvis-presley/\n",
      "http://now8news.com/several-injured-zombie-like-attack-walmart/\n",
      "http://now8news.com/missing-4-month-old-baby-found-dead-700-pound-mother/\n",
      "http://now8news.com/hispanic-woman-claims-donald-trump-paid-sex-cancun-love-child/\n",
      "http://now8news.com/category/news/\n",
      "http://now8news.com/girl-infects-586-men-hiv-purpose/\n",
      "http://now8news.com/fidget-spinner-bursts-flames-killing-toddler-sleep/\n",
      "http://now8news.com/18-year-old-girl-marries-father-arkansas-belong-together/\n",
      "http://now8news.com/trump-raising-age-limit-tobacco-consumption-25-years-age/\n",
      "http://now8news.com/caitlyn-jenner-discusses-desire-transition-black-woman/\n",
      "http://now8news.com/3-year-old-dies-tickled-death/\n",
      "The total number of now8news articles is  11\n"
     ]
    }
   ],
   "source": [
    "url_now8news = 'http://now8news.com' \n",
    "df_now8news = generate_data(url_now8news)"
   ]
  },
  {
   "cell_type": "code",
   "execution_count": 144,
   "metadata": {
    "collapsed": false
   },
   "outputs": [
    {
     "data": {
      "text/html": [
       "<div>\n",
       "<table border=\"1\" class=\"dataframe\">\n",
       "  <thead>\n",
       "    <tr style=\"text-align: right;\">\n",
       "      <th></th>\n",
       "      <th>url</th>\n",
       "      <th>source</th>\n",
       "      <th>title</th>\n",
       "      <th>author</th>\n",
       "      <th>text</th>\n",
       "    </tr>\n",
       "  </thead>\n",
       "  <tbody>\n",
       "    <tr>\n",
       "      <th>6</th>\n",
       "      <td>http://now8news.com/fidget-spinner-bursts-flam...</td>\n",
       "      <td>now8news</td>\n",
       "      <td>Fidget Spinner Bursts Into Flames Killing Todd...</td>\n",
       "      <td>[]</td>\n",
       "      <td>The parents of a 3 year old girl woke up to tr...</td>\n",
       "    </tr>\n",
       "    <tr>\n",
       "      <th>7</th>\n",
       "      <td>http://now8news.com/18-year-old-girl-marries-f...</td>\n",
       "      <td>now8news</td>\n",
       "      <td>18 Year Old Girl Marries Her Father In Arkansa...</td>\n",
       "      <td>[]</td>\n",
       "      <td>18 Year Old Girl Marries Her Father In Arkansa...</td>\n",
       "    </tr>\n",
       "    <tr>\n",
       "      <th>8</th>\n",
       "      <td>http://now8news.com/trump-raising-age-limit-to...</td>\n",
       "      <td>now8news</td>\n",
       "      <td>Trump Raising Age Limit For Tobacco Consumptio...</td>\n",
       "      <td>[]</td>\n",
       "      <td>There is more bad news for cigarette smokers –...</td>\n",
       "    </tr>\n",
       "    <tr>\n",
       "      <th>9</th>\n",
       "      <td>http://now8news.com/caitlyn-jenner-discusses-d...</td>\n",
       "      <td>now8news</td>\n",
       "      <td>Caitlyn Jenner Discusses Her Desire To Transit...</td>\n",
       "      <td>[]</td>\n",
       "      <td>Caitlyn Jenner or “CJ” as he refers to herself...</td>\n",
       "    </tr>\n",
       "    <tr>\n",
       "      <th>10</th>\n",
       "      <td>http://now8news.com/3-year-old-dies-tickled-de...</td>\n",
       "      <td>now8news</td>\n",
       "      <td>3 Year Old Girl Dies After Accidentally Being ...</td>\n",
       "      <td>[]</td>\n",
       "      <td>Charlotte, NC – It’s a warning being sent out ...</td>\n",
       "    </tr>\n",
       "  </tbody>\n",
       "</table>\n",
       "</div>"
      ],
      "text/plain": [
       "                                                  url    source  \\\n",
       "6   http://now8news.com/fidget-spinner-bursts-flam...  now8news   \n",
       "7   http://now8news.com/18-year-old-girl-marries-f...  now8news   \n",
       "8   http://now8news.com/trump-raising-age-limit-to...  now8news   \n",
       "9   http://now8news.com/caitlyn-jenner-discusses-d...  now8news   \n",
       "10  http://now8news.com/3-year-old-dies-tickled-de...  now8news   \n",
       "\n",
       "                                                title author  \\\n",
       "6   Fidget Spinner Bursts Into Flames Killing Todd...     []   \n",
       "7   18 Year Old Girl Marries Her Father In Arkansa...     []   \n",
       "8   Trump Raising Age Limit For Tobacco Consumptio...     []   \n",
       "9   Caitlyn Jenner Discusses Her Desire To Transit...     []   \n",
       "10  3 Year Old Girl Dies After Accidentally Being ...     []   \n",
       "\n",
       "                                                 text  \n",
       "6   The parents of a 3 year old girl woke up to tr...  \n",
       "7   18 Year Old Girl Marries Her Father In Arkansa...  \n",
       "8   There is more bad news for cigarette smokers –...  \n",
       "9   Caitlyn Jenner or “CJ” as he refers to herself...  \n",
       "10  Charlotte, NC – It’s a warning being sent out ...  "
      ]
     },
     "execution_count": 144,
     "metadata": {},
     "output_type": "execute_result"
    }
   ],
   "source": [
    "path = os.path.join('data','indv_file', 'now8news.csv')\n",
    "df_now8news.to_csv(path)\n",
    "# test: read data\n",
    "data_now8news = pd.read_csv(path)\n",
    "data_now8news.tail() "
   ]
  },
  {
   "cell_type": "markdown",
   "metadata": {},
   "source": [
    "## Merge all data"
   ]
  },
  {
   "cell_type": "code",
   "execution_count": 147,
   "metadata": {
    "collapsed": false
   },
   "outputs": [
    {
     "data": {
      "text/html": [
       "<div>\n",
       "<table border=\"1\" class=\"dataframe\">\n",
       "  <thead>\n",
       "    <tr style=\"text-align: right;\">\n",
       "      <th></th>\n",
       "      <th>url</th>\n",
       "      <th>source</th>\n",
       "      <th>title</th>\n",
       "      <th>author</th>\n",
       "      <th>text</th>\n",
       "    </tr>\n",
       "  </thead>\n",
       "  <tbody>\n",
       "    <tr>\n",
       "      <th>435</th>\n",
       "      <td>http://now8news.com/fidget-spinner-bursts-flam...</td>\n",
       "      <td>now8news</td>\n",
       "      <td>Fidget Spinner Bursts Into Flames Killing Todd...</td>\n",
       "      <td>[]</td>\n",
       "      <td>The parents of a 3 year old girl woke up to tr...</td>\n",
       "    </tr>\n",
       "    <tr>\n",
       "      <th>436</th>\n",
       "      <td>http://now8news.com/18-year-old-girl-marries-f...</td>\n",
       "      <td>now8news</td>\n",
       "      <td>18 Year Old Girl Marries Her Father In Arkansa...</td>\n",
       "      <td>[]</td>\n",
       "      <td>18 Year Old Girl Marries Her Father In Arkansa...</td>\n",
       "    </tr>\n",
       "    <tr>\n",
       "      <th>437</th>\n",
       "      <td>http://now8news.com/trump-raising-age-limit-to...</td>\n",
       "      <td>now8news</td>\n",
       "      <td>Trump Raising Age Limit For Tobacco Consumptio...</td>\n",
       "      <td>[]</td>\n",
       "      <td>There is more bad news for cigarette smokers –...</td>\n",
       "    </tr>\n",
       "    <tr>\n",
       "      <th>438</th>\n",
       "      <td>http://now8news.com/caitlyn-jenner-discusses-d...</td>\n",
       "      <td>now8news</td>\n",
       "      <td>Caitlyn Jenner Discusses Her Desire To Transit...</td>\n",
       "      <td>[]</td>\n",
       "      <td>Caitlyn Jenner or “CJ” as he refers to herself...</td>\n",
       "    </tr>\n",
       "    <tr>\n",
       "      <th>439</th>\n",
       "      <td>http://now8news.com/3-year-old-dies-tickled-de...</td>\n",
       "      <td>now8news</td>\n",
       "      <td>3 Year Old Girl Dies After Accidentally Being ...</td>\n",
       "      <td>[]</td>\n",
       "      <td>Charlotte, NC – It’s a warning being sent out ...</td>\n",
       "    </tr>\n",
       "  </tbody>\n",
       "</table>\n",
       "</div>"
      ],
      "text/plain": [
       "                                                   url    source  \\\n",
       "435  http://now8news.com/fidget-spinner-bursts-flam...  now8news   \n",
       "436  http://now8news.com/18-year-old-girl-marries-f...  now8news   \n",
       "437  http://now8news.com/trump-raising-age-limit-to...  now8news   \n",
       "438  http://now8news.com/caitlyn-jenner-discusses-d...  now8news   \n",
       "439  http://now8news.com/3-year-old-dies-tickled-de...  now8news   \n",
       "\n",
       "                                                 title author  \\\n",
       "435  Fidget Spinner Bursts Into Flames Killing Todd...     []   \n",
       "436  18 Year Old Girl Marries Her Father In Arkansa...     []   \n",
       "437  Trump Raising Age Limit For Tobacco Consumptio...     []   \n",
       "438  Caitlyn Jenner Discusses Her Desire To Transit...     []   \n",
       "439  3 Year Old Girl Dies After Accidentally Being ...     []   \n",
       "\n",
       "                                                  text  \n",
       "435  The parents of a 3 year old girl woke up to tr...  \n",
       "436  18 Year Old Girl Marries Her Father In Arkansa...  \n",
       "437  There is more bad news for cigarette smokers –...  \n",
       "438  Caitlyn Jenner or “CJ” as he refers to herself...  \n",
       "439  Charlotte, NC – It’s a warning being sent out ...  "
      ]
     },
     "execution_count": 147,
     "metadata": {},
     "output_type": "execute_result"
    }
   ],
   "source": [
    "merge_df = pd.concat([data_interestingdailynews, data_infostormer, \n",
    "                      data_krbcnews, \n",
    "                      data_local31news, data_lastdeplorables, data_ladylibertysnews, \n",
    "                      data_madworldnews, data_majorthoughts, \n",
    "                      data_nbccomco, data_newsbbcnet, \n",
    "                      data_nationonenews, data_newswithviews, \n",
    "                      data_nephef, data_now8news,\n",
    "                     ], ignore_index=True)\n",
    "merge_df.tail()"
   ]
  },
  {
   "cell_type": "code",
   "execution_count": 148,
   "metadata": {
    "collapsed": false
   },
   "outputs": [
    {
     "data": {
      "text/html": [
       "<div>\n",
       "<table border=\"1\" class=\"dataframe\">\n",
       "  <thead>\n",
       "    <tr style=\"text-align: right;\">\n",
       "      <th></th>\n",
       "      <th>Unnamed: 0</th>\n",
       "      <th>url</th>\n",
       "      <th>source</th>\n",
       "      <th>title</th>\n",
       "      <th>author</th>\n",
       "      <th>text</th>\n",
       "    </tr>\n",
       "  </thead>\n",
       "  <tbody>\n",
       "    <tr>\n",
       "      <th>435</th>\n",
       "      <td>435</td>\n",
       "      <td>http://now8news.com/fidget-spinner-bursts-flam...</td>\n",
       "      <td>now8news</td>\n",
       "      <td>Fidget Spinner Bursts Into Flames Killing Todd...</td>\n",
       "      <td>[]</td>\n",
       "      <td>The parents of a 3 year old girl woke up to tr...</td>\n",
       "    </tr>\n",
       "    <tr>\n",
       "      <th>436</th>\n",
       "      <td>436</td>\n",
       "      <td>http://now8news.com/18-year-old-girl-marries-f...</td>\n",
       "      <td>now8news</td>\n",
       "      <td>18 Year Old Girl Marries Her Father In Arkansa...</td>\n",
       "      <td>[]</td>\n",
       "      <td>18 Year Old Girl Marries Her Father In Arkansa...</td>\n",
       "    </tr>\n",
       "    <tr>\n",
       "      <th>437</th>\n",
       "      <td>437</td>\n",
       "      <td>http://now8news.com/trump-raising-age-limit-to...</td>\n",
       "      <td>now8news</td>\n",
       "      <td>Trump Raising Age Limit For Tobacco Consumptio...</td>\n",
       "      <td>[]</td>\n",
       "      <td>There is more bad news for cigarette smokers –...</td>\n",
       "    </tr>\n",
       "    <tr>\n",
       "      <th>438</th>\n",
       "      <td>438</td>\n",
       "      <td>http://now8news.com/caitlyn-jenner-discusses-d...</td>\n",
       "      <td>now8news</td>\n",
       "      <td>Caitlyn Jenner Discusses Her Desire To Transit...</td>\n",
       "      <td>[]</td>\n",
       "      <td>Caitlyn Jenner or “CJ” as he refers to herself...</td>\n",
       "    </tr>\n",
       "    <tr>\n",
       "      <th>439</th>\n",
       "      <td>439</td>\n",
       "      <td>http://now8news.com/3-year-old-dies-tickled-de...</td>\n",
       "      <td>now8news</td>\n",
       "      <td>3 Year Old Girl Dies After Accidentally Being ...</td>\n",
       "      <td>[]</td>\n",
       "      <td>Charlotte, NC – It’s a warning being sent out ...</td>\n",
       "    </tr>\n",
       "  </tbody>\n",
       "</table>\n",
       "</div>"
      ],
      "text/plain": [
       "     Unnamed: 0                                                url    source  \\\n",
       "435         435  http://now8news.com/fidget-spinner-bursts-flam...  now8news   \n",
       "436         436  http://now8news.com/18-year-old-girl-marries-f...  now8news   \n",
       "437         437  http://now8news.com/trump-raising-age-limit-to...  now8news   \n",
       "438         438  http://now8news.com/caitlyn-jenner-discusses-d...  now8news   \n",
       "439         439  http://now8news.com/3-year-old-dies-tickled-de...  now8news   \n",
       "\n",
       "                                                 title author  \\\n",
       "435  Fidget Spinner Bursts Into Flames Killing Todd...     []   \n",
       "436  18 Year Old Girl Marries Her Father In Arkansa...     []   \n",
       "437  Trump Raising Age Limit For Tobacco Consumptio...     []   \n",
       "438  Caitlyn Jenner Discusses Her Desire To Transit...     []   \n",
       "439  3 Year Old Girl Dies After Accidentally Being ...     []   \n",
       "\n",
       "                                                  text  \n",
       "435  The parents of a 3 year old girl woke up to tr...  \n",
       "436  18 Year Old Girl Marries Her Father In Arkansa...  \n",
       "437  There is more bad news for cigarette smokers –...  \n",
       "438  Caitlyn Jenner or “CJ” as he refers to herself...  \n",
       "439  Charlotte, NC – It’s a warning being sent out ...  "
      ]
     },
     "execution_count": 148,
     "metadata": {},
     "output_type": "execute_result"
    }
   ],
   "source": [
    "path = os.path.join('data', 'fakenews_jz.csv')\n",
    "merge_df.to_csv(path)\n",
    "# test: read data\n",
    "data_fakenews = pd.read_csv(path)\n",
    "data_fakenews.tail()"
   ]
  },
  {
   "cell_type": "code",
   "execution_count": null,
   "metadata": {
    "collapsed": true
   },
   "outputs": [],
   "source": []
  }
 ],
 "metadata": {
  "kernelspec": {
   "display_name": "Python [Root]",
   "language": "python",
   "name": "Python [Root]"
  },
  "language_info": {
   "codemirror_mode": {
    "name": "ipython",
    "version": 3
   },
   "file_extension": ".py",
   "mimetype": "text/x-python",
   "name": "python",
   "nbconvert_exporter": "python",
   "pygments_lexer": "ipython3",
   "version": "3.5.2"
  }
 },
 "nbformat": 4,
 "nbformat_minor": 0
}
